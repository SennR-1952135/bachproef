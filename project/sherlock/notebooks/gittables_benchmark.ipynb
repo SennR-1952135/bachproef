{
 "cells": [
  {
   "cell_type": "code",
   "execution_count": null,
   "id": "84cc9e50",
   "metadata": {},
   "outputs": [],
   "source": [
    "# Second meeting about sherlock\n",
    "# Initial look at extraction and prediction performance on original gittables benchmark. \n",
    "# While also analysing some of the results.\n",
    "# Additional comparison against sherlock dataset performance can be found in gittbables_sherlock_compare notebook"
   ]
  },
  {
   "cell_type": "code",
   "execution_count": 28,
   "id": "032b4acf",
   "metadata": {},
   "outputs": [
    {
     "name": "stdout",
     "output_type": "stream",
     "text": [
      "The autoreload extension is already loaded. To reload it, use:\n",
      "  %reload_ext autoreload\n"
     ]
    }
   ],
   "source": [
    "#Reload modules before executing code\n",
    "%load_ext autoreload\n",
    "%autoreload 2"
   ]
  },
  {
   "cell_type": "code",
   "execution_count": 2,
   "id": "a0a5bc1d",
   "metadata": {},
   "outputs": [
    {
     "data": {
      "text/plain": [
       "RendererRegistry.enable('default')"
      ]
     },
     "execution_count": 2,
     "metadata": {},
     "output_type": "execute_result"
    }
   ],
   "source": [
    "from datetime import datetime\n",
    "from os.path import join\n",
    "from os import listdir\n",
    "import json\n",
    "import re #for camel case conversion\n",
    "\n",
    "\n",
    "import numpy as np\n",
    "import pandas as pd\n",
    "from pyarrow.parquet import ParquetFile\n",
    "from sklearn.metrics import f1_score, classification_report\n",
    "\n",
    "from sherlock import helpers\n",
    "from sherlock.deploy.model import SherlockModel\n",
    "# from sherlock.functional import extract_features_to_csv\n",
    "from sherlock.features.paragraph_vectors import initialise_pretrained_model, initialise_nltk\n",
    "from sherlock.features.preprocessing import (\n",
    "    extract_features,\n",
    "#     convert_string_lists_to_lists,\n",
    "    prepare_feature_extraction,\n",
    "#     load_parquet_values,\n",
    ")\n",
    "from sherlock.features.word_embeddings import initialise_word_embeddings\n",
    "\n",
    "import altair as alt\n",
    "alt.renderers.enable('default')"
   ]
  },
  {
   "cell_type": "markdown",
   "id": "09010879",
   "metadata": {},
   "source": [
    "### Utils"
   ]
  },
  {
   "cell_type": "code",
   "execution_count": 3,
   "id": "6a5f5fcf",
   "metadata": {},
   "outputs": [],
   "source": [
    "def camel_case(s):\n",
    "  s = re.sub(r\"(_|-)+\", \" \", s).title().replace(\" \", \"\")\n",
    "  return ''.join([s[0].lower(), s[1:]])\n",
    "\n",
    "# def gittable_normalize(s):\n",
    "#     return re.sub(r\"[_-]\",\"\", \" \".join(\n",
    "#                 re.findall(\"[0-9,a-z,.,\\\"#!$%\\^&\\*;:{}=\\-_`~()\\n\\t\\d]+|[A-Z](?:[A-Z]*(?![a-z])|[a-z]*)\", s)\n",
    "#             )).lower()"
   ]
  },
  {
   "cell_type": "code",
   "execution_count": 4,
   "id": "669c203a",
   "metadata": {},
   "outputs": [
    {
     "name": "stdout",
     "output_type": "stream",
     "text": [
      "teamName\n",
      "teamName\n"
     ]
    }
   ],
   "source": [
    "print(camel_case('Team Name'))\n",
    "print(camel_case('Team_name'))\n",
    "# print(gittable_normalize('Team-Name99'))\n",
    "# print(gittable_normalize('Team-name'))\n"
   ]
  },
  {
   "cell_type": "markdown",
   "id": "af709114",
   "metadata": {},
   "source": [
    "## Loading the annotation data\n",
    "#### Make sure to unzip tables.zip in the /data/data/gittables_benchmark directory before proceeding"
   ]
  },
  {
   "cell_type": "code",
   "execution_count": 5,
   "id": "73e098ac",
   "metadata": {},
   "outputs": [],
   "source": [
    "path = '../data/data/gittables_benchmark'\n",
    "\n",
    "with open(join(path, '../../types.json'), 'r') as f:  \n",
    "        types = json.load(f)['type78']\n",
    "\n",
    "# ground truth column annotations per table ID, 1 file per ontology: columns are “table_id” \n",
    "# (ignore the _<ontology> suffix), “target_column”, “annotation_id”, “annotation_label”.\n",
    "dbpedia_gt = pd.read_csv(join(path, 'dbpedia_gt.csv'))\n",
    "# unique labels present in the annotated tables, 1 file per ontology: \n",
    "# columns are “annotation_id” and “annotation_label”.\n",
    "dbpedia_labels = pd.read_csv(join(path, 'dbpedia_labels.csv'))\n",
    "# target columns per table ID, 1 file per ontology (DBpedia or Schema.org): \n",
    "# columns are “table_id” (ignore the \"_<ontology>\" suffix) and “target_column” \n",
    "# (i.e. the column that should be annotated).\n",
    "dbpedia_targets = pd.read_csv(join(path, 'dbpedia_targets.csv'))\n",
    "schema_gt = pd.read_csv(join(path, 'schema_gt.csv'))\n",
    "schema_labels = pd.read_csv(join(path, 'schema_labels.csv'))\n",
    "schema_targets = pd.read_csv(join(path, 'schema_targets.csv'))\n",
    "\n",
    "test_table = pd.read_csv(join(path, 'tables/GitTables_1501.csv'), dtype='object')\n",
    "test_table2 = pd.read_csv(join(path, 'tables/GitTables_1501.csv'))"
   ]
  },
  {
   "cell_type": "code",
   "execution_count": 6,
   "id": "70991df9",
   "metadata": {
    "scrolled": true
   },
   "outputs": [],
   "source": [
    "# dbpedia_gt.head(10)"
   ]
  },
  {
   "cell_type": "code",
   "execution_count": 7,
   "id": "39ff53ea",
   "metadata": {},
   "outputs": [],
   "source": [
    "# dbpedia_labels.head()"
   ]
  },
  {
   "cell_type": "code",
   "execution_count": 8,
   "id": "3c9efda6",
   "metadata": {},
   "outputs": [],
   "source": [
    "# dbpedia_targets.head(5)"
   ]
  },
  {
   "cell_type": "code",
   "execution_count": 47,
   "id": "07f1497c",
   "metadata": {},
   "outputs": [],
   "source": [
    "# test_table"
   ]
  },
  {
   "cell_type": "code",
   "execution_count": 48,
   "id": "b2081242",
   "metadata": {},
   "outputs": [],
   "source": [
    "# test_table2"
   ]
  },
  {
   "cell_type": "markdown",
   "id": "679356ef",
   "metadata": {},
   "source": [
    "### How many types from sherlock are in the test dataset?"
   ]
  },
  {
   "cell_type": "code",
   "execution_count": 6,
   "id": "b5ada573",
   "metadata": {},
   "outputs": [
    {
     "name": "stdout",
     "output_type": "stream",
     "text": [
      "39\n"
     ]
    }
   ],
   "source": [
    "type_matches = 0\n",
    "testdata_labels = pd.concat([dbpedia_labels, schema_labels])\n",
    "for gittable_type in map(camel_case,testdata_labels['annotation_label'].unique().tolist()):\n",
    "    if gittable_type in types:\n",
    "        type_matches+=1\n",
    "#     else:\n",
    "#         print(gittable_type)\n",
    "print(type_matches)"
   ]
  },
  {
   "cell_type": "code",
   "execution_count": 10,
   "id": "01bcc1a2",
   "metadata": {
    "scrolled": false
   },
   "outputs": [
    {
     "name": "stdout",
     "output_type": "stream",
     "text": [
      "0     Static\n",
      "1     Static\n",
      "2     Static\n",
      "3     Static\n",
      "4     Static\n",
      "5     Static\n",
      "6    Dynamic\n",
      "7     Static\n",
      "8    Dynamic\n",
      "9    Dynamic\n",
      "Name: col2, dtype: object\n",
      "0     Static\n",
      "1     Static\n",
      "2     Static\n",
      "3     Static\n",
      "4     Static\n",
      "5     Static\n",
      "6     Static\n",
      "7    Dynamic\n",
      "8    Dynamic\n",
      "Name: col2, dtype: object\n",
      "0      Static\n",
      "1      Static\n",
      "2      Static\n",
      "3      Static\n",
      "4     Dynamic\n",
      "5      Static\n",
      "6      Static\n",
      "7      Static\n",
      "8      Static\n",
      "9      Static\n",
      "10    Dynamic\n",
      "Name: col2, dtype: object\n",
      "0     Static\n",
      "1     Static\n",
      "2     Static\n",
      "3     Static\n",
      "4    Dynamic\n",
      "5    Dynamic\n",
      "6     Static\n",
      "7     Static\n",
      "8     Static\n",
      "9    Dynamic\n",
      "Name: col2, dtype: object\n",
      "0      Static\n",
      "1      Static\n",
      "2      Static\n",
      "3      Static\n",
      "4     Dynamic\n",
      "5      Static\n",
      "6      Static\n",
      "7      Static\n",
      "8      Static\n",
      "9      Static\n",
      "10     Static\n",
      "11     Static\n",
      "12     Static\n",
      "13     Static\n",
      "14     Static\n",
      "15     Static\n",
      "16     Static\n",
      "17    Dynamic\n",
      "18     Static\n",
      "19    Dynamic\n",
      "Name: col2, dtype: object\n",
      "0     Static\n",
      "1     Static\n",
      "2     Static\n",
      "3     Static\n",
      "4     Static\n",
      "5    Dynamic\n",
      "6     Static\n",
      "7    Dynamic\n",
      "Name: col2, dtype: object\n",
      "0        9\n",
      "1       44\n",
      "2       12\n",
      "3       10\n",
      "4        2\n",
      "5        3\n",
      "6      619\n",
      "7     1961\n",
      "8     2600\n",
      "9        4\n",
      "10     159\n",
      "11     633\n",
      "12    3017\n",
      "13       3\n",
      "14    1366\n",
      "Name: col15, dtype: object\n",
      "0     Static\n",
      "1     Static\n",
      "2     Static\n",
      "3     Static\n",
      "4     Static\n",
      "5    Dynamic\n",
      "6    Dynamic\n",
      "7    Dynamic\n",
      "Name: col2, dtype: object\n",
      "0     Static\n",
      "1     Static\n",
      "2     Static\n",
      "3     Static\n",
      "4    Dynamic\n",
      "5    Dynamic\n",
      "6     Static\n",
      "7    Dynamic\n",
      "Name: col2, dtype: object\n",
      "0      Static\n",
      "1      Static\n",
      "2      Static\n",
      "3      Static\n",
      "4      Static\n",
      "5      Static\n",
      "6      Static\n",
      "7      Static\n",
      "8      Static\n",
      "9      Static\n",
      "10     Static\n",
      "11     Static\n",
      "12     Static\n",
      "13     Static\n",
      "14     Static\n",
      "15     Static\n",
      "16     Static\n",
      "17     Static\n",
      "18     Static\n",
      "19    Dynamic\n",
      "20    Dynamic\n",
      "21    Dynamic\n",
      "Name: col2, dtype: object\n",
      "0      Static\n",
      "1      Static\n",
      "2      Static\n",
      "3      Static\n",
      "4      Static\n",
      "5      Static\n",
      "6      Static\n",
      "7      Static\n",
      "8      Static\n",
      "9      Static\n",
      "10     Static\n",
      "11     Static\n",
      "12     Static\n",
      "13     Static\n",
      "14     Static\n",
      "15     Static\n",
      "16     Static\n",
      "17     Static\n",
      "18     Static\n",
      "19    Dynamic\n",
      "20    Dynamic\n",
      "21    Dynamic\n",
      "Name: col2, dtype: object\n",
      "0     Static\n",
      "1     Static\n",
      "2     Static\n",
      "3     Static\n",
      "4     Static\n",
      "5    Dynamic\n",
      "6    Dynamic\n",
      "7    Dynamic\n",
      "Name: col2, dtype: object\n",
      "0      Static\n",
      "1      Static\n",
      "2      Static\n",
      "3      Static\n",
      "4      Static\n",
      "5     Dynamic\n",
      "6      Static\n",
      "7      Static\n",
      "8      Static\n",
      "9      Static\n",
      "10     Static\n",
      "11     Static\n",
      "12     Static\n",
      "13    Dynamic\n",
      "14     Static\n",
      "15    Dynamic\n",
      "Name: col2, dtype: object\n",
      "0    Colorado\n",
      "1    Colorado\n",
      "2    Colorado\n",
      "3    Colorado\n",
      "4    Colorado\n",
      "5    Colorado\n",
      "6    Colorado\n",
      "7    Colorado\n",
      "Name: col11, dtype: object\n",
      "0     Static\n",
      "1     Static\n",
      "2     Static\n",
      "3     Static\n",
      "4     Static\n",
      "5     Static\n",
      "6    Dynamic\n",
      "7    Dynamic\n",
      "Name: col2, dtype: object\n",
      "0     Static\n",
      "1     Static\n",
      "2     Static\n",
      "3     Static\n",
      "4     Static\n",
      "5    Dynamic\n",
      "6    Dynamic\n",
      "7    Dynamic\n",
      "Name: col2, dtype: object\n",
      "0      Static\n",
      "1      Static\n",
      "2      Static\n",
      "3      Static\n",
      "4      Static\n",
      "5      Static\n",
      "6     Dynamic\n",
      "7     Dynamic\n",
      "8      Static\n",
      "9      Static\n",
      "10    Dynamic\n",
      "Name: col2, dtype: object\n",
      "0      Static\n",
      "1      Static\n",
      "2      Static\n",
      "3      Static\n",
      "4      Static\n",
      "5      Static\n",
      "6     Dynamic\n",
      "7      Static\n",
      "8     Dynamic\n",
      "9     Dynamic\n",
      "10    Dynamic\n",
      "Name: col2, dtype: object\n",
      "0      Static\n",
      "1      Static\n",
      "2      Static\n",
      "3      Static\n",
      "4     Dynamic\n",
      "5      Static\n",
      "6      Static\n",
      "7      Static\n",
      "8      Static\n",
      "9      Static\n",
      "10     Static\n",
      "11     Static\n",
      "12     Static\n",
      "13     Static\n",
      "14     Static\n",
      "15     Static\n",
      "16     Static\n",
      "17     Static\n",
      "18     Static\n",
      "19     Static\n",
      "20     Static\n",
      "21     Static\n",
      "22     Static\n",
      "23     Static\n",
      "24     Static\n",
      "25     Static\n",
      "26     Static\n",
      "27    Dynamic\n",
      "Name: col2, dtype: object\n",
      "0      Static\n",
      "1      Static\n",
      "2      Static\n",
      "3      Static\n",
      "4     Dynamic\n",
      "5      Static\n",
      "6      Static\n",
      "7      Static\n",
      "8      Static\n",
      "9      Static\n",
      "10     Static\n",
      "11     Static\n",
      "12     Static\n",
      "13     Static\n",
      "14     Static\n",
      "15     Static\n",
      "16     Static\n",
      "17    Dynamic\n",
      "18     Static\n",
      "19    Dynamic\n",
      "Name: col2, dtype: object\n"
     ]
    }
   ],
   "source": [
    "columns = []\n",
    "col_types = []\n",
    "col_ids = []\n",
    "filepaths = [join(path, 'tables/', f) for f in listdir(join(path, 'tables/')) if f.endswith('.csv')]\n",
    "\n",
    "#Go over the tables in the dataset\n",
    "for fp in filepaths:\n",
    "    table_id = fp[fp.rfind('/')+1:-4]\n",
    "    table_df = pd.read_csv(fp, dtype='object')\n",
    "    dbpedia_table_gts = dbpedia_gt[dbpedia_gt['table_id'].str.contains(table_id)]\n",
    "    dbpedia_table_gts = dbpedia_table_gts[['table_id', 'target_column', 'annotation_label']]\n",
    "    dbpedia_table_gts['table_id'] = dbpedia_table_gts['table_id'].apply(lambda x: table_id)\n",
    "    schema_table_gts = schema_gt[schema_gt['table_id'].str.contains(table_id)]\n",
    "    schema_table_gts = schema_table_gts[['table_id', 'target_column', 'annotation_label']]\n",
    "    schema_table_gts['table_id'] = schema_table_gts['table_id'].apply(lambda x: table_id)\n",
    "    table_gts = pd.merge(dbpedia_table_gts, schema_table_gts, how='outer')\n",
    "    \n",
    "    for index, gt_row in table_gts.iterrows():\n",
    "        col_type = camel_case(gt_row['annotation_label'])\n",
    "        # We only want types that are used in sherlock\n",
    "        if col_type not in types:\n",
    "            continue\n",
    "        col_name = 'col'+ str(gt_row['target_column'])\n",
    "        col_id = table_id[table_id.rfind('_')+1:] + str(gt_row['target_column'])\n",
    "        col = table_df[col_name]\n",
    "        \n",
    "        if pd.isnull(col).sum() > 0: #Base f1 = 0.31245450119322055\n",
    "#             print(f'col of type {col_type} contains invalid values, file name: {fp}, col: {col_name}')\n",
    "            #count returns the amount of valid values in the column, if column does\n",
    "            #not contain any valid values, there is no point in trying to predict/use the column\n",
    "            if col.count() == 0: # 0.35952832125142853\n",
    "                continue\n",
    "#             col.dropna(inplace=True) #drop the rows which do not contain a valid value \\ 0.3201282795944755\n",
    "#             col.ffill(inplace=True) #forward fill \\ 0.3370909309989047 \\ combined bfill, ffil 0.3201282795944755\n",
    "#             col.bfill(inplace=True) #backward fill \\ 0.33118561744140035\n",
    "#             col.fillna(col.mode()[0], inplace=True) # 0.3200851212681554\n",
    "#             col.fillna(col.mean(), inplace=True) #Does obviously not work for non numeric values\n",
    "#             col.fillna(col.median(), inplace=True) #Does obviously not work for non numeric values\n",
    "#             print(col)\n",
    "                \n",
    "        if (col_type == 'state'):\n",
    "            print(col)\n",
    "        columns.append(list(map(str, col.to_list()))) #columns need to be converted to list of strings for preprocessing later on\n",
    "        col_types.append(col_type)\n",
    "        col_ids.append(col_id)\n",
    "        \n",
    "        \n",
    "#         print(list(map(str, col.to_list())))\n",
    "\n",
    "\n",
    "    "
   ]
  },
  {
   "cell_type": "markdown",
   "id": "581a64e4",
   "metadata": {},
   "source": [
    "## Feature extraction"
   ]
  },
  {
   "cell_type": "markdown",
   "id": "fd2b19b6",
   "metadata": {},
   "source": [
    "### Init feature extraction models"
   ]
  },
  {
   "cell_type": "code",
   "execution_count": 13,
   "id": "c979302c",
   "metadata": {},
   "outputs": [
    {
     "name": "stdout",
     "output_type": "stream",
     "text": [
      "Preparing feature extraction by downloading 4 files:\n",
      "        \n",
      " ../sherlock/features/glove.6B.50d.txt, \n",
      " ../sherlock/features/par_vec_trained_400.pkl.docvecs.vectors_docs.npy,\n",
      "        \n",
      " ../sherlock/features/par_vec_trained_400.pkl.trainables.syn1neg.npy, and \n",
      " ../sherlock/features/par_vec_trained_400.pkl.wv.vectors.npy.\n",
      "        \n",
      "All files for extracting word and paragraph embeddings are present.\n",
      "Initialising word embeddings\n",
      "Initialise Word Embeddings process took 0:00:04.438704 seconds.\n",
      "Initialise Doc2Vec Model, 400 dim, process took 0:00:07.068309 seconds. (filename = ../sherlock/features/par_vec_trained_400.pkl)\n",
      "Initialised NLTK, process took 0:00:00.287040 seconds.\n"
     ]
    },
    {
     "name": "stderr",
     "output_type": "stream",
     "text": [
      "[nltk_data] Downloading package punkt to /home/senn/nltk_data...\n",
      "[nltk_data]   Package punkt is already up-to-date!\n",
      "[nltk_data] Downloading package stopwords to /home/senn/nltk_data...\n",
      "[nltk_data]   Package stopwords is already up-to-date!\n"
     ]
    }
   ],
   "source": [
    "prepare_feature_extraction()\n",
    "initialise_word_embeddings()\n",
    "initialise_pretrained_model(400)\n",
    "initialise_nltk()"
   ]
  },
  {
   "cell_type": "code",
   "execution_count": 14,
   "id": "045db34b",
   "metadata": {},
   "outputs": [],
   "source": [
    "data = pd.Series(\n",
    "    [\n",
    "        *columns #expand/unpack the list\n",
    "    ],\n",
    "    name=\"values\"\n",
    ")"
   ]
  },
  {
   "cell_type": "code",
   "execution_count": 15,
   "id": "830e6073",
   "metadata": {},
   "outputs": [
    {
     "data": {
      "text/plain": [
       "0    [Assets, Assets, Assets, Assets, AuthResult, A...\n",
       "1    [comment, comment, comment, comment, comment, ...\n",
       "2    [comment, comment, comment, comment, comment, ...\n",
       "3    [Hemigrapha, astericus, asteriscus, atlantica,...\n",
       "4    [genus, species, species, species, species, sp...\n",
       "Name: values, dtype: object"
      ]
     },
     "execution_count": 15,
     "metadata": {},
     "output_type": "execute_result"
    }
   ],
   "source": [
    "data.head(5)"
   ]
  },
  {
   "cell_type": "code",
   "execution_count": 16,
   "id": "a32b6d38",
   "metadata": {},
   "outputs": [
    {
     "name": "stderr",
     "output_type": "stream",
     "text": [
      "\r",
      "Extracting Features:   0%|          | 0/813 [00:00<?, ?it/s]"
     ]
    },
    {
     "name": "stdout",
     "output_type": "stream",
     "text": [
      "Exporting 1588 column features\n"
     ]
    },
    {
     "name": "stderr",
     "output_type": "stream",
     "text": [
      "Extracting Features: 100%|██████████| 813/813 [00:04<00:00, 197.76it/s]\n"
     ]
    }
   ],
   "source": [
    "extract_features(\n",
    "    join(path, \"processed/temporary.csv\"),\n",
    "    data\n",
    ")\n",
    "feature_vectors = pd.read_csv(join(path, \"processed/temporary.csv\"), dtype=np.float32)"
   ]
  },
  {
   "cell_type": "code",
   "execution_count": 17,
   "id": "67e8dfde",
   "metadata": {},
   "outputs": [],
   "source": [
    "# feature_vectors.head()"
   ]
  },
  {
   "cell_type": "markdown",
   "id": "62b059e4",
   "metadata": {},
   "source": [
    "### Initialize Sherlock"
   ]
  },
  {
   "cell_type": "code",
   "execution_count": 18,
   "id": "7f826fbf",
   "metadata": {},
   "outputs": [
    {
     "name": "stderr",
     "output_type": "stream",
     "text": [
      "WARNING: Logging before flag parsing goes to stderr.\n",
      "W0315 17:39:30.884222 139794286769984 deprecation.py:506] From /home/senn/virtualenvs/venv/lib/python3.7/site-packages/tensorflow_core/python/ops/init_ops.py:97: calling Zeros.__init__ (from tensorflow.python.ops.init_ops) with dtype is deprecated and will be removed in a future version.\n",
      "Instructions for updating:\n",
      "Call initializer instance with the dtype argument instead of passing it to the constructor\n",
      "W0315 17:39:30.885131 139794286769984 deprecation.py:506] From /home/senn/virtualenvs/venv/lib/python3.7/site-packages/tensorflow_core/python/ops/init_ops.py:97: calling Ones.__init__ (from tensorflow.python.ops.init_ops) with dtype is deprecated and will be removed in a future version.\n",
      "Instructions for updating:\n",
      "Call initializer instance with the dtype argument instead of passing it to the constructor\n",
      "W0315 17:39:30.887143 139794286769984 deprecation.py:506] From /home/senn/virtualenvs/venv/lib/python3.7/site-packages/tensorflow_core/python/ops/init_ops.py:97: calling VarianceScaling.__init__ (from tensorflow.python.ops.init_ops) with dtype is deprecated and will be removed in a future version.\n",
      "Instructions for updating:\n",
      "Call initializer instance with the dtype argument instead of passing it to the constructor\n",
      "W0315 17:39:30.900983 139794286769984 deprecation.py:506] From /home/senn/virtualenvs/venv/lib/python3.7/site-packages/tensorflow_core/python/ops/resource_variable_ops.py:1630: calling BaseResourceVariable.__init__ (from tensorflow.python.ops.resource_variable_ops) with constraint is deprecated and will be removed in a future version.\n",
      "Instructions for updating:\n",
      "If using Keras pass *_constraint arguments to layers.\n"
     ]
    }
   ],
   "source": [
    "model = SherlockModel();\n",
    "model.initialize_model_from_json(with_weights=True, model_id=\"sherlock\");"
   ]
  },
  {
   "cell_type": "code",
   "execution_count": 19,
   "id": "cd79f624",
   "metadata": {},
   "outputs": [],
   "source": [
    "predicted_labels = model.predict(feature_vectors, \"sherlock\")"
   ]
  },
  {
   "cell_type": "code",
   "execution_count": 20,
   "id": "e3376966",
   "metadata": {},
   "outputs": [],
   "source": [
    "# predicted_labels"
   ]
  },
  {
   "cell_type": "markdown",
   "id": "2b1f1f9b",
   "metadata": {},
   "source": [
    "## Analysing results"
   ]
  },
  {
   "cell_type": "code",
   "execution_count": 21,
   "id": "504336fb",
   "metadata": {},
   "outputs": [
    {
     "name": "stdout",
     "output_type": "stream",
     "text": [
      "prediction count 813\n"
     ]
    },
    {
     "data": {
      "text/plain": [
       "0.35952832125142853"
      ]
     },
     "execution_count": 21,
     "metadata": {},
     "output_type": "execute_result"
    }
   ],
   "source": [
    "size = len(predicted_labels)\n",
    "print(f'prediction count {size}')\n",
    "\n",
    "\n",
    "# Should be fully deterministic too.\n",
    "f1_score(col_types[:size], predicted_labels[:size], average=\"weighted\")"
   ]
  },
  {
   "cell_type": "markdown",
   "id": "78b6bef5",
   "metadata": {},
   "source": [
    "### All Scores"
   ]
  },
  {
   "cell_type": "code",
   "execution_count": 22,
   "id": "c8fc6878",
   "metadata": {
    "scrolled": true
   },
   "outputs": [
    {
     "name": "stdout",
     "output_type": "stream",
     "text": [
      "                precision    recall  f1-score   support\n",
      "\n",
      "       address     0.0080    1.0000    0.0159         1\n",
      "           age     0.0000    0.0000    0.0000         1\n",
      "         album     0.0000    0.0000    0.0000         0\n",
      "          area     0.0000    0.0000    0.0000         0\n",
      "        artist     0.0000    0.0000    0.0000         0\n",
      "      capacity     0.0000    0.0000    0.0000         1\n",
      "      category     0.0500    0.2000    0.0800         5\n",
      "          city     0.8333    1.0000    0.9091         5\n",
      "         class     0.2353    0.0625    0.0988        64\n",
      "classification     0.2500    1.0000    0.4000         1\n",
      "          club     0.0000    0.0000    0.0000         0\n",
      "          code     0.8000    0.2353    0.3636        17\n",
      "    collection     0.0000    0.0000    0.0000         1\n",
      "       command     0.0000    0.0000    0.0000         0\n",
      "       company     0.3333    1.0000    0.5000         2\n",
      "     component     0.0000    0.0000    0.0000         3\n",
      "       country     0.7500    0.7500    0.7500         4\n",
      "        county     0.0000    0.0000    0.0000         1\n",
      "       creator     0.0000    0.0000    0.0000         0\n",
      "           day     0.0000    0.0000    0.0000         0\n",
      "         depth     0.0000    0.0000    0.0000        13\n",
      "   description     0.4333    0.3714    0.4000        35\n",
      "      duration     0.0000    0.0000    0.0000        11\n",
      "        family     0.0000    0.0000    0.0000         2\n",
      "        format     0.0000    0.0000    0.0000         0\n",
      "        gender     0.0000    0.0000    0.0000         1\n",
      "      language     0.6667    0.5000    0.5714         4\n",
      "      location     0.0000    0.0000    0.0000         2\n",
      "  manufacturer     0.0000    0.0000    0.0000         2\n",
      "          name     0.8095    0.0810    0.1472       210\n",
      "         notes     0.0833    0.1667    0.1111         6\n",
      "      operator     0.0000    0.0000    0.0000         1\n",
      "         order     0.0000    0.0000    0.0000         1\n",
      "  organisation     0.0000    0.0000    0.0000         0\n",
      "        origin     0.0000    0.0000    0.0000         1\n",
      "         owner     0.0000    0.0000    0.0000         0\n",
      "        person     0.0000    0.0000    0.0000         0\n",
      "         plays     0.0000    0.0000    0.0000         0\n",
      "      position     0.0000    0.0000    0.0000         0\n",
      "       product     0.0000    0.0000    0.0000         3\n",
      "         range     0.0000    0.0000    0.0000         1\n",
      "          rank     0.1667    0.0300    0.0508       100\n",
      "        region     0.0000    0.0000    0.0000         1\n",
      "   requirement     0.0000    0.0000    0.0000         0\n",
      "        result     0.0000    0.0000    0.0000         0\n",
      "         sales     0.0000    0.0000    0.0000         0\n",
      "       service     0.0000    0.0000    0.0000         0\n",
      "           sex     0.0000    0.0000    0.0000         0\n",
      "       species     0.0816    0.5926    0.1435        27\n",
      "         state     0.0000    0.0000    0.0000        20\n",
      "        status     0.5882    0.6667    0.6250        15\n",
      "        symbol     0.0000    0.0000    0.0000         0\n",
      "          team     0.0000    0.0000    0.0000         2\n",
      "          type     0.9167    0.6111    0.7333       144\n",
      "        weight     0.1667    0.6667    0.2667         3\n",
      "          year     1.0000    0.9216    0.9592       102\n",
      "\n",
      "      accuracy                         0.3284       813\n",
      "     macro avg     0.1459    0.1760    0.1272       813\n",
      "  weighted avg     0.5997    0.3284    0.3595       813\n",
      "\n"
     ]
    },
    {
     "name": "stderr",
     "output_type": "stream",
     "text": [
      "/home/senn/virtualenvs/venv/lib/python3.7/site-packages/sklearn/metrics/_classification.py:1248: UndefinedMetricWarning: Precision and F-score are ill-defined and being set to 0.0 in labels with no predicted samples. Use `zero_division` parameter to control this behavior.\n",
      "  _warn_prf(average, modifier, msg_start, len(result))\n",
      "/home/senn/virtualenvs/venv/lib/python3.7/site-packages/sklearn/metrics/_classification.py:1248: UndefinedMetricWarning: Recall and F-score are ill-defined and being set to 0.0 in labels with no true samples. Use `zero_division` parameter to control this behavior.\n",
      "  _warn_prf(average, modifier, msg_start, len(result))\n",
      "/home/senn/virtualenvs/venv/lib/python3.7/site-packages/sklearn/metrics/_classification.py:1248: UndefinedMetricWarning: Precision and F-score are ill-defined and being set to 0.0 in labels with no predicted samples. Use `zero_division` parameter to control this behavior.\n",
      "  _warn_prf(average, modifier, msg_start, len(result))\n",
      "/home/senn/virtualenvs/venv/lib/python3.7/site-packages/sklearn/metrics/_classification.py:1248: UndefinedMetricWarning: Recall and F-score are ill-defined and being set to 0.0 in labels with no true samples. Use `zero_division` parameter to control this behavior.\n",
      "  _warn_prf(average, modifier, msg_start, len(result))\n",
      "/home/senn/virtualenvs/venv/lib/python3.7/site-packages/sklearn/metrics/_classification.py:1248: UndefinedMetricWarning: Precision and F-score are ill-defined and being set to 0.0 in labels with no predicted samples. Use `zero_division` parameter to control this behavior.\n",
      "  _warn_prf(average, modifier, msg_start, len(result))\n",
      "/home/senn/virtualenvs/venv/lib/python3.7/site-packages/sklearn/metrics/_classification.py:1248: UndefinedMetricWarning: Recall and F-score are ill-defined and being set to 0.0 in labels with no true samples. Use `zero_division` parameter to control this behavior.\n",
      "  _warn_prf(average, modifier, msg_start, len(result))\n"
     ]
    }
   ],
   "source": [
    "print(classification_report(col_types[:size], predicted_labels[:size], digits=4))"
   ]
  },
  {
   "cell_type": "code",
   "execution_count": 23,
   "id": "36f47fe8",
   "metadata": {},
   "outputs": [
    {
     "name": "stderr",
     "output_type": "stream",
     "text": [
      "/home/senn/virtualenvs/venv/lib/python3.7/site-packages/sklearn/metrics/_classification.py:1248: UndefinedMetricWarning: Precision and F-score are ill-defined and being set to 0.0 in labels with no predicted samples. Use `zero_division` parameter to control this behavior.\n",
      "  _warn_prf(average, modifier, msg_start, len(result))\n",
      "/home/senn/virtualenvs/venv/lib/python3.7/site-packages/sklearn/metrics/_classification.py:1248: UndefinedMetricWarning: Recall and F-score are ill-defined and being set to 0.0 in labels with no true samples. Use `zero_division` parameter to control this behavior.\n",
      "  _warn_prf(average, modifier, msg_start, len(result))\n",
      "/home/senn/virtualenvs/venv/lib/python3.7/site-packages/sklearn/metrics/_classification.py:1248: UndefinedMetricWarning: Precision and F-score are ill-defined and being set to 0.0 in labels with no predicted samples. Use `zero_division` parameter to control this behavior.\n",
      "  _warn_prf(average, modifier, msg_start, len(result))\n",
      "/home/senn/virtualenvs/venv/lib/python3.7/site-packages/sklearn/metrics/_classification.py:1248: UndefinedMetricWarning: Recall and F-score are ill-defined and being set to 0.0 in labels with no true samples. Use `zero_division` parameter to control this behavior.\n",
      "  _warn_prf(average, modifier, msg_start, len(result))\n",
      "/home/senn/virtualenvs/venv/lib/python3.7/site-packages/sklearn/metrics/_classification.py:1248: UndefinedMetricWarning: Precision and F-score are ill-defined and being set to 0.0 in labels with no predicted samples. Use `zero_division` parameter to control this behavior.\n",
      "  _warn_prf(average, modifier, msg_start, len(result))\n",
      "/home/senn/virtualenvs/venv/lib/python3.7/site-packages/sklearn/metrics/_classification.py:1248: UndefinedMetricWarning: Recall and F-score are ill-defined and being set to 0.0 in labels with no true samples. Use `zero_division` parameter to control this behavior.\n",
      "  _warn_prf(average, modifier, msg_start, len(result))\n"
     ]
    }
   ],
   "source": [
    "model_id = \"sherlock\"\n",
    "\n",
    "classes = np.load(f\"../model_files/classes_{model_id}.npy\", allow_pickle=True)\n",
    "\n",
    "report = classification_report(col_types, predicted_labels, output_dict=True)\n",
    "\n",
    "class_scores = list(filter(lambda x: isinstance(x, tuple) and isinstance(x[1], dict) and 'f1-score' in x[1] and x[0] in classes, list(report.items())))\n",
    "\n",
    "class_scores = sorted(class_scores, key=lambda item: item[1]['f1-score'], reverse=True)"
   ]
  },
  {
   "cell_type": "markdown",
   "id": "b9886cad",
   "metadata": {},
   "source": [
    "### Top 5 types"
   ]
  },
  {
   "cell_type": "code",
   "execution_count": 24,
   "id": "80c13a2e",
   "metadata": {
    "scrolled": true
   },
   "outputs": [
    {
     "name": "stdout",
     "output_type": "stream",
     "text": [
      "\t\tf1-score\tprecision\trecall\t\tsupport\n",
      "year\t\t0.959\t\t1.000\t\t0.922\t\t102\n",
      "city\t\t0.909\t\t0.833\t\t1.000\t\t5\n",
      "country\t\t0.750\t\t0.750\t\t0.750\t\t4\n",
      "type\t\t0.733\t\t0.917\t\t0.611\t\t144\n",
      "status\t\t0.625\t\t0.588\t\t0.667\t\t15\n"
     ]
    }
   ],
   "source": [
    "print(f\"\\t\\tf1-score\\tprecision\\trecall\\t\\tsupport\")\n",
    "\n",
    "for key, value in class_scores[0:5]:\n",
    "    if len(key) >= 8:\n",
    "        tabs = '\\t' * 1\n",
    "    else:\n",
    "        tabs = '\\t' * 2\n",
    "\n",
    "    print(f\"{key}{tabs}{value['f1-score']:.3f}\\t\\t{value['precision']:.3f}\\t\\t{value['recall']:.3f}\\t\\t{value['support']}\")"
   ]
  },
  {
   "cell_type": "markdown",
   "id": "a76ab3d0",
   "metadata": {},
   "source": [
    "### Bottom 5 types"
   ]
  },
  {
   "cell_type": "code",
   "execution_count": 25,
   "id": "8619f5e2",
   "metadata": {},
   "outputs": [
    {
     "name": "stdout",
     "output_type": "stream",
     "text": [
      "\t\tf1-score\tprecision\trecall\t\tsupport\n",
      "service\t\t0.000\t\t0.000\t\t0.000\t\t0\n",
      "sex\t\t0.000\t\t0.000\t\t0.000\t\t0\n",
      "state\t\t0.000\t\t0.000\t\t0.000\t\t20\n",
      "symbol\t\t0.000\t\t0.000\t\t0.000\t\t0\n",
      "team\t\t0.000\t\t0.000\t\t0.000\t\t2\n"
     ]
    }
   ],
   "source": [
    "print(f\"\\t\\tf1-score\\tprecision\\trecall\\t\\tsupport\")\n",
    "\n",
    "for key, value in class_scores[len(class_scores)-5:len(class_scores)]:\n",
    "    if len(key) >= 8:\n",
    "        tabs = '\\t' * 1\n",
    "    else:\n",
    "        tabs = '\\t' * 2\n",
    "\n",
    "    print(f\"{key}{tabs}{value['f1-score']:.3f}\\t\\t{value['precision']:.3f}\\t\\t{value['recall']:.3f}\\t\\t{value['support']}\")"
   ]
  },
  {
   "cell_type": "markdown",
   "id": "30598bac",
   "metadata": {},
   "source": [
    "## Looking at the data"
   ]
  },
  {
   "cell_type": "code",
   "execution_count": 26,
   "id": "7764d3ea",
   "metadata": {},
   "outputs": [],
   "source": [
    "type_freq_df = pd.DataFrame(col_types, columns=['type'])\n",
    "type_freq_df = pd.DataFrame(type_freq_df['type'].value_counts())\n",
    "type_freq_df.columns = ['count']\n",
    "type_freq_df.index.name = 'type'"
   ]
  },
  {
   "cell_type": "code",
   "execution_count": 27,
   "id": "07e4fc25",
   "metadata": {
    "scrolled": true
   },
   "outputs": [
    {
     "data": {
      "text/html": [
       "\n",
       "<div id=\"altair-viz-0eeb3604eba141439cc9655439538446\"></div>\n",
       "<script type=\"text/javascript\">\n",
       "  var VEGA_DEBUG = (typeof VEGA_DEBUG == \"undefined\") ? {} : VEGA_DEBUG;\n",
       "  (function(spec, embedOpt){\n",
       "    let outputDiv = document.currentScript.previousElementSibling;\n",
       "    if (outputDiv.id !== \"altair-viz-0eeb3604eba141439cc9655439538446\") {\n",
       "      outputDiv = document.getElementById(\"altair-viz-0eeb3604eba141439cc9655439538446\");\n",
       "    }\n",
       "    const paths = {\n",
       "      \"vega\": \"https://cdn.jsdelivr.net/npm//vega@5?noext\",\n",
       "      \"vega-lib\": \"https://cdn.jsdelivr.net/npm//vega-lib?noext\",\n",
       "      \"vega-lite\": \"https://cdn.jsdelivr.net/npm//vega-lite@4.17.0?noext\",\n",
       "      \"vega-embed\": \"https://cdn.jsdelivr.net/npm//vega-embed@6?noext\",\n",
       "    };\n",
       "\n",
       "    function maybeLoadScript(lib, version) {\n",
       "      var key = `${lib.replace(\"-\", \"\")}_version`;\n",
       "      return (VEGA_DEBUG[key] == version) ?\n",
       "        Promise.resolve(paths[lib]) :\n",
       "        new Promise(function(resolve, reject) {\n",
       "          var s = document.createElement('script');\n",
       "          document.getElementsByTagName(\"head\")[0].appendChild(s);\n",
       "          s.async = true;\n",
       "          s.onload = () => {\n",
       "            VEGA_DEBUG[key] = version;\n",
       "            return resolve(paths[lib]);\n",
       "          };\n",
       "          s.onerror = () => reject(`Error loading script: ${paths[lib]}`);\n",
       "          s.src = paths[lib];\n",
       "        });\n",
       "    }\n",
       "\n",
       "    function showError(err) {\n",
       "      outputDiv.innerHTML = `<div class=\"error\" style=\"color:red;\">${err}</div>`;\n",
       "      throw err;\n",
       "    }\n",
       "\n",
       "    function displayChart(vegaEmbed) {\n",
       "      vegaEmbed(outputDiv, spec, embedOpt)\n",
       "        .catch(err => showError(`Javascript Error: ${err.message}<br>This usually means there's a typo in your chart specification. See the javascript console for the full traceback.`));\n",
       "    }\n",
       "\n",
       "    if(typeof define === \"function\" && define.amd) {\n",
       "      requirejs.config({paths});\n",
       "      require([\"vega-embed\"], displayChart, err => showError(`Error loading script: ${err.message}`));\n",
       "    } else {\n",
       "      maybeLoadScript(\"vega\", \"5\")\n",
       "        .then(() => maybeLoadScript(\"vega-lite\", \"4.17.0\"))\n",
       "        .then(() => maybeLoadScript(\"vega-embed\", \"6\"))\n",
       "        .catch(showError)\n",
       "        .then(() => displayChart(vegaEmbed));\n",
       "    }\n",
       "  })({\"config\": {\"view\": {\"continuousWidth\": 400, \"continuousHeight\": 300}}, \"data\": {\"name\": \"data-103790ff067fae166fbc91a4304b34d7\"}, \"mark\": {\"type\": \"bar\", \"size\": 8}, \"encoding\": {\"x\": {\"field\": \"type\", \"sort\": {\"field\": \"count\", \"order\": \"descending\"}, \"title\": \"Semantic Types\", \"type\": \"ordinal\"}, \"y\": {\"field\": \"count\", \"title\": \"Number of Samples\", \"type\": \"quantitative\"}}, \"height\": 200, \"width\": 600, \"$schema\": \"https://vega.github.io/schema/vega-lite/v4.17.0.json\", \"datasets\": {\"data-103790ff067fae166fbc91a4304b34d7\": [{\"type\": \"name\", \"count\": 210}, {\"type\": \"type\", \"count\": 144}, {\"type\": \"year\", \"count\": 102}, {\"type\": \"rank\", \"count\": 100}, {\"type\": \"class\", \"count\": 64}, {\"type\": \"description\", \"count\": 35}, {\"type\": \"species\", \"count\": 27}, {\"type\": \"state\", \"count\": 20}, {\"type\": \"code\", \"count\": 17}, {\"type\": \"status\", \"count\": 15}, {\"type\": \"depth\", \"count\": 13}, {\"type\": \"duration\", \"count\": 11}, {\"type\": \"notes\", \"count\": 6}, {\"type\": \"city\", \"count\": 5}, {\"type\": \"category\", \"count\": 5}, {\"type\": \"language\", \"count\": 4}, {\"type\": \"country\", \"count\": 4}, {\"type\": \"product\", \"count\": 3}, {\"type\": \"weight\", \"count\": 3}, {\"type\": \"component\", \"count\": 3}, {\"type\": \"team\", \"count\": 2}, {\"type\": \"family\", \"count\": 2}, {\"type\": \"manufacturer\", \"count\": 2}, {\"type\": \"location\", \"count\": 2}, {\"type\": \"company\", \"count\": 2}, {\"type\": \"collection\", \"count\": 1}, {\"type\": \"region\", \"count\": 1}, {\"type\": \"order\", \"count\": 1}, {\"type\": \"county\", \"count\": 1}, {\"type\": \"gender\", \"count\": 1}, {\"type\": \"classification\", \"count\": 1}, {\"type\": \"address\", \"count\": 1}, {\"type\": \"origin\", \"count\": 1}, {\"type\": \"age\", \"count\": 1}, {\"type\": \"range\", \"count\": 1}, {\"type\": \"capacity\", \"count\": 1}, {\"type\": \"operator\", \"count\": 1}]}}, {\"mode\": \"vega-lite\"});\n",
       "</script>"
      ],
      "text/plain": [
       "alt.Chart(...)"
      ]
     },
     "execution_count": 27,
     "metadata": {},
     "output_type": "execute_result"
    }
   ],
   "source": [
    "alt.Chart(type_freq_df.reset_index()).mark_bar(size=8).encode(\n",
    "    x = alt.X('type:O',\n",
    "              title = 'Semantic Types',\n",
    "              sort=alt.EncodingSortField(\n",
    "                field=\"count\",  \n",
    "                order=\"descending\")),\n",
    "    y = alt.Y('count', title='Number of Samples')    \n",
    ").properties(width=600,height=200)"
   ]
  },
  {
   "cell_type": "code",
   "execution_count": null,
   "id": "7f29c35b",
   "metadata": {},
   "outputs": [],
   "source": []
  },
  {
   "cell_type": "code",
   "execution_count": null,
   "id": "e8c0bc59",
   "metadata": {},
   "outputs": [],
   "source": []
  }
 ],
 "metadata": {
  "kernelspec": {
   "display_name": "Python 3 (ipykernel)",
   "language": "python",
   "name": "python3"
  },
  "language_info": {
   "codemirror_mode": {
    "name": "ipython",
    "version": 3
   },
   "file_extension": ".py",
   "mimetype": "text/x-python",
   "name": "python",
   "nbconvert_exporter": "python",
   "pygments_lexer": "ipython3",
   "version": "3.7.12"
  }
 },
 "nbformat": 4,
 "nbformat_minor": 5
}
