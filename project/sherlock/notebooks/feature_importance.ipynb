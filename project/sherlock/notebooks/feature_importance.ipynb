{
 "cells": [
  {
   "cell_type": "code",
   "execution_count": 1,
   "metadata": {},
   "outputs": [
    {
     "data": {
      "text/plain": [
       "RendererRegistry.enable('default')"
      ]
     },
     "execution_count": 1,
     "metadata": {},
     "output_type": "execute_result"
    }
   ],
   "source": [
    "from datetime import datetime\n",
    "import os\n",
    "import sys\n",
    "import time\n",
    "\n",
    "import numpy as np\n",
    "import pandas as pd\n",
    "\n",
    "from sherlock import helpers\n",
    "from sherlock.deploy.model import SherlockModel\n",
    "from sherlock.functional import extract_features_to_csv\n",
    "from sherlock.features.paragraph_vectors import initialise_pretrained_model, initialise_nltk\n",
    "from sherlock.features.preprocessing import (\n",
    "    extract_features,\n",
    "    convert_string_lists_to_lists,\n",
    "    prepare_feature_extraction,\n",
    "    load_parquet_values,\n",
    ")\n",
    "from sherlock.features.word_embeddings import initialise_word_embeddings\n",
    "\n",
    "import sklearn.metrics as skl\n",
    "import altair as alt\n",
    "alt.renderers.enable('default')"
   ]
  },
  {
   "cell_type": "code",
   "execution_count": 2,
   "metadata": {},
   "outputs": [
    {
     "name": "stderr",
     "output_type": "stream",
     "text": [
      "WARNING: Logging before flag parsing goes to stderr.\n",
      "W0621 10:19:40.759631 139953414031168 deprecation.py:506] From /home/senn/virtualenvs/sherlock/lib/python3.7/site-packages/tensorflow_core/python/ops/init_ops.py:97: calling Zeros.__init__ (from tensorflow.python.ops.init_ops) with dtype is deprecated and will be removed in a future version.\n",
      "Instructions for updating:\n",
      "Call initializer instance with the dtype argument instead of passing it to the constructor\n",
      "W0621 10:19:40.761058 139953414031168 deprecation.py:506] From /home/senn/virtualenvs/sherlock/lib/python3.7/site-packages/tensorflow_core/python/ops/init_ops.py:97: calling Ones.__init__ (from tensorflow.python.ops.init_ops) with dtype is deprecated and will be removed in a future version.\n",
      "Instructions for updating:\n",
      "Call initializer instance with the dtype argument instead of passing it to the constructor\n",
      "W0621 10:19:40.764913 139953414031168 deprecation.py:506] From /home/senn/virtualenvs/sherlock/lib/python3.7/site-packages/tensorflow_core/python/ops/init_ops.py:97: calling VarianceScaling.__init__ (from tensorflow.python.ops.init_ops) with dtype is deprecated and will be removed in a future version.\n",
      "Instructions for updating:\n",
      "Call initializer instance with the dtype argument instead of passing it to the constructor\n",
      "W0621 10:19:40.783230 139953414031168 deprecation.py:506] From /home/senn/virtualenvs/sherlock/lib/python3.7/site-packages/tensorflow_core/python/ops/resource_variable_ops.py:1630: calling BaseResourceVariable.__init__ (from tensorflow.python.ops.resource_variable_ops) with constraint is deprecated and will be removed in a future version.\n",
      "Instructions for updating:\n",
      "If using Keras pass *_constraint arguments to layers.\n",
      "2022-06-21 10:19:41.316906: I tensorflow/core/platform/cpu_feature_guard.cc:142] Your CPU supports instructions that this TensorFlow binary was not compiled to use: AVX2 FMA\n",
      "2022-06-21 10:19:41.332695: I tensorflow/core/platform/profile_utils/cpu_utils.cc:94] CPU Frequency: 3193910000 Hz\n",
      "2022-06-21 10:19:41.334662: I tensorflow/compiler/xla/service/service.cc:168] XLA service 0x56292dd418b0 initialized for platform Host (this does not guarantee that XLA will be used). Devices:\n",
      "2022-06-21 10:19:41.334714: I tensorflow/compiler/xla/service/service.cc:176]   StreamExecutor device (0): Host, Default Version\n"
     ]
    }
   ],
   "source": [
    "model = SherlockModel();\n",
    "model.initialize_model_from_json(with_weights=True, model_id=\"sherlock\");"
   ]
  },
  {
   "cell_type": "code",
   "execution_count": 3,
   "metadata": {},
   "outputs": [],
   "source": [
    "# path_features = '../data/data/processed/test_20220502-202626.csv'\n",
    "path_features = '../data/data/processed/validation_20220307-132110.csv'\n",
    "path_true_types = '../data/data/raw/val_labels.parquet'\n",
    "# path_temp_shuffled = '../data/data/processed/temp_features_shuffled.csv'\n",
    "LOOP_COUNT = 4 # If the notebook crashed it could be due to high ram usage, if so, try to lower the loop count\n",
    "# indices of columns of each feature set, uncumment either row wise permutation or column wise depending on the one you want to perform.\n",
    "feature_cols_dict = {\n",
    "    # row wise permutation\n",
    "    'character_distributions': [range(0, 960)],\n",
    "    'word_embeddings': [range(960, 1161)],\n",
    "    'global_statistics': [range(1161, 1188)],\n",
    "    'paragraph_vectors': [range(1188, 1588)],\n",
    "    # column wise permutation\n",
    "#     'character_distributions': list(range(0, 960)),\n",
    "#     'word_embeddings': list(range(960, 1161)),\n",
    "#     'global_statistics': list(range(1161, 1188)),\n",
    "#     'paragraph_vectors': list(range(1188, 1588)),\n",
    "}\n",
    "# the last feature of the word embeddings is a binary value that indicates \n",
    "# if the word embeddings were successfully extracted for that specific column. 1160\n"
   ]
  },
  {
   "cell_type": "code",
   "execution_count": 4,
   "metadata": {},
   "outputs": [],
   "source": [
    "df_features_original = pd.read_csv(path_features)\n",
    "true_type_labels = pd.read_parquet(path_true_types).values.flatten()"
   ]
  },
  {
   "cell_type": "code",
   "execution_count": 5,
   "metadata": {},
   "outputs": [
    {
     "name": "stdout",
     "output_type": "stream",
     "text": [
      "shuffling index 0\n",
      "shuffled index 0\n",
      "shuffling index 1\n",
      "shuffled index 1\n",
      "shuffling index 2\n",
      "shuffled index 2\n",
      "shuffling index 3\n",
      "shuffled index 3\n",
      "shuffling index 0\n",
      "shuffled index 0\n",
      "shuffling index 1\n",
      "shuffled index 1\n",
      "shuffling index 2\n",
      "shuffled index 2\n",
      "shuffling index 3\n",
      "shuffled index 3\n",
      "shuffling index 0\n",
      "shuffled index 0\n",
      "shuffling index 1\n",
      "shuffled index 1\n",
      "shuffling index 2\n",
      "shuffled index 2\n",
      "shuffling index 3\n",
      "shuffled index 3\n",
      "shuffling index 0\n",
      "shuffled index 0\n",
      "shuffling index 1\n",
      "shuffled index 1\n",
      "shuffling index 2\n",
      "shuffled index 2\n",
      "shuffling index 3\n",
      "shuffled index 3\n"
     ]
    }
   ],
   "source": [
    "shuffled_features = {}\n",
    "shuffled_f1_scores_dict = {}\n",
    "\n",
    "for k, v in feature_cols_dict.items():\n",
    "    shuffled_features[k] = []\n",
    "    shuffled_f1_scores_dict[k] = []\n",
    "\n",
    "for k, v in feature_cols_dict.items():\n",
    "    for i in range(LOOP_COUNT):\n",
    "        print(f'shuffling index {i}')\n",
    "        df_features_shuffled = df_features_original.copy()\n",
    "        for col_idx in feature_cols_dict[k]:\n",
    "            df_features_shuffled.iloc[:, col_idx] = df_features_shuffled.iloc[:, col_idx].sample(frac=1, replace=True).reset_index(drop=True)\n",
    "            print(f'shuffled index {i}')\n",
    "        predictions = model.predict(df_features_shuffled, \"sherlock\")\n",
    "        shuffled_f1_scores_dict[k].append(skl.classification_report(true_type_labels, predictions,output_dict=True)['macro avg']['f1-score'])\n",
    "#         shuffled_features[k].append(df_features_shuffled)\n",
    "        df_features_shuffled = None\n"
   ]
  },
  {
   "cell_type": "code",
   "execution_count": 6,
   "metadata": {
    "scrolled": true
   },
   "outputs": [],
   "source": [
    "# for df_features_shuffled in list_df_features_shuffled:\n",
    "#     print(df_features_shuffled.head())"
   ]
  },
  {
   "cell_type": "code",
   "execution_count": 7,
   "metadata": {},
   "outputs": [],
   "source": [
    "# for col_idx in feature_cols_dict[feature_to_shuffle]:\n",
    "#     #find count of different values for each column between df_features_original and df_features_shuffled\n",
    "#     df_features_original_col = df_features_original.iloc[:, col_idx]\n",
    "#     df_features_shuffled_col = list_df_features_shuffled[0].iloc[:, col_idx]\n",
    "#     # find the amount of non equal values between the colmuns\n",
    "#     comparison_column = np.where(df_features_original_col == df_features_shuffled_col, True, False)\n",
    "#     #print amount of true values in comparison_column\n",
    "#     print(np.sum(comparison_column))\n"
   ]
  },
  {
   "cell_type": "code",
   "execution_count": 8,
   "metadata": {},
   "outputs": [],
   "source": [
    "# for col_idx in feature_cols_dict[feature_to_shuffle]:\n",
    "#   print(df_features_original.columns[col_idx])"
   ]
  },
  {
   "cell_type": "code",
   "execution_count": 9,
   "metadata": {},
   "outputs": [],
   "source": [
    "# TODO REMOVE\n",
    "# original: f1 ~ 0.874\n",
    "# predicted_labels_original = model.predict(df_features_original, \"sherlock\")\n",
    "# print(skl.classification_report(true_type_labels, predicted_labels_original,output_dict=True)['weighted avg'])"
   ]
  },
  {
   "cell_type": "code",
   "execution_count": 10,
   "metadata": {
    "scrolled": false
   },
   "outputs": [],
   "source": [
    "# !!Do it also on the benchmark an compare results!!\n",
    "# character_distributions: f1 ~ row wise 0.822 || col wise 0.835\n",
    "# word_embeddings: f1 ~ row wise 0.820 || col wise 0.0015 -> Glove 50 dim rep. -> mean(avg. word vector each dimension gets permuted indep., same for other aggregates), mode, ... -> we are permuting these vectors in col wise\n",
    "# global_statistics: f1 ~ row wise 0.854 || col wise 0.856\n",
    "# paragraph_vectors: f1 ~ row wise 0.225 || col wise 0.369 -> col wise mixes topic completely, could indicate that other features get more importance when predicting, compared to a wrongly given topic //+- true, given a certain window of values, predict the rest of window. paragraph vec subnetwork should already be permutation invariant. Could be an explanation why f1 scores are close \n",
    "# for df_features_shuffled in list_df_features_shuffled:\n",
    "#     predicted_labels_shuffled = model.predict(df_features_shuffled, \"sherlock\")\n",
    "#     print(skl.classification_report(true_type_labels, predicted_labels_shuffled,output_dict=True)['weighted avg'])\n",
    "\n"
   ]
  },
  {
   "cell_type": "code",
   "execution_count": 11,
   "metadata": {},
   "outputs": [],
   "source": [
    "# predicted_labels_dict = {}\n",
    "# shuffled_f1_scores_dict = {}\n",
    "\n",
    "# for k, v in feature_cols_dict.items():\n",
    "#     predicted_labels_dict[k] = []\n",
    "#     shuffled_f1_scores_dict[k] = []\n",
    "\n",
    "# for k, v in shuffled_features.items():\n",
    "#     for shuffled_feature_set in v:\n",
    "#         predictions = model.predict(shuffled_feature_set, \"sherlock\")\n",
    "#         predicted_labels_dict[k].append(predictions)\n",
    "#         shuffled_f1_scores_dict[k].append(skl.classification_report(true_type_labels, predictions,output_dict=True)['weighted avg']['f1-score'])"
   ]
  },
  {
   "cell_type": "code",
   "execution_count": 12,
   "metadata": {
    "scrolled": true
   },
   "outputs": [
    {
     "name": "stdout",
     "output_type": "stream",
     "text": [
      "{'character_distributions': [0.8018761071510504, 0.8028221793214116, 0.8034173031895644, 0.8022839359158281], 'word_embeddings': [0.8068624624563837, 0.8050008061751265, 0.8069130863470321, 0.8063149091191081], 'global_statistics': [0.837698111894723, 0.8379098564421205, 0.8363609668287273, 0.8368823938817931], 'paragraph_vectors': [0.19500709969517993, 0.19634533726544803, 0.19414038135673614, 0.1940058051397236]}\n"
     ]
    }
   ],
   "source": [
    "print(shuffled_f1_scores_dict)"
   ]
  },
  {
   "cell_type": "code",
   "execution_count": 13,
   "metadata": {},
   "outputs": [
    {
     "data": {
      "text/html": [
       "\n",
       "<div id=\"altair-viz-b3fee67f3b4449db94085cd4331b7cae\"></div>\n",
       "<script type=\"text/javascript\">\n",
       "  var VEGA_DEBUG = (typeof VEGA_DEBUG == \"undefined\") ? {} : VEGA_DEBUG;\n",
       "  (function(spec, embedOpt){\n",
       "    let outputDiv = document.currentScript.previousElementSibling;\n",
       "    if (outputDiv.id !== \"altair-viz-b3fee67f3b4449db94085cd4331b7cae\") {\n",
       "      outputDiv = document.getElementById(\"altair-viz-b3fee67f3b4449db94085cd4331b7cae\");\n",
       "    }\n",
       "    const paths = {\n",
       "      \"vega\": \"https://cdn.jsdelivr.net/npm//vega@5?noext\",\n",
       "      \"vega-lib\": \"https://cdn.jsdelivr.net/npm//vega-lib?noext\",\n",
       "      \"vega-lite\": \"https://cdn.jsdelivr.net/npm//vega-lite@4.17.0?noext\",\n",
       "      \"vega-embed\": \"https://cdn.jsdelivr.net/npm//vega-embed@6?noext\",\n",
       "    };\n",
       "\n",
       "    function maybeLoadScript(lib, version) {\n",
       "      var key = `${lib.replace(\"-\", \"\")}_version`;\n",
       "      return (VEGA_DEBUG[key] == version) ?\n",
       "        Promise.resolve(paths[lib]) :\n",
       "        new Promise(function(resolve, reject) {\n",
       "          var s = document.createElement('script');\n",
       "          document.getElementsByTagName(\"head\")[0].appendChild(s);\n",
       "          s.async = true;\n",
       "          s.onload = () => {\n",
       "            VEGA_DEBUG[key] = version;\n",
       "            return resolve(paths[lib]);\n",
       "          };\n",
       "          s.onerror = () => reject(`Error loading script: ${paths[lib]}`);\n",
       "          s.src = paths[lib];\n",
       "        });\n",
       "    }\n",
       "\n",
       "    function showError(err) {\n",
       "      outputDiv.innerHTML = `<div class=\"error\" style=\"color:red;\">${err}</div>`;\n",
       "      throw err;\n",
       "    }\n",
       "\n",
       "    function displayChart(vegaEmbed) {\n",
       "      vegaEmbed(outputDiv, spec, embedOpt)\n",
       "        .catch(err => showError(`Javascript Error: ${err.message}<br>This usually means there's a typo in your chart specification. See the javascript console for the full traceback.`));\n",
       "    }\n",
       "\n",
       "    if(typeof define === \"function\" && define.amd) {\n",
       "      requirejs.config({paths});\n",
       "      require([\"vega-embed\"], displayChart, err => showError(`Error loading script: ${err.message}`));\n",
       "    } else {\n",
       "      maybeLoadScript(\"vega\", \"5\")\n",
       "        .then(() => maybeLoadScript(\"vega-lite\", \"4.17.0\"))\n",
       "        .then(() => maybeLoadScript(\"vega-embed\", \"6\"))\n",
       "        .catch(showError)\n",
       "        .then(() => displayChart(vegaEmbed));\n",
       "    }\n",
       "  })({\"config\": {\"view\": {\"continuousWidth\": 400, \"continuousHeight\": 300}, \"axis\": {\"labelFontSize\": 18, \"titleFontSize\": 18}, \"axisX\": {\"labelAngle\": 0}}, \"data\": {\"name\": \"data-5b2d8aa1b47dd08683039be95ed00f30\"}, \"mark\": {\"type\": \"bar\", \"size\": 40}, \"encoding\": {\"x\": {\"field\": \"feature\", \"title\": \"Shuffled feature\", \"type\": \"ordinal\"}, \"y\": {\"field\": \"avg f1-score\", \"title\": \"Average F1-score\", \"type\": \"quantitative\"}}, \"height\": 200, \"width\": 800, \"$schema\": \"https://vega.github.io/schema/vega-lite/v4.17.0.json\", \"datasets\": {\"data-5b2d8aa1b47dd08683039be95ed00f30\": [{\"index\": 0, \"feature\": \"character_distributions\", \"avg f1-score\": 0.8025998813944636}, {\"index\": 1, \"feature\": \"word_embeddings\", \"avg f1-score\": 0.8062728160244126}, {\"index\": 2, \"feature\": \"global_statistics\", \"avg f1-score\": 0.837212832261841}, {\"index\": 3, \"feature\": \"paragraph_vectors\", \"avg f1-score\": 0.19487465586427194}]}}, {\"mode\": \"vega-lite\"});\n",
       "</script>"
      ],
      "text/plain": [
       "alt.Chart(...)"
      ]
     },
     "execution_count": 13,
     "metadata": {},
     "output_type": "execute_result"
    }
   ],
   "source": [
    "df_dict = {'feature': list(shuffled_f1_scores_dict.keys()), 'avg f1-score': list(map(lambda x: sum(x)/len(x), shuffled_f1_scores_dict.values()))}\n",
    "col_amount_freq_df = pd.DataFrame(df_dict)\n",
    "alt.Chart(col_amount_freq_df.reset_index()).mark_bar(size=40).encode(\n",
    "    x = alt.X('feature',\n",
    "              type='ordinal',\n",
    "              title = 'Shuffled feature',\n",
    "#               sort=alt.EncodingSortField(\n",
    "#                 field=\"values\",  \n",
    "#                 order=\"descending\"),\n",
    "              ),\n",
    "    y = alt.Y('avg f1-score', title='Average F1-score'),\n",
    ").configure_axis(\n",
    "    labelFontSize=18,\n",
    "    titleFontSize=18\n",
    ").configure_axisX(\n",
    "    labelAngle=0\n",
    ").properties(width=800,height=200)"
   ]
  }
 ],
 "metadata": {
  "kernelspec": {
   "display_name": "Python 3 (ipykernel)",
   "language": "python",
   "name": "python3"
  },
  "language_info": {
   "codemirror_mode": {
    "name": "ipython",
    "version": 3
   },
   "file_extension": ".py",
   "mimetype": "text/x-python",
   "name": "python",
   "nbconvert_exporter": "python",
   "pygments_lexer": "ipython3",
   "version": "3.7.12"
  }
 },
 "nbformat": 4,
 "nbformat_minor": 2
}
