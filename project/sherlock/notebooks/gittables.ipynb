{
 "cells": [
  {
   "cell_type": "markdown",
   "metadata": {},
   "source": [
    "# This notebook was not used for the paper due to questionable ground truth of the gittables dataset -> benchmark was used instead"
   ]
  },
  {
   "cell_type": "code",
   "execution_count": null,
   "metadata": {},
   "outputs": [],
   "source": [
    "# Notebook to extract and predict gittables dataset"
   ]
  },
  {
   "cell_type": "code",
   "execution_count": 1,
   "metadata": {},
   "outputs": [],
   "source": [
    "#Reload modules before executing code\n",
    "%load_ext autoreload\n",
    "%autoreload 2"
   ]
  },
  {
   "cell_type": "code",
   "execution_count": 2,
   "metadata": {
    "scrolled": true
   },
   "outputs": [
    {
     "data": {
      "text/plain": [
       "RendererRegistry.enable('default')"
      ]
     },
     "execution_count": 2,
     "metadata": {},
     "output_type": "execute_result"
    }
   ],
   "source": [
    "from datetime import datetime\n",
    "from os.path import join\n",
    "from os import listdir\n",
    "import json\n",
    "from re import sub #for camel case conversion\n",
    "\n",
    "import numpy as np\n",
    "import pandas as pd\n",
    "from pyarrow.parquet import ParquetFile\n",
    "from sklearn.metrics import f1_score, classification_report\n",
    "\n",
    "from sherlock import helpers\n",
    "from sherlock.deploy.model import SherlockModel\n",
    "# from sherlock.functional import extract_features_to_csv\n",
    "from sherlock.features.paragraph_vectors import initialise_pretrained_model, initialise_nltk\n",
    "from sherlock.features.preprocessing import (\n",
    "    extract_features,\n",
    "#     convert_string_lists_to_lists,\n",
    "    prepare_feature_extraction,\n",
    "#     load_parquet_values,\n",
    ")\n",
    "from sherlock.features.word_embeddings import initialise_word_embeddings\n",
    "\n",
    "import altair as alt\n",
    "alt.renderers.enable('default')"
   ]
  },
  {
   "cell_type": "markdown",
   "metadata": {},
   "source": [
    "### Utils"
   ]
  },
  {
   "cell_type": "code",
   "execution_count": 3,
   "metadata": {},
   "outputs": [],
   "source": [
    "def camel_case(s):\n",
    "    try:\n",
    "      c = sub(r\"(_|-)+\", \" \", s).title().replace(\" \", \"\")\n",
    "      return ''.join([c[0].lower(), c[1:]])\n",
    "    except:\n",
    "#         print(f'Error converting {s} to camel case')\n",
    "        return ''"
   ]
  },
  {
   "cell_type": "code",
   "execution_count": 4,
   "metadata": {},
   "outputs": [],
   "source": [
    "# !! Make sure you downloaded a gittables dataset (f.e. abstraction_tables)\n",
    "# and unzipped the data into the directory mentioned below !!\n",
    "path = '../data/data/gittables/whole_tables'\n",
    "\n",
    "with open(join(path, '../../../types.json'), 'r') as f:  \n",
    "        types = json.load(f)['type78']\n",
    "\n",
    "filepaths = [join(path, f) for f in listdir(path) if f.endswith('.parquet')]"
   ]
  },
  {
   "cell_type": "code",
   "execution_count": 5,
   "metadata": {},
   "outputs": [],
   "source": [
    "# filepaths\n",
    "# types"
   ]
  },
  {
   "cell_type": "code",
   "execution_count": 45,
   "metadata": {},
   "outputs": [
    {
     "name": "stdout",
     "output_type": "stream",
     "text": [
      "Started at 2022-03-28 12:35:57.808264\n",
      "Finished loading tables at 2022-03-28 12:36:19.401741, took 0:00:21.593485 seconds\n"
     ]
    }
   ],
   "source": [
    "columns = []\n",
    "col_types = []\n",
    "col_ids = []\n",
    "curr_id = 0\n",
    "start = datetime.now()\n",
    "print(f'Started at {start}')\n",
    "\n",
    "for fp in filepaths[:5000]:\n",
    "    try:\n",
    "        table = pd.read_parquet(fp)\n",
    "        table.rename(columns=camel_case,inplace=True)\n",
    "    except:\n",
    "        print(f'Error converting table in {fp}')\n",
    "        continue\n",
    "    for idx, col_name in enumerate(table.columns):\n",
    "        if len(col_name) == 0: #no type defined, skip col\n",
    "            continue\n",
    "        if col_name not in types:\n",
    "            continue\n",
    "        col = table.iloc[:, idx]\n",
    "        try: #TODO fix 2 columns in table with same name\n",
    "            columns.append(list(map(str, col.to_list())))\n",
    "            col_types.append(col_name)\n",
    "            col_ids.append(curr_id)\n",
    "            curr_id+=1\n",
    "        except:\n",
    "            print(f'error in table {fp}')\n",
    "#             for name,c in col.items():\n",
    "#                 print(c)\n",
    "#                 columns.append(list(map(str, c.to_list())))\n",
    "#                 col_types.append(col_name)\n",
    "#                 col_ids.append(curr_id)\n",
    "#                 curr_id+=1\n",
    "        \n",
    "        \n",
    "print(f'Finished loading tables at {datetime.now()}, took {datetime.now() - start} seconds')"
   ]
  },
  {
   "cell_type": "code",
   "execution_count": 46,
   "metadata": {},
   "outputs": [
    {
     "data": {
      "text/plain": [
       "72"
      ]
     },
     "execution_count": 46,
     "metadata": {},
     "output_type": "execute_result"
    }
   ],
   "source": [
    "len(set(col_types))"
   ]
  },
  {
   "cell_type": "code",
   "execution_count": 47,
   "metadata": {},
   "outputs": [
    {
     "data": {
      "text/plain": [
       "2508"
      ]
     },
     "execution_count": 47,
     "metadata": {},
     "output_type": "execute_result"
    }
   ],
   "source": [
    "len(col_types)"
   ]
  },
  {
   "cell_type": "markdown",
   "metadata": {},
   "source": [
    "### Init feature extraction models"
   ]
  },
  {
   "cell_type": "code",
   "execution_count": 48,
   "metadata": {},
   "outputs": [
    {
     "name": "stdout",
     "output_type": "stream",
     "text": [
      "Preparing feature extraction by downloading 4 files:\n",
      "        \n",
      " ../sherlock/features/glove.6B.50d.txt, \n",
      " ../sherlock/features/par_vec_trained_400.pkl.docvecs.vectors_docs.npy,\n",
      "        \n",
      " ../sherlock/features/par_vec_trained_400.pkl.trainables.syn1neg.npy, and \n",
      " ../sherlock/features/par_vec_trained_400.pkl.wv.vectors.npy.\n",
      "        \n",
      "All files for extracting word and paragraph embeddings are present.\n",
      "Initialising word embeddings\n",
      "Initialise Word Embeddings process took 0:00:02.766531 seconds.\n",
      "Initialise Doc2Vec Model, 400 dim, process took 0:00:02.870848 seconds. (filename = ../sherlock/features/par_vec_trained_400.pkl)\n",
      "Initialised NLTK, process took 0:00:00.000662 seconds.\n"
     ]
    },
    {
     "name": "stderr",
     "output_type": "stream",
     "text": [
      "[nltk_data] Downloading package punkt to /home/senn/nltk_data...\n",
      "[nltk_data]   Package punkt is already up-to-date!\n",
      "[nltk_data] Downloading package stopwords to /home/senn/nltk_data...\n",
      "[nltk_data]   Package stopwords is already up-to-date!\n"
     ]
    }
   ],
   "source": [
    "prepare_feature_extraction()\n",
    "initialise_word_embeddings()\n",
    "initialise_pretrained_model(400)\n",
    "initialise_nltk()"
   ]
  },
  {
   "cell_type": "code",
   "execution_count": 49,
   "metadata": {},
   "outputs": [],
   "source": [
    "data = pd.Series(\n",
    "    [\n",
    "        *columns #expand/unpack the list\n",
    "    ],\n",
    "    name=\"values\"\n",
    ")"
   ]
  },
  {
   "cell_type": "code",
   "execution_count": 50,
   "metadata": {},
   "outputs": [
    {
     "data": {
      "text/plain": [
       "0    [Gear\\nBags, Gear\\nBags\\nCollections\\nErin Rec...\n",
       "1    [Joust Duffle Bag, Strive Shoulder Pack, Crown...\n",
       "2    [<p>The sporty Joust Duffle Bag can't be beat ...\n",
       "3                                                   []\n",
       "4                                                   []\n",
       "Name: values, dtype: object"
      ]
     },
     "execution_count": 50,
     "metadata": {},
     "output_type": "execute_result"
    }
   ],
   "source": [
    "data.head(5)"
   ]
  },
  {
   "cell_type": "code",
   "execution_count": 51,
   "metadata": {},
   "outputs": [
    {
     "name": "stderr",
     "output_type": "stream",
     "text": [
      "\r",
      "Extracting Features:   0%|                                                              | 0/2508 [00:00<?, ?it/s]"
     ]
    },
    {
     "name": "stdout",
     "output_type": "stream",
     "text": [
      "Exporting 1588 column features\n"
     ]
    },
    {
     "name": "stderr",
     "output_type": "stream",
     "text": [
      "Extracting Features: 100%|██████████████████████████████████████████████████| 2508/2508 [00:22<00:00, 110.70it/s]\n"
     ]
    }
   ],
   "source": [
    "extract_features(\n",
    "    join(path, \"processed/temporary.csv\"),\n",
    "    data\n",
    ")\n",
    "feature_vectors = pd.read_csv(join(path, \"processed/temporary.csv\"), dtype=np.float32)"
   ]
  },
  {
   "cell_type": "code",
   "execution_count": 52,
   "metadata": {},
   "outputs": [],
   "source": [
    "# feature_vectors.head()"
   ]
  },
  {
   "cell_type": "markdown",
   "metadata": {},
   "source": [
    "### Init sherlock"
   ]
  },
  {
   "cell_type": "code",
   "execution_count": 53,
   "metadata": {},
   "outputs": [],
   "source": [
    "model = SherlockModel();\n",
    "model.initialize_model_from_json(with_weights=True, model_id=\"sherlock\");"
   ]
  },
  {
   "cell_type": "code",
   "execution_count": 54,
   "metadata": {},
   "outputs": [],
   "source": [
    "predicted_labels = model.predict(feature_vectors, \"sherlock\")"
   ]
  },
  {
   "cell_type": "markdown",
   "metadata": {},
   "source": [
    "### Analysing results"
   ]
  },
  {
   "cell_type": "code",
   "execution_count": 55,
   "metadata": {},
   "outputs": [
    {
     "name": "stdout",
     "output_type": "stream",
     "text": [
      "prediction count 2508\n"
     ]
    },
    {
     "data": {
      "text/plain": [
       "0.4518698024776634"
      ]
     },
     "execution_count": 55,
     "metadata": {},
     "output_type": "execute_result"
    }
   ],
   "source": [
    "size = len(predicted_labels)\n",
    "print(f'prediction count {size}')\n",
    "\n",
    "\n",
    "# Should be fully deterministic too.\n",
    "f1_score(col_types[:size], predicted_labels[:size], average=\"weighted\")"
   ]
  },
  {
   "cell_type": "markdown",
   "metadata": {},
   "source": [
    "### All Scores"
   ]
  },
  {
   "cell_type": "code",
   "execution_count": 56,
   "metadata": {},
   "outputs": [
    {
     "name": "stdout",
     "output_type": "stream",
     "text": [
      "                precision    recall  f1-score   support\n",
      "\n",
      "       address     0.0205    0.7692    0.0399        26\n",
      "   affiliation     0.0000    0.0000    0.0000         0\n",
      "           age     0.7273    0.3478    0.4706        46\n",
      "         album     0.4211    0.6667    0.5161        12\n",
      "          area     0.0000    0.0000    0.0000        20\n",
      "        artist     0.6615    0.7679    0.7107        56\n",
      "   birth Place     0.0000    0.0000    0.0000         0\n",
      "         brand     0.5000    0.1818    0.2667        11\n",
      "      capacity     0.0000    0.0000    0.0000         9\n",
      "      category     0.6000    0.3000    0.4000        60\n",
      "          city     0.5000    0.3333    0.4000        48\n",
      "         class     0.0690    0.0588    0.0635        34\n",
      "classification     0.0000    0.0000    0.0000         6\n",
      "          club     0.0000    0.0000    0.0000         9\n",
      "          code     0.2857    0.0667    0.1081        30\n",
      "    collection     0.0000    0.0000    0.0000        23\n",
      "       command     0.0000    0.0000    0.0000        10\n",
      "       company     0.5000    0.4615    0.4800        26\n",
      "     component     0.1429    0.0769    0.1000        13\n",
      "     continent     0.0000    0.0000    0.0000         4\n",
      "       country     0.8421    0.3636    0.5079        44\n",
      "        county     0.3333    0.0909    0.1429        11\n",
      "       creator     0.0000    0.0000    0.0000         5\n",
      "        credit     0.0000    0.0000    0.0000         5\n",
      "      currency     1.0000    0.1667    0.2857         6\n",
      "           day     0.0000    0.0000    0.0000        33\n",
      "         depth     0.0000    0.0000    0.0000        10\n",
      "   description     0.6377    0.3308    0.4356       133\n",
      "      director     0.0000    0.0000    0.0000         8\n",
      "      duration     0.7500    0.2727    0.4000        11\n",
      "     education     0.0000    0.0000    0.0000        13\n",
      "     elevation     0.0000    0.0000    0.0000         2\n",
      "        family     0.0000    0.0000    0.0000        18\n",
      "     file Size     0.0000    0.0000    0.0000         0\n",
      "      fileSize     0.0000    0.0000    0.0000         1\n",
      "        format     0.0000    0.0000    0.0000         9\n",
      "        gender     0.7500    0.1111    0.1935        27\n",
      "         genre     0.6667    0.4000    0.5000         5\n",
      "        grades     0.0000    0.0000    0.0000         7\n",
      "      industry     0.9429    0.6471    0.7674        51\n",
      "          isbn     0.0000    0.0000    0.0000        42\n",
      "      language     1.0000    0.1707    0.2917        41\n",
      "      location     0.8929    0.3205    0.4717        78\n",
      "  manufacturer     0.0000    0.0000    0.0000         5\n",
      "          name     0.7143    0.2381    0.3571       168\n",
      "   nationality     0.0000    0.0000    0.0000         3\n",
      "         notes     0.4000    0.3158    0.3529        57\n",
      "      operator     0.0000    0.0000    0.0000         2\n",
      "         order     0.0000    0.0000    0.0000        39\n",
      "  organisation     0.0000    0.0000    0.0000         8\n",
      "        origin     0.0000    0.0000    0.0000        17\n",
      "         owner     0.0000    0.0000    0.0000         8\n",
      "        person     0.0000    0.0000    0.0000        37\n",
      "         plays     0.0000    0.0000    0.0000         7\n",
      "      position     0.0000    0.0000    0.0000        26\n",
      "       product     0.0806    0.1923    0.1136        26\n",
      "     publisher     0.6667    0.1667    0.2667        12\n",
      "         range     0.5000    0.1000    0.1667        20\n",
      "          rank     0.6538    0.6800    0.6667        50\n",
      "       ranking     0.0000    0.0000    0.0000         5\n",
      "        region     0.2000    0.4000    0.2667        30\n",
      "      religion     0.0000    0.0000    0.0000        15\n",
      "   requirement     0.0000    0.0000    0.0000         6\n",
      "        result     0.0000    0.0000    0.0000        41\n",
      "         sales     0.0000    0.0000    0.0000         7\n",
      "       service     0.0000    0.0000    0.0000        18\n",
      "           sex     0.3438    0.5500    0.4231        20\n",
      "       species     0.3333    0.1000    0.1538        10\n",
      "         state     0.3600    0.1875    0.2466        48\n",
      "        status     0.2742    0.3696    0.3148        46\n",
      "        symbol     0.4000    0.2000    0.2667        10\n",
      "          team     0.0000    0.0000    0.0000        28\n",
      "     team Name     0.0000    0.0000    0.0000         0\n",
      "          type     0.9722    0.8216    0.8905       510\n",
      "        weight     1.0000    0.1053    0.1905        19\n",
      "          year     0.9943    0.8357    0.9081       207\n",
      "\n",
      "      accuracy                         0.4075      2508\n",
      "     macro avg     0.2650    0.1601    0.1729      2508\n",
      "  weighted avg     0.5804    0.4075    0.4519      2508\n",
      "\n"
     ]
    },
    {
     "name": "stderr",
     "output_type": "stream",
     "text": [
      "/home/senn/virtualenvs/sherlock/lib/python3.7/site-packages/sklearn/metrics/_classification.py:1248: UndefinedMetricWarning: Precision and F-score are ill-defined and being set to 0.0 in labels with no predicted samples. Use `zero_division` parameter to control this behavior.\n",
      "  _warn_prf(average, modifier, msg_start, len(result))\n",
      "/home/senn/virtualenvs/sherlock/lib/python3.7/site-packages/sklearn/metrics/_classification.py:1248: UndefinedMetricWarning: Recall and F-score are ill-defined and being set to 0.0 in labels with no true samples. Use `zero_division` parameter to control this behavior.\n",
      "  _warn_prf(average, modifier, msg_start, len(result))\n",
      "/home/senn/virtualenvs/sherlock/lib/python3.7/site-packages/sklearn/metrics/_classification.py:1248: UndefinedMetricWarning: Precision and F-score are ill-defined and being set to 0.0 in labels with no predicted samples. Use `zero_division` parameter to control this behavior.\n",
      "  _warn_prf(average, modifier, msg_start, len(result))\n",
      "/home/senn/virtualenvs/sherlock/lib/python3.7/site-packages/sklearn/metrics/_classification.py:1248: UndefinedMetricWarning: Recall and F-score are ill-defined and being set to 0.0 in labels with no true samples. Use `zero_division` parameter to control this behavior.\n",
      "  _warn_prf(average, modifier, msg_start, len(result))\n",
      "/home/senn/virtualenvs/sherlock/lib/python3.7/site-packages/sklearn/metrics/_classification.py:1248: UndefinedMetricWarning: Precision and F-score are ill-defined and being set to 0.0 in labels with no predicted samples. Use `zero_division` parameter to control this behavior.\n",
      "  _warn_prf(average, modifier, msg_start, len(result))\n",
      "/home/senn/virtualenvs/sherlock/lib/python3.7/site-packages/sklearn/metrics/_classification.py:1248: UndefinedMetricWarning: Recall and F-score are ill-defined and being set to 0.0 in labels with no true samples. Use `zero_division` parameter to control this behavior.\n",
      "  _warn_prf(average, modifier, msg_start, len(result))\n"
     ]
    }
   ],
   "source": [
    "print(classification_report(col_types[:size], predicted_labels[:size], digits=4))"
   ]
  },
  {
   "cell_type": "code",
   "execution_count": 57,
   "metadata": {},
   "outputs": [
    {
     "name": "stderr",
     "output_type": "stream",
     "text": [
      "/home/senn/virtualenvs/sherlock/lib/python3.7/site-packages/sklearn/metrics/_classification.py:1248: UndefinedMetricWarning: Precision and F-score are ill-defined and being set to 0.0 in labels with no predicted samples. Use `zero_division` parameter to control this behavior.\n",
      "  _warn_prf(average, modifier, msg_start, len(result))\n",
      "/home/senn/virtualenvs/sherlock/lib/python3.7/site-packages/sklearn/metrics/_classification.py:1248: UndefinedMetricWarning: Recall and F-score are ill-defined and being set to 0.0 in labels with no true samples. Use `zero_division` parameter to control this behavior.\n",
      "  _warn_prf(average, modifier, msg_start, len(result))\n",
      "/home/senn/virtualenvs/sherlock/lib/python3.7/site-packages/sklearn/metrics/_classification.py:1248: UndefinedMetricWarning: Precision and F-score are ill-defined and being set to 0.0 in labels with no predicted samples. Use `zero_division` parameter to control this behavior.\n",
      "  _warn_prf(average, modifier, msg_start, len(result))\n",
      "/home/senn/virtualenvs/sherlock/lib/python3.7/site-packages/sklearn/metrics/_classification.py:1248: UndefinedMetricWarning: Recall and F-score are ill-defined and being set to 0.0 in labels with no true samples. Use `zero_division` parameter to control this behavior.\n",
      "  _warn_prf(average, modifier, msg_start, len(result))\n",
      "/home/senn/virtualenvs/sherlock/lib/python3.7/site-packages/sklearn/metrics/_classification.py:1248: UndefinedMetricWarning: Precision and F-score are ill-defined and being set to 0.0 in labels with no predicted samples. Use `zero_division` parameter to control this behavior.\n",
      "  _warn_prf(average, modifier, msg_start, len(result))\n",
      "/home/senn/virtualenvs/sherlock/lib/python3.7/site-packages/sklearn/metrics/_classification.py:1248: UndefinedMetricWarning: Recall and F-score are ill-defined and being set to 0.0 in labels with no true samples. Use `zero_division` parameter to control this behavior.\n",
      "  _warn_prf(average, modifier, msg_start, len(result))\n"
     ]
    }
   ],
   "source": [
    "model_id = \"sherlock\"\n",
    "\n",
    "classes = np.load(f\"../model_files/classes_{model_id}.npy\", allow_pickle=True)\n",
    "\n",
    "report = classification_report(col_types[:size], predicted_labels[:size], output_dict=True)\n",
    "\n",
    "class_scores = list(filter(lambda x: isinstance(x, tuple) and isinstance(x[1], dict) and 'f1-score' in x[1] and x[0] in classes, list(report.items())))\n",
    "\n",
    "class_scores = sorted(class_scores, key=lambda item: item[1]['f1-score'], reverse=True)"
   ]
  },
  {
   "cell_type": "markdown",
   "metadata": {},
   "source": [
    "### Top 5 types"
   ]
  },
  {
   "cell_type": "code",
   "execution_count": 58,
   "metadata": {},
   "outputs": [
    {
     "name": "stdout",
     "output_type": "stream",
     "text": [
      "\t\tf1-score\tprecision\trecall\t\tsupport\n",
      "year\t\t0.908\t\t0.994\t\t0.836\t\t207\n",
      "type\t\t0.891\t\t0.972\t\t0.822\t\t510\n",
      "industry\t0.767\t\t0.943\t\t0.647\t\t51\n",
      "artist\t\t0.711\t\t0.662\t\t0.768\t\t56\n",
      "rank\t\t0.667\t\t0.654\t\t0.680\t\t50\n"
     ]
    }
   ],
   "source": [
    "print(f\"\\t\\tf1-score\\tprecision\\trecall\\t\\tsupport\")\n",
    "\n",
    "for key, value in class_scores[0:5]:\n",
    "    if len(key) >= 8:\n",
    "        tabs = '\\t' * 1\n",
    "    else:\n",
    "        tabs = '\\t' * 2\n",
    "\n",
    "    print(f\"{key}{tabs}{value['f1-score']:.3f}\\t\\t{value['precision']:.3f}\\t\\t{value['recall']:.3f}\\t\\t{value['support']}\")"
   ]
  },
  {
   "cell_type": "code",
   "execution_count": 59,
   "metadata": {},
   "outputs": [],
   "source": [
    "### Bottom 5 types"
   ]
  },
  {
   "cell_type": "code",
   "execution_count": 60,
   "metadata": {},
   "outputs": [
    {
     "name": "stdout",
     "output_type": "stream",
     "text": [
      "\t\tf1-score\tprecision\trecall\t\tsupport\n",
      "result\t\t0.000\t\t0.000\t\t0.000\t\t41\n",
      "sales\t\t0.000\t\t0.000\t\t0.000\t\t7\n",
      "service\t\t0.000\t\t0.000\t\t0.000\t\t18\n",
      "team\t\t0.000\t\t0.000\t\t0.000\t\t28\n",
      "team Name\t0.000\t\t0.000\t\t0.000\t\t0\n"
     ]
    }
   ],
   "source": [
    "print(f\"\\t\\tf1-score\\tprecision\\trecall\\t\\tsupport\")\n",
    "\n",
    "for key, value in class_scores[len(class_scores)-5:len(class_scores)]:\n",
    "    if len(key) >= 8:\n",
    "        tabs = '\\t' * 1\n",
    "    else:\n",
    "        tabs = '\\t' * 2\n",
    "\n",
    "    print(f\"{key}{tabs}{value['f1-score']:.3f}\\t\\t{value['precision']:.3f}\\t\\t{value['recall']:.3f}\\t\\t{value['support']}\")"
   ]
  },
  {
   "cell_type": "code",
   "execution_count": 61,
   "metadata": {},
   "outputs": [],
   "source": [
    "type_freq_df = pd.DataFrame(col_types, columns=['type'])\n",
    "type_freq_df = pd.DataFrame(type_freq_df['type'].value_counts())\n",
    "type_freq_df.columns = ['count']\n",
    "type_freq_df.index.name = 'type'\n"
   ]
  },
  {
   "cell_type": "code",
   "execution_count": 62,
   "metadata": {},
   "outputs": [],
   "source": [
    "# type_freq_df"
   ]
  },
  {
   "cell_type": "code",
   "execution_count": 63,
   "metadata": {},
   "outputs": [
    {
     "data": {
      "text/html": [
       "\n",
       "<div id=\"altair-viz-74b490f9008c41f7b8b3a583cd9a3672\"></div>\n",
       "<script type=\"text/javascript\">\n",
       "  var VEGA_DEBUG = (typeof VEGA_DEBUG == \"undefined\") ? {} : VEGA_DEBUG;\n",
       "  (function(spec, embedOpt){\n",
       "    let outputDiv = document.currentScript.previousElementSibling;\n",
       "    if (outputDiv.id !== \"altair-viz-74b490f9008c41f7b8b3a583cd9a3672\") {\n",
       "      outputDiv = document.getElementById(\"altair-viz-74b490f9008c41f7b8b3a583cd9a3672\");\n",
       "    }\n",
       "    const paths = {\n",
       "      \"vega\": \"https://cdn.jsdelivr.net/npm//vega@5?noext\",\n",
       "      \"vega-lib\": \"https://cdn.jsdelivr.net/npm//vega-lib?noext\",\n",
       "      \"vega-lite\": \"https://cdn.jsdelivr.net/npm//vega-lite@4.17.0?noext\",\n",
       "      \"vega-embed\": \"https://cdn.jsdelivr.net/npm//vega-embed@6?noext\",\n",
       "    };\n",
       "\n",
       "    function maybeLoadScript(lib, version) {\n",
       "      var key = `${lib.replace(\"-\", \"\")}_version`;\n",
       "      return (VEGA_DEBUG[key] == version) ?\n",
       "        Promise.resolve(paths[lib]) :\n",
       "        new Promise(function(resolve, reject) {\n",
       "          var s = document.createElement('script');\n",
       "          document.getElementsByTagName(\"head\")[0].appendChild(s);\n",
       "          s.async = true;\n",
       "          s.onload = () => {\n",
       "            VEGA_DEBUG[key] = version;\n",
       "            return resolve(paths[lib]);\n",
       "          };\n",
       "          s.onerror = () => reject(`Error loading script: ${paths[lib]}`);\n",
       "          s.src = paths[lib];\n",
       "        });\n",
       "    }\n",
       "\n",
       "    function showError(err) {\n",
       "      outputDiv.innerHTML = `<div class=\"error\" style=\"color:red;\">${err}</div>`;\n",
       "      throw err;\n",
       "    }\n",
       "\n",
       "    function displayChart(vegaEmbed) {\n",
       "      vegaEmbed(outputDiv, spec, embedOpt)\n",
       "        .catch(err => showError(`Javascript Error: ${err.message}<br>This usually means there's a typo in your chart specification. See the javascript console for the full traceback.`));\n",
       "    }\n",
       "\n",
       "    if(typeof define === \"function\" && define.amd) {\n",
       "      requirejs.config({paths});\n",
       "      require([\"vega-embed\"], displayChart, err => showError(`Error loading script: ${err.message}`));\n",
       "    } else {\n",
       "      maybeLoadScript(\"vega\", \"5\")\n",
       "        .then(() => maybeLoadScript(\"vega-lite\", \"4.17.0\"))\n",
       "        .then(() => maybeLoadScript(\"vega-embed\", \"6\"))\n",
       "        .catch(showError)\n",
       "        .then(() => displayChart(vegaEmbed));\n",
       "    }\n",
       "  })({\"config\": {\"view\": {\"continuousWidth\": 400, \"continuousHeight\": 300}}, \"data\": {\"name\": \"data-f92820c6c325a93517f1e88940187c36\"}, \"mark\": {\"type\": \"bar\", \"size\": 8}, \"encoding\": {\"x\": {\"field\": \"type\", \"sort\": {\"field\": \"count\", \"order\": \"descending\"}, \"title\": \"Semantic Types\", \"type\": \"ordinal\"}, \"y\": {\"field\": \"count\", \"title\": \"Number of Samples\", \"type\": \"quantitative\"}}, \"height\": 200, \"width\": 800, \"$schema\": \"https://vega.github.io/schema/vega-lite/v4.17.0.json\", \"datasets\": {\"data-f92820c6c325a93517f1e88940187c36\": [{\"type\": \"type\", \"count\": 510}, {\"type\": \"year\", \"count\": 207}, {\"type\": \"name\", \"count\": 168}, {\"type\": \"description\", \"count\": 133}, {\"type\": \"location\", \"count\": 78}, {\"type\": \"category\", \"count\": 60}, {\"type\": \"notes\", \"count\": 57}, {\"type\": \"artist\", \"count\": 56}, {\"type\": \"industry\", \"count\": 51}, {\"type\": \"rank\", \"count\": 50}, {\"type\": \"city\", \"count\": 48}, {\"type\": \"state\", \"count\": 48}, {\"type\": \"status\", \"count\": 46}, {\"type\": \"age\", \"count\": 46}, {\"type\": \"country\", \"count\": 44}, {\"type\": \"isbn\", \"count\": 42}, {\"type\": \"language\", \"count\": 41}, {\"type\": \"result\", \"count\": 41}, {\"type\": \"order\", \"count\": 39}, {\"type\": \"person\", \"count\": 37}, {\"type\": \"class\", \"count\": 34}, {\"type\": \"day\", \"count\": 33}, {\"type\": \"region\", \"count\": 30}, {\"type\": \"code\", \"count\": 30}, {\"type\": \"team\", \"count\": 28}, {\"type\": \"gender\", \"count\": 27}, {\"type\": \"product\", \"count\": 26}, {\"type\": \"company\", \"count\": 26}, {\"type\": \"position\", \"count\": 26}, {\"type\": \"address\", \"count\": 26}, {\"type\": \"collection\", \"count\": 23}, {\"type\": \"area\", \"count\": 20}, {\"type\": \"sex\", \"count\": 20}, {\"type\": \"range\", \"count\": 20}, {\"type\": \"weight\", \"count\": 19}, {\"type\": \"family\", \"count\": 18}, {\"type\": \"service\", \"count\": 18}, {\"type\": \"origin\", \"count\": 17}, {\"type\": \"religion\", \"count\": 15}, {\"type\": \"component\", \"count\": 13}, {\"type\": \"education\", \"count\": 13}, {\"type\": \"publisher\", \"count\": 12}, {\"type\": \"album\", \"count\": 12}, {\"type\": \"brand\", \"count\": 11}, {\"type\": \"duration\", \"count\": 11}, {\"type\": \"county\", \"count\": 11}, {\"type\": \"species\", \"count\": 10}, {\"type\": \"symbol\", \"count\": 10}, {\"type\": \"command\", \"count\": 10}, {\"type\": \"depth\", \"count\": 10}, {\"type\": \"capacity\", \"count\": 9}, {\"type\": \"club\", \"count\": 9}, {\"type\": \"format\", \"count\": 9}, {\"type\": \"director\", \"count\": 8}, {\"type\": \"organisation\", \"count\": 8}, {\"type\": \"owner\", \"count\": 8}, {\"type\": \"sales\", \"count\": 7}, {\"type\": \"grades\", \"count\": 7}, {\"type\": \"plays\", \"count\": 7}, {\"type\": \"requirement\", \"count\": 6}, {\"type\": \"currency\", \"count\": 6}, {\"type\": \"classification\", \"count\": 6}, {\"type\": \"genre\", \"count\": 5}, {\"type\": \"credit\", \"count\": 5}, {\"type\": \"manufacturer\", \"count\": 5}, {\"type\": \"creator\", \"count\": 5}, {\"type\": \"ranking\", \"count\": 5}, {\"type\": \"continent\", \"count\": 4}, {\"type\": \"nationality\", \"count\": 3}, {\"type\": \"elevation\", \"count\": 2}, {\"type\": \"operator\", \"count\": 2}, {\"type\": \"fileSize\", \"count\": 1}]}}, {\"mode\": \"vega-lite\"});\n",
       "</script>"
      ],
      "text/plain": [
       "alt.Chart(...)"
      ]
     },
     "execution_count": 63,
     "metadata": {},
     "output_type": "execute_result"
    }
   ],
   "source": [
    "alt.Chart(type_freq_df.reset_index()).mark_bar(size=8).encode(\n",
    "    x = alt.X('type:O',\n",
    "              title = 'Semantic Types',\n",
    "              sort=alt.EncodingSortField(\n",
    "                field=\"count\",  \n",
    "                order=\"descending\")),\n",
    "    y = alt.Y('count', title='Number of Samples')    \n",
    ").properties(width=800,height=200)"
   ]
  },
  {
   "cell_type": "code",
   "execution_count": null,
   "metadata": {},
   "outputs": [],
   "source": []
  }
 ],
 "metadata": {
  "kernelspec": {
   "display_name": "Python 3 (ipykernel)",
   "language": "python",
   "name": "python3"
  },
  "language_info": {
   "codemirror_mode": {
    "name": "ipython",
    "version": 3
   },
   "file_extension": ".py",
   "mimetype": "text/x-python",
   "name": "python",
   "nbconvert_exporter": "python",
   "pygments_lexer": "ipython3",
   "version": "3.7.12"
  }
 },
 "nbformat": 4,
 "nbformat_minor": 4
}
