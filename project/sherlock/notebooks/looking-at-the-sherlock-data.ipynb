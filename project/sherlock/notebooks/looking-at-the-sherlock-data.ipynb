{
 "cells": [
  {
   "cell_type": "code",
   "execution_count": 1,
   "id": "454d7710",
   "metadata": {},
   "outputs": [],
   "source": [
    "#First meeting about sherlock where I take a closer look at the sherlock dataset"
   ]
  },
  {
   "cell_type": "code",
   "execution_count": 2,
   "id": "f2439dae",
   "metadata": {},
   "outputs": [],
   "source": [
    "#Reload modules before executing code\n",
    "%load_ext autoreload\n",
    "%autoreload 2"
   ]
  },
  {
   "cell_type": "code",
   "execution_count": 3,
   "id": "2590f614",
   "metadata": {},
   "outputs": [
    {
     "data": {
      "text/plain": [
       "RendererRegistry.enable('default')"
      ]
     },
     "execution_count": 3,
     "metadata": {},
     "output_type": "execute_result"
    }
   ],
   "source": [
    "from datetime import datetime\n",
    "from os.path import join\n",
    "\n",
    "\n",
    "import numpy as np\n",
    "import pandas as pd\n",
    "from pyarrow.parquet import ParquetFile\n",
    "\n",
    "\n",
    "from sherlock import helpers\n",
    "from sherlock.features.preprocessing import (\n",
    "    convert_string_lists_to_lists,\n",
    "    load_parquet_values,\n",
    ")\n",
    "from sherlock.functional import *\n",
    "\n",
    "import altair as alt\n",
    "alt.renderers.enable('default')\n",
    "\n",
    "# from functional import pseq"
   ]
  },
  {
   "cell_type": "markdown",
   "id": "5b9043f7",
   "metadata": {},
   "source": [
    "# Download the data\n",
    "In case the sherlock data has not been downloaded yet, it will be downloaded into the data/ directory"
   ]
  },
  {
   "cell_type": "code",
   "execution_count": 4,
   "id": "5ef4d0ff",
   "metadata": {},
   "outputs": [
    {
     "name": "stdout",
     "output_type": "stream",
     "text": [
      "Downloading the raw data into ../data/data/.\n",
      "Data was downloaded.\n"
     ]
    }
   ],
   "source": [
    "helpers.download_data()"
   ]
  },
  {
   "cell_type": "markdown",
   "id": "99e9428a",
   "metadata": {},
   "source": [
    "# Loading the datasets"
   ]
  },
  {
   "cell_type": "code",
   "execution_count": 5,
   "id": "bd68e308",
   "metadata": {},
   "outputs": [
    {
     "name": "stdout",
     "output_type": "stream",
     "text": [
      "Successfully loaded the data in 0:00:07.197848 seconds\n"
     ]
    }
   ],
   "source": [
    "path_raw = \"../data/data/raw/\"\n",
    "path_processed = \"../data/data/processed/\"\n",
    "\n",
    "start = datetime.now()\n",
    "temp_data = load_parquet_values(join(path_raw, \"temporary.parquet\"))\n",
    "test_data = load_parquet_values(join(path_raw, \"test_values.parquet\"))\n",
    "train_data = load_parquet_values(join(path_raw, \"train_values.parquet\"))\n",
    "validation_data = load_parquet_values(join(path_raw, \"val_values.parquet\"))\n",
    "print(f'Successfully loaded the data in {datetime.now() - start} seconds')"
   ]
  },
  {
   "cell_type": "markdown",
   "id": "ecfb45eb",
   "metadata": {},
   "source": [
    "# Analysing the datasets\n",
    "First, when using the debugger we can notice that the loaded parquet values are of type pyarrow.ChunkedArray"
   ]
  },
  {
   "cell_type": "code",
   "execution_count": 6,
   "id": "2b028f81",
   "metadata": {},
   "outputs": [
    {
     "name": "stdout",
     "output_type": "stream",
     "text": [
      "temp_data: 2\n",
      "test_data: 137353\n",
      "train_data: 412059\n",
      "validation_data: 137353\n"
     ]
    }
   ],
   "source": [
    "print(f\"temp_data: {len(temp_data)}\")\n",
    "print(f\"test_data: {len(test_data)}\")\n",
    "print(f\"train_data: {len(train_data)}\")\n",
    "print(f\"validation_data: {len(validation_data)}\")"
   ]
  },
  {
   "cell_type": "markdown",
   "id": "ad4c771a",
   "metadata": {},
   "source": [
    "## Parquet file inspection"
   ]
  },
  {
   "cell_type": "code",
   "execution_count": 7,
   "id": "d5a64124",
   "metadata": {},
   "outputs": [],
   "source": [
    "filename = \"test_values.parquet\"\n",
    "pf = ParquetFile(source=join(path_raw, filename))"
   ]
  },
  {
   "cell_type": "code",
   "execution_count": 8,
   "id": "b0a6ba70",
   "metadata": {},
   "outputs": [
    {
     "data": {
      "text/plain": [
       "<pyarrow._parquet.FileMetaData object at 0x7f61c549c470>\n",
       "  created_by: parquet-cpp version 1.5.1-SNAPSHOT\n",
       "  num_columns: 2\n",
       "  num_rows: 137353\n",
       "  num_row_groups: 1\n",
       "  format_version: 1.0\n",
       "  serialized_size: 2099"
      ]
     },
     "execution_count": 8,
     "metadata": {},
     "output_type": "execute_result"
    }
   ],
   "source": [
    "metadata = pf.metadata\n",
    "metadata"
   ]
  },
  {
   "cell_type": "code",
   "execution_count": 9,
   "id": "93c0d305",
   "metadata": {},
   "outputs": [
    {
     "data": {
      "text/plain": [
       "<pyarrow._parquet.RowGroupMetaData object at 0x7f61c549cb30>\n",
       "  num_columns: 2\n",
       "  num_rows: 137353\n",
       "  total_byte_size: 92885782"
      ]
     },
     "execution_count": 9,
     "metadata": {},
     "output_type": "execute_result"
    }
   ],
   "source": [
    "metadata.row_group(0)"
   ]
  },
  {
   "cell_type": "code",
   "execution_count": 10,
   "id": "44552395",
   "metadata": {},
   "outputs": [
    {
     "data": {
      "text/plain": [
       "<pyarrow._parquet.ParquetSchema object at 0x7f61c54ab050>\n",
       "required group field_id=0 schema {\n",
       "  optional binary field_id=1 values (String);\n",
       "  optional int64 field_id=2 __index_level_0__;\n",
       "}"
      ]
     },
     "execution_count": 10,
     "metadata": {},
     "output_type": "execute_result"
    }
   ],
   "source": [
    "pf.schema"
   ]
  },
  {
   "cell_type": "code",
   "execution_count": 11,
   "id": "e59c4ab5",
   "metadata": {},
   "outputs": [],
   "source": [
    "row_df = pf.read_row_group(0)\n",
    "row_df\n",
    "values = row_df['values']\n",
    "indices = row_df['__index_level_0__']"
   ]
  },
  {
   "cell_type": "code",
   "execution_count": 12,
   "id": "c3768cf4",
   "metadata": {},
   "outputs": [
    {
     "data": {
      "text/plain": [
       "<pyarrow.lib.ChunkedArray object at 0x7f61c54a77d0>\n",
       "[\n",
       "  [\n",
       "    \"['Central Missouri', 'unattached', 'unattached', 'Kansas State University', 'unattached', 'North Dakota State', 'Nike']\",\n",
       "    \"[95, 100, 95, 89, 84, 91, 88, 94, 75, 78, 90, 84, 90, 76, 93, 70, 80, 80, 82]\",\n",
       "    \"['Katie Crews', 'Christian Hiraldo', 'Alex Estrada', 'Fredy Peltroche', 'Xavier Perez', 'Gustavo Larrosa', 'Jose Montano', 'Angel Cruz (7)', 'J Acosta']\"\n",
       "  ]\n",
       "]"
      ]
     },
     "execution_count": 12,
     "metadata": {},
     "output_type": "execute_result"
    }
   ],
   "source": [
    "values.slice(0, 3)"
   ]
  },
  {
   "cell_type": "code",
   "execution_count": 13,
   "id": "0693aa3c",
   "metadata": {},
   "outputs": [
    {
     "data": {
      "text/plain": [
       "<pyarrow.lib.ChunkedArray object at 0x7f61c54a7bf0>\n",
       "[\n",
       "  [\n",
       "    20368,\n",
       "    664102,\n",
       "    366813\n",
       "  ]\n",
       "]"
      ]
     },
     "execution_count": 13,
     "metadata": {},
     "output_type": "execute_result"
    }
   ],
   "source": [
    "indices.slice(0,3)"
   ]
  },
  {
   "cell_type": "markdown",
   "id": "78371b2c",
   "metadata": {},
   "source": [
    "## Load values and labels using pandas dataframes for further investigation"
   ]
  },
  {
   "cell_type": "code",
   "execution_count": 14,
   "id": "901ef52c",
   "metadata": {},
   "outputs": [
    {
     "name": "stdout",
     "output_type": "stream",
     "text": [
      "Started at 2022-05-30 11:23:37.068351\n",
      "Load data (train) process took 0:00:10.726090 seconds.\n"
     ]
    }
   ],
   "source": [
    "start = datetime.now()\n",
    "print(f'Started at {start}')\n",
    "\n",
    "values_type = 'train'\n",
    "\n",
    "#raw data\n",
    "values = pd.read_parquet(join(path_raw, values_type+'_values.parquet'))\n",
    "labels = pd.read_parquet(join(path_raw, values_type+'_labels.parquet'))\n",
    "\n",
    "# training and validation of sherlock is done using an array of the types, thus we need \n",
    "# to flatten the values. As wel as the processed features of the values.\n",
    "labels_flatten = labels.values.flatten() \n",
    "\n",
    "print(f'Load data (train) process took {datetime.now() - start} seconds.')\n",
    "\n",
    "#Important for processing gittables later on, not so important right now.\n",
    "# print(f'Check distinct types for columns in the Dataframe (should be all float32): {set(values_processed.dtypes)}')\n",
    "# print(set(values_processed.dtypes))"
   ]
  },
  {
   "cell_type": "markdown",
   "id": "3a317b2e",
   "metadata": {},
   "source": [
    "## Dataset investigation"
   ]
  },
  {
   "cell_type": "code",
   "execution_count": 15,
   "id": "1751d0aa",
   "metadata": {},
   "outputs": [],
   "source": [
    "#preparing data to represent in graphs\n",
    "joined_df = pd.merge(labels, values, left_index=True, right_index=True)\n",
    "\n",
    "#type occurrence\n",
    "type_occurrence_series = joined_df.type.value_counts()\n",
    "type_occurrence_df = pd.DataFrame({'type':type_occurrence_series.index, 'count': type_occurrence_series.values})"
   ]
  },
  {
   "cell_type": "code",
   "execution_count": 16,
   "id": "e98d8fc4",
   "metadata": {},
   "outputs": [
    {
     "data": {
      "text/html": [
       "<div>\n",
       "<style scoped>\n",
       "    .dataframe tbody tr th:only-of-type {\n",
       "        vertical-align: middle;\n",
       "    }\n",
       "\n",
       "    .dataframe tbody tr th {\n",
       "        vertical-align: top;\n",
       "    }\n",
       "\n",
       "    .dataframe thead th {\n",
       "        text-align: right;\n",
       "    }\n",
       "</style>\n",
       "<table border=\"1\" class=\"dataframe\">\n",
       "  <thead>\n",
       "    <tr style=\"text-align: right;\">\n",
       "      <th></th>\n",
       "      <th>type</th>\n",
       "      <th>values</th>\n",
       "    </tr>\n",
       "  </thead>\n",
       "  <tbody>\n",
       "    <tr>\n",
       "      <th>55030</th>\n",
       "      <td>area</td>\n",
       "      <td>['Global', 'United States', 'Australia']</td>\n",
       "    </tr>\n",
       "    <tr>\n",
       "      <th>167000</th>\n",
       "      <td>collection</td>\n",
       "      <td>['Fiction, Adult - Non-Floating', 'Fiction, Ad...</td>\n",
       "    </tr>\n",
       "    <tr>\n",
       "      <th>638282</th>\n",
       "      <td>team Name</td>\n",
       "      <td>['', '', 'University of Puerto Rico - Rio Pied...</td>\n",
       "    </tr>\n",
       "    <tr>\n",
       "      <th>232298</th>\n",
       "      <td>credit</td>\n",
       "      <td>['Laughology', 'MTV', 'With Intent to Kill', '...</td>\n",
       "    </tr>\n",
       "    <tr>\n",
       "      <th>316158</th>\n",
       "      <td>gender</td>\n",
       "      <td>['Mare', 'Gelding', 'Gelding', 'Gelding', 'Gel...</td>\n",
       "    </tr>\n",
       "    <tr>\n",
       "      <th>467776</th>\n",
       "      <td>position</td>\n",
       "      <td>['V.P., General Counsel &amp; Sec.', 'V.P., Genera...</td>\n",
       "    </tr>\n",
       "    <tr>\n",
       "      <th>149640</th>\n",
       "      <td>club</td>\n",
       "      <td>['GAJA', 'OREG', 'UCS', 'WCM', 'SLAM', 'ARIZ',...</td>\n",
       "    </tr>\n",
       "    <tr>\n",
       "      <th>23556</th>\n",
       "      <td>affiliation</td>\n",
       "      <td>['Applied Mathematics, University of Notre Dam...</td>\n",
       "    </tr>\n",
       "    <tr>\n",
       "      <th>263802</th>\n",
       "      <td>description</td>\n",
       "      <td>['wakeup time in seconds for pbid to run its c...</td>\n",
       "    </tr>\n",
       "    <tr>\n",
       "      <th>476881</th>\n",
       "      <td>position</td>\n",
       "      <td>[35.0, 4.0, 52.0, 0.0, 30.0, 64.0, 84.0, None]</td>\n",
       "    </tr>\n",
       "  </tbody>\n",
       "</table>\n",
       "</div>"
      ],
      "text/plain": [
       "               type                                             values\n",
       "55030          area           ['Global', 'United States', 'Australia']\n",
       "167000   collection  ['Fiction, Adult - Non-Floating', 'Fiction, Ad...\n",
       "638282    team Name  ['', '', 'University of Puerto Rico - Rio Pied...\n",
       "232298       credit  ['Laughology', 'MTV', 'With Intent to Kill', '...\n",
       "316158       gender  ['Mare', 'Gelding', 'Gelding', 'Gelding', 'Gel...\n",
       "467776     position  ['V.P., General Counsel & Sec.', 'V.P., Genera...\n",
       "149640         club  ['GAJA', 'OREG', 'UCS', 'WCM', 'SLAM', 'ARIZ',...\n",
       "23556   affiliation  ['Applied Mathematics, University of Notre Dam...\n",
       "263802  description  ['wakeup time in seconds for pbid to run its c...\n",
       "476881     position     [35.0, 4.0, 52.0, 0.0, 30.0, 64.0, 84.0, None]"
      ]
     },
     "execution_count": 16,
     "metadata": {},
     "output_type": "execute_result"
    }
   ],
   "source": [
    "joined_df.head(10)"
   ]
  },
  {
   "cell_type": "code",
   "execution_count": 17,
   "id": "3171c48e",
   "metadata": {
    "scrolled": true
   },
   "outputs": [
    {
     "data": {
      "text/html": [
       "\n",
       "<div id=\"altair-viz-0f3f17abd60b4700aa671b092473f092\"></div>\n",
       "<script type=\"text/javascript\">\n",
       "  var VEGA_DEBUG = (typeof VEGA_DEBUG == \"undefined\") ? {} : VEGA_DEBUG;\n",
       "  (function(spec, embedOpt){\n",
       "    let outputDiv = document.currentScript.previousElementSibling;\n",
       "    if (outputDiv.id !== \"altair-viz-0f3f17abd60b4700aa671b092473f092\") {\n",
       "      outputDiv = document.getElementById(\"altair-viz-0f3f17abd60b4700aa671b092473f092\");\n",
       "    }\n",
       "    const paths = {\n",
       "      \"vega\": \"https://cdn.jsdelivr.net/npm//vega@5?noext\",\n",
       "      \"vega-lib\": \"https://cdn.jsdelivr.net/npm//vega-lib?noext\",\n",
       "      \"vega-lite\": \"https://cdn.jsdelivr.net/npm//vega-lite@4.17.0?noext\",\n",
       "      \"vega-embed\": \"https://cdn.jsdelivr.net/npm//vega-embed@6?noext\",\n",
       "    };\n",
       "\n",
       "    function maybeLoadScript(lib, version) {\n",
       "      var key = `${lib.replace(\"-\", \"\")}_version`;\n",
       "      return (VEGA_DEBUG[key] == version) ?\n",
       "        Promise.resolve(paths[lib]) :\n",
       "        new Promise(function(resolve, reject) {\n",
       "          var s = document.createElement('script');\n",
       "          document.getElementsByTagName(\"head\")[0].appendChild(s);\n",
       "          s.async = true;\n",
       "          s.onload = () => {\n",
       "            VEGA_DEBUG[key] = version;\n",
       "            return resolve(paths[lib]);\n",
       "          };\n",
       "          s.onerror = () => reject(`Error loading script: ${paths[lib]}`);\n",
       "          s.src = paths[lib];\n",
       "        });\n",
       "    }\n",
       "\n",
       "    function showError(err) {\n",
       "      outputDiv.innerHTML = `<div class=\"error\" style=\"color:red;\">${err}</div>`;\n",
       "      throw err;\n",
       "    }\n",
       "\n",
       "    function displayChart(vegaEmbed) {\n",
       "      vegaEmbed(outputDiv, spec, embedOpt)\n",
       "        .catch(err => showError(`Javascript Error: ${err.message}<br>This usually means there's a typo in your chart specification. See the javascript console for the full traceback.`));\n",
       "    }\n",
       "\n",
       "    if(typeof define === \"function\" && define.amd) {\n",
       "      requirejs.config({paths});\n",
       "      require([\"vega-embed\"], displayChart, err => showError(`Error loading script: ${err.message}`));\n",
       "    } else {\n",
       "      maybeLoadScript(\"vega\", \"5\")\n",
       "        .then(() => maybeLoadScript(\"vega-lite\", \"4.17.0\"))\n",
       "        .then(() => maybeLoadScript(\"vega-embed\", \"6\"))\n",
       "        .catch(showError)\n",
       "        .then(() => displayChart(vegaEmbed));\n",
       "    }\n",
       "  })({\"config\": {\"view\": {\"continuousWidth\": 400, \"continuousHeight\": 300}}, \"data\": {\"name\": \"data-ab12979241002ce58d639764079f88bb\"}, \"mark\": {\"type\": \"bar\", \"size\": 8}, \"encoding\": {\"x\": {\"field\": \"type\", \"sort\": {\"field\": \"count\", \"order\": \"descending\"}, \"title\": \"Semantic Types\", \"type\": \"ordinal\"}, \"y\": {\"field\": \"count\", \"title\": \"Number of Samples\", \"type\": \"quantitative\"}}, \"height\": 200, \"width\": 800, \"$schema\": \"https://vega.github.io/schema/vega-lite/v4.17.0.json\", \"datasets\": {\"data-ab12979241002ce58d639764079f88bb\": [{\"type\": \"type\", \"count\": 9088}, {\"type\": \"rank\", \"count\": 9058}, {\"type\": \"class\", \"count\": 9057}, {\"type\": \"location\", \"count\": 9056}, {\"type\": \"company\", \"count\": 9048}, {\"type\": \"age\", \"count\": 9041}, {\"type\": \"county\", \"count\": 9029}, {\"type\": \"weight\", \"count\": 9024}, {\"type\": \"club\", \"count\": 9022}, {\"type\": \"sex\", \"count\": 9017}, {\"type\": \"result\", \"count\": 9014}, {\"type\": \"day\", \"count\": 9010}, {\"type\": \"name\", \"count\": 8992}, {\"type\": \"city\", \"count\": 8983}, {\"type\": \"duration\", \"count\": 8982}, {\"type\": \"code\", \"count\": 8980}, {\"type\": \"address\", \"count\": 8971}, {\"type\": \"category\", \"count\": 8965}, {\"type\": \"state\", \"count\": 8964}, {\"type\": \"industry\", \"count\": 8964}, {\"type\": \"team\", \"count\": 8954}, {\"type\": \"album\", \"count\": 8944}, {\"type\": \"country\", \"count\": 8941}, {\"type\": \"artist\", \"count\": 8940}, {\"type\": \"description\", \"count\": 8933}, {\"type\": \"status\", \"count\": 8933}, {\"type\": \"year\", \"count\": 8928}, {\"type\": \"format\", \"count\": 8923}, {\"type\": \"position\", \"count\": 8920}, {\"type\": \"jockey\", \"count\": 8626}, {\"type\": \"product\", \"count\": 8178}, {\"type\": \"region\", \"count\": 8158}, {\"type\": \"notes\", \"count\": 6916}, {\"type\": \"service\", \"count\": 6565}, {\"type\": \"area\", \"count\": 5963}, {\"type\": \"grades\", \"count\": 5318}, {\"type\": \"symbol\", \"count\": 5284}, {\"type\": \"owner\", \"count\": 5193}, {\"type\": \"affiliation\", \"count\": 5124}, {\"type\": \"team Name\", \"count\": 4752}, {\"type\": \"plays\", \"count\": 4536}, {\"type\": \"isbn\", \"count\": 4498}, {\"type\": \"language\", \"count\": 4485}, {\"type\": \"order\", \"count\": 4463}, {\"type\": \"origin\", \"count\": 4456}, {\"type\": \"elevation\", \"count\": 4040}, {\"type\": \"component\", \"count\": 3666}, {\"type\": \"genre\", \"count\": 3465}, {\"type\": \"gender\", \"count\": 3134}, {\"type\": \"command\", \"count\": 3066}, {\"type\": \"manufacturer\", \"count\": 2744}, {\"type\": \"depth\", \"count\": 2719}, {\"type\": \"credit\", \"count\": 2698}, {\"type\": \"publisher\", \"count\": 2594}, {\"type\": \"species\", \"count\": 2477}, {\"type\": \"family\", \"count\": 2186}, {\"type\": \"range\", \"count\": 1792}, {\"type\": \"classification\", \"count\": 1771}, {\"type\": \"brand\", \"count\": 1710}, {\"type\": \"person\", \"count\": 1702}, {\"type\": \"collection\", \"count\": 1527}, {\"type\": \"birth Date\", \"count\": 1381}, {\"type\": \"nationality\", \"count\": 1334}, {\"type\": \"operator\", \"count\": 1282}, {\"type\": \"ranking\", \"count\": 1249}, {\"type\": \"birth Place\", \"count\": 1210}, {\"type\": \"currency\", \"count\": 1167}, {\"type\": \"creator\", \"count\": 1072}, {\"type\": \"religion\", \"count\": 1013}, {\"type\": \"file Size\", \"count\": 1009}, {\"type\": \"education\", \"count\": 1006}, {\"type\": \"sales\", \"count\": 1004}, {\"type\": \"capacity\", \"count\": 976}, {\"type\": \"requirement\", \"count\": 954}, {\"type\": \"organisation\", \"count\": 852}, {\"type\": \"director\", \"count\": 742}, {\"type\": \"continent\", \"count\": 737}, {\"type\": \"affiliate\", \"count\": 584}]}}, {\"mode\": \"vega-lite\"});\n",
       "</script>"
      ],
      "text/plain": [
       "alt.Chart(...)"
      ]
     },
     "execution_count": 17,
     "metadata": {},
     "output_type": "execute_result"
    }
   ],
   "source": [
    "alt.Chart(type_occurrence_df).mark_bar(size=8).encode(\n",
    "    x = alt.X('type:O',\n",
    "              title = 'Semantic Types',\n",
    "              sort=alt.EncodingSortField(\n",
    "                field=\"count\",  \n",
    "                order=\"descending\")),\n",
    "    y = alt.Y('count', title='Number of Samples')    \n",
    ").properties(width=800,height=200)"
   ]
  },
  {
   "cell_type": "code",
   "execution_count": 18,
   "id": "50de53d9",
   "metadata": {},
   "outputs": [],
   "source": [
    "# joined_df.agg({'values': ['sum', 'min']})"
   ]
  },
  {
   "cell_type": "markdown",
   "id": "b9715cfc",
   "metadata": {},
   "source": [
    "## Combining the datasets to validate paper information"
   ]
  },
  {
   "cell_type": "code",
   "execution_count": 19,
   "id": "9db091e9",
   "metadata": {},
   "outputs": [],
   "source": [
    "#raw data\n",
    "test_values = pd.read_parquet(join(path_raw, 'test_values.parquet'))\n",
    "test_labels = pd.read_parquet(join(path_raw, 'test_labels.parquet'))\n",
    "train_values = pd.read_parquet(join(path_raw, 'train_values.parquet'))\n",
    "train_labels = pd.read_parquet(join(path_raw, 'train_labels.parquet'))\n",
    "validation_values = pd.read_parquet(join(path_raw, 'val_values.parquet'))\n",
    "validation_labels = pd.read_parquet(join(path_raw, 'val_labels.parquet'))\n",
    "\n",
    "#joining dataframes\n",
    "test_joined_df = pd.merge(test_labels, test_values, left_index=True, right_index=True)\n",
    "train_joined_df = pd.merge(train_labels, train_values, left_index=True, right_index=True)\n",
    "validation_joined_df = pd.merge(validation_labels, validation_values, left_index=True, right_index=True)\n",
    "\n",
    "combined_df_pieces = {\"train\": train_joined_df, \"validation\": validation_joined_df, \"test\": test_joined_df}\n",
    "combined_df = pd.concat(combined_df_pieces)\n",
    "combined_df.index.names = ['usage', 'idx']\n",
    "\n",
    "#type occurrence\n",
    "# combined_type_occurrence_series = combined_df.type.value_counts()\n",
    "# combined_type_occurrence_df = pd.DataFrame({'type':combined_type_occurrence_series.index, 'count': combined_type_occurrence_series.values})\n",
    "\n",
    "# #type occurrence series\n",
    "# test_type_occurrence_series = test_joined_df.type.value_counts()\n",
    "# train_type_occurrence_series = train_joined_df.type.value_counts()\n",
    "# validation_type_occurrence_series = validation_joined_df.type.value_counts()\n",
    "\n",
    "# #type occurrence to dataframe\n",
    "# test_type_occurrence_df = pd.DataFrame({'type':test_type_occurrence_series.index, 'count': test_type_occurrence_series.values})\n",
    "# train_type_occurrence_df = pd.DataFrame({'type':train_type_occurrence_series.index, 'count': test_type_occurrence_series.values})\n",
    "# validation_type_occurrence_df = pd.DataFrame({'type':validation_type_occurrence_series.index, 'count': test_type_occurrence_series.values})\n",
    "\n",
    "# combined_type_occurrence_keys = {\"test\": test_type_occurrence_df, \"train\": train_type_occurrence_df, \"validation\": validation_type_occurrence_df}\n",
    "# combined_type_occurrence_df = pd.concat(combined_type_occurrence_keys)\n",
    "\n",
    "# We can use combined_df to replicate all of the above code as follows:\n",
    "# combined_df.groupby('type').count().reset_index()"
   ]
  },
  {
   "cell_type": "code",
   "execution_count": 20,
   "id": "de0a7178",
   "metadata": {},
   "outputs": [
    {
     "name": "stdout",
     "output_type": "stream",
     "text": [
      "['address', 'description', 'name', 'sex', 'type', 'city', 'code', 'format', 'notes', 'symbol', 'plays', 'isbn', 'gender', 'credit', 'range', 'collection', 'ranking', 'file Size', 'sales', 'director']\n"
     ]
    },
    {
     "data": {
      "text/html": [
       "\n",
       "<div id=\"altair-viz-e27d8dd9609b4a54b3de14253e0d8e20\"></div>\n",
       "<script type=\"text/javascript\">\n",
       "  var VEGA_DEBUG = (typeof VEGA_DEBUG == \"undefined\") ? {} : VEGA_DEBUG;\n",
       "  (function(spec, embedOpt){\n",
       "    let outputDiv = document.currentScript.previousElementSibling;\n",
       "    if (outputDiv.id !== \"altair-viz-e27d8dd9609b4a54b3de14253e0d8e20\") {\n",
       "      outputDiv = document.getElementById(\"altair-viz-e27d8dd9609b4a54b3de14253e0d8e20\");\n",
       "    }\n",
       "    const paths = {\n",
       "      \"vega\": \"https://cdn.jsdelivr.net/npm//vega@5?noext\",\n",
       "      \"vega-lib\": \"https://cdn.jsdelivr.net/npm//vega-lib?noext\",\n",
       "      \"vega-lite\": \"https://cdn.jsdelivr.net/npm//vega-lite@4.17.0?noext\",\n",
       "      \"vega-embed\": \"https://cdn.jsdelivr.net/npm//vega-embed@6?noext\",\n",
       "    };\n",
       "\n",
       "    function maybeLoadScript(lib, version) {\n",
       "      var key = `${lib.replace(\"-\", \"\")}_version`;\n",
       "      return (VEGA_DEBUG[key] == version) ?\n",
       "        Promise.resolve(paths[lib]) :\n",
       "        new Promise(function(resolve, reject) {\n",
       "          var s = document.createElement('script');\n",
       "          document.getElementsByTagName(\"head\")[0].appendChild(s);\n",
       "          s.async = true;\n",
       "          s.onload = () => {\n",
       "            VEGA_DEBUG[key] = version;\n",
       "            return resolve(paths[lib]);\n",
       "          };\n",
       "          s.onerror = () => reject(`Error loading script: ${paths[lib]}`);\n",
       "          s.src = paths[lib];\n",
       "        });\n",
       "    }\n",
       "\n",
       "    function showError(err) {\n",
       "      outputDiv.innerHTML = `<div class=\"error\" style=\"color:red;\">${err}</div>`;\n",
       "      throw err;\n",
       "    }\n",
       "\n",
       "    function displayChart(vegaEmbed) {\n",
       "      vegaEmbed(outputDiv, spec, embedOpt)\n",
       "        .catch(err => showError(`Javascript Error: ${err.message}<br>This usually means there's a typo in your chart specification. See the javascript console for the full traceback.`));\n",
       "    }\n",
       "\n",
       "    if(typeof define === \"function\" && define.amd) {\n",
       "      requirejs.config({paths});\n",
       "      require([\"vega-embed\"], displayChart, err => showError(`Error loading script: ${err.message}`));\n",
       "    } else {\n",
       "      maybeLoadScript(\"vega\", \"5\")\n",
       "        .then(() => maybeLoadScript(\"vega-lite\", \"4.17.0\"))\n",
       "        .then(() => maybeLoadScript(\"vega-embed\", \"6\"))\n",
       "        .catch(showError)\n",
       "        .then(() => displayChart(vegaEmbed));\n",
       "    }\n",
       "  })({\"config\": {\"view\": {\"continuousWidth\": 400, \"continuousHeight\": 300}, \"axis\": {\"labelFontSize\": 18, \"titleFontSize\": 18}}, \"data\": {\"name\": \"data-197ff1adf559da40b49865f11a634001\"}, \"mark\": {\"type\": \"bar\", \"size\": 10}, \"encoding\": {\"color\": {\"condition\": {\"value\": \"orange\", \"test\": {\"field\": \"type\", \"oneOf\": [\"address\", \"description\", \"name\", \"sex\", \"type\", \"city\", \"code\", \"format\", \"notes\", \"symbol\", \"plays\", \"isbn\", \"gender\", \"credit\", \"range\", \"collection\", \"ranking\", \"file Size\", \"sales\", \"director\"]}}, \"value\": \"steelblue\"}, \"x\": {\"axis\": {\"values\": [\"address\", \"description\", \"name\", \"sex\", \"type\", \"city\", \"code\", \"format\", \"notes\", \"symbol\", \"plays\", \"isbn\", \"gender\", \"credit\", \"range\", \"collection\", \"ranking\", \"file Size\", \"sales\", \"director\"]}, \"field\": \"type\", \"sort\": {\"field\": \"values\", \"order\": \"descending\"}, \"title\": \"Semantic Types\", \"type\": \"ordinal\"}, \"y\": {\"field\": \"values\", \"title\": \"Number of Samples\", \"type\": \"quantitative\"}}, \"height\": 200, \"width\": 800, \"$schema\": \"https://vega.github.io/schema/vega-lite/v4.17.0.json\", \"datasets\": {\"data-197ff1adf559da40b49865f11a634001\": [{\"type\": \"address\", \"values\": 15000}, {\"type\": \"position\", \"values\": 15000}, {\"type\": \"county\", \"values\": 15000}, {\"type\": \"day\", \"values\": 15000}, {\"type\": \"description\", \"values\": 15000}, {\"type\": \"duration\", \"values\": 15000}, {\"type\": \"industry\", \"values\": 15000}, {\"type\": \"location\", \"values\": 15000}, {\"type\": \"name\", \"values\": 15000}, {\"type\": \"rank\", \"values\": 15000}, {\"type\": \"company\", \"values\": 15000}, {\"type\": \"result\", \"values\": 15000}, {\"type\": \"sex\", \"values\": 15000}, {\"type\": \"state\", \"values\": 15000}, {\"type\": \"status\", \"values\": 15000}, {\"type\": \"team\", \"values\": 15000}, {\"type\": \"type\", \"values\": 15000}, {\"type\": \"weight\", \"values\": 15000}, {\"type\": \"country\", \"values\": 15000}, {\"type\": \"year\", \"values\": 15000}, {\"type\": \"city\", \"values\": 15000}, {\"type\": \"age\", \"values\": 15000}, {\"type\": \"album\", \"values\": 15000}, {\"type\": \"class\", \"values\": 15000}, {\"type\": \"code\", \"values\": 15000}, {\"type\": \"club\", \"values\": 15000}, {\"type\": \"artist\", \"values\": 15000}, {\"type\": \"category\", \"values\": 15000}, {\"type\": \"format\", \"values\": 14828}, {\"type\": \"jockey\", \"values\": 14262}, {\"type\": \"product\", \"values\": 13587}, {\"type\": \"region\", \"values\": 13579}, {\"type\": \"notes\", \"values\": 11536}, {\"type\": \"service\", \"values\": 10912}, {\"type\": \"area\", \"values\": 9961}, {\"type\": \"grades\", \"values\": 8824}, {\"type\": \"symbol\", \"values\": 8701}, {\"type\": \"owner\", \"values\": 8578}, {\"type\": \"affiliation\", \"values\": 8572}, {\"type\": \"team Name\", \"values\": 7945}, {\"type\": \"plays\", \"values\": 7564}, {\"type\": \"language\", \"values\": 7537}, {\"type\": \"order\", \"values\": 7397}, {\"type\": \"origin\", \"values\": 7377}, {\"type\": \"isbn\", \"values\": 7368}, {\"type\": \"elevation\", \"values\": 6668}, {\"type\": \"component\", \"values\": 6141}, {\"type\": \"genre\", \"values\": 5848}, {\"type\": \"gender\", \"values\": 5237}, {\"type\": \"command\", \"values\": 5145}, {\"type\": \"depth\", \"values\": 4610}, {\"type\": \"manufacturer\", \"values\": 4602}, {\"type\": \"credit\", \"values\": 4545}, {\"type\": \"publisher\", \"values\": 4341}, {\"type\": \"species\", \"values\": 4093}, {\"type\": \"family\", \"values\": 3663}, {\"type\": \"range\", \"values\": 2974}, {\"type\": \"classification\", \"values\": 2971}, {\"type\": \"person\", \"values\": 2834}, {\"type\": \"brand\", \"values\": 2829}, {\"type\": \"collection\", \"values\": 2509}, {\"type\": \"birth Date\", \"values\": 2313}, {\"type\": \"nationality\", \"values\": 2243}, {\"type\": \"operator\", \"values\": 2141}, {\"type\": \"ranking\", \"values\": 2133}, {\"type\": \"birth Place\", \"values\": 2065}, {\"type\": \"currency\", \"values\": 1967}, {\"type\": \"creator\", \"values\": 1780}, {\"type\": \"file Size\", \"values\": 1735}, {\"type\": \"religion\", \"values\": 1666}, {\"type\": \"capacity\", \"values\": 1642}, {\"type\": \"education\", \"values\": 1623}, {\"type\": \"sales\", \"values\": 1621}, {\"type\": \"requirement\", \"values\": 1543}, {\"type\": \"organisation\", \"values\": 1357}, {\"type\": \"continent\", \"values\": 1217}, {\"type\": \"director\", \"values\": 1213}, {\"type\": \"affiliate\", \"values\": 968}]}}, {\"mode\": \"vega-lite\"});\n",
       "</script>"
      ],
      "text/plain": [
       "alt.Chart(...)"
      ]
     },
     "execution_count": 20,
     "metadata": {},
     "output_type": "execute_result"
    }
   ],
   "source": [
    "chart_type_df = combined_df.groupby('type').count().reset_index()\n",
    "chart_type_df = chart_type_df.sort_values(axis=0, by=['values'], ascending=False).reset_index(drop=True)\n",
    "shown_types = chart_type_df.type.to_list()\n",
    "shown_types = [val for (idx, val) in enumerate(shown_types) if idx % 4 == 0]\n",
    "print(shown_types)\n",
    "alt.Chart(chart_type_df).mark_bar(size=10).encode(\n",
    "    x = alt.X('type:O',\n",
    "              title = 'Semantic Types',\n",
    "              sort=alt.EncodingSortField(\n",
    "                field=\"values\",  \n",
    "                order=\"descending\"),\n",
    "               axis=alt.Axis(values=shown_types)),\n",
    "    y = alt.Y('values', title='Number of Samples'),\n",
    "    color=alt.condition(\n",
    "        alt.Predicate(alt.FieldOneOfPredicate(field='type', oneOf=shown_types)),\n",
    "        alt.value('orange'),\n",
    "        alt.value('steelblue')\n",
    "    ),\n",
    ").configure_axis(\n",
    "    labelFontSize=18,\n",
    "    titleFontSize=18\n",
    "    \n",
    ").properties(width=800,height=200)"
   ]
  },
  {
   "cell_type": "code",
   "execution_count": 21,
   "id": "802d2315",
   "metadata": {},
   "outputs": [],
   "source": [
    "# alt.Chart(combined_type_occurrence_df).mark_bar(size=8).encode(\n",
    "#     x = alt.X('type:O',\n",
    "#               title = 'Semantic Types',\n",
    "#               sort=alt.EncodingSortField(\n",
    "#                 field=\"count\",  \n",
    "#                 order=\"descending\")),\n",
    "#     y = alt.Y('count', title='Number of Samples')    \n",
    "# ).properties(width=800,height=200)"
   ]
  },
  {
   "cell_type": "code",
   "execution_count": 22,
   "id": "cc7bb9b3",
   "metadata": {},
   "outputs": [
    {
     "data": {
      "text/html": [
       "\n",
       "<div id=\"altair-viz-b69596e3a9ca47889a3d8050d7388830\"></div>\n",
       "<script type=\"text/javascript\">\n",
       "  var VEGA_DEBUG = (typeof VEGA_DEBUG == \"undefined\") ? {} : VEGA_DEBUG;\n",
       "  (function(spec, embedOpt){\n",
       "    let outputDiv = document.currentScript.previousElementSibling;\n",
       "    if (outputDiv.id !== \"altair-viz-b69596e3a9ca47889a3d8050d7388830\") {\n",
       "      outputDiv = document.getElementById(\"altair-viz-b69596e3a9ca47889a3d8050d7388830\");\n",
       "    }\n",
       "    const paths = {\n",
       "      \"vega\": \"https://cdn.jsdelivr.net/npm//vega@5?noext\",\n",
       "      \"vega-lib\": \"https://cdn.jsdelivr.net/npm//vega-lib?noext\",\n",
       "      \"vega-lite\": \"https://cdn.jsdelivr.net/npm//vega-lite@4.17.0?noext\",\n",
       "      \"vega-embed\": \"https://cdn.jsdelivr.net/npm//vega-embed@6?noext\",\n",
       "    };\n",
       "\n",
       "    function maybeLoadScript(lib, version) {\n",
       "      var key = `${lib.replace(\"-\", \"\")}_version`;\n",
       "      return (VEGA_DEBUG[key] == version) ?\n",
       "        Promise.resolve(paths[lib]) :\n",
       "        new Promise(function(resolve, reject) {\n",
       "          var s = document.createElement('script');\n",
       "          document.getElementsByTagName(\"head\")[0].appendChild(s);\n",
       "          s.async = true;\n",
       "          s.onload = () => {\n",
       "            VEGA_DEBUG[key] = version;\n",
       "            return resolve(paths[lib]);\n",
       "          };\n",
       "          s.onerror = () => reject(`Error loading script: ${paths[lib]}`);\n",
       "          s.src = paths[lib];\n",
       "        });\n",
       "    }\n",
       "\n",
       "    function showError(err) {\n",
       "      outputDiv.innerHTML = `<div class=\"error\" style=\"color:red;\">${err}</div>`;\n",
       "      throw err;\n",
       "    }\n",
       "\n",
       "    function displayChart(vegaEmbed) {\n",
       "      vegaEmbed(outputDiv, spec, embedOpt)\n",
       "        .catch(err => showError(`Javascript Error: ${err.message}<br>This usually means there's a typo in your chart specification. See the javascript console for the full traceback.`));\n",
       "    }\n",
       "\n",
       "    if(typeof define === \"function\" && define.amd) {\n",
       "      requirejs.config({paths});\n",
       "      require([\"vega-embed\"], displayChart, err => showError(`Error loading script: ${err.message}`));\n",
       "    } else {\n",
       "      maybeLoadScript(\"vega\", \"5\")\n",
       "        .then(() => maybeLoadScript(\"vega-lite\", \"4.17.0\"))\n",
       "        .then(() => maybeLoadScript(\"vega-embed\", \"6\"))\n",
       "        .catch(showError)\n",
       "        .then(() => displayChart(vegaEmbed));\n",
       "    }\n",
       "  })({\"config\": {\"view\": {\"continuousWidth\": 400, \"continuousHeight\": 300}}, \"data\": {\"name\": \"data-be89e67637a9830de81c4ef7b2d6ab04\"}, \"mark\": {\"type\": \"bar\", \"size\": 8}, \"encoding\": {\"color\": {\"field\": \"usage\", \"type\": \"nominal\"}, \"x\": {\"field\": \"type\", \"sort\": {\"field\": \"values\", \"order\": \"descending\"}, \"title\": \"Semantic Types\", \"type\": \"nominal\"}, \"y\": {\"aggregate\": \"sum\", \"field\": \"values\", \"title\": \"Number of Samples\", \"type\": \"quantitative\"}}, \"height\": 200, \"width\": 800, \"$schema\": \"https://vega.github.io/schema/vega-lite/v4.17.0.json\", \"datasets\": {\"data-be89e67637a9830de81c4ef7b2d6ab04\": [{\"usage\": \"train\", \"type\": \"address\", \"values\": 8971}, {\"usage\": \"train\", \"type\": \"affiliate\", \"values\": 584}, {\"usage\": \"train\", \"type\": \"affiliation\", \"values\": 5124}, {\"usage\": \"train\", \"type\": \"age\", \"values\": 9041}, {\"usage\": \"train\", \"type\": \"album\", \"values\": 8944}, {\"usage\": \"train\", \"type\": \"area\", \"values\": 5963}, {\"usage\": \"train\", \"type\": \"artist\", \"values\": 8940}, {\"usage\": \"train\", \"type\": \"birth Date\", \"values\": 1381}, {\"usage\": \"train\", \"type\": \"birth Place\", \"values\": 1210}, {\"usage\": \"train\", \"type\": \"brand\", \"values\": 1710}, {\"usage\": \"train\", \"type\": \"capacity\", \"values\": 976}, {\"usage\": \"train\", \"type\": \"category\", \"values\": 8965}, {\"usage\": \"train\", \"type\": \"city\", \"values\": 8983}, {\"usage\": \"train\", \"type\": \"class\", \"values\": 9057}, {\"usage\": \"train\", \"type\": \"classification\", \"values\": 1771}, {\"usage\": \"train\", \"type\": \"club\", \"values\": 9022}, {\"usage\": \"train\", \"type\": \"code\", \"values\": 8980}, {\"usage\": \"train\", \"type\": \"collection\", \"values\": 1527}, {\"usage\": \"train\", \"type\": \"command\", \"values\": 3066}, {\"usage\": \"train\", \"type\": \"company\", \"values\": 9048}, {\"usage\": \"train\", \"type\": \"component\", \"values\": 3666}, {\"usage\": \"train\", \"type\": \"continent\", \"values\": 737}, {\"usage\": \"train\", \"type\": \"country\", \"values\": 8941}, {\"usage\": \"train\", \"type\": \"county\", \"values\": 9029}, {\"usage\": \"train\", \"type\": \"creator\", \"values\": 1072}, {\"usage\": \"train\", \"type\": \"credit\", \"values\": 2698}, {\"usage\": \"train\", \"type\": \"currency\", \"values\": 1167}, {\"usage\": \"train\", \"type\": \"day\", \"values\": 9010}, {\"usage\": \"train\", \"type\": \"depth\", \"values\": 2719}, {\"usage\": \"train\", \"type\": \"description\", \"values\": 8933}, {\"usage\": \"train\", \"type\": \"director\", \"values\": 742}, {\"usage\": \"train\", \"type\": \"duration\", \"values\": 8982}, {\"usage\": \"train\", \"type\": \"education\", \"values\": 1006}, {\"usage\": \"train\", \"type\": \"elevation\", \"values\": 4040}, {\"usage\": \"train\", \"type\": \"family\", \"values\": 2186}, {\"usage\": \"train\", \"type\": \"file Size\", \"values\": 1009}, {\"usage\": \"train\", \"type\": \"format\", \"values\": 8923}, {\"usage\": \"train\", \"type\": \"gender\", \"values\": 3134}, {\"usage\": \"train\", \"type\": \"genre\", \"values\": 3465}, {\"usage\": \"train\", \"type\": \"grades\", \"values\": 5318}, {\"usage\": \"train\", \"type\": \"industry\", \"values\": 8964}, {\"usage\": \"train\", \"type\": \"isbn\", \"values\": 4498}, {\"usage\": \"train\", \"type\": \"jockey\", \"values\": 8626}, {\"usage\": \"train\", \"type\": \"language\", \"values\": 4485}, {\"usage\": \"train\", \"type\": \"location\", \"values\": 9056}, {\"usage\": \"train\", \"type\": \"manufacturer\", \"values\": 2744}, {\"usage\": \"train\", \"type\": \"name\", \"values\": 8992}, {\"usage\": \"train\", \"type\": \"nationality\", \"values\": 1334}, {\"usage\": \"train\", \"type\": \"notes\", \"values\": 6916}, {\"usage\": \"train\", \"type\": \"operator\", \"values\": 1282}, {\"usage\": \"train\", \"type\": \"order\", \"values\": 4463}, {\"usage\": \"train\", \"type\": \"organisation\", \"values\": 852}, {\"usage\": \"train\", \"type\": \"origin\", \"values\": 4456}, {\"usage\": \"train\", \"type\": \"owner\", \"values\": 5193}, {\"usage\": \"train\", \"type\": \"person\", \"values\": 1702}, {\"usage\": \"train\", \"type\": \"plays\", \"values\": 4536}, {\"usage\": \"train\", \"type\": \"position\", \"values\": 8920}, {\"usage\": \"train\", \"type\": \"product\", \"values\": 8178}, {\"usage\": \"train\", \"type\": \"publisher\", \"values\": 2594}, {\"usage\": \"train\", \"type\": \"range\", \"values\": 1792}, {\"usage\": \"train\", \"type\": \"rank\", \"values\": 9058}, {\"usage\": \"train\", \"type\": \"ranking\", \"values\": 1249}, {\"usage\": \"train\", \"type\": \"region\", \"values\": 8158}, {\"usage\": \"train\", \"type\": \"religion\", \"values\": 1013}, {\"usage\": \"train\", \"type\": \"requirement\", \"values\": 954}, {\"usage\": \"train\", \"type\": \"result\", \"values\": 9014}, {\"usage\": \"train\", \"type\": \"sales\", \"values\": 1004}, {\"usage\": \"train\", \"type\": \"service\", \"values\": 6565}, {\"usage\": \"train\", \"type\": \"sex\", \"values\": 9017}, {\"usage\": \"train\", \"type\": \"species\", \"values\": 2477}, {\"usage\": \"train\", \"type\": \"state\", \"values\": 8964}, {\"usage\": \"train\", \"type\": \"status\", \"values\": 8933}, {\"usage\": \"train\", \"type\": \"symbol\", \"values\": 5284}, {\"usage\": \"train\", \"type\": \"team\", \"values\": 8954}, {\"usage\": \"train\", \"type\": \"team Name\", \"values\": 4752}, {\"usage\": \"train\", \"type\": \"type\", \"values\": 9088}, {\"usage\": \"train\", \"type\": \"weight\", \"values\": 9024}, {\"usage\": \"train\", \"type\": \"year\", \"values\": 8928}, {\"usage\": \"validation\", \"type\": \"address\", \"values\": 3026}, {\"usage\": \"validation\", \"type\": \"affiliate\", \"values\": 180}, {\"usage\": \"validation\", \"type\": \"affiliation\", \"values\": 1680}, {\"usage\": \"validation\", \"type\": \"age\", \"values\": 2926}, {\"usage\": \"validation\", \"type\": \"album\", \"values\": 3021}, {\"usage\": \"validation\", \"type\": \"area\", \"values\": 2011}, {\"usage\": \"validation\", \"type\": \"artist\", \"values\": 3017}, {\"usage\": \"validation\", \"type\": \"birth Date\", \"values\": 453}, {\"usage\": \"validation\", \"type\": \"birth Place\", \"values\": 437}, {\"usage\": \"validation\", \"type\": \"brand\", \"values\": 545}, {\"usage\": \"validation\", \"type\": \"capacity\", \"values\": 304}, {\"usage\": \"validation\", \"type\": \"category\", \"values\": 2948}, {\"usage\": \"validation\", \"type\": \"city\", \"values\": 3051}, {\"usage\": \"validation\", \"type\": \"class\", \"values\": 2972}, {\"usage\": \"validation\", \"type\": \"classification\", \"values\": 613}, {\"usage\": \"validation\", \"type\": \"club\", \"values\": 3001}, {\"usage\": \"validation\", \"type\": \"code\", \"values\": 3064}, {\"usage\": \"validation\", \"type\": \"collection\", \"values\": 506}, {\"usage\": \"validation\", \"type\": \"command\", \"values\": 1034}, {\"usage\": \"validation\", \"type\": \"company\", \"values\": 2911}, {\"usage\": \"validation\", \"type\": \"component\", \"values\": 1249}, {\"usage\": \"validation\", \"type\": \"continent\", \"values\": 253}, {\"usage\": \"validation\", \"type\": \"country\", \"values\": 3021}, {\"usage\": \"validation\", \"type\": \"county\", \"values\": 3012}, {\"usage\": \"validation\", \"type\": \"creator\", \"values\": 361}, {\"usage\": \"validation\", \"type\": \"credit\", \"values\": 906}, {\"usage\": \"validation\", \"type\": \"currency\", \"values\": 395}, {\"usage\": \"validation\", \"type\": \"day\", \"values\": 2952}, {\"usage\": \"validation\", \"type\": \"depth\", \"values\": 944}, {\"usage\": \"validation\", \"type\": \"description\", \"values\": 3025}, {\"usage\": \"validation\", \"type\": \"director\", \"values\": 246}, {\"usage\": \"validation\", \"type\": \"duration\", \"values\": 3018}, {\"usage\": \"validation\", \"type\": \"education\", \"values\": 304}, {\"usage\": \"validation\", \"type\": \"elevation\", \"values\": 1329}, {\"usage\": \"validation\", \"type\": \"family\", \"values\": 731}, {\"usage\": \"validation\", \"type\": \"file Size\", \"values\": 365}, {\"usage\": \"validation\", \"type\": \"format\", \"values\": 2949}, {\"usage\": \"validation\", \"type\": \"gender\", \"values\": 1073}, {\"usage\": \"validation\", \"type\": \"genre\", \"values\": 1220}, {\"usage\": \"validation\", \"type\": \"grades\", \"values\": 1741}, {\"usage\": \"validation\", \"type\": \"industry\", \"values\": 3078}, {\"usage\": \"validation\", \"type\": \"isbn\", \"values\": 1440}, {\"usage\": \"validation\", \"type\": \"jockey\", \"values\": 2817}, {\"usage\": \"validation\", \"type\": \"language\", \"values\": 1578}, {\"usage\": \"validation\", \"type\": \"location\", \"values\": 2995}, {\"usage\": \"validation\", \"type\": \"manufacturer\", \"values\": 913}, {\"usage\": \"validation\", \"type\": \"name\", \"values\": 2991}, {\"usage\": \"validation\", \"type\": \"nationality\", \"values\": 485}, {\"usage\": \"validation\", \"type\": \"notes\", \"values\": 2317}, {\"usage\": \"validation\", \"type\": \"operator\", \"values\": 455}, {\"usage\": \"validation\", \"type\": \"order\", \"values\": 1472}, {\"usage\": \"validation\", \"type\": \"organisation\", \"values\": 243}, {\"usage\": \"validation\", \"type\": \"origin\", \"values\": 1482}, {\"usage\": \"validation\", \"type\": \"owner\", \"values\": 1712}, {\"usage\": \"validation\", \"type\": \"person\", \"values\": 553}, {\"usage\": \"validation\", \"type\": \"plays\", \"values\": 1515}, {\"usage\": \"validation\", \"type\": \"position\", \"values\": 3023}, {\"usage\": \"validation\", \"type\": \"product\", \"values\": 2762}, {\"usage\": \"validation\", \"type\": \"publisher\", \"values\": 867}, {\"usage\": \"validation\", \"type\": \"range\", \"values\": 605}, {\"usage\": \"validation\", \"type\": \"rank\", \"values\": 2959}, {\"usage\": \"validation\", \"type\": \"ranking\", \"values\": 445}, {\"usage\": \"validation\", \"type\": \"region\", \"values\": 2681}, {\"usage\": \"validation\", \"type\": \"religion\", \"values\": 313}, {\"usage\": \"validation\", \"type\": \"requirement\", \"values\": 289}, {\"usage\": \"validation\", \"type\": \"result\", \"values\": 3066}, {\"usage\": \"validation\", \"type\": \"sales\", \"values\": 295}, {\"usage\": \"validation\", \"type\": \"service\", \"values\": 2125}, {\"usage\": \"validation\", \"type\": \"sex\", \"values\": 2986}, {\"usage\": \"validation\", \"type\": \"species\", \"values\": 797}, {\"usage\": \"validation\", \"type\": \"state\", \"values\": 3006}, {\"usage\": \"validation\", \"type\": \"status\", \"values\": 2967}, {\"usage\": \"validation\", \"type\": \"symbol\", \"values\": 1665}, {\"usage\": \"validation\", \"type\": \"team\", \"values\": 3035}, {\"usage\": \"validation\", \"type\": \"team Name\", \"values\": 1554}, {\"usage\": \"validation\", \"type\": \"type\", \"values\": 3003}, {\"usage\": \"validation\", \"type\": \"weight\", \"values\": 3013}, {\"usage\": \"validation\", \"type\": \"year\", \"values\": 3057}, {\"usage\": \"test\", \"type\": \"address\", \"values\": 3003}, {\"usage\": \"test\", \"type\": \"affiliate\", \"values\": 204}, {\"usage\": \"test\", \"type\": \"affiliation\", \"values\": 1768}, {\"usage\": \"test\", \"type\": \"age\", \"values\": 3033}, {\"usage\": \"test\", \"type\": \"album\", \"values\": 3035}, {\"usage\": \"test\", \"type\": \"area\", \"values\": 1987}, {\"usage\": \"test\", \"type\": \"artist\", \"values\": 3043}, {\"usage\": \"test\", \"type\": \"birth Date\", \"values\": 479}, {\"usage\": \"test\", \"type\": \"birth Place\", \"values\": 418}, {\"usage\": \"test\", \"type\": \"brand\", \"values\": 574}, {\"usage\": \"test\", \"type\": \"capacity\", \"values\": 362}, {\"usage\": \"test\", \"type\": \"category\", \"values\": 3087}, {\"usage\": \"test\", \"type\": \"city\", \"values\": 2966}, {\"usage\": \"test\", \"type\": \"class\", \"values\": 2971}, {\"usage\": \"test\", \"type\": \"classification\", \"values\": 587}, {\"usage\": \"test\", \"type\": \"club\", \"values\": 2977}, {\"usage\": \"test\", \"type\": \"code\", \"values\": 2956}, {\"usage\": \"test\", \"type\": \"collection\", \"values\": 476}, {\"usage\": \"test\", \"type\": \"command\", \"values\": 1045}, {\"usage\": \"test\", \"type\": \"company\", \"values\": 3041}, {\"usage\": \"test\", \"type\": \"component\", \"values\": 1226}, {\"usage\": \"test\", \"type\": \"continent\", \"values\": 227}, {\"usage\": \"test\", \"type\": \"country\", \"values\": 3038}, {\"usage\": \"test\", \"type\": \"county\", \"values\": 2959}, {\"usage\": \"test\", \"type\": \"creator\", \"values\": 347}, {\"usage\": \"test\", \"type\": \"credit\", \"values\": 941}, {\"usage\": \"test\", \"type\": \"currency\", \"values\": 405}, {\"usage\": \"test\", \"type\": \"day\", \"values\": 3038}, {\"usage\": \"test\", \"type\": \"depth\", \"values\": 947}, {\"usage\": \"test\", \"type\": \"description\", \"values\": 3042}, {\"usage\": \"test\", \"type\": \"director\", \"values\": 225}, {\"usage\": \"test\", \"type\": \"duration\", \"values\": 3000}, {\"usage\": \"test\", \"type\": \"education\", \"values\": 313}, {\"usage\": \"test\", \"type\": \"elevation\", \"values\": 1299}, {\"usage\": \"test\", \"type\": \"family\", \"values\": 746}, {\"usage\": \"test\", \"type\": \"file Size\", \"values\": 361}, {\"usage\": \"test\", \"type\": \"format\", \"values\": 2956}, {\"usage\": \"test\", \"type\": \"gender\", \"values\": 1030}, {\"usage\": \"test\", \"type\": \"genre\", \"values\": 1163}, {\"usage\": \"test\", \"type\": \"grades\", \"values\": 1765}, {\"usage\": \"test\", \"type\": \"industry\", \"values\": 2958}, {\"usage\": \"test\", \"type\": \"isbn\", \"values\": 1430}, {\"usage\": \"test\", \"type\": \"jockey\", \"values\": 2819}, {\"usage\": \"test\", \"type\": \"language\", \"values\": 1474}, {\"usage\": \"test\", \"type\": \"location\", \"values\": 2949}, {\"usage\": \"test\", \"type\": \"manufacturer\", \"values\": 945}, {\"usage\": \"test\", \"type\": \"name\", \"values\": 3017}, {\"usage\": \"test\", \"type\": \"nationality\", \"values\": 424}, {\"usage\": \"test\", \"type\": \"notes\", \"values\": 2303}, {\"usage\": \"test\", \"type\": \"operator\", \"values\": 404}, {\"usage\": \"test\", \"type\": \"order\", \"values\": 1462}, {\"usage\": \"test\", \"type\": \"organisation\", \"values\": 262}, {\"usage\": \"test\", \"type\": \"origin\", \"values\": 1439}, {\"usage\": \"test\", \"type\": \"owner\", \"values\": 1673}, {\"usage\": \"test\", \"type\": \"person\", \"values\": 579}, {\"usage\": \"test\", \"type\": \"plays\", \"values\": 1513}, {\"usage\": \"test\", \"type\": \"position\", \"values\": 3057}, {\"usage\": \"test\", \"type\": \"product\", \"values\": 2647}, {\"usage\": \"test\", \"type\": \"publisher\", \"values\": 880}, {\"usage\": \"test\", \"type\": \"range\", \"values\": 577}, {\"usage\": \"test\", \"type\": \"rank\", \"values\": 2983}, {\"usage\": \"test\", \"type\": \"ranking\", \"values\": 439}, {\"usage\": \"test\", \"type\": \"region\", \"values\": 2740}, {\"usage\": \"test\", \"type\": \"religion\", \"values\": 340}, {\"usage\": \"test\", \"type\": \"requirement\", \"values\": 300}, {\"usage\": \"test\", \"type\": \"result\", \"values\": 2920}, {\"usage\": \"test\", \"type\": \"sales\", \"values\": 322}, {\"usage\": \"test\", \"type\": \"service\", \"values\": 2222}, {\"usage\": \"test\", \"type\": \"sex\", \"values\": 2997}, {\"usage\": \"test\", \"type\": \"species\", \"values\": 819}, {\"usage\": \"test\", \"type\": \"state\", \"values\": 3030}, {\"usage\": \"test\", \"type\": \"status\", \"values\": 3100}, {\"usage\": \"test\", \"type\": \"symbol\", \"values\": 1752}, {\"usage\": \"test\", \"type\": \"team\", \"values\": 3011}, {\"usage\": \"test\", \"type\": \"team Name\", \"values\": 1639}, {\"usage\": \"test\", \"type\": \"type\", \"values\": 2909}, {\"usage\": \"test\", \"type\": \"weight\", \"values\": 2963}, {\"usage\": \"test\", \"type\": \"year\", \"values\": 3015}]}}, {\"mode\": \"vega-lite\"});\n",
       "</script>"
      ],
      "text/plain": [
       "alt.Chart(...)"
      ]
     },
     "execution_count": 22,
     "metadata": {},
     "output_type": "execute_result"
    }
   ],
   "source": [
    "alt.Chart(combined_df.groupby(['usage', 'type']).count().reset_index()).mark_bar(size=8).encode(\n",
    "#     facet='usage',\n",
    "    x = alt.X('type',\n",
    "              title = 'Semantic Types',\n",
    "              sort=alt.EncodingSortField(\n",
    "                field=\"values\",  \n",
    "                order=\"descending\")),\n",
    "    y = alt.Y('sum(values)', title='Number of Samples'),\n",
    "    color='usage',\n",
    ").properties(width=800,height=200)"
   ]
  },
  {
   "cell_type": "code",
   "execution_count": 23,
   "id": "758baac9",
   "metadata": {},
   "outputs": [
    {
     "data": {
      "text/html": [
       "<div>\n",
       "<style scoped>\n",
       "    .dataframe tbody tr th:only-of-type {\n",
       "        vertical-align: middle;\n",
       "    }\n",
       "\n",
       "    .dataframe tbody tr th {\n",
       "        vertical-align: top;\n",
       "    }\n",
       "\n",
       "    .dataframe thead tr th {\n",
       "        text-align: left;\n",
       "    }\n",
       "\n",
       "    .dataframe thead tr:last-of-type th {\n",
       "        text-align: right;\n",
       "    }\n",
       "</style>\n",
       "<table border=\"1\" class=\"dataframe\">\n",
       "  <thead>\n",
       "    <tr>\n",
       "      <th></th>\n",
       "      <th colspan=\"21\" halign=\"left\">values</th>\n",
       "    </tr>\n",
       "    <tr>\n",
       "      <th>type</th>\n",
       "      <th>type</th>\n",
       "      <th>rank</th>\n",
       "      <th>class</th>\n",
       "      <th>location</th>\n",
       "      <th>company</th>\n",
       "      <th>age</th>\n",
       "      <th>county</th>\n",
       "      <th>weight</th>\n",
       "      <th>club</th>\n",
       "      <th>sex</th>\n",
       "      <th>...</th>\n",
       "      <th>religion</th>\n",
       "      <th>file Size</th>\n",
       "      <th>education</th>\n",
       "      <th>sales</th>\n",
       "      <th>capacity</th>\n",
       "      <th>requirement</th>\n",
       "      <th>organisation</th>\n",
       "      <th>director</th>\n",
       "      <th>continent</th>\n",
       "      <th>affiliate</th>\n",
       "    </tr>\n",
       "    <tr>\n",
       "      <th>usage</th>\n",
       "      <th></th>\n",
       "      <th></th>\n",
       "      <th></th>\n",
       "      <th></th>\n",
       "      <th></th>\n",
       "      <th></th>\n",
       "      <th></th>\n",
       "      <th></th>\n",
       "      <th></th>\n",
       "      <th></th>\n",
       "      <th></th>\n",
       "      <th></th>\n",
       "      <th></th>\n",
       "      <th></th>\n",
       "      <th></th>\n",
       "      <th></th>\n",
       "      <th></th>\n",
       "      <th></th>\n",
       "      <th></th>\n",
       "      <th></th>\n",
       "      <th></th>\n",
       "    </tr>\n",
       "  </thead>\n",
       "  <tbody>\n",
       "    <tr>\n",
       "      <th>train</th>\n",
       "      <td>9088</td>\n",
       "      <td>9058</td>\n",
       "      <td>9057</td>\n",
       "      <td>9056</td>\n",
       "      <td>9048</td>\n",
       "      <td>9041</td>\n",
       "      <td>9029</td>\n",
       "      <td>9024</td>\n",
       "      <td>9022</td>\n",
       "      <td>9017</td>\n",
       "      <td>...</td>\n",
       "      <td>1013</td>\n",
       "      <td>1009</td>\n",
       "      <td>1006</td>\n",
       "      <td>1004</td>\n",
       "      <td>976</td>\n",
       "      <td>954</td>\n",
       "      <td>852</td>\n",
       "      <td>742</td>\n",
       "      <td>737</td>\n",
       "      <td>584</td>\n",
       "    </tr>\n",
       "    <tr>\n",
       "      <th>validation</th>\n",
       "      <td>3003</td>\n",
       "      <td>2959</td>\n",
       "      <td>2972</td>\n",
       "      <td>2995</td>\n",
       "      <td>2911</td>\n",
       "      <td>2926</td>\n",
       "      <td>3012</td>\n",
       "      <td>3013</td>\n",
       "      <td>3001</td>\n",
       "      <td>2986</td>\n",
       "      <td>...</td>\n",
       "      <td>313</td>\n",
       "      <td>365</td>\n",
       "      <td>304</td>\n",
       "      <td>295</td>\n",
       "      <td>304</td>\n",
       "      <td>289</td>\n",
       "      <td>243</td>\n",
       "      <td>246</td>\n",
       "      <td>253</td>\n",
       "      <td>180</td>\n",
       "    </tr>\n",
       "    <tr>\n",
       "      <th>test</th>\n",
       "      <td>2909</td>\n",
       "      <td>2983</td>\n",
       "      <td>2971</td>\n",
       "      <td>2949</td>\n",
       "      <td>3041</td>\n",
       "      <td>3033</td>\n",
       "      <td>2959</td>\n",
       "      <td>2963</td>\n",
       "      <td>2977</td>\n",
       "      <td>2997</td>\n",
       "      <td>...</td>\n",
       "      <td>340</td>\n",
       "      <td>361</td>\n",
       "      <td>313</td>\n",
       "      <td>322</td>\n",
       "      <td>362</td>\n",
       "      <td>300</td>\n",
       "      <td>262</td>\n",
       "      <td>225</td>\n",
       "      <td>227</td>\n",
       "      <td>204</td>\n",
       "    </tr>\n",
       "  </tbody>\n",
       "</table>\n",
       "<p>3 rows × 78 columns</p>\n",
       "</div>"
      ],
      "text/plain": [
       "           values                                                         \\\n",
       "type         type  rank class location company   age county weight  club   \n",
       "usage                                                                      \n",
       "train        9088  9058  9057     9056    9048  9041   9029   9024  9022   \n",
       "validation   3003  2959  2972     2995    2911  2926   3012   3013  3001   \n",
       "test         2909  2983  2971     2949    3041  3033   2959   2963  2977   \n",
       "\n",
       "                  ...                                                          \\\n",
       "type         sex  ... religion file Size education sales capacity requirement   \n",
       "usage             ...                                                           \n",
       "train       9017  ...     1013      1009      1006  1004      976         954   \n",
       "validation  2986  ...      313       365       304   295      304         289   \n",
       "test        2997  ...      340       361       313   322      362         300   \n",
       "\n",
       "                                                      \n",
       "type       organisation director continent affiliate  \n",
       "usage                                                 \n",
       "train               852      742       737       584  \n",
       "validation          243      246       253       180  \n",
       "test                262      225       227       204  \n",
       "\n",
       "[3 rows x 78 columns]"
      ]
     },
     "execution_count": 23,
     "metadata": {},
     "output_type": "execute_result"
    }
   ],
   "source": [
    "combined_df.groupby(['usage', 'type']).count().unstack().sort_values(by = 'train', axis = 1, ascending = False)"
   ]
  },
  {
   "cell_type": "code",
   "execution_count": null,
   "id": "815e9228",
   "metadata": {},
   "outputs": [],
   "source": []
  }
 ],
 "metadata": {
  "kernelspec": {
   "display_name": "Python 3 (ipykernel)",
   "language": "python",
   "name": "python3"
  },
  "language_info": {
   "codemirror_mode": {
    "name": "ipython",
    "version": 3
   },
   "file_extension": ".py",
   "mimetype": "text/x-python",
   "name": "python",
   "nbconvert_exporter": "python",
   "pygments_lexer": "ipython3",
   "version": "3.7.12"
  }
 },
 "nbformat": 4,
 "nbformat_minor": 5
}
