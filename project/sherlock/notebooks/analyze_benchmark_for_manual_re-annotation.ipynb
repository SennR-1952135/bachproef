{
 "cells": [
  {
   "cell_type": "code",
   "execution_count": 1,
   "id": "c2478e2b",
   "metadata": {},
   "outputs": [],
   "source": [
    "# Fourth meeting on sherlock\n",
    "# Notebook to assist reannnotating the sherlock benchmark dataset with some additional notes about the dataset"
   ]
  },
  {
   "cell_type": "code",
   "execution_count": 1,
   "id": "0c607538",
   "metadata": {},
   "outputs": [
    {
     "data": {
      "text/plain": [
       "RendererRegistry.enable('default')"
      ]
     },
     "execution_count": 1,
     "metadata": {},
     "output_type": "execute_result"
    }
   ],
   "source": [
    "from datetime import datetime\n",
    "from os.path import join\n",
    "from os import listdir\n",
    "from os import makedirs\n",
    "import re #for camel case conversion\n",
    "from collections import Counter\n",
    "\n",
    "import numpy as np\n",
    "import pandas as pd\n",
    "from pyarrow.parquet import ParquetFile\n",
    "\n",
    "from sherlock import helpers\n",
    "\n",
    "from sherlock import helpers\n",
    "from sherlock.deploy.model import SherlockModel\n",
    "from sherlock.functional import extract_features_to_csv\n",
    "# from sherlock.functional import extract_features_to_csv\n",
    "from sherlock.features.paragraph_vectors import initialise_pretrained_model, initialise_nltk\n",
    "from sherlock.features.preprocessing import (\n",
    "    extract_features,\n",
    "#     convert_string_lists_to_lists,\n",
    "    prepare_feature_extraction,\n",
    "#     load_parquet_values,\n",
    ")\n",
    "from sherlock.features.word_embeddings import initialise_word_embeddings\n",
    "\n",
    "import altair as alt\n",
    "alt.renderers.enable('default')"
   ]
  },
  {
   "cell_type": "markdown",
   "id": "6eae0291",
   "metadata": {},
   "source": [
    "### Utils"
   ]
  },
  {
   "cell_type": "code",
   "execution_count": 2,
   "id": "b3c748ff",
   "metadata": {},
   "outputs": [],
   "source": [
    "def camel_case(s):\n",
    "    s = re.sub(r\"(_|-)+\", \" \", s).title().replace(\" \", \"\")\n",
    "    s = ''.join([s[0].lower(), s[1:]])\n",
    "    return s"
   ]
  },
  {
   "cell_type": "code",
   "execution_count": 3,
   "id": "945f7f21",
   "metadata": {},
   "outputs": [],
   "source": [
    "def sherlock_case(s):\n",
    "    s = re.sub(r\"(_|-)+\", \" \", s).title().replace(\" \", \"\")\n",
    "    s = ''.join([s[0].lower(), s[1:]])\n",
    "    s = ''.join(map(lambda x: x if x.islower() else \" \"+x, s))\n",
    "    return s"
   ]
  },
  {
   "cell_type": "markdown",
   "id": "cd417cb3",
   "metadata": {},
   "source": [
    "## Loading the annotation data\n",
    "##### Make sure to unzip tables.zip in the /data/data/gittables_benchmark directory before proceeding"
   ]
  },
  {
   "cell_type": "code",
   "execution_count": 4,
   "id": "e3d20c2f",
   "metadata": {},
   "outputs": [
    {
     "name": "stdout",
     "output_type": "stream",
     "text": [
      "Preparing feature extraction by downloading 4 files:\n",
      "        \n",
      " ../sherlock/features/glove.6B.50d.txt, \n",
      " ../sherlock/features/par_vec_trained_400.pkl.docvecs.vectors_docs.npy,\n",
      "        \n",
      " ../sherlock/features/par_vec_trained_400.pkl.trainables.syn1neg.npy, and \n",
      " ../sherlock/features/par_vec_trained_400.pkl.wv.vectors.npy.\n",
      "        \n",
      "All files for extracting word and paragraph embeddings are present.\n",
      "Initialising word embeddings\n",
      "Initialise Word Embeddings process took 0:00:04.060688 seconds.\n",
      "Initialise Doc2Vec Model, 400 dim, process took 0:00:02.442340 seconds. (filename = ../sherlock/features/par_vec_trained_400.pkl)\n",
      "Initialised NLTK, process took 0:00:00.139904 seconds.\n"
     ]
    },
    {
     "name": "stderr",
     "output_type": "stream",
     "text": [
      "[nltk_data] Downloading package punkt to /home/senn/nltk_data...\n",
      "[nltk_data]   Package punkt is already up-to-date!\n",
      "[nltk_data] Downloading package stopwords to /home/senn/nltk_data...\n",
      "[nltk_data]   Package stopwords is already up-to-date!\n"
     ]
    }
   ],
   "source": [
    "prepare_feature_extraction()\n",
    "initialise_word_embeddings()\n",
    "initialise_pretrained_model(400)\n",
    "initialise_nltk()"
   ]
  },
  {
   "cell_type": "code",
   "execution_count": 5,
   "id": "cdc56122",
   "metadata": {},
   "outputs": [
    {
     "name": "stderr",
     "output_type": "stream",
     "text": [
      "WARNING: Logging before flag parsing goes to stderr.\n",
      "W0523 10:44:11.208704 140592511874880 deprecation.py:506] From /home/senn/virtualenvs/sherlock/lib/python3.7/site-packages/tensorflow_core/python/ops/init_ops.py:97: calling Zeros.__init__ (from tensorflow.python.ops.init_ops) with dtype is deprecated and will be removed in a future version.\n",
      "Instructions for updating:\n",
      "Call initializer instance with the dtype argument instead of passing it to the constructor\n",
      "W0523 10:44:11.209521 140592511874880 deprecation.py:506] From /home/senn/virtualenvs/sherlock/lib/python3.7/site-packages/tensorflow_core/python/ops/init_ops.py:97: calling Ones.__init__ (from tensorflow.python.ops.init_ops) with dtype is deprecated and will be removed in a future version.\n",
      "Instructions for updating:\n",
      "Call initializer instance with the dtype argument instead of passing it to the constructor\n",
      "W0523 10:44:11.211674 140592511874880 deprecation.py:506] From /home/senn/virtualenvs/sherlock/lib/python3.7/site-packages/tensorflow_core/python/ops/init_ops.py:97: calling VarianceScaling.__init__ (from tensorflow.python.ops.init_ops) with dtype is deprecated and will be removed in a future version.\n",
      "Instructions for updating:\n",
      "Call initializer instance with the dtype argument instead of passing it to the constructor\n",
      "W0523 10:44:11.237529 140592511874880 deprecation.py:506] From /home/senn/virtualenvs/sherlock/lib/python3.7/site-packages/tensorflow_core/python/ops/resource_variable_ops.py:1630: calling BaseResourceVariable.__init__ (from tensorflow.python.ops.resource_variable_ops) with constraint is deprecated and will be removed in a future version.\n",
      "Instructions for updating:\n",
      "If using Keras pass *_constraint arguments to layers.\n",
      "2022-05-23 10:44:11.528759: I tensorflow/core/platform/cpu_feature_guard.cc:142] Your CPU supports instructions that this TensorFlow binary was not compiled to use: AVX2 FMA\n",
      "2022-05-23 10:44:11.542473: I tensorflow/core/platform/profile_utils/cpu_utils.cc:94] CPU Frequency: 3193920000 Hz\n",
      "2022-05-23 10:44:11.544283: I tensorflow/compiler/xla/service/service.cc:168] XLA service 0x55ea36d77100 initialized for platform Host (this does not guarantee that XLA will be used). Devices:\n",
      "2022-05-23 10:44:11.544321: I tensorflow/compiler/xla/service/service.cc:176]   StreamExecutor device (0): Host, Default Version\n"
     ]
    }
   ],
   "source": [
    "model = SherlockModel();\n",
    "model.initialize_model_from_json(with_weights=True, model_id=\"sherlock\");"
   ]
  },
  {
   "cell_type": "markdown",
   "id": "cf6d5444",
   "metadata": {},
   "source": [
    "### Load Gittables"
   ]
  },
  {
   "cell_type": "code",
   "execution_count": 6,
   "id": "1c2880de",
   "metadata": {},
   "outputs": [],
   "source": [
    "path = '../data/data/gittables_benchmark'\n",
    "path_removed = '../data/data/gittables_benchmark/non_reannotated/removed/'\n",
    "types = np.load(f\"../model_files/classes_sherlock.npy\", allow_pickle=True)\n",
    "# print(types)\n",
    "# with open(join(path, '../../types.json'), 'r') as f:  \n",
    "#         types = json.load(f)['type78']\n",
    "\n",
    "dbpedia_gt = pd.read_csv(join(path, 'dbpedia_gt.csv'))\n",
    "schema_gt = pd.read_csv(join(path, 'schema_gt.csv'))\n",
    "dbpedia_labels = pd.read_csv(join(path, 'dbpedia_labels.csv'))\n",
    "dbpedia_targets = pd.read_csv(join(path, 'dbpedia_targets.csv'))\n",
    "# test_table = pd.read_csv(join(path, 'tables/GitTables_1501.csv'), dtype='object')"
   ]
  },
  {
   "cell_type": "code",
   "execution_count": 7,
   "id": "14cc6987",
   "metadata": {
    "scrolled": true
   },
   "outputs": [
    {
     "name": "stderr",
     "output_type": "stream",
     "text": [
      "Extracting Features: 100%|███████████████████████████████████████████████████████████████| 1/1 [00:00<00:00, 101.16it/s]\n",
      "Extracting Features: 100%|███████████████████████████████████████████████████████████████| 1/1 [00:00<00:00, 148.54it/s]\n"
     ]
    },
    {
     "name": "stdout",
     "output_type": "stream",
     "text": [
      "Exporting 1588 column features\n",
      "Exporting 1588 column features\n"
     ]
    },
    {
     "name": "stderr",
     "output_type": "stream",
     "text": [
      "Extracting Features: 100%|███████████████████████████████████████████████████████████████| 2/2 [00:00<00:00, 249.74it/s]\n",
      "Extracting Features: 100%|███████████████████████████████████████████████████████████████| 1/1 [00:00<00:00, 125.42it/s]\n",
      "Extracting Features: 100%|███████████████████████████████████████████████████████████████| 1/1 [00:00<00:00, 112.10it/s]\n"
     ]
    },
    {
     "name": "stdout",
     "output_type": "stream",
     "text": [
      "Exporting 1588 column features\n",
      "Exporting 1588 column features\n",
      "Exporting 1588 column features\n"
     ]
    },
    {
     "name": "stderr",
     "output_type": "stream",
     "text": [
      "Extracting Features: 100%|███████████████████████████████████████████████████████████████| 2/2 [00:00<00:00, 295.36it/s]\n",
      "Extracting Features: 100%|████████████████████████████████████████████████████████████████| 1/1 [00:00<00:00, 37.26it/s]\n",
      "Extracting Features: 100%|████████████████████████████████████████████████████████████████| 1/1 [00:00<00:00, 43.12it/s]\n"
     ]
    },
    {
     "name": "stdout",
     "output_type": "stream",
     "text": [
      "Exporting 1588 column features\n",
      "Exporting 1588 column features\n",
      "Exporting 1588 column features\n"
     ]
    },
    {
     "name": "stderr",
     "output_type": "stream",
     "text": [
      "Extracting Features: 100%|███████████████████████████████████████████████████████████████| 1/1 [00:00<00:00, 179.30it/s]\n",
      "Extracting Features: 100%|███████████████████████████████████████████████████████████████| 1/1 [00:00<00:00, 158.21it/s]\n",
      "Extracting Features: 100%|████████████████████████████████████████████████████████████████| 1/1 [00:00<00:00, 67.95it/s]\n"
     ]
    },
    {
     "name": "stdout",
     "output_type": "stream",
     "text": [
      "Exporting 1588 column features\n",
      "Exporting 1588 column features\n",
      "Exporting 1588 column features\n"
     ]
    },
    {
     "name": "stderr",
     "output_type": "stream",
     "text": [
      "Extracting Features: 100%|████████████████████████████████████████████████████████████████| 1/1 [00:00<00:00, 56.03it/s]\n",
      "Extracting Features: 100%|████████████████████████████████████████████████████████████████| 1/1 [00:00<00:00, 85.01it/s]\n",
      "Extracting Features: 100%|████████████████████████████████████████████████████████████████| 1/1 [00:00<00:00, 54.23it/s]\n"
     ]
    },
    {
     "name": "stdout",
     "output_type": "stream",
     "text": [
      "Exporting 1588 column features\n",
      "Exporting 1588 column features\n",
      "Exporting 1588 column features\n"
     ]
    },
    {
     "name": "stderr",
     "output_type": "stream",
     "text": [
      "Extracting Features: 100%|███████████████████████████████████████████████████████████████| 1/1 [00:00<00:00, 222.89it/s]\n",
      "Extracting Features: 100%|███████████████████████████████████████████████████████████████| 1/1 [00:00<00:00, 289.92it/s]\n",
      "Extracting Features: 100%|████████████████████████████████████████████████████████████████| 1/1 [00:00<00:00, 61.64it/s]\n"
     ]
    },
    {
     "name": "stdout",
     "output_type": "stream",
     "text": [
      "Exporting 1588 column features\n",
      "Exporting 1588 column features\n",
      "Exporting 1588 column features\n"
     ]
    },
    {
     "name": "stderr",
     "output_type": "stream",
     "text": [
      "Extracting Features: 100%|████████████████████████████████████████████████████████████████| 1/1 [00:00<00:00, 41.99it/s]\n",
      "Extracting Features: 100%|███████████████████████████████████████████████████████████████| 2/2 [00:00<00:00, 119.97it/s]\n",
      "Extracting Features: 100%|███████████████████████████████████████████████████████████████| 1/1 [00:00<00:00, 321.95it/s]\n"
     ]
    },
    {
     "name": "stdout",
     "output_type": "stream",
     "text": [
      "Exporting 1588 column features\n",
      "Exporting 1588 column features\n",
      "Exporting 1588 column features\n"
     ]
    },
    {
     "name": "stderr",
     "output_type": "stream",
     "text": [
      "Extracting Features: 100%|███████████████████████████████████████████████████████████████| 1/1 [00:00<00:00, 313.85it/s]\n",
      "Extracting Features: 100%|████████████████████████████████████████████████████████████████| 2/2 [00:00<00:00, 27.87it/s]\n"
     ]
    },
    {
     "name": "stdout",
     "output_type": "stream",
     "text": [
      "Exporting 1588 column features\n",
      "Exporting 1588 column features\n"
     ]
    },
    {
     "name": "stderr",
     "output_type": "stream",
     "text": [
      "Extracting Features: 100%|███████████████████████████████████████████████████████████████| 1/1 [00:00<00:00, 139.35it/s]\n",
      "Extracting Features: 100%|███████████████████████████████████████████████████████████████| 2/2 [00:00<00:00, 313.18it/s]\n",
      "Extracting Features: 100%|████████████████████████████████████████████████████████████████| 1/1 [00:00<00:00, 56.02it/s]\n"
     ]
    },
    {
     "name": "stdout",
     "output_type": "stream",
     "text": [
      "Exporting 1588 column features\n",
      "Exporting 1588 column features\n",
      "Exporting 1588 column features\n"
     ]
    },
    {
     "name": "stderr",
     "output_type": "stream",
     "text": [
      "Extracting Features: 100%|████████████████████████████████████████████████████████████████| 1/1 [00:00<00:00, 41.99it/s]\n",
      "Extracting Features: 100%|███████████████████████████████████████████████████████████████| 1/1 [00:00<00:00, 108.01it/s]\n",
      "Extracting Features: 100%|███████████████████████████████████████████████████████████████| 1/1 [00:00<00:00, 133.64it/s]\n"
     ]
    },
    {
     "name": "stdout",
     "output_type": "stream",
     "text": [
      "Exporting 1588 column features\n",
      "Exporting 1588 column features\n",
      "Exporting 1588 column features\n"
     ]
    },
    {
     "name": "stderr",
     "output_type": "stream",
     "text": [
      "Extracting Features: 100%|████████████████████████████████████████████████████████████████| 1/1 [00:00<00:00, 51.64it/s]\n",
      "Extracting Features: 100%|███████████████████████████████████████████████████████████████| 1/1 [00:00<00:00, 100.59it/s]\n",
      "Extracting Features: 100%|████████████████████████████████████████████████████████████████| 1/1 [00:00<00:00, 34.39it/s]\n"
     ]
    },
    {
     "name": "stdout",
     "output_type": "stream",
     "text": [
      "Exporting 1588 column features\n",
      "Exporting 1588 column features\n",
      "Exporting 1588 column features\n"
     ]
    },
    {
     "name": "stderr",
     "output_type": "stream",
     "text": [
      "Extracting Features: 100%|███████████████████████████████████████████████████████████████| 2/2 [00:00<00:00, 292.34it/s]\n",
      "Extracting Features: 100%|███████████████████████████████████████████████████████████████| 1/1 [00:00<00:00, 143.04it/s]\n",
      "Extracting Features: 100%|████████████████████████████████████████████████████████████████| 1/1 [00:00<00:00, 42.89it/s]\n"
     ]
    },
    {
     "name": "stdout",
     "output_type": "stream",
     "text": [
      "Exporting 1588 column features\n",
      "Exporting 1588 column features\n",
      "Exporting 1588 column features\n"
     ]
    },
    {
     "name": "stderr",
     "output_type": "stream",
     "text": [
      "Extracting Features: 100%|███████████████████████████████████████████████████████████████| 1/1 [00:00<00:00, 141.62it/s]\n",
      "Extracting Features: 100%|███████████████████████████████████████████████████████████████| 1/1 [00:00<00:00, 210.68it/s]\n",
      "Extracting Features: 100%|███████████████████████████████████████████████████████████████| 1/1 [00:00<00:00, 100.46it/s]\n"
     ]
    },
    {
     "name": "stdout",
     "output_type": "stream",
     "text": [
      "Exporting 1588 column features\n",
      "Exporting 1588 column features\n",
      "Exporting 1588 column features\n"
     ]
    },
    {
     "name": "stderr",
     "output_type": "stream",
     "text": [
      "Extracting Features: 100%|████████████████████████████████████████████████████████████████| 1/1 [00:00<00:00, 81.53it/s]\n",
      "Extracting Features: 100%|████████████████████████████████████████████████████████████████| 1/1 [00:00<00:00, 64.13it/s]\n",
      "Extracting Features: 100%|███████████████████████████████████████████████████████████████| 2/2 [00:00<00:00, 313.08it/s]\n"
     ]
    },
    {
     "name": "stdout",
     "output_type": "stream",
     "text": [
      "Exporting 1588 column features\n",
      "Exporting 1588 column features\n",
      "Exporting 1588 column features\n"
     ]
    },
    {
     "name": "stderr",
     "output_type": "stream",
     "text": [
      "Extracting Features: 100%|███████████████████████████████████████████████████████████████| 1/1 [00:00<00:00, 100.09it/s]\n",
      "Extracting Features: 100%|███████████████████████████████████████████████████████████████| 1/1 [00:00<00:00, 154.44it/s]\n",
      "Extracting Features: 100%|███████████████████████████████████████████████████████████████| 1/1 [00:00<00:00, 159.94it/s]\n"
     ]
    },
    {
     "name": "stdout",
     "output_type": "stream",
     "text": [
      "Exporting 1588 column features\n",
      "Exporting 1588 column features\n",
      "Exporting 1588 column features\n"
     ]
    },
    {
     "name": "stderr",
     "output_type": "stream",
     "text": [
      "Extracting Features: 100%|███████████████████████████████████████████████████████████████| 2/2 [00:00<00:00, 285.94it/s]\n",
      "Extracting Features: 100%|███████████████████████████████████████████████████████████████| 1/1 [00:00<00:00, 295.73it/s]\n",
      "Extracting Features: 100%|███████████████████████████████████████████████████████████████| 1/1 [00:00<00:00, 233.41it/s]\n"
     ]
    },
    {
     "name": "stdout",
     "output_type": "stream",
     "text": [
      "Exporting 1588 column features\n",
      "Exporting 1588 column features\n",
      "Exporting 1588 column features\n"
     ]
    },
    {
     "name": "stderr",
     "output_type": "stream",
     "text": [
      "Extracting Features: 100%|███████████████████████████████████████████████████████████████| 1/1 [00:00<00:00, 125.38it/s]\n",
      "Extracting Features: 100%|████████████████████████████████████████████████████████████████| 4/4 [00:00<00:00, 57.74it/s]\n"
     ]
    },
    {
     "name": "stdout",
     "output_type": "stream",
     "text": [
      "Exporting 1588 column features\n",
      "Exporting 1588 column features\n"
     ]
    },
    {
     "name": "stderr",
     "output_type": "stream",
     "text": [
      "Extracting Features: 100%|████████████████████████████████████████████████████████████████| 2/2 [00:00<00:00, 69.82it/s]\n",
      "Extracting Features: 100%|███████████████████████████████████████████████████████████████| 1/1 [00:00<00:00, 143.72it/s]\n",
      "Extracting Features: 100%|███████████████████████████████████████████████████████████████| 1/1 [00:00<00:00, 292.22it/s]\n"
     ]
    },
    {
     "name": "stdout",
     "output_type": "stream",
     "text": [
      "Exporting 1588 column features\n",
      "Exporting 1588 column features\n",
      "Exporting 1588 column features\n"
     ]
    },
    {
     "name": "stderr",
     "output_type": "stream",
     "text": [
      "Extracting Features: 100%|███████████████████████████████████████████████████████████████| 1/1 [00:00<00:00, 224.55it/s]\n",
      "Extracting Features: 100%|███████████████████████████████████████████████████████████████| 2/2 [00:00<00:00, 247.70it/s]\n",
      "Extracting Features: 100%|███████████████████████████████████████████████████████████████| 1/1 [00:00<00:00, 158.38it/s]\n"
     ]
    },
    {
     "name": "stdout",
     "output_type": "stream",
     "text": [
      "Exporting 1588 column features\n",
      "Exporting 1588 column features\n",
      "Exporting 1588 column features\n"
     ]
    },
    {
     "name": "stderr",
     "output_type": "stream",
     "text": [
      "Extracting Features: 100%|████████████████████████████████████████████████████████████████| 1/1 [00:00<00:00, 81.02it/s]\n",
      "Extracting Features: 100%|███████████████████████████████████████████████████████████████| 1/1 [00:00<00:00, 153.58it/s]\n",
      "Extracting Features: 100%|████████████████████████████████████████████████████████████████| 1/1 [00:00<00:00, 84.55it/s]\n"
     ]
    },
    {
     "name": "stdout",
     "output_type": "stream",
     "text": [
      "Exporting 1588 column features\n",
      "Exporting 1588 column features\n",
      "Exporting 1588 column features\n"
     ]
    },
    {
     "name": "stderr",
     "output_type": "stream",
     "text": [
      "Extracting Features: 100%|███████████████████████████████████████████████████████████████| 1/1 [00:00<00:00, 126.16it/s]\n",
      "Extracting Features: 100%|███████████████████████████████████████████████████████████████| 1/1 [00:00<00:00, 163.78it/s]\n",
      "Extracting Features: 100%|████████████████████████████████████████████████████████████████| 1/1 [00:00<00:00, 67.43it/s]\n"
     ]
    },
    {
     "name": "stdout",
     "output_type": "stream",
     "text": [
      "Exporting 1588 column features\n",
      "Exporting 1588 column features\n",
      "Exporting 1588 column features\n"
     ]
    },
    {
     "name": "stderr",
     "output_type": "stream",
     "text": [
      "Extracting Features: 100%|███████████████████████████████████████████████████████████████| 3/3 [00:00<00:00, 189.65it/s]\n",
      "Extracting Features: 100%|███████████████████████████████████████████████████████████████| 1/1 [00:00<00:00, 124.23it/s]\n",
      "Extracting Features: 100%|███████████████████████████████████████████████████████████████| 1/1 [00:00<00:00, 126.81it/s]\n"
     ]
    },
    {
     "name": "stdout",
     "output_type": "stream",
     "text": [
      "Exporting 1588 column features\n",
      "Exporting 1588 column features\n",
      "Exporting 1588 column features\n"
     ]
    },
    {
     "name": "stderr",
     "output_type": "stream",
     "text": [
      "Extracting Features: 100%|████████████████████████████████████████████████████████████████| 1/1 [00:00<00:00, 47.62it/s]\n",
      "Extracting Features: 100%|███████████████████████████████████████████████████████████████| 1/1 [00:00<00:00, 129.23it/s]\n",
      "Extracting Features:   0%|                                                                        | 0/1 [00:00<?, ?it/s]"
     ]
    },
    {
     "name": "stdout",
     "output_type": "stream",
     "text": [
      "Exporting 1588 column features\n",
      "Exporting 1588 column features\n",
      "Exporting 1588 column features\n"
     ]
    },
    {
     "name": "stderr",
     "output_type": "stream",
     "text": [
      "Extracting Features: 100%|████████████████████████████████████████████████████████████████| 1/1 [00:00<00:00, 44.40it/s]\n",
      "Extracting Features: 100%|███████████████████████████████████████████████████████████████| 1/1 [00:00<00:00, 149.07it/s]\n",
      "Extracting Features: 100%|███████████████████████████████████████████████████████████████| 1/1 [00:00<00:00, 247.39it/s]\n",
      "Extracting Features: 100%|███████████████████████████████████████████████████████████████| 2/2 [00:00<00:00, 163.26it/s]"
     ]
    },
    {
     "name": "stdout",
     "output_type": "stream",
     "text": [
      "Exporting 1588 column features\n",
      "Exporting 1588 column features\n",
      "Exporting 1588 column features\n"
     ]
    },
    {
     "name": "stderr",
     "output_type": "stream",
     "text": [
      "\n",
      "Extracting Features: 100%|████████████████████████████████████████████████████████████████| 2/2 [00:00<00:00, 66.13it/s]\n",
      "Extracting Features: 100%|███████████████████████████████████████████████████████████████| 1/1 [00:00<00:00, 121.62it/s]\n",
      "Extracting Features: 100%|███████████████████████████████████████████████████████████████| 1/1 [00:00<00:00, 162.71it/s]\n"
     ]
    },
    {
     "name": "stdout",
     "output_type": "stream",
     "text": [
      "Exporting 1588 column features\n",
      "Exporting 1588 column features\n",
      "Exporting 1588 column features\n"
     ]
    },
    {
     "name": "stderr",
     "output_type": "stream",
     "text": [
      "Extracting Features: 100%|███████████████████████████████████████████████████████████████| 1/1 [00:00<00:00, 114.59it/s]\n",
      "Extracting Features: 100%|████████████████████████████████████████████████████████████████| 2/2 [00:00<00:00, 59.61it/s]\n",
      "Extracting Features: 100%|███████████████████████████████████████████████████████████████| 1/1 [00:00<00:00, 102.90it/s]\n"
     ]
    },
    {
     "name": "stdout",
     "output_type": "stream",
     "text": [
      "Exporting 1588 column features\n",
      "Exporting 1588 column features\n",
      "Exporting 1588 column features\n"
     ]
    },
    {
     "name": "stderr",
     "output_type": "stream",
     "text": [
      "Extracting Features: 100%|███████████████████████████████████████████████████████████████| 1/1 [00:00<00:00, 309.38it/s]\n",
      "Extracting Features: 100%|███████████████████████████████████████████████████████████████| 1/1 [00:00<00:00, 140.46it/s]\n",
      "Extracting Features: 100%|███████████████████████████████████████████████████████████████| 1/1 [00:00<00:00, 125.62it/s]\n"
     ]
    },
    {
     "name": "stdout",
     "output_type": "stream",
     "text": [
      "Exporting 1588 column features\n",
      "Exporting 1588 column features\n",
      "Exporting 1588 column features\n"
     ]
    },
    {
     "name": "stderr",
     "output_type": "stream",
     "text": [
      "Extracting Features: 100%|███████████████████████████████████████████████████████████████| 1/1 [00:00<00:00, 198.08it/s]\n",
      "Extracting Features: 100%|███████████████████████████████████████████████████████████████| 1/1 [00:00<00:00, 127.20it/s]\n",
      "Extracting Features: 100%|███████████████████████████████████████████████████████████████| 2/2 [00:00<00:00, 113.34it/s]\n"
     ]
    },
    {
     "name": "stdout",
     "output_type": "stream",
     "text": [
      "Exporting 1588 column features\n",
      "Exporting 1588 column features\n",
      "Exporting 1588 column features\n"
     ]
    },
    {
     "name": "stderr",
     "output_type": "stream",
     "text": [
      "Extracting Features: 100%|███████████████████████████████████████████████████████████████| 1/1 [00:00<00:00, 108.06it/s]\n",
      "Extracting Features: 100%|███████████████████████████████████████████████████████████████| 1/1 [00:00<00:00, 130.32it/s]\n",
      "Extracting Features: 100%|████████████████████████████████████████████████████████████████| 1/1 [00:00<00:00, 71.22it/s]\n"
     ]
    },
    {
     "name": "stdout",
     "output_type": "stream",
     "text": [
      "Exporting 1588 column features\n",
      "Exporting 1588 column features\n",
      "Exporting 1588 column features\n"
     ]
    },
    {
     "name": "stderr",
     "output_type": "stream",
     "text": [
      "Extracting Features: 100%|████████████████████████████████████████████████████████████████| 1/1 [00:00<00:00, 55.90it/s]\n",
      "Extracting Features: 100%|███████████████████████████████████████████████████████████████| 1/1 [00:00<00:00, 152.64it/s]\n",
      "Extracting Features: 100%|████████████████████████████████████████████████████████████████| 1/1 [00:00<00:00, 62.44it/s]\n"
     ]
    },
    {
     "name": "stdout",
     "output_type": "stream",
     "text": [
      "Exporting 1588 column features\n",
      "Exporting 1588 column features\n",
      "Exporting 1588 column features\n"
     ]
    },
    {
     "name": "stderr",
     "output_type": "stream",
     "text": [
      "Extracting Features: 100%|███████████████████████████████████████████████████████████████| 1/1 [00:00<00:00, 120.32it/s]\n",
      "Extracting Features: 100%|███████████████████████████████████████████████████████████████| 1/1 [00:00<00:00, 132.34it/s]\n",
      "Extracting Features: 100%|████████████████████████████████████████████████████████████████| 1/1 [00:00<00:00, 75.53it/s]\n"
     ]
    },
    {
     "name": "stdout",
     "output_type": "stream",
     "text": [
      "Exporting 1588 column features\n",
      "Exporting 1588 column features\n",
      "Exporting 1588 column features\n"
     ]
    },
    {
     "name": "stderr",
     "output_type": "stream",
     "text": [
      "Extracting Features: 100%|███████████████████████████████████████████████████████████████| 1/1 [00:00<00:00, 193.71it/s]\n",
      "Extracting Features: 100%|███████████████████████████████████████████████████████████████| 1/1 [00:00<00:00, 148.43it/s]\n",
      "Extracting Features: 100%|████████████████████████████████████████████████████████████████| 1/1 [00:00<00:00, 48.12it/s]\n"
     ]
    },
    {
     "name": "stdout",
     "output_type": "stream",
     "text": [
      "Exporting 1588 column features\n",
      "Exporting 1588 column features\n",
      "Exporting 1588 column features\n"
     ]
    },
    {
     "name": "stderr",
     "output_type": "stream",
     "text": [
      "Extracting Features: 100%|███████████████████████████████████████████████████████████████| 1/1 [00:00<00:00, 207.30it/s]\n",
      "Extracting Features: 100%|███████████████████████████████████████████████████████████████| 2/2 [00:00<00:00, 331.03it/s]\n",
      "Extracting Features: 100%|████████████████████████████████████████████████████████████████| 1/1 [00:00<00:00, 99.10it/s]\n"
     ]
    },
    {
     "name": "stdout",
     "output_type": "stream",
     "text": [
      "Exporting 1588 column features\n",
      "Exporting 1588 column features\n",
      "Exporting 1588 column features\n"
     ]
    },
    {
     "name": "stderr",
     "output_type": "stream",
     "text": [
      "Extracting Features: 100%|███████████████████████████████████████████████████████████████| 2/2 [00:00<00:00, 334.86it/s]\n",
      "Extracting Features: 100%|███████████████████████████████████████████████████████████████| 1/1 [00:00<00:00, 282.88it/s]\n",
      "Extracting Features:   0%|                                                                        | 0/4 [00:00<?, ?it/s]"
     ]
    },
    {
     "name": "stdout",
     "output_type": "stream",
     "text": [
      "Exporting 1588 column features\n",
      "Exporting 1588 column features\n",
      "Exporting 1588 column features\n"
     ]
    },
    {
     "name": "stderr",
     "output_type": "stream",
     "text": [
      "Extracting Features: 100%|████████████████████████████████████████████████████████████████| 4/4 [00:00<00:00, 58.63it/s]\n",
      "Extracting Features: 100%|███████████████████████████████████████████████████████████████| 1/1 [00:00<00:00, 172.17it/s]\n",
      "Extracting Features: 100%|███████████████████████████████████████████████████████████████| 1/1 [00:00<00:00, 225.65it/s]\n",
      "Extracting Features:   0%|                                                                        | 0/4 [00:00<?, ?it/s]"
     ]
    },
    {
     "name": "stdout",
     "output_type": "stream",
     "text": [
      "Exporting 1588 column features\n",
      "Exporting 1588 column features\n",
      "Exporting 1588 column features\n"
     ]
    },
    {
     "name": "stderr",
     "output_type": "stream",
     "text": [
      "Extracting Features: 100%|████████████████████████████████████████████████████████████████| 4/4 [00:00<00:00, 73.54it/s]\n",
      "Extracting Features: 100%|███████████████████████████████████████████████████████████████| 1/1 [00:00<00:00, 213.42it/s]\n",
      "Extracting Features: 100%|███████████████████████████████████████████████████████████████| 1/1 [00:00<00:00, 100.39it/s]\n",
      "Extracting Features: 100%|████████████████████████████████████████████████████████████████| 1/1 [00:00<00:00, 77.42it/s]\n"
     ]
    },
    {
     "name": "stdout",
     "output_type": "stream",
     "text": [
      "Exporting 1588 column features\n",
      "Exporting 1588 column features\n",
      "Exporting 1588 column features\n"
     ]
    },
    {
     "name": "stderr",
     "output_type": "stream",
     "text": [
      "Extracting Features: 100%|███████████████████████████████████████████████████████████████| 1/1 [00:00<00:00, 103.97it/s]\n",
      "Extracting Features: 100%|███████████████████████████████████████████████████████████████| 1/1 [00:00<00:00, 212.05it/s]\n",
      "Extracting Features: 100%|███████████████████████████████████████████████████████████████| 3/3 [00:00<00:00, 118.53it/s]\n"
     ]
    },
    {
     "name": "stdout",
     "output_type": "stream",
     "text": [
      "Exporting 1588 column features\n",
      "Exporting 1588 column features\n",
      "Exporting 1588 column features\n"
     ]
    },
    {
     "name": "stderr",
     "output_type": "stream",
     "text": [
      "Extracting Features: 100%|████████████████████████████████████████████████████████████████| 1/1 [00:00<00:00, 58.23it/s]\n",
      "Extracting Features: 100%|███████████████████████████████████████████████████████████████| 1/1 [00:00<00:00, 103.31it/s]\n",
      "Extracting Features: 100%|███████████████████████████████████████████████████████████████| 1/1 [00:00<00:00, 144.60it/s]\n"
     ]
    },
    {
     "name": "stdout",
     "output_type": "stream",
     "text": [
      "Exporting 1588 column features\n",
      "Exporting 1588 column features\n",
      "Exporting 1588 column features\n"
     ]
    },
    {
     "name": "stderr",
     "output_type": "stream",
     "text": [
      "Extracting Features: 100%|████████████████████████████████████████████████████████████████| 2/2 [00:00<00:00, 64.47it/s]\n",
      "Extracting Features: 100%|███████████████████████████████████████████████████████████████| 1/1 [00:00<00:00, 282.12it/s]\n",
      "Extracting Features: 100%|████████████████████████████████████████████████████████████████| 1/1 [00:00<00:00, 39.19it/s]\n"
     ]
    },
    {
     "name": "stdout",
     "output_type": "stream",
     "text": [
      "Exporting 1588 column features\n",
      "Exporting 1588 column features\n",
      "Exporting 1588 column features\n"
     ]
    },
    {
     "name": "stderr",
     "output_type": "stream",
     "text": [
      "Extracting Features: 100%|████████████████████████████████████████████████████████████████| 2/2 [00:00<00:00, 99.79it/s]\n",
      "Extracting Features: 100%|████████████████████████████████████████████████████████████████| 1/1 [00:00<00:00, 74.97it/s]\n",
      "Extracting Features: 100%|████████████████████████████████████████████████████████████████| 2/2 [00:00<00:00, 65.18it/s]"
     ]
    },
    {
     "name": "stdout",
     "output_type": "stream",
     "text": [
      "Exporting 1588 column features\n",
      "Exporting 1588 column features\n",
      "Exporting 1588 column features\n"
     ]
    },
    {
     "name": "stderr",
     "output_type": "stream",
     "text": [
      "\n",
      "Extracting Features: 100%|███████████████████████████████████████████████████████████████| 1/1 [00:00<00:00, 191.33it/s]\n",
      "Extracting Features:   0%|                                                                        | 0/2 [00:00<?, ?it/s]"
     ]
    },
    {
     "name": "stdout",
     "output_type": "stream",
     "text": [
      "Exporting 1588 column features\n",
      "Exporting 1588 column features\n"
     ]
    },
    {
     "name": "stderr",
     "output_type": "stream",
     "text": [
      "Extracting Features: 100%|████████████████████████████████████████████████████████████████| 2/2 [00:00<00:00, 12.95it/s]\n",
      "Extracting Features: 100%|███████████████████████████████████████████████████████████████| 2/2 [00:00<00:00, 301.36it/s]\n",
      "Extracting Features: 100%|███████████████████████████████████████████████████████████████| 1/1 [00:00<00:00, 104.78it/s]\n",
      "Extracting Features: 100%|███████████████████████████████████████████████████████████████| 1/1 [00:00<00:00, 122.88it/s]\n"
     ]
    },
    {
     "name": "stdout",
     "output_type": "stream",
     "text": [
      "Exporting 1588 column features\n",
      "Exporting 1588 column features\n",
      "Exporting 1588 column features\n"
     ]
    },
    {
     "name": "stderr",
     "output_type": "stream",
     "text": [
      "Extracting Features: 100%|███████████████████████████████████████████████████████████████| 1/1 [00:00<00:00, 160.19it/s]\n",
      "Extracting Features: 100%|████████████████████████████████████████████████████████████████| 2/2 [00:00<00:00, 60.36it/s]\n",
      "Extracting Features: 100%|███████████████████████████████████████████████████████████████| 1/1 [00:00<00:00, 255.52it/s]\n"
     ]
    },
    {
     "name": "stdout",
     "output_type": "stream",
     "text": [
      "Exporting 1588 column features\n",
      "Exporting 1588 column features\n",
      "Exporting 1588 column features\n"
     ]
    },
    {
     "name": "stderr",
     "output_type": "stream",
     "text": [
      "Extracting Features: 100%|███████████████████████████████████████████████████████████████| 1/1 [00:00<00:00, 146.91it/s]\n",
      "Extracting Features: 100%|███████████████████████████████████████████████████████████████| 1/1 [00:00<00:00, 148.00it/s]\n",
      "Extracting Features: 100%|███████████████████████████████████████████████████████████████| 1/1 [00:00<00:00, 131.63it/s]\n"
     ]
    },
    {
     "name": "stdout",
     "output_type": "stream",
     "text": [
      "Exporting 1588 column features\n",
      "Exporting 1588 column features\n",
      "Exporting 1588 column features\n"
     ]
    },
    {
     "name": "stderr",
     "output_type": "stream",
     "text": [
      "Extracting Features: 100%|███████████████████████████████████████████████████████████████| 2/2 [00:00<00:00, 261.03it/s]\n",
      "Extracting Features: 100%|███████████████████████████████████████████████████████████████| 1/1 [00:00<00:00, 112.86it/s]\n",
      "Extracting Features: 100%|███████████████████████████████████████████████████████████████| 1/1 [00:00<00:00, 249.78it/s]\n"
     ]
    },
    {
     "name": "stdout",
     "output_type": "stream",
     "text": [
      "Exporting 1588 column features\n",
      "Exporting 1588 column features\n",
      "Exporting 1588 column features\n"
     ]
    },
    {
     "name": "stderr",
     "output_type": "stream",
     "text": [
      "Extracting Features: 100%|███████████████████████████████████████████████████████████████| 1/1 [00:00<00:00, 169.12it/s]\n",
      "Extracting Features: 100%|████████████████████████████████████████████████████████████████| 1/1 [00:00<00:00, 56.93it/s]\n",
      "Extracting Features: 100%|████████████████████████████████████████████████████████████████| 1/1 [00:00<00:00, 62.81it/s]\n"
     ]
    },
    {
     "name": "stdout",
     "output_type": "stream",
     "text": [
      "Exporting 1588 column features\n",
      "Exporting 1588 column features\n",
      "Exporting 1588 column features\n"
     ]
    },
    {
     "name": "stderr",
     "output_type": "stream",
     "text": [
      "Extracting Features: 100%|███████████████████████████████████████████████████████████████| 2/2 [00:00<00:00, 321.14it/s]\n",
      "Extracting Features: 100%|███████████████████████████████████████████████████████████████| 2/2 [00:00<00:00, 302.41it/s]\n",
      "Extracting Features: 100%|███████████████████████████████████████████████████████████████| 2/2 [00:00<00:00, 249.70it/s]\n"
     ]
    },
    {
     "name": "stdout",
     "output_type": "stream",
     "text": [
      "Exporting 1588 column features\n",
      "Exporting 1588 column features\n",
      "Exporting 1588 column features\n"
     ]
    },
    {
     "name": "stderr",
     "output_type": "stream",
     "text": [
      "Extracting Features: 100%|███████████████████████████████████████████████████████████████| 1/1 [00:00<00:00, 151.54it/s]\n",
      "Extracting Features: 100%|███████████████████████████████████████████████████████████████| 1/1 [00:00<00:00, 135.44it/s]\n",
      "Extracting Features: 100%|████████████████████████████████████████████████████████████████| 1/1 [00:00<00:00, 96.43it/s]\n"
     ]
    },
    {
     "name": "stdout",
     "output_type": "stream",
     "text": [
      "Exporting 1588 column features\n",
      "Exporting 1588 column features\n",
      "Exporting 1588 column features\n"
     ]
    },
    {
     "name": "stderr",
     "output_type": "stream",
     "text": [
      "Extracting Features: 100%|███████████████████████████████████████████████████████████████| 1/1 [00:00<00:00, 112.95it/s]\n",
      "Extracting Features: 100%|███████████████████████████████████████████████████████████████| 1/1 [00:00<00:00, 161.82it/s]\n",
      "Extracting Features: 100%|███████████████████████████████████████████████████████████████| 1/1 [00:00<00:00, 118.21it/s]\n"
     ]
    },
    {
     "name": "stdout",
     "output_type": "stream",
     "text": [
      "Exporting 1588 column features\n",
      "Exporting 1588 column features\n",
      "Exporting 1588 column features\n"
     ]
    },
    {
     "name": "stderr",
     "output_type": "stream",
     "text": [
      "Extracting Features: 100%|███████████████████████████████████████████████████████████████| 1/1 [00:00<00:00, 158.78it/s]\n",
      "Extracting Features: 100%|████████████████████████████████████████████████████████████████| 2/2 [00:00<00:00, 57.02it/s]\n",
      "Extracting Features: 100%|███████████████████████████████████████████████████████████████| 2/2 [00:00<00:00, 127.35it/s]"
     ]
    },
    {
     "name": "stdout",
     "output_type": "stream",
     "text": [
      "Exporting 1588 column features\n",
      "Exporting 1588 column features\n",
      "Exporting 1588 column features\n"
     ]
    },
    {
     "name": "stderr",
     "output_type": "stream",
     "text": [
      "\n",
      "Extracting Features: 100%|███████████████████████████████████████████████████████████████| 1/1 [00:00<00:00, 102.40it/s]\n",
      "Extracting Features: 100%|███████████████████████████████████████████████████████████████| 1/1 [00:00<00:00, 304.40it/s]\n",
      "Extracting Features: 100%|████████████████████████████████████████████████████████████████| 1/1 [00:00<00:00, 95.31it/s]\n"
     ]
    },
    {
     "name": "stdout",
     "output_type": "stream",
     "text": [
      "Exporting 1588 column features\n",
      "Exporting 1588 column features\n",
      "Exporting 1588 column features\n"
     ]
    },
    {
     "name": "stderr",
     "output_type": "stream",
     "text": [
      "Extracting Features: 100%|████████████████████████████████████████████████████████████████| 2/2 [00:00<00:00, 46.12it/s]\n",
      "Extracting Features: 100%|███████████████████████████████████████████████████████████████| 1/1 [00:00<00:00, 175.32it/s]\n"
     ]
    },
    {
     "name": "stdout",
     "output_type": "stream",
     "text": [
      "Exporting 1588 column features\n",
      "Exporting 1588 column features\n"
     ]
    },
    {
     "name": "stderr",
     "output_type": "stream",
     "text": [
      "Extracting Features: 100%|████████████████████████████████████████████████████████████████| 1/1 [00:00<00:00, 45.67it/s]\n",
      "Extracting Features: 100%|███████████████████████████████████████████████████████████████| 1/1 [00:00<00:00, 107.63it/s]\n",
      "Extracting Features: 100%|████████████████████████████████████████████████████████████████| 2/2 [00:00<00:00, 76.86it/s]\n"
     ]
    },
    {
     "name": "stdout",
     "output_type": "stream",
     "text": [
      "Exporting 1588 column features\n",
      "Exporting 1588 column features\n",
      "Exporting 1588 column features\n"
     ]
    },
    {
     "name": "stderr",
     "output_type": "stream",
     "text": [
      "Extracting Features: 100%|███████████████████████████████████████████████████████████████| 1/1 [00:00<00:00, 153.28it/s]\n",
      "Extracting Features: 100%|███████████████████████████████████████████████████████████████| 1/1 [00:00<00:00, 151.98it/s]\n",
      "Extracting Features:   0%|                                                                        | 0/4 [00:00<?, ?it/s]"
     ]
    },
    {
     "name": "stdout",
     "output_type": "stream",
     "text": [
      "Exporting 1588 column features\n",
      "Exporting 1588 column features\n",
      "Exporting 1588 column features\n"
     ]
    },
    {
     "name": "stderr",
     "output_type": "stream",
     "text": [
      "Extracting Features: 100%|████████████████████████████████████████████████████████████████| 4/4 [00:00<00:00, 59.50it/s]\n",
      "Extracting Features: 100%|████████████████████████████████████████████████████████████████| 1/1 [00:00<00:00, 54.73it/s]\n",
      "Extracting Features: 100%|███████████████████████████████████████████████████████████████| 1/1 [00:00<00:00, 187.17it/s]\n",
      "Extracting Features: 100%|███████████████████████████████████████████████████████████████| 1/1 [00:00<00:00, 115.80it/s]\n"
     ]
    },
    {
     "name": "stdout",
     "output_type": "stream",
     "text": [
      "Exporting 1588 column features\n",
      "Exporting 1588 column features\n",
      "Exporting 1588 column features\n"
     ]
    },
    {
     "name": "stderr",
     "output_type": "stream",
     "text": [
      "Extracting Features: 100%|███████████████████████████████████████████████████████████████| 2/2 [00:00<00:00, 141.88it/s]\n",
      "Extracting Features: 100%|████████████████████████████████████████████████████████████████| 1/1 [00:00<00:00, 17.81it/s]\n",
      "Extracting Features: 100%|████████████████████████████████████████████████████████████████| 1/1 [00:00<00:00, 77.65it/s]"
     ]
    },
    {
     "name": "stdout",
     "output_type": "stream",
     "text": [
      "Exporting 1588 column features\n",
      "Exporting 1588 column features\n",
      "Exporting 1588 column features\n"
     ]
    },
    {
     "name": "stderr",
     "output_type": "stream",
     "text": [
      "\n",
      "Extracting Features: 100%|████████████████████████████████████████████████████████████████| 1/1 [00:00<00:00, 88.79it/s]\n",
      "Extracting Features: 100%|███████████████████████████████████████████████████████████████| 1/1 [00:00<00:00, 330.86it/s]\n",
      "Extracting Features: 100%|████████████████████████████████████████████████████████████████| 1/1 [00:00<00:00, 94.79it/s]\n"
     ]
    },
    {
     "name": "stdout",
     "output_type": "stream",
     "text": [
      "Exporting 1588 column features\n",
      "Exporting 1588 column features\n",
      "Exporting 1588 column features\n"
     ]
    },
    {
     "name": "stderr",
     "output_type": "stream",
     "text": [
      "Extracting Features: 100%|███████████████████████████████████████████████████████████████| 1/1 [00:00<00:00, 186.53it/s]\n",
      "Extracting Features: 100%|███████████████████████████████████████████████████████████████| 2/2 [00:00<00:00, 274.52it/s]\n",
      "Extracting Features: 100%|███████████████████████████████████████████████████████████████| 1/1 [00:00<00:00, 142.23it/s]\n"
     ]
    },
    {
     "name": "stdout",
     "output_type": "stream",
     "text": [
      "Exporting 1588 column features\n",
      "Exporting 1588 column features\n",
      "Exporting 1588 column features\n"
     ]
    },
    {
     "name": "stderr",
     "output_type": "stream",
     "text": [
      "Extracting Features: 100%|███████████████████████████████████████████████████████████████| 2/2 [00:00<00:00, 242.04it/s]\n",
      "Extracting Features: 100%|███████████████████████████████████████████████████████████████| 1/1 [00:00<00:00, 108.78it/s]\n",
      "Extracting Features: 100%|████████████████████████████████████████████████████████████████| 1/1 [00:00<00:00, 61.16it/s]\n"
     ]
    },
    {
     "name": "stdout",
     "output_type": "stream",
     "text": [
      "Exporting 1588 column features\n",
      "Exporting 1588 column features\n",
      "Exporting 1588 column features\n"
     ]
    },
    {
     "name": "stderr",
     "output_type": "stream",
     "text": [
      "Extracting Features: 100%|███████████████████████████████████████████████████████████████| 3/3 [00:00<00:00, 143.61it/s]\n",
      "Extracting Features: 100%|███████████████████████████████████████████████████████████████| 1/1 [00:00<00:00, 268.62it/s]\n",
      "Extracting Features: 100%|███████████████████████████████████████████████████████████████| 2/2 [00:00<00:00, 307.73it/s]\n"
     ]
    },
    {
     "name": "stdout",
     "output_type": "stream",
     "text": [
      "Exporting 1588 column features\n",
      "Exporting 1588 column features\n",
      "Exporting 1588 column features\n"
     ]
    },
    {
     "name": "stderr",
     "output_type": "stream",
     "text": [
      "Extracting Features: 100%|████████████████████████████████████████████████████████████████| 1/1 [00:00<00:00, 98.49it/s]\n",
      "Extracting Features: 100%|███████████████████████████████████████████████████████████████| 1/1 [00:00<00:00, 127.30it/s]\n",
      "Extracting Features: 100%|███████████████████████████████████████████████████████████████| 1/1 [00:00<00:00, 111.56it/s]\n"
     ]
    },
    {
     "name": "stdout",
     "output_type": "stream",
     "text": [
      "Exporting 1588 column features\n",
      "Exporting 1588 column features\n",
      "Exporting 1588 column features\n"
     ]
    },
    {
     "name": "stderr",
     "output_type": "stream",
     "text": [
      "Extracting Features: 100%|███████████████████████████████████████████████████████████████| 1/1 [00:00<00:00, 133.08it/s]\n",
      "Extracting Features: 100%|███████████████████████████████████████████████████████████████| 1/1 [00:00<00:00, 134.69it/s]\n",
      "Extracting Features: 100%|███████████████████████████████████████████████████████████████| 1/1 [00:00<00:00, 121.38it/s]\n"
     ]
    },
    {
     "name": "stdout",
     "output_type": "stream",
     "text": [
      "Exporting 1588 column features\n",
      "Exporting 1588 column features\n",
      "Exporting 1588 column features\n"
     ]
    },
    {
     "name": "stderr",
     "output_type": "stream",
     "text": [
      "Extracting Features: 100%|███████████████████████████████████████████████████████████████| 1/1 [00:00<00:00, 281.69it/s]\n",
      "Extracting Features: 100%|████████████████████████████████████████████████████████████████| 1/1 [00:00<00:00, 91.20it/s]\n",
      "Extracting Features: 100%|███████████████████████████████████████████████████████████████| 1/1 [00:00<00:00, 133.39it/s]\n"
     ]
    },
    {
     "name": "stdout",
     "output_type": "stream",
     "text": [
      "Exporting 1588 column features\n",
      "Exporting 1588 column features\n",
      "Exporting 1588 column features\n"
     ]
    },
    {
     "name": "stderr",
     "output_type": "stream",
     "text": [
      "Extracting Features: 100%|████████████████████████████████████████████████████████████████| 1/1 [00:00<00:00, 95.16it/s]\n",
      "Extracting Features: 100%|████████████████████████████████████████████████████████████████| 2/2 [00:00<00:00, 47.22it/s]\n",
      "Extracting Features: 100%|███████████████████████████████████████████████████████████████| 1/1 [00:00<00:00, 156.49it/s]\n"
     ]
    },
    {
     "name": "stdout",
     "output_type": "stream",
     "text": [
      "Exporting 1588 column features\n",
      "Exporting 1588 column features\n",
      "Exporting 1588 column features\n"
     ]
    },
    {
     "name": "stderr",
     "output_type": "stream",
     "text": [
      "Extracting Features: 100%|████████████████████████████████████████████████████████████████| 1/1 [00:00<00:00, 51.46it/s]\n",
      "Extracting Features: 100%|███████████████████████████████████████████████████████████████| 1/1 [00:00<00:00, 100.13it/s]\n",
      "Extracting Features: 100%|███████████████████████████████████████████████████████████████| 1/1 [00:00<00:00, 125.86it/s]\n"
     ]
    },
    {
     "name": "stdout",
     "output_type": "stream",
     "text": [
      "Exporting 1588 column features\n",
      "Exporting 1588 column features\n",
      "Exporting 1588 column features\n"
     ]
    },
    {
     "name": "stderr",
     "output_type": "stream",
     "text": [
      "Extracting Features: 100%|███████████████████████████████████████████████████████████████| 1/1 [00:00<00:00, 160.89it/s]\n",
      "Extracting Features: 100%|███████████████████████████████████████████████████████████████| 1/1 [00:00<00:00, 142.78it/s]\n",
      "Extracting Features: 100%|████████████████████████████████████████████████████████████████| 1/1 [00:00<00:00, 55.24it/s]\n"
     ]
    },
    {
     "name": "stdout",
     "output_type": "stream",
     "text": [
      "Exporting 1588 column features\n",
      "Exporting 1588 column features\n",
      "Exporting 1588 column features\n"
     ]
    },
    {
     "name": "stderr",
     "output_type": "stream",
     "text": [
      "Extracting Features: 100%|████████████████████████████████████████████████████████████████| 1/1 [00:00<00:00, 41.73it/s]\n",
      "Extracting Features: 100%|███████████████████████████████████████████████████████████████| 1/1 [00:00<00:00, 120.12it/s]\n",
      "Extracting Features: 100%|███████████████████████████████████████████████████████████████| 1/1 [00:00<00:00, 153.13it/s]\n"
     ]
    },
    {
     "name": "stdout",
     "output_type": "stream",
     "text": [
      "Exporting 1588 column features\n",
      "Exporting 1588 column features\n",
      "Exporting 1588 column features\n"
     ]
    },
    {
     "name": "stderr",
     "output_type": "stream",
     "text": [
      "Extracting Features: 100%|███████████████████████████████████████████████████████████████| 1/1 [00:00<00:00, 123.04it/s]\n",
      "Extracting Features: 100%|███████████████████████████████████████████████████████████████| 1/1 [00:00<00:00, 187.98it/s]\n",
      "Extracting Features: 100%|████████████████████████████████████████████████████████████████| 1/1 [00:00<00:00, 68.97it/s]\n"
     ]
    },
    {
     "name": "stdout",
     "output_type": "stream",
     "text": [
      "Exporting 1588 column features\n",
      "Exporting 1588 column features\n",
      "Exporting 1588 column features\n"
     ]
    },
    {
     "name": "stderr",
     "output_type": "stream",
     "text": [
      "Extracting Features: 100%|████████████████████████████████████████████████████████████████| 1/1 [00:00<00:00, 80.51it/s]\n",
      "Extracting Features: 100%|███████████████████████████████████████████████████████████████| 1/1 [00:00<00:00, 140.51it/s]\n",
      "Extracting Features: 100%|███████████████████████████████████████████████████████████████| 3/3 [00:00<00:00, 187.95it/s]"
     ]
    },
    {
     "name": "stdout",
     "output_type": "stream",
     "text": [
      "Exporting 1588 column features\n",
      "Exporting 1588 column features\n",
      "Exporting 1588 column features\n"
     ]
    },
    {
     "name": "stderr",
     "output_type": "stream",
     "text": [
      "\n",
      "Extracting Features: 100%|███████████████████████████████████████████████████████████████| 1/1 [00:00<00:00, 141.99it/s]\n",
      "Extracting Features: 100%|███████████████████████████████████████████████████████████████| 1/1 [00:00<00:00, 197.65it/s]\n",
      "Extracting Features: 100%|████████████████████████████████████████████████████████████████| 1/1 [00:00<00:00, 42.77it/s]\n"
     ]
    },
    {
     "name": "stdout",
     "output_type": "stream",
     "text": [
      "Exporting 1588 column features\n",
      "Exporting 1588 column features\n",
      "Exporting 1588 column features\n"
     ]
    },
    {
     "name": "stderr",
     "output_type": "stream",
     "text": [
      "Extracting Features: 100%|███████████████████████████████████████████████████████████████| 1/1 [00:00<00:00, 138.99it/s]\n",
      "Extracting Features: 100%|███████████████████████████████████████████████████████████████| 2/2 [00:00<00:00, 257.60it/s]\n",
      "Extracting Features: 100%|███████████████████████████████████████████████████████████████| 2/2 [00:00<00:00, 170.63it/s]\n"
     ]
    },
    {
     "name": "stdout",
     "output_type": "stream",
     "text": [
      "Exporting 1588 column features\n",
      "Exporting 1588 column features\n",
      "Exporting 1588 column features\n"
     ]
    },
    {
     "name": "stderr",
     "output_type": "stream",
     "text": [
      "Extracting Features: 100%|███████████████████████████████████████████████████████████████| 1/1 [00:00<00:00, 251.38it/s]\n",
      "Extracting Features: 100%|████████████████████████████████████████████████████████████████| 1/1 [00:00<00:00, 95.67it/s]\n",
      "Extracting Features: 100%|███████████████████████████████████████████████████████████████| 1/1 [00:00<00:00, 161.75it/s]\n"
     ]
    },
    {
     "name": "stdout",
     "output_type": "stream",
     "text": [
      "Exporting 1588 column features\n",
      "Exporting 1588 column features\n",
      "Exporting 1588 column features\n"
     ]
    },
    {
     "name": "stderr",
     "output_type": "stream",
     "text": [
      "Extracting Features: 100%|███████████████████████████████████████████████████████████████| 2/2 [00:00<00:00, 342.18it/s]\n",
      "Extracting Features: 100%|███████████████████████████████████████████████████████████████| 1/1 [00:00<00:00, 237.61it/s]\n",
      "Extracting Features: 100%|███████████████████████████████████████████████████████████████| 4/4 [00:00<00:00, 393.44it/s]\n"
     ]
    },
    {
     "name": "stdout",
     "output_type": "stream",
     "text": [
      "Exporting 1588 column features\n",
      "Exporting 1588 column features\n",
      "Exporting 1588 column features\n"
     ]
    },
    {
     "name": "stderr",
     "output_type": "stream",
     "text": [
      "Extracting Features: 100%|███████████████████████████████████████████████████████████████| 1/1 [00:00<00:00, 294.23it/s]\n",
      "Extracting Features: 100%|███████████████████████████████████████████████████████████████| 3/3 [00:00<00:00, 379.88it/s]\n",
      "Extracting Features: 100%|███████████████████████████████████████████████████████████████| 1/1 [00:00<00:00, 398.47it/s]\n",
      "Extracting Features:   0%|                                                                        | 0/3 [00:00<?, ?it/s]"
     ]
    },
    {
     "name": "stdout",
     "output_type": "stream",
     "text": [
      "Exporting 1588 column features\n",
      "Exporting 1588 column features\n",
      "Exporting 1588 column features\n"
     ]
    },
    {
     "name": "stderr",
     "output_type": "stream",
     "text": [
      "Extracting Features: 100%|███████████████████████████████████████████████████████████████| 3/3 [00:00<00:00, 356.14it/s]\n",
      "Extracting Features: 100%|███████████████████████████████████████████████████████████████| 1/1 [00:00<00:00, 260.39it/s]\n",
      "Extracting Features: 100%|███████████████████████████████████████████████████████████████| 1/1 [00:00<00:00, 181.48it/s]\n"
     ]
    },
    {
     "name": "stdout",
     "output_type": "stream",
     "text": [
      "Exporting 1588 column features\n",
      "Exporting 1588 column features\n",
      "Exporting 1588 column features\n"
     ]
    },
    {
     "name": "stderr",
     "output_type": "stream",
     "text": [
      "Extracting Features: 100%|███████████████████████████████████████████████████████████████| 1/1 [00:00<00:00, 257.24it/s]\n",
      "Extracting Features: 100%|███████████████████████████████████████████████████████████████| 4/4 [00:00<00:00, 322.57it/s]\n",
      "Extracting Features: 100%|███████████████████████████████████████████████████████████████| 2/2 [00:00<00:00, 168.26it/s]\n"
     ]
    },
    {
     "name": "stdout",
     "output_type": "stream",
     "text": [
      "Exporting 1588 column features\n",
      "Exporting 1588 column features\n",
      "Exporting 1588 column features\n"
     ]
    },
    {
     "name": "stderr",
     "output_type": "stream",
     "text": [
      "Extracting Features: 100%|███████████████████████████████████████████████████████████████| 4/4 [00:00<00:00, 500.11it/s]\n",
      "Extracting Features: 100%|███████████████████████████████████████████████████████████████| 1/1 [00:00<00:00, 232.65it/s]\n",
      "Extracting Features: 100%|███████████████████████████████████████████████████████████████| 3/3 [00:00<00:00, 287.87it/s]\n"
     ]
    },
    {
     "name": "stdout",
     "output_type": "stream",
     "text": [
      "Exporting 1588 column features\n",
      "Exporting 1588 column features\n",
      "Exporting 1588 column features\n"
     ]
    },
    {
     "name": "stderr",
     "output_type": "stream",
     "text": [
      "Extracting Features: 100%|███████████████████████████████████████████████████████████████| 4/4 [00:00<00:00, 477.52it/s]\n",
      "Extracting Features: 100%|███████████████████████████████████████████████████████████████| 2/2 [00:00<00:00, 168.07it/s]\n",
      "Extracting Features: 100%|████████████████████████████████████████████████████████████████| 2/2 [00:00<00:00, 97.93it/s]\n"
     ]
    },
    {
     "name": "stdout",
     "output_type": "stream",
     "text": [
      "Exporting 1588 column features\n",
      "Exporting 1588 column features\n",
      "Exporting 1588 column features\n"
     ]
    },
    {
     "name": "stderr",
     "output_type": "stream",
     "text": [
      "Extracting Features: 100%|███████████████████████████████████████████████████████████████| 3/3 [00:00<00:00, 457.51it/s]\n",
      "Extracting Features: 100%|███████████████████████████████████████████████████████████████| 5/5 [00:00<00:00, 273.45it/s]\n",
      "Extracting Features: 100%|███████████████████████████████████████████████████████████████| 3/3 [00:00<00:00, 296.17it/s]\n"
     ]
    },
    {
     "name": "stdout",
     "output_type": "stream",
     "text": [
      "Exporting 1588 column features\n",
      "Exporting 1588 column features\n",
      "Exporting 1588 column features\n"
     ]
    },
    {
     "name": "stderr",
     "output_type": "stream",
     "text": [
      "Extracting Features: 100%|███████████████████████████████████████████████████████████████| 1/1 [00:00<00:00, 284.38it/s]\n",
      "Extracting Features: 100%|███████████████████████████████████████████████████████████████| 1/1 [00:00<00:00, 138.95it/s]\n",
      "Extracting Features: 100%|███████████████████████████████████████████████████████████████| 1/1 [00:00<00:00, 146.54it/s]\n"
     ]
    },
    {
     "name": "stdout",
     "output_type": "stream",
     "text": [
      "Exporting 1588 column features\n",
      "Exporting 1588 column features\n",
      "Exporting 1588 column features\n"
     ]
    },
    {
     "name": "stderr",
     "output_type": "stream",
     "text": [
      "Extracting Features: 100%|███████████████████████████████████████████████████████████████| 1/1 [00:00<00:00, 244.21it/s]\n",
      "Extracting Features: 100%|███████████████████████████████████████████████████████████████| 3/3 [00:00<00:00, 368.42it/s]\n",
      "Extracting Features: 100%|███████████████████████████████████████████████████████████████| 2/2 [00:00<00:00, 359.01it/s]\n"
     ]
    },
    {
     "name": "stdout",
     "output_type": "stream",
     "text": [
      "Exporting 1588 column features\n",
      "Exporting 1588 column features\n",
      "Exporting 1588 column features\n"
     ]
    },
    {
     "name": "stderr",
     "output_type": "stream",
     "text": [
      "Extracting Features: 100%|███████████████████████████████████████████████████████████████| 1/1 [00:00<00:00, 224.98it/s]\n",
      "Extracting Features: 100%|███████████████████████████████████████████████████████████████| 1/1 [00:00<00:00, 310.07it/s]\n",
      "Extracting Features: 100%|███████████████████████████████████████████████████████████████| 1/1 [00:00<00:00, 243.76it/s]\n"
     ]
    },
    {
     "name": "stdout",
     "output_type": "stream",
     "text": [
      "Exporting 1588 column features\n",
      "Exporting 1588 column features\n",
      "Exporting 1588 column features\n"
     ]
    },
    {
     "name": "stderr",
     "output_type": "stream",
     "text": [
      "Extracting Features: 100%|███████████████████████████████████████████████████████████████| 1/1 [00:00<00:00, 216.47it/s]\n",
      "Extracting Features: 100%|███████████████████████████████████████████████████████████████| 1/1 [00:00<00:00, 202.18it/s]\n",
      "Extracting Features: 100%|███████████████████████████████████████████████████████████████| 1/1 [00:00<00:00, 215.59it/s]\n",
      "Extracting Features: 100%|███████████████████████████████████████████████████████████████| 1/1 [00:00<00:00, 243.30it/s]"
     ]
    },
    {
     "name": "stdout",
     "output_type": "stream",
     "text": [
      "Exporting 1588 column features\n",
      "Exporting 1588 column features\n",
      "Exporting 1588 column features\n",
      "Exporting 1588 column features\n"
     ]
    },
    {
     "name": "stderr",
     "output_type": "stream",
     "text": [
      "\n",
      "Extracting Features: 100%|███████████████████████████████████████████████████████████████| 1/1 [00:00<00:00, 250.77it/s]\n",
      "Extracting Features: 100%|███████████████████████████████████████████████████████████████| 1/1 [00:00<00:00, 234.91it/s]\n",
      "Extracting Features: 100%|███████████████████████████████████████████████████████████████| 4/4 [00:00<00:00, 413.90it/s]\n"
     ]
    },
    {
     "name": "stdout",
     "output_type": "stream",
     "text": [
      "Exporting 1588 column features\n",
      "Exporting 1588 column features\n",
      "Exporting 1588 column features\n"
     ]
    },
    {
     "name": "stderr",
     "output_type": "stream",
     "text": [
      "Extracting Features: 100%|████████████████████████████████████████████████████████████████| 1/1 [00:00<00:00, 47.37it/s]\n",
      "Extracting Features: 100%|███████████████████████████████████████████████████████████████| 3/3 [00:00<00:00, 390.93it/s]\n"
     ]
    },
    {
     "name": "stdout",
     "output_type": "stream",
     "text": [
      "Exporting 1588 column features\n",
      "Exporting 1588 column features\n"
     ]
    },
    {
     "name": "stderr",
     "output_type": "stream",
     "text": [
      "Extracting Features: 100%|███████████████████████████████████████████████████████████████| 1/1 [00:00<00:00, 149.31it/s]\n",
      "Extracting Features: 100%|███████████████████████████████████████████████████████████████| 4/4 [00:00<00:00, 273.64it/s]\n",
      "Extracting Features: 100%|███████████████████████████████████████████████████████████████| 3/3 [00:00<00:00, 354.36it/s]\n"
     ]
    },
    {
     "name": "stdout",
     "output_type": "stream",
     "text": [
      "Exporting 1588 column features\n",
      "Exporting 1588 column features\n",
      "Exporting 1588 column features\n"
     ]
    },
    {
     "name": "stderr",
     "output_type": "stream",
     "text": [
      "Extracting Features: 100%|███████████████████████████████████████████████████████████████| 1/1 [00:00<00:00, 191.10it/s]\n",
      "Extracting Features: 100%|███████████████████████████████████████████████████████████████| 2/2 [00:00<00:00, 118.63it/s]\n",
      "Extracting Features: 100%|████████████████████████████████████████████████████████████████| 1/1 [00:00<00:00, 55.22it/s]\n"
     ]
    },
    {
     "name": "stdout",
     "output_type": "stream",
     "text": [
      "Exporting 1588 column features\n",
      "Exporting 1588 column features\n",
      "Exporting 1588 column features\n"
     ]
    },
    {
     "name": "stderr",
     "output_type": "stream",
     "text": [
      "Extracting Features: 100%|███████████████████████████████████████████████████████████████| 2/2 [00:00<00:00, 118.07it/s]\n",
      "Extracting Features: 100%|███████████████████████████████████████████████████████████████| 1/1 [00:00<00:00, 187.14it/s]\n",
      "Extracting Features:   0%|                                                                        | 0/3 [00:00<?, ?it/s]"
     ]
    },
    {
     "name": "stdout",
     "output_type": "stream",
     "text": [
      "Exporting 1588 column features\n",
      "Exporting 1588 column features\n",
      "Exporting 1588 column features\n"
     ]
    },
    {
     "name": "stderr",
     "output_type": "stream",
     "text": [
      "Extracting Features: 100%|███████████████████████████████████████████████████████████████| 3/3 [00:00<00:00, 371.47it/s]\n",
      "Extracting Features: 100%|███████████████████████████████████████████████████████████████| 3/3 [00:00<00:00, 292.83it/s]\n",
      "Extracting Features: 100%|███████████████████████████████████████████████████████████████| 4/4 [00:00<00:00, 376.12it/s]\n",
      "Extracting Features: 100%|███████████████████████████████████████████████████████████████| 1/1 [00:00<00:00, 279.90it/s]\n"
     ]
    },
    {
     "name": "stdout",
     "output_type": "stream",
     "text": [
      "Exporting 1588 column features\n",
      "Exporting 1588 column features\n",
      "Exporting 1588 column features\n"
     ]
    },
    {
     "name": "stderr",
     "output_type": "stream",
     "text": [
      "Extracting Features: 100%|███████████████████████████████████████████████████████████████| 1/1 [00:00<00:00, 248.26it/s]\n",
      "Extracting Features: 100%|███████████████████████████████████████████████████████████████| 1/1 [00:00<00:00, 230.38it/s]\n",
      "Extracting Features: 100%|███████████████████████████████████████████████████████████████| 3/3 [00:00<00:00, 333.69it/s]\n"
     ]
    },
    {
     "name": "stdout",
     "output_type": "stream",
     "text": [
      "Exporting 1588 column features\n",
      "Exporting 1588 column features\n",
      "Exporting 1588 column features\n"
     ]
    },
    {
     "name": "stderr",
     "output_type": "stream",
     "text": [
      "Extracting Features: 100%|███████████████████████████████████████████████████████████████| 1/1 [00:00<00:00, 233.65it/s]\n",
      "Extracting Features: 100%|███████████████████████████████████████████████████████████████| 1/1 [00:00<00:00, 195.99it/s]\n",
      "Extracting Features: 100%|███████████████████████████████████████████████████████████████| 3/3 [00:00<00:00, 281.12it/s]\n"
     ]
    },
    {
     "name": "stdout",
     "output_type": "stream",
     "text": [
      "Exporting 1588 column features\n",
      "Exporting 1588 column features\n",
      "Exporting 1588 column features\n"
     ]
    },
    {
     "name": "stderr",
     "output_type": "stream",
     "text": [
      "Extracting Features: 100%|███████████████████████████████████████████████████████████████| 3/3 [00:00<00:00, 229.56it/s]\n",
      "Extracting Features: 100%|███████████████████████████████████████████████████████████████| 1/1 [00:00<00:00, 166.01it/s]\n",
      "Extracting Features: 100%|███████████████████████████████████████████████████████████████| 1/1 [00:00<00:00, 279.34it/s]\n"
     ]
    },
    {
     "name": "stdout",
     "output_type": "stream",
     "text": [
      "Exporting 1588 column features\n",
      "Exporting 1588 column features\n",
      "Exporting 1588 column features\n"
     ]
    },
    {
     "name": "stderr",
     "output_type": "stream",
     "text": [
      "Extracting Features: 100%|███████████████████████████████████████████████████████████████| 1/1 [00:00<00:00, 154.03it/s]\n",
      "Extracting Features: 100%|███████████████████████████████████████████████████████████████| 1/1 [00:00<00:00, 311.01it/s]\n",
      "Extracting Features: 100%|███████████████████████████████████████████████████████████████| 1/1 [00:00<00:00, 173.56it/s]\n",
      "Extracting Features:   0%|                                                                        | 0/1 [00:00<?, ?it/s]"
     ]
    },
    {
     "name": "stdout",
     "output_type": "stream",
     "text": [
      "Exporting 1588 column features\n",
      "Exporting 1588 column features\n",
      "Exporting 1588 column features\n"
     ]
    },
    {
     "name": "stderr",
     "output_type": "stream",
     "text": [
      "Extracting Features: 100%|███████████████████████████████████████████████████████████████| 1/1 [00:00<00:00, 373.96it/s]\n",
      "Extracting Features: 100%|███████████████████████████████████████████████████████████████| 2/2 [00:00<00:00, 306.77it/s]\n",
      "Extracting Features: 100%|████████████████████████████████████████████████████████████████| 2/2 [00:00<00:00, 38.60it/s]\n"
     ]
    },
    {
     "name": "stdout",
     "output_type": "stream",
     "text": [
      "Exporting 1588 column features\n",
      "Exporting 1588 column features\n",
      "Exporting 1588 column features\n"
     ]
    },
    {
     "name": "stderr",
     "output_type": "stream",
     "text": [
      "Extracting Features: 100%|███████████████████████████████████████████████████████████████| 1/1 [00:00<00:00, 233.26it/s]\n",
      "Extracting Features: 100%|███████████████████████████████████████████████████████████████| 1/1 [00:00<00:00, 280.76it/s]\n",
      "Extracting Features: 100%|███████████████████████████████████████████████████████████████| 1/1 [00:00<00:00, 222.60it/s]\n"
     ]
    },
    {
     "name": "stdout",
     "output_type": "stream",
     "text": [
      "Exporting 1588 column features\n",
      "Exporting 1588 column features\n",
      "Exporting 1588 column features\n"
     ]
    },
    {
     "name": "stderr",
     "output_type": "stream",
     "text": [
      "Extracting Features: 100%|███████████████████████████████████████████████████████████████| 1/1 [00:00<00:00, 221.97it/s]\n",
      "Extracting Features: 100%|███████████████████████████████████████████████████████████████| 1/1 [00:00<00:00, 132.31it/s]\n",
      "Extracting Features: 100%|███████████████████████████████████████████████████████████████| 2/2 [00:00<00:00, 272.35it/s]\n"
     ]
    },
    {
     "name": "stdout",
     "output_type": "stream",
     "text": [
      "Exporting 1588 column features\n",
      "Exporting 1588 column features\n",
      "Exporting 1588 column features\n"
     ]
    },
    {
     "name": "stderr",
     "output_type": "stream",
     "text": [
      "Extracting Features: 100%|███████████████████████████████████████████████████████████████| 3/3 [00:00<00:00, 329.31it/s]\n",
      "Extracting Features: 100%|███████████████████████████████████████████████████████████████| 1/1 [00:00<00:00, 152.40it/s]\n",
      "Extracting Features: 100%|███████████████████████████████████████████████████████████████| 3/3 [00:00<00:00, 370.42it/s]\n"
     ]
    },
    {
     "name": "stdout",
     "output_type": "stream",
     "text": [
      "Exporting 1588 column features\n",
      "Exporting 1588 column features\n",
      "Exporting 1588 column features\n"
     ]
    },
    {
     "name": "stderr",
     "output_type": "stream",
     "text": [
      "Extracting Features: 100%|███████████████████████████████████████████████████████████████| 4/4 [00:00<00:00, 461.97it/s]\n",
      "Extracting Features: 100%|███████████████████████████████████████████████████████████████| 4/4 [00:00<00:00, 280.24it/s]\n",
      "Extracting Features: 100%|███████████████████████████████████████████████████████████████| 1/1 [00:00<00:00, 241.75it/s]\n"
     ]
    },
    {
     "name": "stdout",
     "output_type": "stream",
     "text": [
      "Exporting 1588 column features\n",
      "Exporting 1588 column features\n",
      "Exporting 1588 column features\n"
     ]
    },
    {
     "name": "stderr",
     "output_type": "stream",
     "text": [
      "Extracting Features: 100%|███████████████████████████████████████████████████████████████| 3/3 [00:00<00:00, 303.58it/s]\n",
      "Extracting Features: 100%|███████████████████████████████████████████████████████████████| 1/1 [00:00<00:00, 163.75it/s]\n",
      "Extracting Features: 100%|███████████████████████████████████████████████████████████████| 3/3 [00:00<00:00, 397.51it/s]\n"
     ]
    },
    {
     "name": "stdout",
     "output_type": "stream",
     "text": [
      "Exporting 1588 column features\n",
      "Exporting 1588 column features\n",
      "Exporting 1588 column features\n"
     ]
    },
    {
     "name": "stderr",
     "output_type": "stream",
     "text": [
      "Extracting Features: 100%|███████████████████████████████████████████████████████████████| 1/1 [00:00<00:00, 202.30it/s]\n",
      "Extracting Features: 100%|████████████████████████████████████████████████████████████████| 1/1 [00:00<00:00, 61.92it/s]\n",
      "Extracting Features: 100%|███████████████████████████████████████████████████████████████| 3/3 [00:00<00:00, 168.97it/s]\n"
     ]
    },
    {
     "name": "stdout",
     "output_type": "stream",
     "text": [
      "Exporting 1588 column features\n",
      "Exporting 1588 column features\n",
      "Exporting 1588 column features\n"
     ]
    },
    {
     "name": "stderr",
     "output_type": "stream",
     "text": [
      "Extracting Features: 100%|███████████████████████████████████████████████████████████████| 3/3 [00:00<00:00, 405.47it/s]\n",
      "Extracting Features: 100%|███████████████████████████████████████████████████████████████| 1/1 [00:00<00:00, 162.61it/s]\n",
      "Extracting Features: 100%|███████████████████████████████████████████████████████████████| 3/3 [00:00<00:00, 381.57it/s]\n"
     ]
    },
    {
     "name": "stdout",
     "output_type": "stream",
     "text": [
      "Exporting 1588 column features\n",
      "Exporting 1588 column features\n",
      "Exporting 1588 column features\n"
     ]
    },
    {
     "name": "stderr",
     "output_type": "stream",
     "text": [
      "Extracting Features: 100%|███████████████████████████████████████████████████████████████| 4/4 [00:00<00:00, 375.86it/s]\n",
      "Extracting Features: 100%|███████████████████████████████████████████████████████████████| 3/3 [00:00<00:00, 325.82it/s]\n",
      "Extracting Features: 100%|███████████████████████████████████████████████████████████████| 1/1 [00:00<00:00, 141.94it/s]\n"
     ]
    },
    {
     "name": "stdout",
     "output_type": "stream",
     "text": [
      "Exporting 1588 column features\n",
      "Exporting 1588 column features\n",
      "Exporting 1588 column features\n"
     ]
    },
    {
     "name": "stderr",
     "output_type": "stream",
     "text": [
      "Extracting Features: 100%|███████████████████████████████████████████████████████████████| 1/1 [00:00<00:00, 239.02it/s]\n",
      "Extracting Features: 100%|███████████████████████████████████████████████████████████████| 1/1 [00:00<00:00, 213.55it/s]\n",
      "Extracting Features: 100%|███████████████████████████████████████████████████████████████| 1/1 [00:00<00:00, 221.37it/s]\n"
     ]
    },
    {
     "name": "stdout",
     "output_type": "stream",
     "text": [
      "Exporting 1588 column features\n",
      "Exporting 1588 column features\n",
      "Exporting 1588 column features\n"
     ]
    },
    {
     "name": "stderr",
     "output_type": "stream",
     "text": [
      "Extracting Features: 100%|███████████████████████████████████████████████████████████████| 4/4 [00:00<00:00, 352.63it/s]\n",
      "Extracting Features: 100%|███████████████████████████████████████████████████████████████| 1/1 [00:00<00:00, 112.05it/s]\n",
      "Extracting Features:   0%|                                                                        | 0/1 [00:00<?, ?it/s]"
     ]
    },
    {
     "name": "stdout",
     "output_type": "stream",
     "text": [
      "Exporting 1588 column features\n",
      "Exporting 1588 column features\n"
     ]
    },
    {
     "name": "stderr",
     "output_type": "stream",
     "text": [
      "Extracting Features: 100%|███████████████████████████████████████████████████████████████| 1/1 [00:00<00:00, 199.08it/s]\n",
      "Extracting Features: 100%|███████████████████████████████████████████████████████████████| 3/3 [00:00<00:00, 409.88it/s]\n",
      "Extracting Features: 100%|███████████████████████████████████████████████████████████████| 3/3 [00:00<00:00, 411.80it/s]\n"
     ]
    },
    {
     "name": "stdout",
     "output_type": "stream",
     "text": [
      "Exporting 1588 column features\n",
      "Exporting 1588 column features\n",
      "Exporting 1588 column features\n"
     ]
    },
    {
     "name": "stderr",
     "output_type": "stream",
     "text": [
      "Extracting Features: 100%|███████████████████████████████████████████████████████████████| 3/3 [00:00<00:00, 434.72it/s]\n",
      "Extracting Features: 100%|███████████████████████████████████████████████████████████████| 3/3 [00:00<00:00, 375.90it/s]\n",
      "Extracting Features: 100%|███████████████████████████████████████████████████████████████| 1/1 [00:00<00:00, 139.86it/s]\n"
     ]
    },
    {
     "name": "stdout",
     "output_type": "stream",
     "text": [
      "Exporting 1588 column features\n",
      "Exporting 1588 column features\n",
      "Exporting 1588 column features\n"
     ]
    },
    {
     "name": "stderr",
     "output_type": "stream",
     "text": [
      "Extracting Features: 100%|███████████████████████████████████████████████████████████████| 1/1 [00:00<00:00, 141.41it/s]\n",
      "Extracting Features: 100%|███████████████████████████████████████████████████████████████| 3/3 [00:00<00:00, 395.15it/s]\n",
      "Extracting Features: 100%|███████████████████████████████████████████████████████████████| 1/1 [00:00<00:00, 222.71it/s]\n"
     ]
    },
    {
     "name": "stdout",
     "output_type": "stream",
     "text": [
      "Exporting 1588 column features\n",
      "Exporting 1588 column features\n",
      "Exporting 1588 column features\n"
     ]
    },
    {
     "name": "stderr",
     "output_type": "stream",
     "text": [
      "Extracting Features: 100%|███████████████████████████████████████████████████████████████| 3/3 [00:00<00:00, 334.06it/s]\n",
      "Extracting Features: 100%|███████████████████████████████████████████████████████████████| 4/4 [00:00<00:00, 304.90it/s]\n",
      "Extracting Features: 100%|███████████████████████████████████████████████████████████████| 1/1 [00:00<00:00, 154.49it/s]\n"
     ]
    },
    {
     "name": "stdout",
     "output_type": "stream",
     "text": [
      "Exporting 1588 column features\n",
      "Exporting 1588 column features\n",
      "Exporting 1588 column features\n"
     ]
    },
    {
     "name": "stderr",
     "output_type": "stream",
     "text": [
      "Extracting Features: 100%|███████████████████████████████████████████████████████████████| 1/1 [00:00<00:00, 264.94it/s]\n",
      "Extracting Features: 100%|███████████████████████████████████████████████████████████████| 2/2 [00:00<00:00, 121.47it/s]\n",
      "Extracting Features: 100%|███████████████████████████████████████████████████████████████| 1/1 [00:00<00:00, 101.57it/s]\n"
     ]
    },
    {
     "name": "stdout",
     "output_type": "stream",
     "text": [
      "Exporting 1588 column features\n",
      "Exporting 1588 column features\n",
      "Exporting 1588 column features\n"
     ]
    },
    {
     "name": "stderr",
     "output_type": "stream",
     "text": [
      "Extracting Features: 100%|███████████████████████████████████████████████████████████████| 1/1 [00:00<00:00, 251.85it/s]\n",
      "Extracting Features: 100%|███████████████████████████████████████████████████████████████| 5/5 [00:00<00:00, 424.78it/s]\n",
      "Extracting Features: 100%|███████████████████████████████████████████████████████████████| 1/1 [00:00<00:00, 310.99it/s]\n"
     ]
    },
    {
     "name": "stdout",
     "output_type": "stream",
     "text": [
      "Exporting 1588 column features\n",
      "Exporting 1588 column features\n",
      "Exporting 1588 column features\n"
     ]
    },
    {
     "name": "stderr",
     "output_type": "stream",
     "text": [
      "Extracting Features: 100%|████████████████████████████████████████████████████████████████| 2/2 [00:00<00:00, 67.06it/s]\n",
      "Extracting Features: 100%|███████████████████████████████████████████████████████████████| 1/1 [00:00<00:00, 292.96it/s]\n",
      "Extracting Features: 100%|███████████████████████████████████████████████████████████████| 3/3 [00:00<00:00, 425.26it/s]"
     ]
    },
    {
     "name": "stdout",
     "output_type": "stream",
     "text": [
      "Exporting 1588 column features\n",
      "Exporting 1588 column features\n",
      "Exporting 1588 column features\n"
     ]
    },
    {
     "name": "stderr",
     "output_type": "stream",
     "text": [
      "\n",
      "Extracting Features: 100%|███████████████████████████████████████████████████████████████| 2/2 [00:00<00:00, 363.27it/s]\n",
      "Extracting Features: 100%|███████████████████████████████████████████████████████████████| 2/2 [00:00<00:00, 167.54it/s]\n",
      "Extracting Features: 100%|███████████████████████████████████████████████████████████████| 1/1 [00:00<00:00, 266.68it/s]\n"
     ]
    },
    {
     "name": "stdout",
     "output_type": "stream",
     "text": [
      "Exporting 1588 column features\n",
      "Exporting 1588 column features\n",
      "Exporting 1588 column features\n"
     ]
    },
    {
     "name": "stderr",
     "output_type": "stream",
     "text": [
      "Extracting Features: 100%|███████████████████████████████████████████████████████████████| 1/1 [00:00<00:00, 154.04it/s]\n",
      "Extracting Features: 100%|███████████████████████████████████████████████████████████████| 3/3 [00:00<00:00, 343.12it/s]\n",
      "Extracting Features: 100%|███████████████████████████████████████████████████████████████| 3/3 [00:00<00:00, 404.37it/s]"
     ]
    },
    {
     "name": "stdout",
     "output_type": "stream",
     "text": [
      "Exporting 1588 column features\n",
      "Exporting 1588 column features\n",
      "Exporting 1588 column features\n"
     ]
    },
    {
     "name": "stderr",
     "output_type": "stream",
     "text": [
      "\n",
      "Extracting Features: 100%|███████████████████████████████████████████████████████████████| 3/3 [00:00<00:00, 333.76it/s]\n",
      "Extracting Features: 100%|███████████████████████████████████████████████████████████████| 1/1 [00:00<00:00, 201.41it/s]\n",
      "Extracting Features: 100%|███████████████████████████████████████████████████████████████| 3/3 [00:00<00:00, 206.68it/s]\n"
     ]
    },
    {
     "name": "stdout",
     "output_type": "stream",
     "text": [
      "Exporting 1588 column features\n",
      "Exporting 1588 column features\n",
      "Exporting 1588 column features\n"
     ]
    },
    {
     "name": "stderr",
     "output_type": "stream",
     "text": [
      "Extracting Features: 100%|███████████████████████████████████████████████████████████████| 1/1 [00:00<00:00, 169.78it/s]\n",
      "Extracting Features: 100%|███████████████████████████████████████████████████████████████| 3/3 [00:00<00:00, 343.58it/s]\n",
      "Extracting Features: 100%|███████████████████████████████████████████████████████████████| 1/1 [00:00<00:00, 127.73it/s]\n"
     ]
    },
    {
     "name": "stdout",
     "output_type": "stream",
     "text": [
      "Exporting 1588 column features\n",
      "Exporting 1588 column features\n",
      "Exporting 1588 column features\n"
     ]
    },
    {
     "name": "stderr",
     "output_type": "stream",
     "text": [
      "Extracting Features: 100%|███████████████████████████████████████████████████████████████| 2/2 [00:00<00:00, 108.87it/s]\n",
      "Extracting Features: 100%|███████████████████████████████████████████████████████████████| 3/3 [00:00<00:00, 442.70it/s]\n",
      "Extracting Features: 100%|███████████████████████████████████████████████████████████████| 1/1 [00:00<00:00, 205.01it/s]\n"
     ]
    },
    {
     "name": "stdout",
     "output_type": "stream",
     "text": [
      "Exporting 1588 column features\n",
      "Exporting 1588 column features\n",
      "Exporting 1588 column features\n"
     ]
    },
    {
     "name": "stderr",
     "output_type": "stream",
     "text": [
      "Extracting Features: 100%|███████████████████████████████████████████████████████████████| 1/1 [00:00<00:00, 195.92it/s]\n",
      "Extracting Features: 100%|███████████████████████████████████████████████████████████████| 2/2 [00:00<00:00, 261.14it/s]\n",
      "Extracting Features: 100%|███████████████████████████████████████████████████████████████| 4/4 [00:00<00:00, 338.67it/s]\n"
     ]
    },
    {
     "name": "stdout",
     "output_type": "stream",
     "text": [
      "Exporting 1588 column features\n",
      "Exporting 1588 column features\n",
      "Exporting 1588 column features\n"
     ]
    },
    {
     "name": "stderr",
     "output_type": "stream",
     "text": [
      "Extracting Features: 100%|███████████████████████████████████████████████████████████████| 1/1 [00:00<00:00, 223.13it/s]\n",
      "Extracting Features: 100%|███████████████████████████████████████████████████████████████| 3/3 [00:00<00:00, 338.17it/s]\n",
      "Extracting Features: 100%|███████████████████████████████████████████████████████████████| 2/2 [00:00<00:00, 229.34it/s]\n"
     ]
    },
    {
     "name": "stdout",
     "output_type": "stream",
     "text": [
      "Exporting 1588 column features\n",
      "Exporting 1588 column features\n",
      "Exporting 1588 column features\n"
     ]
    },
    {
     "name": "stderr",
     "output_type": "stream",
     "text": [
      "Extracting Features: 100%|███████████████████████████████████████████████████████████████| 4/4 [00:00<00:00, 537.13it/s]\n",
      "Extracting Features: 100%|███████████████████████████████████████████████████████████████| 1/1 [00:00<00:00, 146.97it/s]\n",
      "Extracting Features: 100%|███████████████████████████████████████████████████████████████| 1/1 [00:00<00:00, 199.06it/s]\n"
     ]
    },
    {
     "name": "stdout",
     "output_type": "stream",
     "text": [
      "Exporting 1588 column features\n",
      "Exporting 1588 column features\n",
      "Exporting 1588 column features\n"
     ]
    },
    {
     "name": "stderr",
     "output_type": "stream",
     "text": [
      "Extracting Features: 100%|███████████████████████████████████████████████████████████████| 1/1 [00:00<00:00, 212.07it/s]\n",
      "Extracting Features: 100%|███████████████████████████████████████████████████████████████| 2/2 [00:00<00:00, 268.99it/s]\n",
      "Extracting Features: 100%|███████████████████████████████████████████████████████████████| 1/1 [00:00<00:00, 274.21it/s]\n"
     ]
    },
    {
     "name": "stdout",
     "output_type": "stream",
     "text": [
      "Exporting 1588 column features\n",
      "Exporting 1588 column features\n",
      "Exporting 1588 column features\n"
     ]
    },
    {
     "name": "stderr",
     "output_type": "stream",
     "text": [
      "Extracting Features: 100%|███████████████████████████████████████████████████████████████| 1/1 [00:00<00:00, 260.21it/s]\n",
      "Extracting Features: 100%|███████████████████████████████████████████████████████████████| 3/3 [00:00<00:00, 218.34it/s]\n",
      "Extracting Features: 100%|███████████████████████████████████████████████████████████████| 3/3 [00:00<00:00, 429.54it/s]\n"
     ]
    },
    {
     "name": "stdout",
     "output_type": "stream",
     "text": [
      "Exporting 1588 column features\n",
      "Exporting 1588 column features\n",
      "Exporting 1588 column features\n"
     ]
    },
    {
     "name": "stderr",
     "output_type": "stream",
     "text": [
      "Extracting Features: 100%|███████████████████████████████████████████████████████████████| 3/3 [00:00<00:00, 292.39it/s]\n",
      "Extracting Features: 100%|███████████████████████████████████████████████████████████████| 3/3 [00:00<00:00, 481.70it/s]\n",
      "Extracting Features: 100%|███████████████████████████████████████████████████████████████| 1/1 [00:00<00:00, 179.11it/s]\n"
     ]
    },
    {
     "name": "stdout",
     "output_type": "stream",
     "text": [
      "Exporting 1588 column features\n",
      "Exporting 1588 column features\n",
      "Exporting 1588 column features\n"
     ]
    },
    {
     "name": "stderr",
     "output_type": "stream",
     "text": [
      "Extracting Features: 100%|███████████████████████████████████████████████████████████████| 3/3 [00:00<00:00, 394.31it/s]\n",
      "Extracting Features: 100%|███████████████████████████████████████████████████████████████| 3/3 [00:00<00:00, 455.80it/s]\n",
      "Extracting Features: 100%|███████████████████████████████████████████████████████████████| 3/3 [00:00<00:00, 293.22it/s]\n"
     ]
    },
    {
     "name": "stdout",
     "output_type": "stream",
     "text": [
      "Exporting 1588 column features\n",
      "Exporting 1588 column features\n",
      "Exporting 1588 column features\n"
     ]
    },
    {
     "name": "stderr",
     "output_type": "stream",
     "text": [
      "Extracting Features: 100%|███████████████████████████████████████████████████████████████| 1/1 [00:00<00:00, 182.58it/s]\n",
      "Extracting Features: 100%|███████████████████████████████████████████████████████████████| 1/1 [00:00<00:00, 209.86it/s]\n",
      "Extracting Features: 100%|███████████████████████████████████████████████████████████████| 1/1 [00:00<00:00, 157.88it/s]\n"
     ]
    },
    {
     "name": "stdout",
     "output_type": "stream",
     "text": [
      "Exporting 1588 column features\n",
      "Exporting 1588 column features\n",
      "Exporting 1588 column features\n"
     ]
    },
    {
     "name": "stderr",
     "output_type": "stream",
     "text": [
      "Extracting Features: 100%|███████████████████████████████████████████████████████████████| 2/2 [00:00<00:00, 179.27it/s]\n",
      "Extracting Features: 100%|███████████████████████████████████████████████████████████████| 1/1 [00:00<00:00, 166.53it/s]\n",
      "Extracting Features: 100%|███████████████████████████████████████████████████████████████| 3/3 [00:00<00:00, 390.97it/s]\n"
     ]
    },
    {
     "name": "stdout",
     "output_type": "stream",
     "text": [
      "Exporting 1588 column features\n",
      "Exporting 1588 column features\n",
      "Exporting 1588 column features\n"
     ]
    },
    {
     "name": "stderr",
     "output_type": "stream",
     "text": [
      "Extracting Features: 100%|███████████████████████████████████████████████████████████████| 2/2 [00:00<00:00, 271.63it/s]\n",
      "Extracting Features: 100%|███████████████████████████████████████████████████████████████| 3/3 [00:00<00:00, 429.39it/s]\n",
      "Extracting Features:   0%|                                                                        | 0/2 [00:00<?, ?it/s]"
     ]
    },
    {
     "name": "stdout",
     "output_type": "stream",
     "text": [
      "Exporting 1588 column features\n",
      "Exporting 1588 column features\n",
      "Exporting 1588 column features\n"
     ]
    },
    {
     "name": "stderr",
     "output_type": "stream",
     "text": [
      "Extracting Features: 100%|████████████████████████████████████████████████████████████████| 2/2 [00:00<00:00, 92.21it/s]\n",
      "Extracting Features: 100%|███████████████████████████████████████████████████████████████| 3/3 [00:00<00:00, 342.65it/s]\n",
      "Extracting Features: 100%|███████████████████████████████████████████████████████████████| 1/1 [00:00<00:00, 228.87it/s]\n",
      "Extracting Features:   0%|                                                                        | 0/2 [00:00<?, ?it/s]"
     ]
    },
    {
     "name": "stdout",
     "output_type": "stream",
     "text": [
      "Exporting 1588 column features\n",
      "Exporting 1588 column features\n",
      "Exporting 1588 column features\n"
     ]
    },
    {
     "name": "stderr",
     "output_type": "stream",
     "text": [
      "Extracting Features: 100%|████████████████████████████████████████████████████████████████| 2/2 [00:00<00:00, 65.67it/s]\n",
      "Extracting Features: 100%|███████████████████████████████████████████████████████████████| 3/3 [00:00<00:00, 442.75it/s]\n",
      "Extracting Features: 100%|███████████████████████████████████████████████████████████████| 3/3 [00:00<00:00, 405.03it/s]\n",
      "Extracting Features: 100%|███████████████████████████████████████████████████████████████| 1/1 [00:00<00:00, 212.11it/s]"
     ]
    },
    {
     "name": "stdout",
     "output_type": "stream",
     "text": [
      "Exporting 1588 column features\n",
      "Exporting 1588 column features\n",
      "Exporting 1588 column features\n"
     ]
    },
    {
     "name": "stderr",
     "output_type": "stream",
     "text": [
      "\n",
      "Extracting Features: 100%|███████████████████████████████████████████████████████████████| 3/3 [00:00<00:00, 385.65it/s]\n",
      "Extracting Features: 100%|███████████████████████████████████████████████████████████████| 3/3 [00:00<00:00, 290.42it/s]\n",
      "Extracting Features: 100%|███████████████████████████████████████████████████████████████| 4/4 [00:00<00:00, 408.59it/s]\n"
     ]
    },
    {
     "name": "stdout",
     "output_type": "stream",
     "text": [
      "Exporting 1588 column features\n",
      "Exporting 1588 column features\n",
      "Exporting 1588 column features\n"
     ]
    },
    {
     "name": "stderr",
     "output_type": "stream",
     "text": [
      "Extracting Features: 100%|███████████████████████████████████████████████████████████████| 3/3 [00:00<00:00, 326.74it/s]\n",
      "Extracting Features: 100%|███████████████████████████████████████████████████████████████| 1/1 [00:00<00:00, 146.92it/s]\n",
      "Extracting Features: 100%|███████████████████████████████████████████████████████████████| 3/3 [00:00<00:00, 322.35it/s]\n"
     ]
    },
    {
     "name": "stdout",
     "output_type": "stream",
     "text": [
      "Exporting 1588 column features\n",
      "Exporting 1588 column features\n",
      "Exporting 1588 column features\n"
     ]
    },
    {
     "name": "stderr",
     "output_type": "stream",
     "text": [
      "Extracting Features: 100%|███████████████████████████████████████████████████████████████| 3/3 [00:00<00:00, 291.30it/s]\n",
      "Extracting Features: 100%|███████████████████████████████████████████████████████████████| 3/3 [00:00<00:00, 301.71it/s]\n",
      "Extracting Features: 100%|███████████████████████████████████████████████████████████████| 3/3 [00:00<00:00, 341.13it/s]\n"
     ]
    },
    {
     "name": "stdout",
     "output_type": "stream",
     "text": [
      "Exporting 1588 column features\n",
      "Exporting 1588 column features\n",
      "Exporting 1588 column features\n"
     ]
    },
    {
     "name": "stderr",
     "output_type": "stream",
     "text": [
      "Extracting Features: 100%|███████████████████████████████████████████████████████████████| 2/2 [00:00<00:00, 123.99it/s]\n",
      "Extracting Features: 100%|███████████████████████████████████████████████████████████████| 1/1 [00:00<00:00, 165.60it/s]\n",
      "Extracting Features: 100%|███████████████████████████████████████████████████████████████| 4/4 [00:00<00:00, 380.54it/s]\n"
     ]
    },
    {
     "name": "stdout",
     "output_type": "stream",
     "text": [
      "Exporting 1588 column features\n",
      "Exporting 1588 column features\n",
      "Exporting 1588 column features\n"
     ]
    },
    {
     "name": "stderr",
     "output_type": "stream",
     "text": [
      "Extracting Features: 100%|███████████████████████████████████████████████████████████████| 1/1 [00:00<00:00, 203.56it/s]\n",
      "Extracting Features: 100%|████████████████████████████████████████████████████████████████| 1/1 [00:00<00:00, 77.62it/s]\n",
      "Extracting Features: 100%|███████████████████████████████████████████████████████████████| 2/2 [00:00<00:00, 267.73it/s]\n"
     ]
    },
    {
     "name": "stdout",
     "output_type": "stream",
     "text": [
      "Exporting 1588 column features\n",
      "Exporting 1588 column features\n",
      "Exporting 1588 column features\n"
     ]
    },
    {
     "name": "stderr",
     "output_type": "stream",
     "text": [
      "Extracting Features: 100%|███████████████████████████████████████████████████████████████| 2/2 [00:00<00:00, 329.38it/s]\n",
      "Extracting Features: 100%|███████████████████████████████████████████████████████████████| 1/1 [00:00<00:00, 146.26it/s]\n",
      "Extracting Features: 100%|███████████████████████████████████████████████████████████████| 1/1 [00:00<00:00, 315.53it/s]\n"
     ]
    },
    {
     "name": "stdout",
     "output_type": "stream",
     "text": [
      "Exporting 1588 column features\n",
      "Exporting 1588 column features\n",
      "Exporting 1588 column features\n"
     ]
    },
    {
     "name": "stderr",
     "output_type": "stream",
     "text": [
      "Extracting Features: 100%|███████████████████████████████████████████████████████████████| 1/1 [00:00<00:00, 262.39it/s]\n",
      "Extracting Features: 100%|███████████████████████████████████████████████████████████████| 4/4 [00:00<00:00, 306.69it/s]\n",
      "Extracting Features: 100%|███████████████████████████████████████████████████████████████| 3/3 [00:00<00:00, 403.26it/s]\n"
     ]
    },
    {
     "name": "stdout",
     "output_type": "stream",
     "text": [
      "Exporting 1588 column features\n",
      "Exporting 1588 column features\n",
      "Exporting 1588 column features\n"
     ]
    },
    {
     "name": "stderr",
     "output_type": "stream",
     "text": [
      "Extracting Features: 100%|███████████████████████████████████████████████████████████████| 3/3 [00:00<00:00, 359.77it/s]\n",
      "Extracting Features: 100%|███████████████████████████████████████████████████████████████| 1/1 [00:00<00:00, 358.82it/s]\n",
      "Extracting Features: 100%|███████████████████████████████████████████████████████████████| 3/3 [00:00<00:00, 428.46it/s]\n"
     ]
    },
    {
     "name": "stdout",
     "output_type": "stream",
     "text": [
      "Exporting 1588 column features\n",
      "Exporting 1588 column features\n",
      "Exporting 1588 column features\n"
     ]
    },
    {
     "name": "stderr",
     "output_type": "stream",
     "text": [
      "Extracting Features: 100%|███████████████████████████████████████████████████████████████| 1/1 [00:00<00:00, 228.52it/s]\n",
      "Extracting Features: 100%|███████████████████████████████████████████████████████████████| 3/3 [00:00<00:00, 430.04it/s]\n",
      "Extracting Features: 100%|███████████████████████████████████████████████████████████████| 4/4 [00:00<00:00, 425.07it/s]\n"
     ]
    },
    {
     "name": "stdout",
     "output_type": "stream",
     "text": [
      "Exporting 1588 column features\n",
      "Exporting 1588 column features\n",
      "Exporting 1588 column features\n"
     ]
    },
    {
     "name": "stderr",
     "output_type": "stream",
     "text": [
      "Extracting Features: 100%|███████████████████████████████████████████████████████████████| 1/1 [00:00<00:00, 259.39it/s]\n",
      "Extracting Features: 100%|███████████████████████████████████████████████████████████████| 1/1 [00:00<00:00, 231.24it/s]\n",
      "Extracting Features: 100%|███████████████████████████████████████████████████████████████| 1/1 [00:00<00:00, 166.49it/s]\n"
     ]
    },
    {
     "name": "stdout",
     "output_type": "stream",
     "text": [
      "Exporting 1588 column features\n",
      "Exporting 1588 column features\n",
      "Exporting 1588 column features\n"
     ]
    },
    {
     "name": "stderr",
     "output_type": "stream",
     "text": [
      "Extracting Features: 100%|████████████████████████████████████████████████████████████████| 2/2 [00:00<00:00, 60.80it/s]\n",
      "Extracting Features: 100%|███████████████████████████████████████████████████████████████| 3/3 [00:00<00:00, 242.33it/s]\n",
      "Extracting Features: 100%|███████████████████████████████████████████████████████████████| 2/2 [00:00<00:00, 108.18it/s]"
     ]
    },
    {
     "name": "stdout",
     "output_type": "stream",
     "text": [
      "Exporting 1588 column features\n",
      "Exporting 1588 column features\n",
      "Exporting 1588 column features\n"
     ]
    },
    {
     "name": "stderr",
     "output_type": "stream",
     "text": [
      "\n",
      "Extracting Features: 100%|███████████████████████████████████████████████████████████████| 1/1 [00:00<00:00, 200.50it/s]\n",
      "Extracting Features: 100%|███████████████████████████████████████████████████████████████| 3/3 [00:00<00:00, 420.78it/s]\n",
      "Extracting Features: 100%|███████████████████████████████████████████████████████████████| 1/1 [00:00<00:00, 223.36it/s]\n",
      "Extracting Features:   0%|                                                                        | 0/1 [00:00<?, ?it/s]"
     ]
    },
    {
     "name": "stdout",
     "output_type": "stream",
     "text": [
      "Exporting 1588 column features\n",
      "Exporting 1588 column features\n",
      "Exporting 1588 column features\n",
      "Exporting 1588 column features\n"
     ]
    },
    {
     "name": "stderr",
     "output_type": "stream",
     "text": [
      "Extracting Features: 100%|███████████████████████████████████████████████████████████████| 1/1 [00:00<00:00, 221.79it/s]\n",
      "Extracting Features: 100%|███████████████████████████████████████████████████████████████| 3/3 [00:00<00:00, 244.87it/s]\n",
      "Extracting Features: 100%|███████████████████████████████████████████████████████████████| 1/1 [00:00<00:00, 224.92it/s]\n",
      "Extracting Features: 100%|███████████████████████████████████████████████████████████████| 3/3 [00:00<00:00, 401.64it/s]\n"
     ]
    },
    {
     "name": "stdout",
     "output_type": "stream",
     "text": [
      "Exporting 1588 column features\n",
      "Exporting 1588 column features\n",
      "Exporting 1588 column features\n"
     ]
    },
    {
     "name": "stderr",
     "output_type": "stream",
     "text": [
      "Extracting Features: 100%|███████████████████████████████████████████████████████████████| 1/1 [00:00<00:00, 259.64it/s]\n",
      "Extracting Features: 100%|███████████████████████████████████████████████████████████████| 1/1 [00:00<00:00, 239.66it/s]\n",
      "Extracting Features: 100%|███████████████████████████████████████████████████████████████| 1/1 [00:00<00:00, 336.76it/s]\n"
     ]
    },
    {
     "name": "stdout",
     "output_type": "stream",
     "text": [
      "Exporting 1588 column features\n",
      "Exporting 1588 column features\n",
      "Exporting 1588 column features\n"
     ]
    },
    {
     "name": "stderr",
     "output_type": "stream",
     "text": [
      "Extracting Features: 100%|███████████████████████████████████████████████████████████████| 1/1 [00:00<00:00, 229.90it/s]\n",
      "Extracting Features: 100%|███████████████████████████████████████████████████████████████| 2/2 [00:00<00:00, 125.31it/s]\n",
      "Extracting Features: 100%|███████████████████████████████████████████████████████████████| 3/3 [00:00<00:00, 347.47it/s]\n"
     ]
    },
    {
     "name": "stdout",
     "output_type": "stream",
     "text": [
      "Exporting 1588 column features\n",
      "Exporting 1588 column features\n",
      "Exporting 1588 column features\n"
     ]
    },
    {
     "name": "stderr",
     "output_type": "stream",
     "text": [
      "Extracting Features: 100%|███████████████████████████████████████████████████████████████| 1/1 [00:00<00:00, 293.02it/s]\n",
      "Extracting Features: 100%|███████████████████████████████████████████████████████████████| 3/3 [00:00<00:00, 419.81it/s]\n",
      "Extracting Features: 100%|███████████████████████████████████████████████████████████████| 4/4 [00:00<00:00, 312.67it/s]\n"
     ]
    },
    {
     "name": "stdout",
     "output_type": "stream",
     "text": [
      "Exporting 1588 column features\n",
      "Exporting 1588 column features\n",
      "Exporting 1588 column features\n"
     ]
    },
    {
     "name": "stderr",
     "output_type": "stream",
     "text": [
      "Extracting Features: 100%|███████████████████████████████████████████████████████████████| 3/3 [00:00<00:00, 408.24it/s]\n",
      "Extracting Features: 100%|███████████████████████████████████████████████████████████████| 1/1 [00:00<00:00, 436.54it/s]\n",
      "Extracting Features: 100%|███████████████████████████████████████████████████████████████| 3/3 [00:00<00:00, 414.94it/s]\n"
     ]
    },
    {
     "name": "stdout",
     "output_type": "stream",
     "text": [
      "Exporting 1588 column features\n",
      "Exporting 1588 column features\n",
      "Exporting 1588 column features\n"
     ]
    },
    {
     "name": "stderr",
     "output_type": "stream",
     "text": [
      "Extracting Features: 100%|███████████████████████████████████████████████████████████████| 1/1 [00:00<00:00, 209.56it/s]\n",
      "Extracting Features: 100%|███████████████████████████████████████████████████████████████| 3/3 [00:00<00:00, 294.22it/s]\n",
      "Extracting Features: 100%|███████████████████████████████████████████████████████████████| 3/3 [00:00<00:00, 378.51it/s]\n"
     ]
    },
    {
     "name": "stdout",
     "output_type": "stream",
     "text": [
      "Exporting 1588 column features\n",
      "Exporting 1588 column features\n",
      "Exporting 1588 column features\n"
     ]
    },
    {
     "name": "stderr",
     "output_type": "stream",
     "text": [
      "Extracting Features: 100%|███████████████████████████████████████████████████████████████| 3/3 [00:00<00:00, 302.17it/s]\n",
      "Extracting Features: 100%|███████████████████████████████████████████████████████████████| 1/1 [00:00<00:00, 303.36it/s]\n",
      "Extracting Features: 100%|███████████████████████████████████████████████████████████████| 1/1 [00:00<00:00, 279.42it/s]\n",
      "Extracting Features:   0%|                                                                        | 0/1 [00:00<?, ?it/s]"
     ]
    },
    {
     "name": "stdout",
     "output_type": "stream",
     "text": [
      "Exporting 1588 column features\n",
      "Exporting 1588 column features\n",
      "Exporting 1588 column features\n",
      "Exporting 1588 column features\n"
     ]
    },
    {
     "name": "stderr",
     "output_type": "stream",
     "text": [
      "Extracting Features: 100%|████████████████████████████████████████████████████████████████| 1/1 [00:00<00:00, 74.51it/s]\n",
      "Extracting Features: 100%|███████████████████████████████████████████████████████████████| 1/1 [00:00<00:00, 233.24it/s]\n",
      "Extracting Features: 100%|███████████████████████████████████████████████████████████████| 1/1 [00:00<00:00, 228.17it/s]\n",
      "Extracting Features: 100%|███████████████████████████████████████████████████████████████| 4/4 [00:00<00:00, 423.63it/s]\n"
     ]
    },
    {
     "name": "stdout",
     "output_type": "stream",
     "text": [
      "Exporting 1588 column features\n",
      "Exporting 1588 column features\n",
      "Exporting 1588 column features\n"
     ]
    },
    {
     "name": "stderr",
     "output_type": "stream",
     "text": [
      "Extracting Features: 100%|███████████████████████████████████████████████████████████████| 1/1 [00:00<00:00, 237.92it/s]\n",
      "Extracting Features: 100%|███████████████████████████████████████████████████████████████| 1/1 [00:00<00:00, 243.64it/s]\n",
      "Extracting Features: 100%|███████████████████████████████████████████████████████████████| 1/1 [00:00<00:00, 226.95it/s]\n"
     ]
    },
    {
     "name": "stdout",
     "output_type": "stream",
     "text": [
      "Exporting 1588 column features\n",
      "Exporting 1588 column features\n",
      "Exporting 1588 column features\n"
     ]
    },
    {
     "name": "stderr",
     "output_type": "stream",
     "text": [
      "Extracting Features: 100%|███████████████████████████████████████████████████████████████| 3/3 [00:00<00:00, 394.84it/s]\n",
      "Extracting Features: 100%|███████████████████████████████████████████████████████████████| 4/4 [00:00<00:00, 351.70it/s]\n",
      "Extracting Features: 100%|███████████████████████████████████████████████████████████████| 4/4 [00:00<00:00, 465.80it/s]\n"
     ]
    },
    {
     "name": "stdout",
     "output_type": "stream",
     "text": [
      "Exporting 1588 column features\n",
      "Exporting 1588 column features\n",
      "Exporting 1588 column features\n"
     ]
    },
    {
     "name": "stderr",
     "output_type": "stream",
     "text": [
      "Extracting Features: 100%|███████████████████████████████████████████████████████████████| 1/1 [00:00<00:00, 195.71it/s]\n",
      "Extracting Features: 100%|███████████████████████████████████████████████████████████████| 3/3 [00:00<00:00, 364.72it/s]\n",
      "Extracting Features: 100%|███████████████████████████████████████████████████████████████| 1/1 [00:00<00:00, 258.96it/s]\n"
     ]
    },
    {
     "name": "stdout",
     "output_type": "stream",
     "text": [
      "Exporting 1588 column features\n",
      "Exporting 1588 column features\n",
      "Exporting 1588 column features\n"
     ]
    },
    {
     "name": "stderr",
     "output_type": "stream",
     "text": [
      "Extracting Features: 100%|███████████████████████████████████████████████████████████████| 3/3 [00:00<00:00, 334.61it/s]\n",
      "Extracting Features: 100%|███████████████████████████████████████████████████████████████| 1/1 [00:00<00:00, 237.75it/s]\n",
      "Extracting Features: 100%|███████████████████████████████████████████████████████████████| 1/1 [00:00<00:00, 251.07it/s]\n"
     ]
    },
    {
     "name": "stdout",
     "output_type": "stream",
     "text": [
      "Exporting 1588 column features\n",
      "Exporting 1588 column features\n",
      "Exporting 1588 column features\n"
     ]
    },
    {
     "name": "stderr",
     "output_type": "stream",
     "text": [
      "Extracting Features: 100%|███████████████████████████████████████████████████████████████| 3/3 [00:00<00:00, 483.85it/s]\n",
      "Extracting Features: 100%|███████████████████████████████████████████████████████████████| 4/4 [00:00<00:00, 433.93it/s]\n",
      "Extracting Features: 100%|███████████████████████████████████████████████████████████████| 1/1 [00:00<00:00, 249.17it/s]\n"
     ]
    },
    {
     "name": "stdout",
     "output_type": "stream",
     "text": [
      "Exporting 1588 column features\n",
      "Exporting 1588 column features\n",
      "Exporting 1588 column features\n"
     ]
    },
    {
     "name": "stderr",
     "output_type": "stream",
     "text": [
      "Extracting Features: 100%|███████████████████████████████████████████████████████████████| 4/4 [00:00<00:00, 304.89it/s]\n",
      "Extracting Features: 100%|███████████████████████████████████████████████████████████████| 1/1 [00:00<00:00, 200.97it/s]\n",
      "Extracting Features: 100%|███████████████████████████████████████████████████████████████| 1/1 [00:00<00:00, 277.35it/s]\n"
     ]
    },
    {
     "name": "stdout",
     "output_type": "stream",
     "text": [
      "Exporting 1588 column features\n",
      "Exporting 1588 column features\n",
      "Exporting 1588 column features\n"
     ]
    },
    {
     "name": "stderr",
     "output_type": "stream",
     "text": [
      "Extracting Features: 100%|███████████████████████████████████████████████████████████████| 3/3 [00:00<00:00, 341.69it/s]\n",
      "Extracting Features: 100%|████████████████████████████████████████████████████████████████| 2/2 [00:00<00:00, 93.44it/s]\n",
      "Extracting Features: 100%|███████████████████████████████████████████████████████████████| 1/1 [00:00<00:00, 276.18it/s]\n"
     ]
    },
    {
     "name": "stdout",
     "output_type": "stream",
     "text": [
      "Exporting 1588 column features\n",
      "Exporting 1588 column features\n",
      "Exporting 1588 column features\n"
     ]
    },
    {
     "name": "stderr",
     "output_type": "stream",
     "text": [
      "Extracting Features: 100%|███████████████████████████████████████████████████████████████| 3/3 [00:00<00:00, 400.12it/s]\n",
      "Extracting Features: 100%|███████████████████████████████████████████████████████████████| 1/1 [00:00<00:00, 249.05it/s]\n",
      "Extracting Features: 100%|███████████████████████████████████████████████████████████████| 4/4 [00:00<00:00, 509.85it/s]\n"
     ]
    },
    {
     "name": "stdout",
     "output_type": "stream",
     "text": [
      "Exporting 1588 column features\n",
      "Exporting 1588 column features\n",
      "Exporting 1588 column features\n"
     ]
    },
    {
     "name": "stderr",
     "output_type": "stream",
     "text": [
      "Extracting Features: 100%|███████████████████████████████████████████████████████████████| 1/1 [00:00<00:00, 288.19it/s]\n",
      "Extracting Features: 100%|███████████████████████████████████████████████████████████████| 2/2 [00:00<00:00, 138.80it/s]\n",
      "Extracting Features: 100%|███████████████████████████████████████████████████████████████| 1/1 [00:00<00:00, 287.12it/s]\n"
     ]
    },
    {
     "name": "stdout",
     "output_type": "stream",
     "text": [
      "Exporting 1588 column features\n",
      "Exporting 1588 column features\n",
      "Exporting 1588 column features\n"
     ]
    },
    {
     "name": "stderr",
     "output_type": "stream",
     "text": [
      "Extracting Features: 100%|███████████████████████████████████████████████████████████████| 1/1 [00:00<00:00, 257.15it/s]\n",
      "Extracting Features: 100%|███████████████████████████████████████████████████████████████| 4/4 [00:00<00:00, 336.21it/s]\n",
      "Extracting Features: 100%|███████████████████████████████████████████████████████████████| 4/4 [00:00<00:00, 496.41it/s]\n"
     ]
    },
    {
     "name": "stdout",
     "output_type": "stream",
     "text": [
      "Exporting 1588 column features\n",
      "Exporting 1588 column features\n",
      "Exporting 1588 column features\n"
     ]
    },
    {
     "name": "stderr",
     "output_type": "stream",
     "text": [
      "Extracting Features: 100%|███████████████████████████████████████████████████████████████| 2/2 [00:00<00:00, 137.53it/s]\n",
      "Extracting Features: 100%|███████████████████████████████████████████████████████████████| 1/1 [00:00<00:00, 224.23it/s]\n",
      "Extracting Features: 100%|███████████████████████████████████████████████████████████████| 1/1 [00:00<00:00, 203.24it/s]"
     ]
    },
    {
     "name": "stdout",
     "output_type": "stream",
     "text": [
      "Exporting 1588 column features\n",
      "Exporting 1588 column features\n",
      "Exporting 1588 column features\n"
     ]
    },
    {
     "name": "stderr",
     "output_type": "stream",
     "text": [
      "\n",
      "Extracting Features: 100%|███████████████████████████████████████████████████████████████| 1/1 [00:00<00:00, 285.19it/s]\n",
      "Extracting Features: 100%|███████████████████████████████████████████████████████████████| 1/1 [00:00<00:00, 162.61it/s]\n",
      "Extracting Features: 100%|███████████████████████████████████████████████████████████████| 3/3 [00:00<00:00, 265.77it/s]\n"
     ]
    },
    {
     "name": "stdout",
     "output_type": "stream",
     "text": [
      "Exporting 1588 column features\n",
      "Exporting 1588 column features\n",
      "Exporting 1588 column features\n"
     ]
    },
    {
     "name": "stderr",
     "output_type": "stream",
     "text": [
      "Extracting Features: 100%|███████████████████████████████████████████████████████████████| 4/4 [00:00<00:00, 394.86it/s]\n",
      "Extracting Features: 100%|████████████████████████████████████████████████████████████████| 1/1 [00:00<00:00, 72.19it/s]\n",
      "Extracting Features: 100%|███████████████████████████████████████████████████████████████| 1/1 [00:00<00:00, 202.51it/s]\n"
     ]
    },
    {
     "name": "stdout",
     "output_type": "stream",
     "text": [
      "Exporting 1588 column features\n",
      "Exporting 1588 column features\n",
      "Exporting 1588 column features\n"
     ]
    },
    {
     "name": "stderr",
     "output_type": "stream",
     "text": [
      "Extracting Features: 100%|███████████████████████████████████████████████████████████████| 1/1 [00:00<00:00, 255.47it/s]\n",
      "Extracting Features: 100%|███████████████████████████████████████████████████████████████| 1/1 [00:00<00:00, 241.52it/s]\n"
     ]
    },
    {
     "name": "stdout",
     "output_type": "stream",
     "text": [
      "Exporting 1588 column features\n",
      "Exporting 1588 column features\n"
     ]
    },
    {
     "data": {
      "text/plain": [
       "Counter({1: 299, 2: 68, 4: 32, 3: 80, 5: 2})"
      ]
     },
     "execution_count": 7,
     "metadata": {},
     "output_type": "execute_result"
    }
   ],
   "source": [
    "path_out = '../data/data/gittables_benchmark/reannotated_temp'\n",
    "makedirs(path_out, exist_ok=True)\n",
    "columns = []\n",
    "col_true_types = []\n",
    "table_review_needed = {}\n",
    "table_predicted_types = {}\n",
    "table_true_types = {}\n",
    "table_ids = []\n",
    "col_ids = []\n",
    "table_col_amounts = []\n",
    "filepaths = sorted([join(path, 'tables/', f) for f in listdir(join(path, 'tables/')) if f.endswith('.csv')])\n",
    "\n",
    "#Go over the tables in the dataset\n",
    "for fp in filepaths:\n",
    "    table_id = fp[fp.rfind('/')+1:-4][:14]\n",
    "    table_df = pd.read_csv(fp)\n",
    "#     table_df_no_na = pd.read_csv(fp, dtype=str, na_filter=False)\n",
    "#     table_df_no_na.convert_dtypes()\n",
    "#     table_df.convert_dtypes()\n",
    "    dbpedia_table_gts = dbpedia_gt[dbpedia_gt['table_id'].str.contains(table_id)]\n",
    "    dbpedia_table_gts = dbpedia_table_gts[['table_id', 'target_column', 'annotation_label']]\n",
    "    dbpedia_table_gts['table_id'] = dbpedia_table_gts['table_id'].apply(lambda x: table_id)\n",
    "    schema_table_gts = schema_gt[schema_gt['table_id'].str.contains(table_id)]\n",
    "    schema_table_gts = schema_table_gts[['table_id', 'target_column', 'annotation_label']]\n",
    "    schema_table_gts['table_id'] = schema_table_gts['table_id'].apply(lambda x: table_id)\n",
    "    table_gts = pd.merge(dbpedia_table_gts, schema_table_gts, how='outer')\n",
    "#     print(table_gts)\n",
    "\n",
    "    columns = []\n",
    "    col_true_types = []\n",
    "    \n",
    "    for index, gt_row in table_gts.iterrows():\n",
    "        col_type = sherlock_case(gt_row['annotation_label'])\n",
    "        # We only want types that are used in sherlock\n",
    "        if col_type not in types:\n",
    "            continue\n",
    "        col_name = 'col'+ str(gt_row['target_column'])\n",
    "        col_id = table_id[table_id.rfind('_')+1:] + str(gt_row['target_column'])\n",
    "        col = table_df[col_name].convert_dtypes()\n",
    "#         col_no_na = table_df_no_na[col_name]\n",
    "        \n",
    "        if pd.isnull(col).sum() > 0: #Base f1 = 0.31245450119322055\n",
    "            #count returns the amount of valid values in the column, if column does\n",
    "            #not contain any valid values, there is no point in trying to predict/use the column\n",
    "            if col.count() == 0: # 0.35952832125142853\n",
    "                continue\n",
    "#             if col_type in ('year'):\n",
    "#                 print(f'col of type {col_type} contains invalid values, file name: {fp}, col: {col_name}')\n",
    "#                 print(col.astype(object).fillna(''))\n",
    "                \n",
    "        columns.append(list(map(str, col.astype(object).fillna('').to_list()))) #columns need to be converted to list of strings for preprocessing later on\n",
    "        col_true_types.append(col_type)\n",
    "        col_ids.append(col_id)\n",
    "    if(len(columns)==0):\n",
    "        continue\n",
    "    df = pd.DataFrame(zip(*columns), columns=col_true_types)\n",
    "    table_col_amounts.append(len(df.columns))\n",
    "    data = pd.Series(\n",
    "    [\n",
    "        *columns #expand/unpack the list\n",
    "    ],\n",
    "    name=\"values\"\n",
    "    )\n",
    "    extract_features(\n",
    "    join(path_out, \"temporary.csv\"),\n",
    "    data\n",
    "    )\n",
    "    feature_vectors = pd.read_csv(join(path_out, \"temporary.csv\"), dtype=np.float32)\n",
    "    p_types = model.predict(feature_vectors, \"sherlock\").tolist()\n",
    "    table_predicted_types[table_id] = p_types\n",
    "    table_true_types[table_id] = col_true_types\n",
    "    table_review_needed[table_id] = not(p_types == col_true_types)\n",
    "#     df.to_csv(path_out+'/'+table_id+'.csv') #DO NOT UNCOMMENT, unless you want to recreate non-reannotated dataset\n",
    "    table_ids.append(table_id)\n",
    "col_amount_freq = Counter(table_col_amounts)\n",
    "col_amount_freq"
   ]
  },
  {
   "cell_type": "code",
   "execution_count": 8,
   "id": "6a51a823",
   "metadata": {},
   "outputs": [
    {
     "name": "stdout",
     "output_type": "stream",
     "text": [
      "{'col_amount': [1, 2, 4, 3, 5], 'freq': [299, 68, 32, 80, 2]}\n"
     ]
    },
    {
     "data": {
      "text/html": [
       "\n",
       "<div id=\"altair-viz-840baf96aa694192912d354624769a8f\"></div>\n",
       "<script type=\"text/javascript\">\n",
       "  var VEGA_DEBUG = (typeof VEGA_DEBUG == \"undefined\") ? {} : VEGA_DEBUG;\n",
       "  (function(spec, embedOpt){\n",
       "    let outputDiv = document.currentScript.previousElementSibling;\n",
       "    if (outputDiv.id !== \"altair-viz-840baf96aa694192912d354624769a8f\") {\n",
       "      outputDiv = document.getElementById(\"altair-viz-840baf96aa694192912d354624769a8f\");\n",
       "    }\n",
       "    const paths = {\n",
       "      \"vega\": \"https://cdn.jsdelivr.net/npm//vega@5?noext\",\n",
       "      \"vega-lib\": \"https://cdn.jsdelivr.net/npm//vega-lib?noext\",\n",
       "      \"vega-lite\": \"https://cdn.jsdelivr.net/npm//vega-lite@4.17.0?noext\",\n",
       "      \"vega-embed\": \"https://cdn.jsdelivr.net/npm//vega-embed@6?noext\",\n",
       "    };\n",
       "\n",
       "    function maybeLoadScript(lib, version) {\n",
       "      var key = `${lib.replace(\"-\", \"\")}_version`;\n",
       "      return (VEGA_DEBUG[key] == version) ?\n",
       "        Promise.resolve(paths[lib]) :\n",
       "        new Promise(function(resolve, reject) {\n",
       "          var s = document.createElement('script');\n",
       "          document.getElementsByTagName(\"head\")[0].appendChild(s);\n",
       "          s.async = true;\n",
       "          s.onload = () => {\n",
       "            VEGA_DEBUG[key] = version;\n",
       "            return resolve(paths[lib]);\n",
       "          };\n",
       "          s.onerror = () => reject(`Error loading script: ${paths[lib]}`);\n",
       "          s.src = paths[lib];\n",
       "        });\n",
       "    }\n",
       "\n",
       "    function showError(err) {\n",
       "      outputDiv.innerHTML = `<div class=\"error\" style=\"color:red;\">${err}</div>`;\n",
       "      throw err;\n",
       "    }\n",
       "\n",
       "    function displayChart(vegaEmbed) {\n",
       "      vegaEmbed(outputDiv, spec, embedOpt)\n",
       "        .catch(err => showError(`Javascript Error: ${err.message}<br>This usually means there's a typo in your chart specification. See the javascript console for the full traceback.`));\n",
       "    }\n",
       "\n",
       "    if(typeof define === \"function\" && define.amd) {\n",
       "      requirejs.config({paths});\n",
       "      require([\"vega-embed\"], displayChart, err => showError(`Error loading script: ${err.message}`));\n",
       "    } else {\n",
       "      maybeLoadScript(\"vega\", \"5\")\n",
       "        .then(() => maybeLoadScript(\"vega-lite\", \"4.17.0\"))\n",
       "        .then(() => maybeLoadScript(\"vega-embed\", \"6\"))\n",
       "        .catch(showError)\n",
       "        .then(() => displayChart(vegaEmbed));\n",
       "    }\n",
       "  })({\"config\": {\"view\": {\"continuousWidth\": 400, \"continuousHeight\": 300}, \"axis\": {\"labelFontSize\": 18, \"titleFontSize\": 18}, \"axisX\": {\"labelAngle\": 0}}, \"data\": {\"name\": \"data-58fc9323b8813e803b5fe7dfdc850529\"}, \"mark\": {\"type\": \"bar\", \"size\": 40}, \"encoding\": {\"x\": {\"field\": \"col_amount\", \"title\": \"Amount of Columns\", \"type\": \"ordinal\"}, \"y\": {\"field\": \"freq\", \"title\": \"Number of Tables\", \"type\": \"quantitative\"}}, \"height\": 200, \"width\": 500, \"$schema\": \"https://vega.github.io/schema/vega-lite/v4.17.0.json\", \"datasets\": {\"data-58fc9323b8813e803b5fe7dfdc850529\": [{\"index\": 0, \"col_amount\": 1, \"freq\": 299}, {\"index\": 1, \"col_amount\": 2, \"freq\": 68}, {\"index\": 2, \"col_amount\": 4, \"freq\": 32}, {\"index\": 3, \"col_amount\": 3, \"freq\": 80}, {\"index\": 4, \"col_amount\": 5, \"freq\": 2}]}}, {\"mode\": \"vega-lite\"});\n",
       "</script>"
      ],
      "text/plain": [
       "alt.Chart(...)"
      ]
     },
     "execution_count": 8,
     "metadata": {},
     "output_type": "execute_result"
    }
   ],
   "source": [
    "# columns per table distribution\n",
    "col_amount_freq_dict = dict(col_amount_freq)\n",
    "df_dict = {'col_amount': list(col_amount_freq_dict.keys()), 'freq': list(col_amount_freq_dict.values())}\n",
    "print(df_dict)\n",
    "col_amount_freq_df = pd.DataFrame(df_dict)\n",
    "alt.Chart(col_amount_freq_df.reset_index()).mark_bar(size=40).encode(\n",
    "    x = alt.X('col_amount',\n",
    "              type='ordinal',\n",
    "              title = 'Amount of Columns',\n",
    "#               sort=alt.EncodingSortField(\n",
    "#                 field=\"values\",  \n",
    "#                 order=\"descending\"),\n",
    "              ),\n",
    "    y = alt.Y('freq', title='Number of Tables'),\n",
    ").configure_axis(\n",
    "    labelFontSize=18,\n",
    "    titleFontSize=18\n",
    ").configure_axisX(\n",
    "    labelAngle=0\n",
    ").properties(width=500,height=200)"
   ]
  },
  {
   "cell_type": "code",
   "execution_count": 10,
   "id": "833ff1ac",
   "metadata": {},
   "outputs": [
    {
     "name": "stdout",
     "output_type": "stream",
     "text": [
      "813\n",
      "{'type': 144, 'state': 20, 'description': 35, 'year': 102, 'class': 64, 'status': 15, 'depth': 13, 'notes': 6, 'code': 17, 'classification': 1, 'location': 2, 'range': 1, 'gender': 1, 'component': 3, 'product': 3, 'category': 5, 'company': 2, 'manufacturer': 2, 'city': 5, 'country': 4, 'name': 210, 'duration': 11, 'language': 4, 'rank': 100, 'species': 27, 'address': 1, 'county': 1, 'team': 2, 'family': 2, 'weight': 3, 'capacity': 1, 'region': 1, 'operator': 1, 'origin': 1, 'collection': 1, 'order': 1, 'age': 1}\n",
      "{'type': ['type', 'state', 'description', 'year', 'class', 'status', 'depth', 'notes', 'code', 'classification', 'location', 'range', 'gender', 'component', 'product', 'category', 'company', 'manufacturer', 'city', 'country', 'name', 'duration', 'language', 'rank', 'species', 'address', 'county', 'team', 'family', 'weight', 'capacity', 'region', 'operator', 'origin', 'collection', 'order', 'age'], 'freq': [144, 20, 35, 102, 64, 15, 13, 6, 17, 1, 2, 1, 1, 3, 3, 5, 2, 2, 5, 4, 210, 11, 4, 100, 27, 1, 1, 2, 2, 3, 1, 1, 1, 1, 1, 1, 1]}\n"
     ]
    },
    {
     "data": {
      "text/html": [
       "\n",
       "<div id=\"altair-viz-6c719b8133064e59ad67afd7a09ed597\"></div>\n",
       "<script type=\"text/javascript\">\n",
       "  var VEGA_DEBUG = (typeof VEGA_DEBUG == \"undefined\") ? {} : VEGA_DEBUG;\n",
       "  (function(spec, embedOpt){\n",
       "    let outputDiv = document.currentScript.previousElementSibling;\n",
       "    if (outputDiv.id !== \"altair-viz-6c719b8133064e59ad67afd7a09ed597\") {\n",
       "      outputDiv = document.getElementById(\"altair-viz-6c719b8133064e59ad67afd7a09ed597\");\n",
       "    }\n",
       "    const paths = {\n",
       "      \"vega\": \"https://cdn.jsdelivr.net/npm//vega@5?noext\",\n",
       "      \"vega-lib\": \"https://cdn.jsdelivr.net/npm//vega-lib?noext\",\n",
       "      \"vega-lite\": \"https://cdn.jsdelivr.net/npm//vega-lite@4.17.0?noext\",\n",
       "      \"vega-embed\": \"https://cdn.jsdelivr.net/npm//vega-embed@6?noext\",\n",
       "    };\n",
       "\n",
       "    function maybeLoadScript(lib, version) {\n",
       "      var key = `${lib.replace(\"-\", \"\")}_version`;\n",
       "      return (VEGA_DEBUG[key] == version) ?\n",
       "        Promise.resolve(paths[lib]) :\n",
       "        new Promise(function(resolve, reject) {\n",
       "          var s = document.createElement('script');\n",
       "          document.getElementsByTagName(\"head\")[0].appendChild(s);\n",
       "          s.async = true;\n",
       "          s.onload = () => {\n",
       "            VEGA_DEBUG[key] = version;\n",
       "            return resolve(paths[lib]);\n",
       "          };\n",
       "          s.onerror = () => reject(`Error loading script: ${paths[lib]}`);\n",
       "          s.src = paths[lib];\n",
       "        });\n",
       "    }\n",
       "\n",
       "    function showError(err) {\n",
       "      outputDiv.innerHTML = `<div class=\"error\" style=\"color:red;\">${err}</div>`;\n",
       "      throw err;\n",
       "    }\n",
       "\n",
       "    function displayChart(vegaEmbed) {\n",
       "      vegaEmbed(outputDiv, spec, embedOpt)\n",
       "        .catch(err => showError(`Javascript Error: ${err.message}<br>This usually means there's a typo in your chart specification. See the javascript console for the full traceback.`));\n",
       "    }\n",
       "\n",
       "    if(typeof define === \"function\" && define.amd) {\n",
       "      requirejs.config({paths});\n",
       "      require([\"vega-embed\"], displayChart, err => showError(`Error loading script: ${err.message}`));\n",
       "    } else {\n",
       "      maybeLoadScript(\"vega\", \"5\")\n",
       "        .then(() => maybeLoadScript(\"vega-lite\", \"4.17.0\"))\n",
       "        .then(() => maybeLoadScript(\"vega-embed\", \"6\"))\n",
       "        .catch(showError)\n",
       "        .then(() => displayChart(vegaEmbed));\n",
       "    }\n",
       "  })({\"config\": {\"view\": {\"continuousWidth\": 400, \"continuousHeight\": 300}, \"axis\": {\"labelFontSize\": 18, \"titleFontSize\": 18}}, \"data\": {\"name\": \"data-91645f0211d2b242f23384017f833b7c\"}, \"mark\": {\"type\": \"bar\", \"size\": 20}, \"encoding\": {\"x\": {\"field\": \"type\", \"sort\": {\"field\": \"freq\", \"order\": \"descending\"}, \"title\": \"Type\", \"type\": \"ordinal\"}, \"y\": {\"field\": \"freq\", \"title\": \"Frequency\", \"type\": \"quantitative\"}}, \"height\": 200, \"width\": 800, \"$schema\": \"https://vega.github.io/schema/vega-lite/v4.17.0.json\", \"datasets\": {\"data-91645f0211d2b242f23384017f833b7c\": [{\"index\": 0, \"type\": \"type\", \"freq\": 144}, {\"index\": 1, \"type\": \"state\", \"freq\": 20}, {\"index\": 2, \"type\": \"description\", \"freq\": 35}, {\"index\": 3, \"type\": \"year\", \"freq\": 102}, {\"index\": 4, \"type\": \"class\", \"freq\": 64}, {\"index\": 5, \"type\": \"status\", \"freq\": 15}, {\"index\": 6, \"type\": \"depth\", \"freq\": 13}, {\"index\": 7, \"type\": \"notes\", \"freq\": 6}, {\"index\": 8, \"type\": \"code\", \"freq\": 17}, {\"index\": 9, \"type\": \"classification\", \"freq\": 1}, {\"index\": 10, \"type\": \"location\", \"freq\": 2}, {\"index\": 11, \"type\": \"range\", \"freq\": 1}, {\"index\": 12, \"type\": \"gender\", \"freq\": 1}, {\"index\": 13, \"type\": \"component\", \"freq\": 3}, {\"index\": 14, \"type\": \"product\", \"freq\": 3}, {\"index\": 15, \"type\": \"category\", \"freq\": 5}, {\"index\": 16, \"type\": \"company\", \"freq\": 2}, {\"index\": 17, \"type\": \"manufacturer\", \"freq\": 2}, {\"index\": 18, \"type\": \"city\", \"freq\": 5}, {\"index\": 19, \"type\": \"country\", \"freq\": 4}, {\"index\": 20, \"type\": \"name\", \"freq\": 210}, {\"index\": 21, \"type\": \"duration\", \"freq\": 11}, {\"index\": 22, \"type\": \"language\", \"freq\": 4}, {\"index\": 23, \"type\": \"rank\", \"freq\": 100}, {\"index\": 24, \"type\": \"species\", \"freq\": 27}, {\"index\": 25, \"type\": \"address\", \"freq\": 1}, {\"index\": 26, \"type\": \"county\", \"freq\": 1}, {\"index\": 27, \"type\": \"team\", \"freq\": 2}, {\"index\": 28, \"type\": \"family\", \"freq\": 2}, {\"index\": 29, \"type\": \"weight\", \"freq\": 3}, {\"index\": 30, \"type\": \"capacity\", \"freq\": 1}, {\"index\": 31, \"type\": \"region\", \"freq\": 1}, {\"index\": 32, \"type\": \"operator\", \"freq\": 1}, {\"index\": 33, \"type\": \"origin\", \"freq\": 1}, {\"index\": 34, \"type\": \"collection\", \"freq\": 1}, {\"index\": 35, \"type\": \"order\", \"freq\": 1}, {\"index\": 36, \"type\": \"age\", \"freq\": 1}]}}, {\"mode\": \"vega-lite\"});\n",
       "</script>"
      ],
      "text/plain": [
       "alt.Chart(...)"
      ]
     },
     "execution_count": 10,
     "metadata": {},
     "output_type": "execute_result"
    }
   ],
   "source": [
    "# Take a closer look at true type distribution\n",
    "true_types = [_type for typelist in table_true_types.values() for _type in typelist]\n",
    "print(len(true_types)) #amount of columns in benchmark\n",
    "type_frequency_dict = dict(Counter(true_types))\n",
    "print(type_frequency_dict)\n",
    "\n",
    "df_dict = {'type': list(type_frequency_dict.keys()), 'freq': list(type_frequency_dict.values())}\n",
    "print(df_dict)\n",
    "type_frequency_df = pd.DataFrame(df_dict)\n",
    "alt.Chart(type_frequency_df.reset_index()).mark_bar(size=20).encode(\n",
    "    x = alt.X('type',\n",
    "              type='ordinal',\n",
    "              title = 'Type',\n",
    "              sort=alt.EncodingSortField(\n",
    "                field=\"freq\",  \n",
    "                order=\"descending\"),\n",
    "              ),\n",
    "    y = alt.Y('freq', title='Frequency'),\n",
    ").configure_axis(\n",
    "    labelFontSize=18,\n",
    "    titleFontSize=18\n",
    ").properties(width=800,height=200)\n",
    "# temp_df = pd.DataFrame(true_types, columns=['type'])\n",
    "# # type_occurrence_df = type_occurrence_df.groupby('type').count()\n",
    "# type_occurrence_df = pd.DataFrame(set(true_types), columns=['type'])\n",
    "# type_occurrence_df['freq_count'] = temp_df.groupby('type')['type'].transform('count')\n",
    "# # print(type_occurrence_df)\n",
    "# alt.Chart(type_occurrence_df).mark_bar(size=20).encode(\n",
    "#     x = alt.X('type:O',\n",
    "#               title = 'Semantic Types',\n",
    "#               sort=alt.EncodingSortField(\n",
    "#                 field=\"freq_count\",  \n",
    "#                 order=\"descending\"),\n",
    "#              ),\n",
    "#     y = alt.Y('freq_count', title='Number of Samples'),\n",
    "# #     color=alt.condition(\n",
    "# #         alt.Predicate(alt.FieldOneOfPredicate(field='type', oneOf=shown_types)),\n",
    "# #         alt.value('orange'),\n",
    "# #         alt.value('steelblue')\n",
    "# #     ),\n",
    "# ).configure_axis(\n",
    "#     labelFontSize=18,\n",
    "#     titleFontSize=18\n",
    "# ).properties(width=800,height=200)"
   ]
  },
  {
   "cell_type": "code",
   "execution_count": 90,
   "id": "76101475",
   "metadata": {},
   "outputs": [
    {
     "name": "stdout",
     "output_type": "stream",
     "text": [
      "96\n"
     ]
    }
   ],
   "source": [
    "# frequency of equally type tables\n",
    "frequently_occurring_types_1 = ['state', 'type']\n",
    "frequently_occurring_types_2 = ['name', 'rank', 'year']\n",
    "occurrence_count = 0\n",
    "for table_tt in table_true_types.values():\n",
    "    if set(frequently_occurring_types_2).issubset(table_tt):\n",
    "        occurrence_count += 1\n",
    "print(occurrence_count)       "
   ]
  },
  {
   "cell_type": "code",
   "execution_count": 9,
   "id": "8c7f849b",
   "metadata": {
    "scrolled": true
   },
   "outputs": [
    {
     "name": "stdout",
     "output_type": "stream",
     "text": [
      "True\n",
      "['sex']\n"
     ]
    }
   ],
   "source": [
    "table_id = 'GitTables_1733'\n",
    "print(table_review_needed[table_id])\n",
    "print(table_predicted_types[table_id])"
   ]
  },
  {
   "cell_type": "code",
   "execution_count": 10,
   "id": "9ff9a4ab",
   "metadata": {},
   "outputs": [
    {
     "name": "stdout",
     "output_type": "stream",
     "text": [
      "GitTables_1503\n",
      "['state', 'type']\n",
      "['type', 'location']\n",
      "GitTables_1504\n",
      "['description']\n",
      "['notes']\n",
      "GitTables_1511\n",
      "['state', 'type']\n",
      "['category', 'type']\n",
      "GitTables_1512\n",
      "['type']\n",
      "['origin']\n",
      "GitTables_1516\n",
      "['class']\n",
      "['address']\n",
      "GitTables_1524\n",
      "['type']\n",
      "['symbol']\n",
      "GitTables_1525\n",
      "['class']\n",
      "['order']\n",
      "GitTables_1527\n",
      "['status']\n",
      "['artist']\n",
      "GitTables_1529\n",
      "['class']\n",
      "['address']\n",
      "GitTables_1531\n",
      "['type']\n",
      "['address']\n",
      "GitTables_1533\n",
      "['depth']\n",
      "['address']\n",
      "GitTables_1536\n",
      "['notes']\n",
      "['description']\n",
      "GitTables_1537\n",
      "['class']\n",
      "['address']\n",
      "GitTables_1538\n",
      "['class', 'code']\n",
      "['sex', 'rank']\n",
      "GitTables_1539\n",
      "['depth']\n",
      "['address']\n",
      "GitTables_1542\n",
      "['type']\n",
      "['address']\n",
      "GitTables_1544\n",
      "['class', 'description']\n",
      "['address', 'command']\n",
      "GitTables_1545\n",
      "['type']\n",
      "['address']\n",
      "GitTables_1546\n",
      "['state', 'type']\n",
      "['category', 'type']\n",
      "GitTables_1547\n",
      "['class']\n",
      "['address']\n",
      "GitTables_1548\n",
      "['type']\n",
      "['format']\n",
      "GitTables_1553\n",
      "['class']\n",
      "['address']\n",
      "GitTables_1558\n",
      "['type']\n",
      "['code']\n",
      "GitTables_1560\n",
      "['state', 'type']\n",
      "['category', 'location']\n",
      "GitTables_1561\n",
      "['type']\n",
      "['address']\n",
      "GitTables_1562\n",
      "['class']\n",
      "['address']\n",
      "GitTables_1563\n",
      "['type']\n",
      "['class']\n",
      "GitTables_1570\n",
      "['class']\n",
      "['address']\n",
      "GitTables_1573\n",
      "['state', 'type']\n",
      "['category', 'type']\n",
      "GitTables_1585\n",
      "['state', 'type']\n",
      "['category', 'component']\n",
      "GitTables_1593\n",
      "['depth']\n",
      "['weight']\n",
      "GitTables_1599\n",
      "['depth']\n",
      "['weight']\n",
      "GitTables_1604\n",
      "['code', 'location', 'range', 'type']\n",
      "['result', 'result', 'order', 'address']\n",
      "GitTables_1607\n",
      "['code', 'gender']\n",
      "['age', 'sex']\n",
      "GitTables_1608\n",
      "['class']\n",
      "['address']\n",
      "GitTables_1610\n",
      "['depth']\n",
      "['weight']\n",
      "GitTables_1611\n",
      "['class']\n",
      "['status']\n",
      "GitTables_1613\n",
      "['state', 'type']\n",
      "['type', 'symbol']\n",
      "GitTables_1614\n",
      "['type']\n",
      "['address']\n",
      "GitTables_1617\n",
      "['status']\n",
      "['artist']\n",
      "GitTables_1626\n",
      "['class']\n",
      "['address']\n",
      "GitTables_1630\n",
      "['type']\n",
      "['name']\n",
      "GitTables_1635\n",
      "['type']\n",
      "['address']\n",
      "GitTables_1636\n",
      "['component', 'product', 'status']\n",
      "['type', 'address', 'status']\n",
      "GitTables_1639\n",
      "['type']\n",
      "['class']\n",
      "GitTables_1640\n",
      "['class']\n",
      "['address']\n",
      "GitTables_1649\n",
      "['class']\n",
      "['address']\n",
      "GitTables_1651\n",
      "['type']\n",
      "['product']\n",
      "GitTables_1656\n",
      "['class', 'description']\n",
      "['address', 'command']\n",
      "GitTables_1662\n",
      "['class', 'description']\n",
      "['address', 'description']\n",
      "GitTables_1665\n",
      "['type']\n",
      "['class']\n",
      "GitTables_1667\n",
      "['class']\n",
      "['address']\n",
      "GitTables_1670\n",
      "['type']\n",
      "['area']\n",
      "GitTables_1672\n",
      "['class', 'description']\n",
      "['address', 'description']\n",
      "GitTables_1678\n",
      "['depth']\n",
      "['address']\n",
      "GitTables_1680\n",
      "['class']\n",
      "['address']\n",
      "GitTables_1683\n",
      "['class']\n",
      "['address']\n",
      "GitTables_1688\n",
      "['class', 'description']\n",
      "['description', 'description']\n",
      "GitTables_1694\n",
      "['class']\n",
      "['address']\n",
      "GitTables_1698\n",
      "['class']\n",
      "['address']\n",
      "GitTables_1701\n",
      "['type']\n",
      "['class']\n",
      "GitTables_1704\n",
      "['type']\n",
      "['address']\n",
      "GitTables_1706\n",
      "['description']\n",
      "['result']\n",
      "GitTables_1709\n",
      "['type']\n",
      "['address']\n",
      "GitTables_1726\n",
      "['class']\n",
      "['address']\n",
      "GitTables_1733\n",
      "['product']\n",
      "['sex']\n",
      "GitTables_1737\n",
      "['state', 'type']\n",
      "['category', 'component']\n",
      "GitTables_1741\n",
      "['state', 'type']\n",
      "['category', 'component']\n",
      "GitTables_1745\n",
      "['depth']\n",
      "['weight']\n",
      "GitTables_1747\n",
      "['category', 'company', 'manufacturer', 'notes']\n",
      "['description', 'company', 'company', 'description']\n",
      "GitTables_1755\n",
      "['city', 'country', 'description', 'name']\n",
      "['city', 'region', 'album', 'team']\n",
      "GitTables_1761\n",
      "['status']\n",
      "['artist']\n",
      "GitTables_1764\n",
      "['name']\n",
      "['command']\n",
      "GitTables_1768\n",
      "['duration', 'language', 'type']\n",
      "['rank', 'language', 'region']\n",
      "GitTables_1769\n",
      "['class']\n",
      "['address']\n",
      "GitTables_1770\n",
      "['type']\n",
      "['manufacturer']\n",
      "GitTables_1774\n",
      "['class', 'description']\n",
      "['class', 'notes']\n",
      "GitTables_1775\n",
      "['name']\n",
      "['address']\n",
      "GitTables_1776\n",
      "['type']\n",
      "['component']\n",
      "GitTables_1777\n",
      "['class', 'description']\n",
      "['address', 'result']\n",
      "GitTables_1782\n",
      "['class', 'description']\n",
      "['address', 'description']\n",
      "GitTables_1783\n",
      "['name']\n",
      "['address']\n",
      "GitTables_1785\n",
      "['category', 'name']\n",
      "['gender', 'organisation']\n",
      "GitTables_1786\n",
      "['state', 'type']\n",
      "['category', 'type']\n",
      "GitTables_1794\n",
      "['class']\n",
      "['address']\n",
      "GitTables_1800\n",
      "['class', 'description']\n",
      "['address', 'description']\n",
      "GitTables_1802\n",
      "['depth']\n",
      "['weight']\n",
      "GitTables_1807\n",
      "['type']\n",
      "['address']\n",
      "GitTables_1808\n",
      "['state', 'type']\n",
      "['category', 'type']\n",
      "GitTables_1809\n",
      "['class']\n",
      "['species']\n",
      "GitTables_1816\n",
      "['depth']\n",
      "['weight']\n",
      "GitTables_1818\n",
      "['type']\n",
      "['range']\n",
      "GitTables_1821\n",
      "['type']\n",
      "['language']\n",
      "GitTables_1825\n",
      "['state', 'type']\n",
      "['category', 'component']\n",
      "GitTables_1830\n",
      "['state', 'type']\n",
      "['category', 'type']\n",
      "GitTables_1832\n",
      "['state', 'type']\n",
      "['category', 'location']\n",
      "GitTables_1834\n",
      "['type']\n",
      "['format']\n",
      "GitTables_1847\n",
      "['class', 'description']\n",
      "['type', 'description']\n",
      "GitTables_1848\n",
      "['class', 'description']\n",
      "['component', 'result']\n",
      "GitTables_1854\n",
      "['description']\n",
      "['address']\n",
      "GitTables_1859\n",
      "['class', 'description']\n",
      "['address', 'description']\n",
      "GitTables_1865\n",
      "['class']\n",
      "['address']\n",
      "GitTables_1874\n",
      "['type']\n",
      "['class']\n",
      "GitTables_1875\n",
      "['class']\n",
      "['description']\n",
      "GitTables_1878\n",
      "['category', 'company', 'manufacturer', 'notes']\n",
      "['description', 'company', 'company', 'description']\n",
      "GitTables_1879\n",
      "['class']\n",
      "['address']\n",
      "GitTables_1888\n",
      "['class', 'description']\n",
      "['address', 'format']\n",
      "GitTables_1893\n",
      "['type']\n",
      "['species']\n",
      "GitTables_1895\n",
      "['depth']\n",
      "['weight']\n",
      "GitTables_1903\n",
      "['description']\n",
      "['address']\n",
      "GitTables_1904\n",
      "['state', 'type']\n",
      "['category', 'type']\n",
      "GitTables_1910\n",
      "['type']\n",
      "['class']\n",
      "GitTables_1913\n",
      "['state', 'type']\n",
      "['category', 'location']\n",
      "GitTables_1916\n",
      "['name']\n",
      "['artist']\n",
      "GitTables_1918\n",
      "['description', 'name', 'type']\n",
      "['description', 'name', 'class']\n",
      "GitTables_1920\n",
      "['depth']\n",
      "['weight']\n",
      "GitTables_1921\n",
      "['state', 'type']\n",
      "['category', 'type']\n",
      "GitTables_1922\n",
      "['type']\n",
      "['requirement']\n",
      "GitTables_1929\n",
      "['type']\n",
      "['name']\n",
      "GitTables_1937\n",
      "['depth']\n",
      "['weight']\n",
      "GitTables_1943\n",
      "['type']\n",
      "['class']\n",
      "GitTables_1945\n",
      "['class', 'description']\n",
      "['address', 'result']\n",
      "GitTables_1947\n",
      "['class']\n",
      "['address']\n",
      "GitTables_1959\n",
      "['class']\n",
      "['address']\n",
      "GitTables_1964\n",
      "['class']\n",
      "['address']\n",
      "GitTables_1965\n",
      "['class']\n",
      "['address']\n",
      "GitTables_1966\n",
      "['type']\n",
      "['class']\n",
      "GitTables_1968\n",
      "['class']\n",
      "['address']\n",
      "GitTables_1972\n",
      "['description']\n",
      "['address']\n",
      "GitTables_1973\n",
      "['class']\n",
      "['address']\n",
      "GitTables_1976\n",
      "['class']\n",
      "['address']\n",
      "GitTables_1981\n",
      "['component', 'product', 'status']\n",
      "['category', 'address', 'status']\n",
      "GitTables_1983\n",
      "['class']\n",
      "['address']\n",
      "GitTables_1985\n",
      "['class']\n",
      "['address']\n",
      "GitTables_1990\n",
      "['state', 'type']\n",
      "['type', 'location']\n",
      "GitTables_1994\n",
      "['class', 'description']\n",
      "['type', 'description']\n",
      "GitTables_1995\n",
      "['depth']\n",
      "['weight']\n",
      "GitTables_1998\n",
      "['type']\n",
      "['class']\n",
      "GitTables_1999\n",
      "['class']\n",
      "['address']\n",
      "GitTables_2002\n",
      "['language', 'type']\n",
      "['notes', 'type']\n",
      "GitTables_2003\n",
      "['name']\n",
      "['notes']\n",
      "GitTables_2004\n",
      "['name', 'rank', 'species', 'year']\n",
      "['species', 'species', 'address', 'year']\n",
      "GitTables_2010\n",
      "['name']\n",
      "['position']\n",
      "GitTables_2011\n",
      "['name', 'rank', 'year']\n",
      "['species', 'species', 'birth Date']\n",
      "GitTables_2013\n",
      "['name']\n",
      "['address']\n",
      "GitTables_2015\n",
      "['name', 'rank', 'year']\n",
      "['species', 'species', 'year']\n",
      "GitTables_2020\n",
      "['name']\n",
      "['position']\n",
      "GitTables_2021\n",
      "['name']\n",
      "['notes']\n",
      "GitTables_2022\n",
      "['duration']\n",
      "['rank']\n",
      "GitTables_2025\n",
      "['name', 'rank', 'species', 'year']\n",
      "['species', 'rank', 'species', 'year']\n",
      "GitTables_2027\n",
      "['city', 'name']\n",
      "['city', 'area']\n",
      "GitTables_2029\n",
      "['name', 'rank', 'status', 'year']\n",
      "['address', 'species', 'status', 'year']\n",
      "GitTables_2035\n",
      "['duration']\n",
      "['rank']\n",
      "GitTables_2038\n",
      "['name', 'rank', 'year']\n",
      "['species', 'species', 'year']\n",
      "GitTables_2048\n",
      "['name', 'rank', 'status', 'year']\n",
      "['address', 'species', 'status', 'year']\n",
      "GitTables_2054\n",
      "['class', 'description']\n",
      "['address', 'format']\n",
      "GitTables_2055\n",
      "['name', 'type']\n",
      "['artist', 'type']\n",
      "GitTables_2058\n",
      "['name', 'rank', 'year']\n",
      "['species', 'species', 'year']\n",
      "GitTables_2059\n",
      "['address', 'city', 'county', 'name', 'state']\n",
      "['address', 'city', 'city', 'location', 'origin']\n",
      "GitTables_2063\n",
      "['name', 'rank', 'year']\n",
      "['species', 'species', 'year']\n",
      "GitTables_2064\n",
      "['name']\n",
      "['address']\n",
      "GitTables_2065\n",
      "['team']\n",
      "['person']\n",
      "GitTables_2079\n",
      "['name']\n",
      "['address']\n",
      "GitTables_2083\n",
      "['name', 'rank', 'year']\n",
      "['species', 'species', 'year']\n",
      "GitTables_2084\n",
      "['family', 'species']\n",
      "['address', 'species']\n",
      "GitTables_2089\n",
      "['location']\n",
      "['address']\n",
      "GitTables_2097\n",
      "['name']\n",
      "['notes']\n",
      "GitTables_2099\n",
      "['name']\n",
      "['component']\n",
      "GitTables_2102\n",
      "['name']\n",
      "['address']\n",
      "GitTables_2103\n",
      "['name']\n",
      "['component']\n",
      "GitTables_2106\n",
      "['name']\n",
      "['address']\n",
      "GitTables_2111\n",
      "['description']\n",
      "['status']\n",
      "GitTables_2114\n",
      "['name', 'rank', 'species', 'year']\n",
      "['species', 'species', 'species', 'year']\n",
      "GitTables_2117\n",
      "['description']\n",
      "['notes']\n",
      "GitTables_2124\n",
      "['name', 'rank', 'year']\n",
      "['species', 'species', 'year']\n",
      "GitTables_2133\n",
      "['name']\n",
      "['component']\n",
      "GitTables_2148\n",
      "['name', 'rank', 'species', 'year']\n",
      "['species', 'species', 'address', 'year']\n",
      "GitTables_2149\n",
      "['name', 'rank', 'year']\n",
      "['species', 'species', 'year']\n",
      "GitTables_2151\n",
      "['name']\n",
      "['component']\n",
      "GitTables_2158\n",
      "['code', 'name']\n",
      "['state', 'state']\n",
      "GitTables_2186\n",
      "['rank']\n",
      "['classification']\n",
      "GitTables_2189\n",
      "['name', 'rank', 'year']\n",
      "['species', 'species', 'year']\n",
      "GitTables_2193\n",
      "['name', 'rank', 'year']\n",
      "['species', 'species', 'year']\n",
      "GitTables_2197\n",
      "['name', 'rank', 'species', 'year']\n",
      "['species', 'rank', 'address', 'year']\n",
      "GitTables_2199\n",
      "['duration']\n",
      "['rank']\n",
      "GitTables_2202\n",
      "['name']\n",
      "['notes']\n",
      "GitTables_2205\n",
      "['name']\n",
      "['description']\n",
      "GitTables_2206\n",
      "['name', 'rank', 'year']\n",
      "['species', 'species', 'year']\n",
      "GitTables_2207\n",
      "['name']\n",
      "['address']\n",
      "GitTables_2211\n",
      "['name']\n",
      "['address']\n",
      "GitTables_2212\n",
      "['description', 'name', 'type']\n",
      "['club', 'range', 'type']\n",
      "GitTables_2213\n",
      "['code', 'language', 'name']\n",
      "['name', 'class', 'name']\n",
      "GitTables_2217\n",
      "['name']\n",
      "['component']\n",
      "GitTables_2220\n",
      "['class']\n",
      "['address']\n",
      "GitTables_2225\n",
      "['class']\n",
      "['address']\n",
      "GitTables_2227\n",
      "['weight']\n",
      "['address']\n",
      "GitTables_2229\n",
      "['name']\n",
      "['creator']\n",
      "GitTables_2230\n",
      "['capacity']\n",
      "['region']\n",
      "GitTables_2231\n",
      "['region', 'state']\n",
      "['plays', 'plays']\n",
      "GitTables_2232\n",
      "['code', 'name']\n",
      "['code', 'country']\n",
      "GitTables_2240\n",
      "['type']\n",
      "['address']\n",
      "GitTables_2242\n",
      "['name']\n",
      "['description']\n",
      "GitTables_2243\n",
      "['name']\n",
      "['address']\n",
      "GitTables_2246\n",
      "['name']\n",
      "['description']\n",
      "GitTables_2251\n",
      "['code', 'name']\n",
      "['address', 'creator']\n",
      "GitTables_2252\n",
      "['name', 'rank', 'year']\n",
      "['species', 'species', 'year']\n",
      "GitTables_2266\n",
      "['name', 'rank', 'year']\n",
      "['address', 'species', 'year']\n",
      "GitTables_2276\n",
      "['name', 'rank', 'species', 'year']\n",
      "['address', 'species', 'address', 'year']\n",
      "GitTables_2277\n",
      "['name', 'rank', 'species', 'year']\n",
      "['species', 'species', 'species', 'year']\n",
      "GitTables_2284\n",
      "['name', 'rank', 'year']\n",
      "['species', 'species', 'year']\n",
      "GitTables_2298\n",
      "['name', 'rank', 'year']\n",
      "['species', 'species', 'year']\n",
      "GitTables_2299\n",
      "['name']\n",
      "['position']\n",
      "GitTables_2301\n",
      "['name']\n",
      "['area']\n",
      "GitTables_2302\n",
      "['name', 'operator', 'type']\n",
      "['artist', 'company', 'location']\n",
      "GitTables_2303\n",
      "['name', 'rank', 'year']\n",
      "['address', 'species', 'year']\n",
      "GitTables_2309\n",
      "['name', 'rank', 'year']\n",
      "['species', 'species', 'year']\n",
      "GitTables_2313\n",
      "['name', 'rank', 'species', 'year']\n",
      "['species', 'species', 'address', 'year']\n",
      "GitTables_2314\n",
      "['name', 'rank', 'year']\n",
      "['species', 'species', 'birth Date']\n",
      "GitTables_2320\n",
      "['name']\n",
      "['address']\n",
      "GitTables_2322\n",
      "['name']\n",
      "['component']\n",
      "GitTables_2324\n",
      "['name']\n",
      "['position']\n",
      "GitTables_2325\n",
      "['name', 'rank', 'species', 'year']\n",
      "['species', 'species', 'address', 'year']\n",
      "GitTables_2344\n",
      "['name']\n",
      "['position']\n",
      "GitTables_2345\n",
      "['name', 'rank', 'year']\n",
      "['species', 'species', 'birth Date']\n",
      "GitTables_2347\n",
      "['name', 'rank', 'year']\n",
      "['species', 'species', 'year']\n",
      "GitTables_2349\n",
      "['name', 'rank', 'year']\n",
      "['species', 'species', 'year']\n",
      "GitTables_2351\n",
      "['name', 'rank', 'year']\n",
      "['species', 'species', 'year']\n",
      "GitTables_2357\n",
      "['type']\n",
      "['class']\n",
      "GitTables_2359\n",
      "['name']\n",
      "['description']\n",
      "GitTables_2368\n",
      "['name', 'rank', 'year']\n",
      "['species', 'species', 'year']\n",
      "GitTables_2369\n",
      "['class']\n",
      "['category']\n",
      "GitTables_2376\n",
      "['name', 'rank', 'year']\n",
      "['species', 'species', 'year']\n",
      "GitTables_2378\n",
      "['name', 'rank', 'species', 'year']\n",
      "['species', 'species', 'species', 'year']\n",
      "GitTables_2394\n",
      "['description']\n",
      "['status']\n",
      "GitTables_2396\n",
      "['code', 'name']\n",
      "['state', 'state']\n",
      "GitTables_2398\n",
      "['rank']\n",
      "['range']\n",
      "GitTables_2402\n",
      "['name']\n",
      "['address']\n",
      "GitTables_2410\n",
      "['name', 'rank', 'species', 'status', 'year']\n",
      "['species', 'species', 'species', 'notes', 'year']\n",
      "GitTables_2411\n",
      "['duration']\n",
      "['rank']\n",
      "GitTables_2417\n",
      "['code', 'name']\n",
      "['code', 'area']\n",
      "GitTables_2420\n",
      "['name']\n",
      "['category']\n",
      "GitTables_2424\n",
      "['name', 'rank', 'year']\n",
      "['species', 'species', 'year']\n",
      "GitTables_2425\n",
      "['component', 'name']\n",
      "['address', 'status']\n",
      "GitTables_2430\n",
      "['code', 'name']\n",
      "['address', 'location']\n",
      "GitTables_2451\n",
      "['name', 'rank', 'year']\n",
      "['species', 'species', 'year']\n",
      "GitTables_2456\n",
      "['name', 'rank', 'year']\n",
      "['species', 'species', 'year']\n",
      "GitTables_2459\n",
      "['name', 'rank', 'year']\n",
      "['species', 'species', 'year']\n",
      "GitTables_2462\n",
      "['name']\n",
      "['component']\n",
      "GitTables_2468\n",
      "['code', 'name', 'type']\n",
      "['code', 'name', 'notes']\n",
      "GitTables_2470\n",
      "['notes']\n",
      "['description']\n",
      "GitTables_2479\n",
      "['name', 'rank', 'year']\n",
      "['species', 'species', 'year']\n",
      "GitTables_2480\n",
      "['rank']\n",
      "['command']\n",
      "GitTables_2485\n",
      "['name', 'rank', 'year']\n",
      "['species', 'species', 'year']\n",
      "GitTables_2492\n",
      "['class']\n",
      "['address']\n",
      "GitTables_2493\n",
      "['name']\n",
      "['address']\n",
      "GitTables_2495\n"
     ]
    },
    {
     "name": "stdout",
     "output_type": "stream",
     "text": [
      "['code', 'name']\n",
      "['command', 'component']\n",
      "GitTables_2496\n",
      "['name', 'rank', 'species', 'year']\n",
      "['species', 'species', 'species', 'birth Date']\n",
      "GitTables_2497\n",
      "['class']\n",
      "['product']\n",
      "GitTables_2503\n",
      "['name', 'rank', 'year']\n",
      "['species', 'species', 'year']\n",
      "GitTables_2508\n",
      "['origin', 'type']\n",
      "['address', 'type']\n",
      "GitTables_2511\n",
      "['name', 'rank', 'species', 'year']\n",
      "['species', 'species', 'species', 'year']\n",
      "GitTables_2513\n",
      "['notes']\n",
      "['description']\n",
      "GitTables_2516\n",
      "['name']\n",
      "['position']\n",
      "GitTables_2518\n",
      "['name']\n",
      "['notes']\n",
      "GitTables_2521\n",
      "['category', 'name']\n",
      "['category', 'description']\n",
      "GitTables_2525\n",
      "['name']\n",
      "['address']\n",
      "GitTables_2528\n",
      "['name']\n",
      "['address']\n",
      "GitTables_2533\n",
      "['collection', 'status', 'type']\n",
      "['state', 'rank', 'rank']\n",
      "GitTables_2539\n",
      "['name', 'rank', 'year']\n",
      "['species', 'species', 'year']\n",
      "GitTables_2542\n",
      "['name', 'rank', 'year']\n",
      "['species', 'species', 'year']\n",
      "GitTables_2543\n",
      "['name', 'rank', 'year']\n",
      "['species', 'species', 'birth Date']\n",
      "GitTables_2550\n",
      "['name']\n",
      "['component']\n",
      "GitTables_2551\n",
      "['name', 'rank', 'year']\n",
      "['species', 'species', 'birth Date']\n",
      "GitTables_2556\n",
      "['name', 'rank', 'year']\n",
      "['address', 'species', 'year']\n",
      "GitTables_2557\n",
      "['name', 'rank', 'year']\n",
      "['species', 'species', 'year']\n",
      "GitTables_2563\n",
      "['name']\n",
      "['service']\n",
      "GitTables_2564\n",
      "['name']\n",
      "['notes']\n",
      "GitTables_2569\n",
      "['class']\n",
      "['address']\n",
      "GitTables_2572\n",
      "['city', 'name']\n",
      "['city', 'company']\n",
      "GitTables_2573\n",
      "['name']\n",
      "['component']\n",
      "GitTables_2574\n",
      "['name', 'rank', 'year']\n",
      "['species', 'species', 'year']\n",
      "GitTables_2575\n",
      "['name', 'type']\n",
      "['type', 'plays']\n",
      "GitTables_2583\n",
      "['name', 'rank', 'year']\n",
      "['address', 'species', 'year']\n",
      "GitTables_2594\n",
      "['name', 'rank', 'year']\n",
      "['species', 'species', 'year']\n",
      "GitTables_2604\n",
      "['name']\n",
      "['address']\n",
      "GitTables_2607\n",
      "['code', 'name']\n",
      "['code', 'area']\n",
      "GitTables_2609\n",
      "['name', 'rank', 'year']\n",
      "['species', 'species', 'year']\n",
      "GitTables_2610\n",
      "['name', 'rank', 'year']\n",
      "['species', 'species', 'rank']\n",
      "GitTables_2620\n",
      "['name']\n",
      "['address']\n",
      "GitTables_2628\n",
      "['name', 'rank', 'year']\n",
      "['species', 'species', 'year']\n",
      "GitTables_2634\n",
      "['description', 'name', 'type']\n",
      "['address', 'name', 'type']\n",
      "GitTables_2637\n",
      "['name', 'rank', 'species', 'year']\n",
      "['species', 'rank', 'name', 'year']\n",
      "GitTables_2643\n",
      "['name', 'rank', 'year']\n",
      "['species', 'species', 'year']\n",
      "GitTables_2651\n",
      "['type']\n",
      "['class']\n",
      "GitTables_2653\n",
      "['name', 'rank', 'year']\n",
      "['species', 'species', 'year']\n",
      "GitTables_2654\n",
      "['name', 'rank', 'year']\n",
      "['species', 'species', 'year']\n",
      "GitTables_2657\n",
      "['name', 'rank', 'year']\n",
      "['species', 'species', 'year']\n",
      "GitTables_2658\n",
      "['name', 'rank', 'year']\n",
      "['species', 'species', 'year']\n",
      "GitTables_2660\n",
      "['class', 'description']\n",
      "['format', 'operator']\n",
      "GitTables_2662\n",
      "['name']\n",
      "['component']\n",
      "GitTables_2663\n",
      "['name', 'rank', 'species', 'year']\n",
      "['species', 'species', 'species', 'year']\n",
      "GitTables_2665\n",
      "['name']\n",
      "['address']\n",
      "GitTables_2666\n",
      "['category']\n",
      "['description']\n",
      "GitTables_2668\n",
      "['name', 'order']\n",
      "['address', 'plays']\n",
      "GitTables_2677\n",
      "['family', 'species']\n",
      "['address', 'species']\n",
      "GitTables_2681\n",
      "['name']\n",
      "['address']\n",
      "GitTables_2687\n",
      "['name']\n",
      "['description']\n",
      "GitTables_2688\n",
      "['code']\n",
      "['address']\n",
      "GitTables_2690\n",
      "['name', 'rank', 'species', 'year']\n",
      "['species', 'species', 'species', 'year']\n",
      "GitTables_2705\n",
      "['name', 'rank', 'year']\n",
      "['species', 'species', 'year']\n",
      "GitTables_2706\n",
      "['age', 'type', 'year']\n",
      "['rank', 'type', 'year']\n",
      "GitTables_2710\n",
      "['name']\n",
      "['address']\n",
      "GitTables_2711\n",
      "['name', 'rank', 'year']\n",
      "['species', 'species', 'year']\n",
      "GitTables_2712\n",
      "['name']\n",
      "['position']\n",
      "GitTables_2716\n",
      "['name', 'rank', 'year']\n",
      "['address', 'species', 'year']\n",
      "GitTables_2719\n",
      "['name', 'rank', 'species', 'year']\n",
      "['species', 'species', 'creator', 'year']\n",
      "GitTables_2724\n",
      "['team']\n",
      "['address']\n",
      "GitTables_2726\n",
      "['rank']\n",
      "['classification']\n",
      "GitTables_2731\n",
      "['name']\n",
      "['description']\n",
      "GitTables_2745\n",
      "['description', 'name', 'type']\n",
      "['address', 'name', 'type']\n",
      "GitTables_2749\n",
      "['name']\n",
      "['notes']\n",
      "GitTables_2752\n",
      "['name', 'rank', 'year']\n",
      "['name', 'species', 'year']\n",
      "GitTables_2753\n",
      "['name']\n",
      "['address']\n",
      "GitTables_2754\n",
      "['class']\n",
      "['address']\n",
      "GitTables_2761\n",
      "['code', 'language', 'name']\n",
      "['component', 'language', 'name']\n",
      "GitTables_2767\n",
      "['name']\n",
      "['address']\n",
      "GitTables_2768\n",
      "['name', 'rank', 'year']\n",
      "['species', 'species', 'year']\n",
      "GitTables_2769\n",
      "['duration']\n",
      "['rank']\n",
      "GitTables_2776\n",
      "['name']\n",
      "['address']\n",
      "GitTables_2779\n",
      "['name']\n",
      "['address']\n",
      "GitTables_2787\n",
      "['name', 'rank', 'year']\n",
      "['species', 'species', 'year']\n",
      "GitTables_2789\n",
      "['duration']\n",
      "['rank']\n",
      "GitTables_2794\n",
      "['name', 'rank', 'year']\n",
      "['address', 'species', 'year']\n",
      "GitTables_2796\n",
      "['name', 'rank', 'species', 'year']\n",
      "['species', 'species', 'species', 'year']\n",
      "GitTables_2798\n",
      "['name', 'rank', 'year']\n",
      "['species', 'species', 'year']\n",
      "GitTables_2800\n",
      "['name']\n",
      "['address']\n",
      "GitTables_2803\n",
      "['name', 'rank', 'year']\n",
      "['species', 'species', 'year']\n",
      "GitTables_2806\n",
      "['name', 'rank', 'year']\n",
      "['species', 'species', 'year']\n",
      "GitTables_2811\n",
      "['name', 'rank', 'year']\n",
      "['species', 'species', 'year']\n",
      "GitTables_2819\n",
      "['name', 'rank', 'year']\n",
      "['species', 'species', 'year']\n",
      "GitTables_2823\n",
      "['name']\n",
      "['address']\n",
      "GitTables_2825\n",
      "['name']\n",
      "['album']\n",
      "GitTables_2828\n",
      "['class']\n",
      "['address']\n",
      "GitTables_2829\n",
      "['name']\n",
      "['address']\n",
      "GitTables_2831\n",
      "['name', 'rank', 'status', 'year']\n",
      "['species', 'species', 'status', 'year']\n",
      "GitTables_2837\n",
      "['name']\n",
      "['address']\n",
      "GitTables_2841\n",
      "['name']\n",
      "['address']\n",
      "GitTables_2843\n",
      "['name']\n",
      "['address']\n",
      "GitTables_2845\n",
      "['name', 'rank', 'year']\n",
      "['name', 'species', 'year']\n",
      "GitTables_2850\n",
      "['name', 'rank', 'species', 'year']\n",
      "['species', 'species', 'species', 'year']\n",
      "GitTables_2853\n",
      "['name', 'rank', 'species', 'year']\n",
      "['species', 'species', 'address', 'year']\n",
      "GitTables_2856\n",
      "['name']\n",
      "['address']\n",
      "GitTables_2861\n",
      "['name', 'rank', 'year']\n",
      "['species', 'species', 'year']\n",
      "GitTables_2862\n",
      "['name']\n",
      "['type']\n",
      "GitTables_2865\n",
      "['name', 'rank', 'year']\n",
      "['species', 'species', 'year']\n",
      "GitTables_2868\n",
      "['description']\n",
      "['status']\n",
      "GitTables_2875\n",
      "['name', 'rank', 'year']\n",
      "['species', 'species', 'year']\n",
      "GitTables_2876\n",
      "['name', 'rank', 'species', 'year']\n",
      "['species', 'species', 'address', 'year']\n",
      "GitTables_2882\n",
      "['description']\n",
      "['status']\n",
      "GitTables_2891\n",
      "['name', 'rank', 'species', 'year']\n",
      "['species', 'species', 'address', 'birth Date']\n",
      "GitTables_2892\n",
      "['name']\n",
      "['address']\n",
      "GitTables_2894\n",
      "['name']\n",
      "['address']\n",
      "GitTables_2897\n",
      "['name', 'rank', 'year']\n",
      "['species', 'species', 'birth Date']\n",
      "GitTables_2902\n",
      "['code', 'name']\n",
      "['rank', 'classification']\n",
      "GitTables_2903\n",
      "['duration']\n",
      "['rank']\n",
      "GitTables_2912\n",
      "['name', 'rank', 'year']\n",
      "['species', 'species', 'year']\n",
      "GitTables_2914\n",
      "['name']\n",
      "['address']\n",
      "GitTables_2920\n",
      "['name', 'rank', 'species', 'year']\n",
      "['species', 'species', 'address', 'year']\n",
      "GitTables_2926\n",
      "['name']\n",
      "['address']\n",
      "GitTables_2928\n",
      "['code', 'name']\n",
      "['day', 'category']\n",
      "GitTables_2933\n",
      "['duration']\n",
      "['rank']\n",
      "GitTables_2939\n",
      "['name']\n",
      "['address']\n",
      "GitTables_2941\n",
      "['name', 'rank', 'species', 'year']\n",
      "['species', 'species', 'species', 'year']\n",
      "GitTables_2942\n",
      "['name', 'rank', 'status', 'year']\n",
      "['species', 'species', 'status', 'year']\n",
      "GitTables_2945\n",
      "['name', 'type']\n",
      "['name', 'status']\n",
      "GitTables_2951\n",
      "['name']\n",
      "['position']\n",
      "GitTables_2954\n",
      "['name']\n",
      "['operator']\n",
      "GitTables_2955\n",
      "['duration']\n",
      "['sales']\n",
      "GitTables_2961\n",
      "['name']\n",
      "['notes']\n",
      "GitTables_2962\n",
      "['name', 'rank', 'year']\n",
      "['species', 'species', 'year']\n",
      "GitTables_2963\n",
      "['name', 'rank', 'species', 'year']\n",
      "['species', 'species', 'address', 'year']\n",
      "GitTables_2972\n",
      "['type']\n",
      "['address']\n",
      "GitTables_2974\n",
      "['duration']\n",
      "['position']\n",
      "GitTables_2995\n",
      "['name']\n",
      "['address']\n"
     ]
    }
   ],
   "source": [
    "# manually comparing true types to predicted types\n",
    "for table_id in table_ids:\n",
    "    if table_review_needed[table_id]:\n",
    "        print(table_id)\n",
    "        print(table_true_types[table_id])\n",
    "        print(table_predicted_types[table_id])"
   ]
  },
  {
   "cell_type": "code",
   "execution_count": 65,
   "id": "0bb7f6a8",
   "metadata": {},
   "outputs": [
    {
     "name": "stdout",
     "output_type": "stream",
     "text": [
      "37\n"
     ]
    }
   ],
   "source": [
    "# take a closer look at the types present in the benchmark\n",
    "included_types = list(set(types) & set(true_types))\n",
    "print(len(included_types))"
   ]
  },
  {
   "cell_type": "code",
   "execution_count": 12,
   "id": "e731e87b",
   "metadata": {},
   "outputs": [
    {
     "name": "stdout",
     "output_type": "stream",
     "text": [
      "481\n"
     ]
    }
   ],
   "source": [
    "print(len(table_col_amounts))"
   ]
  },
  {
   "cell_type": "code",
   "execution_count": 13,
   "id": "a1568cf3",
   "metadata": {},
   "outputs": [],
   "source": [
    "# GitTables_2027, GitTables_2065, GitTables_2212(removed), GitTables_2213 (reannot.),\n",
    "# Gittables_1755 -> removed last 2 cols\n",
    "# GitTables_2230, GITTables_2231(removed), GitTables_2425, GITTables_2533(removed), \n",
    "# GitTables_2575(reannot.), GitTables_2945, GitTables_2668\n",
    "# GitTables_2002 (removed)\n",
    "# GitTables_2158, GitTables_2396, multiple ground thruths: ['code', 'name'] -> ['code', 'state'] or ['state', 'state'], depending on table context or column context\n",
    "# GitTables_2232: same as prev ['code', 'name'] -> ?\n",
    "# table with ['state', 'type'], is in the dataset many times, \n",
    "# same for 1/2 column tables with a class or type from a programming language, make up around 70% of the dataset\n",
    "# same for 1 col tables with random numeric values like depth or duration (GitTables_2022, GitTables_1937)\n",
    "# Surprisingly well: GitTables_1918"
   ]
  },
  {
   "cell_type": "code",
   "execution_count": 14,
   "id": "c76e965b",
   "metadata": {},
   "outputs": [],
   "source": [
    "# GitTables_2004, GitTables_2029 (weird address prediction)\n",
    "# these are tables with more than 3 cols which also appear freq in dataset, \n",
    "# we also saw this last week so I decided to do some research.\n",
    "# https://en.wikipedia.org/wiki/Taxonomic_rank#:~:text=There%20are%20seven%20main%20taxonomic,a%20synonym%20for%20dominion%20(lat., https://www.irmng.org/aphia.php?p=taxdetails&id=1041282, https://www.irmng.org/aphia.php?p=taxdetails&id=10255148\n",
    "# This table appears in the dataset a lot of times, give or take the same, sometimes the species or status column is left out\n",
    "# this gives us a distorted picture of the prediction results -> name is predicted falsly a lot because of reannotation to species\n",
    "# and year is predicted correctly many times because it appears frequently, maybe merge into 1 table, but then previous results would be \n",
    "# 'useless', and we would have a lot less test data."
   ]
  },
  {
   "cell_type": "code",
   "execution_count": 15,
   "id": "19228eec",
   "metadata": {},
   "outputs": [],
   "source": [
    "# GitTables_2059, one of the interesting tables with 5 cols, county vs. city (= provincie vs. stad)"
   ]
  },
  {
   "cell_type": "code",
   "execution_count": 16,
   "id": "d329af24",
   "metadata": {},
   "outputs": [],
   "source": [
    "# GitTables_2302,GitTables_2251, GitTables_2634, GitTables_2430, GitTables_2745: non-english col values"
   ]
  },
  {
   "cell_type": "code",
   "execution_count": 17,
   "id": "8f7e6c42",
   "metadata": {},
   "outputs": [],
   "source": [
    "# description/class/type/name/address/notes (punctuation confusing sherlock)\n",
    "# while reannotating hard to pick between class/type/classification/category or team/team name (but, not frequently in this dataset)"
   ]
  },
  {
   "cell_type": "code",
   "execution_count": 95,
   "id": "3010c1c3",
   "metadata": {},
   "outputs": [
    {
     "name": "stdout",
     "output_type": "stream",
     "text": [
      "    Unnamed: 0 language       type\n",
      "0            0        *        NaN\n",
      "1            1        *  component\n",
      "2            2        *  component\n",
      "3            3        *  component\n",
      "4            4        *  component\n",
      "5            5        *  component\n",
      "6            6        *  component\n",
      "7            7        *  component\n",
      "8            8        *  component\n",
      "9            9        *  component\n",
      "10          10        *  component\n",
      "11          11        *  component\n",
      "12          12        *  component\n",
      "13          13        *  component\n",
      "14          14        *  component\n",
      "15          15        *  component\n",
      "16          16        *  component\n",
      "17          17        *  component\n",
      "18          18        *  component\n",
      "19          19        *  component\n",
      "20          20        *  component\n",
      "    Unnamed: 0  collection  status  type\n",
      "0            0         0.0     0.0   0.0\n",
      "1            1         0.0     0.0   0.0\n",
      "2            2         0.0     0.0   0.0\n",
      "3            3         0.0     0.0   0.0\n",
      "4            4         0.0     0.0   0.0\n",
      "..         ...         ...     ...   ...\n",
      "65          65         0.0     0.0   0.0\n",
      "66          66         0.0     0.0   0.0\n",
      "67          67         0.0     0.0   0.0\n",
      "68          68         0.0     0.0   0.0\n",
      "69          69         0.0     0.0   0.0\n",
      "\n",
      "[70 rows x 4 columns]\n",
      "    Unnamed: 0  region  state\n",
      "0            0       9      9\n",
      "1            1      44     44\n",
      "2            2      12     12\n",
      "3            3      10     10\n",
      "4            4       2      2\n",
      "5            5       3      3\n",
      "6            6     619    619\n",
      "7            7    1961   1961\n",
      "8            8    2600   2600\n",
      "9            9       4      4\n",
      "10          10     159    159\n",
      "11          11     633    633\n",
      "12          12    3017   3017\n",
      "13          13       3      3\n",
      "14          14    1366   1366\n",
      "    Unnamed: 0 description                                  name     type\n",
      "0            0         27%                       Fizetendő - 27%  percent\n",
      "1            1         18%                       Fizetendő – 18%  percent\n",
      "2            2          5%                        Fizetendő – 5%  percent\n",
      "3            3         AAM          Fizetendő – Alanyi Adómentes  percent\n",
      "4            4         TAM          Fizetendő – Tárgyi Adómentes  percent\n",
      "5            5        FORD             Fizetendő – Fordított ÁFA  percent\n",
      "6            6      Export                    Fizetendő – Export  percent\n",
      "7            7          EU                        Fizetendő – EU  percent\n",
      "8            8         18%               Visszaigényelhető – 18%  percent\n",
      "9            9         27%               Visszaigényelhető – 27%  percent\n",
      "10          10          5%                Visszaigényelhető – 5%  percent\n",
      "11          11         AAM  Visszaigényelhető – Alanyi Adómentes  percent\n",
      "12          12         TAM  Visszaigényelhető – Tárgyi Adómentes  percent\n",
      "13          13          EU                Visszaigényelhető – EU  percent\n",
      "14          14      Import            Visszaigényelhető – Import  percent\n",
      "15          15        FORD     Visszaigényelhető – Fordított ÁFA  percent\n"
     ]
    }
   ],
   "source": [
    "# looking at removed tables\n",
    "filepaths = listdir(path_removed)\n",
    "for fp in filepaths:\n",
    "    df = pd.read_csv(join(path_removed, fp))\n",
    "    print(df)"
   ]
  }
 ],
 "metadata": {
  "kernelspec": {
   "display_name": "Python 3 (ipykernel)",
   "language": "python",
   "name": "python3"
  },
  "language_info": {
   "codemirror_mode": {
    "name": "ipython",
    "version": 3
   },
   "file_extension": ".py",
   "mimetype": "text/x-python",
   "name": "python",
   "nbconvert_exporter": "python",
   "pygments_lexer": "ipython3",
   "version": "3.7.12"
  }
 },
 "nbformat": 4,
 "nbformat_minor": 5
}
