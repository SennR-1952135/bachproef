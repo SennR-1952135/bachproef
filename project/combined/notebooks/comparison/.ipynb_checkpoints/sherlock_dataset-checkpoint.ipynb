{
 "cells": [
  {
   "cell_type": "code",
   "execution_count": 1,
   "metadata": {},
   "outputs": [
    {
     "data": {
      "text/plain": [
       "RendererRegistry.enable('default')"
      ]
     },
     "execution_count": 1,
     "metadata": {},
     "output_type": "execute_result"
    }
   ],
   "source": [
    "from datetime import datetime\n",
    "from os.path import join\n",
    "from os import listdir\n",
    "import json\n",
    "import re #for camel case conversion\n",
    "from collections import Counter\n",
    "\n",
    "from sklearn.metrics import classification_report\n",
    "import pandas as pd\n",
    "\n",
    "import altair as alt\n",
    "alt.renderers.enable('default')"
   ]
  },
  {
   "cell_type": "code",
   "execution_count": 2,
   "metadata": {},
   "outputs": [],
   "source": [
    "def sherlock_case(s):\n",
    "    s = re.sub(r\"(_|-)+\", \" \", s).title().replace(\" \", \"\")\n",
    "#     s = ''.join([s[0].lower(), s[1:]])\n",
    "#     s = ''.join(map(lambda x: x if x.islower() else \" \"+x, s))\n",
    "    return s.lower()"
   ]
  },
  {
   "cell_type": "code",
   "execution_count": 3,
   "metadata": {},
   "outputs": [],
   "source": [
    "true_types = list(map(sherlock_case, pd.read_parquet(\"../../results/true_types/sherlock_validation.parquet\").values.flatten()))\n",
    "prediction_sherlock = list(map(sherlock_case, pd.read_parquet(\"../../results/predictions/sherlock_sherlock_validation.parquet\").values.flatten()))\n",
    "prediction_sato = list(map(sherlock_case, pd.read_parquet(\"../../results/predictions/sato_sherlock_validation_137353.parquet\").values.flatten()))"
   ]
  },
  {
   "cell_type": "code",
   "execution_count": 4,
   "metadata": {},
   "outputs": [],
   "source": [
    "type_freq_df = pd.DataFrame(true_types, columns=['type'])\n",
    "type_freq_df = pd.DataFrame(type_freq_df['type'].value_counts())\n",
    "type_freq_df.columns = ['count']\n",
    "type_freq_df.index.name = 'type'"
   ]
  },
  {
   "cell_type": "code",
   "execution_count": 5,
   "metadata": {
    "scrolled": false
   },
   "outputs": [
    {
     "data": {
      "text/html": [
       "\n",
       "<div id=\"altair-viz-a7de8ce474dd47f2a686a277263ba557\"></div>\n",
       "<script type=\"text/javascript\">\n",
       "  var VEGA_DEBUG = (typeof VEGA_DEBUG == \"undefined\") ? {} : VEGA_DEBUG;\n",
       "  (function(spec, embedOpt){\n",
       "    let outputDiv = document.currentScript.previousElementSibling;\n",
       "    if (outputDiv.id !== \"altair-viz-a7de8ce474dd47f2a686a277263ba557\") {\n",
       "      outputDiv = document.getElementById(\"altair-viz-a7de8ce474dd47f2a686a277263ba557\");\n",
       "    }\n",
       "    const paths = {\n",
       "      \"vega\": \"https://cdn.jsdelivr.net/npm//vega@5?noext\",\n",
       "      \"vega-lib\": \"https://cdn.jsdelivr.net/npm//vega-lib?noext\",\n",
       "      \"vega-lite\": \"https://cdn.jsdelivr.net/npm//vega-lite@4.17.0?noext\",\n",
       "      \"vega-embed\": \"https://cdn.jsdelivr.net/npm//vega-embed@6?noext\",\n",
       "    };\n",
       "\n",
       "    function maybeLoadScript(lib, version) {\n",
       "      var key = `${lib.replace(\"-\", \"\")}_version`;\n",
       "      return (VEGA_DEBUG[key] == version) ?\n",
       "        Promise.resolve(paths[lib]) :\n",
       "        new Promise(function(resolve, reject) {\n",
       "          var s = document.createElement('script');\n",
       "          document.getElementsByTagName(\"head\")[0].appendChild(s);\n",
       "          s.async = true;\n",
       "          s.onload = () => {\n",
       "            VEGA_DEBUG[key] = version;\n",
       "            return resolve(paths[lib]);\n",
       "          };\n",
       "          s.onerror = () => reject(`Error loading script: ${paths[lib]}`);\n",
       "          s.src = paths[lib];\n",
       "        });\n",
       "    }\n",
       "\n",
       "    function showError(err) {\n",
       "      outputDiv.innerHTML = `<div class=\"error\" style=\"color:red;\">${err}</div>`;\n",
       "      throw err;\n",
       "    }\n",
       "\n",
       "    function displayChart(vegaEmbed) {\n",
       "      vegaEmbed(outputDiv, spec, embedOpt)\n",
       "        .catch(err => showError(`Javascript Error: ${err.message}<br>This usually means there's a typo in your chart specification. See the javascript console for the full traceback.`));\n",
       "    }\n",
       "\n",
       "    if(typeof define === \"function\" && define.amd) {\n",
       "      requirejs.config({paths});\n",
       "      require([\"vega-embed\"], displayChart, err => showError(`Error loading script: ${err.message}`));\n",
       "    } else {\n",
       "      maybeLoadScript(\"vega\", \"5\")\n",
       "        .then(() => maybeLoadScript(\"vega-lite\", \"4.17.0\"))\n",
       "        .then(() => maybeLoadScript(\"vega-embed\", \"6\"))\n",
       "        .catch(showError)\n",
       "        .then(() => displayChart(vegaEmbed));\n",
       "    }\n",
       "  })({\"config\": {\"view\": {\"continuousWidth\": 400, \"continuousHeight\": 300}}, \"data\": {\"name\": \"data-dce56caa29e558da250f76f3aabc8677\"}, \"mark\": {\"type\": \"bar\", \"size\": 15}, \"encoding\": {\"x\": {\"field\": \"type\", \"sort\": {\"field\": \"count\", \"order\": \"descending\"}, \"title\": \"Semantic Types\", \"type\": \"ordinal\"}, \"y\": {\"field\": \"count\", \"title\": \"Number of Samples\", \"type\": \"quantitative\"}}, \"$schema\": \"https://vega.github.io/schema/vega-lite/v4.17.0.json\", \"datasets\": {\"data-dce56caa29e558da250f76f3aabc8677\": [{\"type\": \"industry\", \"count\": 3078}, {\"type\": \"result\", \"count\": 3066}, {\"type\": \"code\", \"count\": 3064}, {\"type\": \"year\", \"count\": 3057}, {\"type\": \"city\", \"count\": 3051}, {\"type\": \"team\", \"count\": 3035}, {\"type\": \"address\", \"count\": 3026}, {\"type\": \"description\", \"count\": 3025}, {\"type\": \"position\", \"count\": 3023}, {\"type\": \"country\", \"count\": 3021}, {\"type\": \"album\", \"count\": 3021}, {\"type\": \"duration\", \"count\": 3018}, {\"type\": \"artist\", \"count\": 3017}, {\"type\": \"weight\", \"count\": 3013}, {\"type\": \"county\", \"count\": 3012}, {\"type\": \"state\", \"count\": 3006}, {\"type\": \"type\", \"count\": 3003}, {\"type\": \"club\", \"count\": 3001}, {\"type\": \"location\", \"count\": 2995}, {\"type\": \"name\", \"count\": 2991}, {\"type\": \"sex\", \"count\": 2986}, {\"type\": \"class\", \"count\": 2972}, {\"type\": \"status\", \"count\": 2967}, {\"type\": \"rank\", \"count\": 2959}, {\"type\": \"day\", \"count\": 2952}, {\"type\": \"format\", \"count\": 2949}, {\"type\": \"category\", \"count\": 2948}, {\"type\": \"age\", \"count\": 2926}, {\"type\": \"company\", \"count\": 2911}, {\"type\": \"jockey\", \"count\": 2817}, {\"type\": \"product\", \"count\": 2762}, {\"type\": \"region\", \"count\": 2681}, {\"type\": \"notes\", \"count\": 2317}, {\"type\": \"service\", \"count\": 2125}, {\"type\": \"area\", \"count\": 2011}, {\"type\": \"grades\", \"count\": 1741}, {\"type\": \"owner\", \"count\": 1712}, {\"type\": \"affiliation\", \"count\": 1680}, {\"type\": \"symbol\", \"count\": 1665}, {\"type\": \"language\", \"count\": 1578}, {\"type\": \"teamname\", \"count\": 1554}, {\"type\": \"plays\", \"count\": 1515}, {\"type\": \"origin\", \"count\": 1482}, {\"type\": \"order\", \"count\": 1472}, {\"type\": \"isbn\", \"count\": 1440}, {\"type\": \"elevation\", \"count\": 1329}, {\"type\": \"component\", \"count\": 1249}, {\"type\": \"genre\", \"count\": 1220}, {\"type\": \"gender\", \"count\": 1073}, {\"type\": \"command\", \"count\": 1034}, {\"type\": \"depth\", \"count\": 944}, {\"type\": \"manufacturer\", \"count\": 913}, {\"type\": \"credit\", \"count\": 906}, {\"type\": \"publisher\", \"count\": 867}, {\"type\": \"species\", \"count\": 797}, {\"type\": \"family\", \"count\": 731}, {\"type\": \"classification\", \"count\": 613}, {\"type\": \"range\", \"count\": 605}, {\"type\": \"person\", \"count\": 553}, {\"type\": \"brand\", \"count\": 545}, {\"type\": \"collection\", \"count\": 506}, {\"type\": \"nationality\", \"count\": 485}, {\"type\": \"operator\", \"count\": 455}, {\"type\": \"birthdate\", \"count\": 453}, {\"type\": \"ranking\", \"count\": 445}, {\"type\": \"birthplace\", \"count\": 437}, {\"type\": \"currency\", \"count\": 395}, {\"type\": \"filesize\", \"count\": 365}, {\"type\": \"creator\", \"count\": 361}, {\"type\": \"religion\", \"count\": 313}, {\"type\": \"capacity\", \"count\": 304}, {\"type\": \"education\", \"count\": 304}, {\"type\": \"sales\", \"count\": 295}, {\"type\": \"requirement\", \"count\": 289}, {\"type\": \"continent\", \"count\": 253}, {\"type\": \"director\", \"count\": 246}, {\"type\": \"organisation\", \"count\": 243}, {\"type\": \"affiliate\", \"count\": 180}]}}, {\"mode\": \"vega-lite\"});\n",
       "</script>"
      ],
      "text/plain": [
       "alt.Chart(...)"
      ]
     },
     "execution_count": 5,
     "metadata": {},
     "output_type": "execute_result"
    }
   ],
   "source": [
    "alt.Chart(type_freq_df.reset_index()).mark_bar(size=15).encode(\n",
    "    x = alt.X('type:O',\n",
    "              title = 'Semantic Types',\n",
    "              sort=alt.EncodingSortField(\n",
    "                field=\"count\",  \n",
    "                order=\"descending\")),\n",
    "    y = alt.Y('count', title='Number of Samples')    \n",
    ")"
   ]
  },
  {
   "cell_type": "code",
   "execution_count": 6,
   "metadata": {},
   "outputs": [
    {
     "name": "stdout",
     "output_type": "stream",
     "text": [
      "137353\n",
      "137353\n",
      "137353\n",
      "['county', 'collection', 'age', 'jockey', 'album']\n",
      "['county', 'collection', 'age', 'jockey', 'album']\n",
      "['county', 'location', 'region', 'jockey', 'album']\n"
     ]
    }
   ],
   "source": [
    "print(len(prediction_sherlock))\n",
    "print(len(prediction_sato))\n",
    "print(len(true_types))\n",
    "print(true_types[:5])\n",
    "print(prediction_sherlock[:5])\n",
    "print(prediction_sato[:5])\n",
    "# print(true_types[100000:100005])\n",
    "# print(prediction_sherlock[100000:100005])\n",
    "# print(prediction_sato[-1])"
   ]
  },
  {
   "cell_type": "code",
   "execution_count": 7,
   "metadata": {},
   "outputs": [],
   "source": [
    "# # print(prediction_sato)\n",
    "# print(prediction_sherlock)\n",
    "# print(true_types)\n",
    "# for idx, i in enumerate(true_types):\n",
    "#     if type(i) != str:\n",
    "#         print(idx)\n",
    "# print(true_types[407])\n",
    "# print(prediction_sherlock[407])"
   ]
  },
  {
   "cell_type": "code",
   "execution_count": 8,
   "metadata": {},
   "outputs": [],
   "source": [
    "# print(classification_report(true_types, prediction_sato))"
   ]
  },
  {
   "cell_type": "code",
   "execution_count": 9,
   "metadata": {},
   "outputs": [],
   "source": [
    "class_report = classification_report(true_types, prediction_sato, output_dict=True)\n",
    "class_report = dict(list(class_report.items()))\n",
    "class_report_df = pd.DataFrame.from_dict(class_report)\n",
    "class_report_df.to_csv('csv_report_sato_sherlock.csv')"
   ]
  },
  {
   "cell_type": "code",
   "execution_count": 10,
   "metadata": {},
   "outputs": [],
   "source": [
    "# print(classification_report(true_types, prediction_sherlock))"
   ]
  },
  {
   "cell_type": "code",
   "execution_count": 11,
   "metadata": {},
   "outputs": [],
   "source": [
    "class_report = classification_report(true_types, prediction_sherlock, output_dict=True)\n",
    "class_report = dict(list(class_report.items()))\n",
    "class_report_df = pd.DataFrame.from_dict(class_report)\n",
    "class_report_df.to_csv('csv_report_sherlock_sherlock.csv')"
   ]
  },
  {
   "cell_type": "code",
   "execution_count": 12,
   "metadata": {},
   "outputs": [],
   "source": [
    "report_sherlock = classification_report(true_types, prediction_sherlock, output_dict=True)\n",
    "report_sherlock_df_input = {k: list(v.values()) for k, v in list(report_sherlock.items())[:-3]} #last 3 are total f1/macro/weigthed, these are not needed\n",
    "report_sherlock_df = pd.DataFrame.from_dict(report_sherlock_df_input, orient='index', columns=['precision', 'recall', 'f1-score', 'support']).sort_values(by='f1-score', ascending = False)\n",
    "\n",
    "report_sato = classification_report(true_types, prediction_sato, output_dict=True)\n",
    "report_sato_df_input = {k: list(v.values()) for k, v in list(report_sato.items())[:-3]} #last 3 are total f1/macro/weigthed, these are not needed\n",
    "report_sato_df = pd.DataFrame.from_dict(report_sato_df_input, orient='index', columns=['precision', 'recall', 'f1-score', 'support']).sort_values(by='f1-score', ascending = False)\n"
   ]
  },
  {
   "cell_type": "code",
   "execution_count": 13,
   "metadata": {},
   "outputs": [],
   "source": [
    "combined_report_df = pd.merge(report_sato_df, report_sherlock_df, left_index=True, right_index=True)\n",
    "combined_report_df.index.names = ['type']\n",
    "combined_report_df.columns = ['precision_sato', 'recall_sato', 'f1-score_sato', 'support_sato', 'precision_sherlock', 'recall_sherlock', 'f1-score_sherlock', 'support_sherlock']\n",
    "# optional, you can change the column to sort by to f1-score_sato, or not sort at all by commenting the next line\n",
    "combined_report_df = combined_report_df.sort_values(by='f1-score_sherlock', ascending = False) "
   ]
  },
  {
   "cell_type": "code",
   "execution_count": 31,
   "metadata": {
    "scrolled": true
   },
   "outputs": [
    {
     "name": "stdout",
     "output_type": "stream",
     "text": [
      "           precision_sato  recall_sato  f1-score_sato  support_sato  \\\n",
      "type                                                                  \n",
      "isbn             0.998521     0.937500       0.967049          1440   \n",
      "grades           0.993321     0.939690       0.965762          1741   \n",
      "jockey           0.845352     0.690806       0.760305          2817   \n",
      "industry         0.926480     0.925276       0.925878          3078   \n",
      "birthdate        0.941019     0.774834       0.849879           453   \n",
      "...                   ...          ...            ...           ...   \n",
      "rank             0.398416     0.748226       0.519962          2959   \n",
      "person           0.689655     0.036166       0.068729           553   \n",
      "director         0.117647     0.024390       0.040404           246   \n",
      "sales            0.166667     0.003390       0.006645           295   \n",
      "ranking          0.325581     0.031461       0.057377           445   \n",
      "\n",
      "           precision_sherlock  recall_sherlock  f1-score_sherlock  \\\n",
      "type                                                                \n",
      "isbn                 0.992350         0.990972           0.991661   \n",
      "grades               0.992490         0.986789           0.989631   \n",
      "jockey               0.986229         0.991480           0.988848   \n",
      "industry             0.987533         0.977908           0.982697   \n",
      "birthdate            0.975446         0.964680           0.970033   \n",
      "...                       ...              ...                ...   \n",
      "rank                 0.627787         0.780331           0.695796   \n",
      "person               0.714876         0.625678           0.667310   \n",
      "director             0.689815         0.605691           0.645022   \n",
      "sales                0.508897         0.484746           0.496528   \n",
      "ranking              0.825175         0.265169           0.401361   \n",
      "\n",
      "           support_sherlock  \n",
      "type                         \n",
      "isbn                   1440  \n",
      "grades                 1741  \n",
      "jockey                 2817  \n",
      "industry               3078  \n",
      "birthdate               453  \n",
      "...                     ...  \n",
      "rank                   2959  \n",
      "person                  553  \n",
      "director                246  \n",
      "sales                   295  \n",
      "ranking                 445  \n",
      "\n",
      "[78 rows x 8 columns]\n"
     ]
    }
   ],
   "source": [
    "print(combined_report_df)"
   ]
  },
  {
   "cell_type": "code",
   "execution_count": 15,
   "metadata": {},
   "outputs": [
    {
     "name": "stdout",
     "output_type": "stream",
     "text": [
      "[('name', 734), ('rank', 650), ('location', 560), ('position', 507), ('region', 505), ('artist', 456), ('description', 414), ('type', 389), ('team', 386), ('product', 376)]\n",
      "[('club', 2322), ('product', 1556), ('owner', 1470), ('teamname', 1422), ('position', 1361), ('region', 1337), ('notes', 1325), ('company', 1208), ('county', 1193), ('class', 1188)]\n"
     ]
    }
   ],
   "source": [
    "mismatches_sherlock = list()\n",
    "mismatches_sherlock_idx = list()\n",
    "mismatches_sato = list()\n",
    "mismatches_sato_idx = list()\n",
    "\n",
    "print_count = 0\n",
    "for idx, true_type in enumerate(true_types):\n",
    "    predicted_type_sherlock = prediction_sherlock[idx]\n",
    "    predicted_type_sato = prediction_sato[idx]\n",
    "\n",
    "    if true_type != predicted_type_sherlock:\n",
    "        mismatches_sherlock.append(true_type)\n",
    "        mismatches_sherlock_idx.append(idx)\n",
    "\n",
    "    if true_type != predicted_type_sato:\n",
    "        mismatches_sato.append(true_type)\n",
    "        mismatches_sato_idx.append(idx)\n",
    "        \n",
    "        # zoom in to specific errors\n",
    "        # if true_type in ('state') and print_count <= 6:\n",
    "        #     print_count += 1\n",
    "        #     print(f'Expected \"{true_type}\" but predicted \"{predicted_type}\"')\n",
    "        #     print(f'{data[idx]}\\n')\n",
    "        \n",
    "\n",
    "mismatch_sherlock_class_count = Counter(mismatches_sherlock)\n",
    "print(mismatch_sherlock_class_count.most_common()[:10])\n",
    "\n",
    "mismatches_sato_class_count = Counter(mismatches_sato)\n",
    "print(mismatches_sato_class_count.most_common()[:10])"
   ]
  },
  {
   "cell_type": "code",
   "execution_count": 16,
   "metadata": {},
   "outputs": [],
   "source": [
    "mismatch_sherlock_freq_df = pd.DataFrame(mismatches_sherlock, columns=['type'])\n",
    "mismatch_sherlock_freq_df = pd.DataFrame(mismatch_sherlock_freq_df['type'].value_counts())\n",
    "mismatch_sherlock_freq_df.columns = ['count']\n",
    "mismatch_sherlock_freq_df.index.name = 'type'\n",
    "\n",
    "mismatch_sato_freq_df = pd.DataFrame(mismatches_sato, columns=['type'])\n",
    "mismatch_sato_freq_df = pd.DataFrame(mismatch_sato_freq_df['type'].value_counts())\n",
    "mismatch_sato_freq_df.columns = ['count']\n",
    "mismatch_sato_freq_df.index.name = 'type'\n",
    "\n",
    "type_freq_df = pd.DataFrame(true_types, columns=['type'])\n",
    "type_freq_df = pd.DataFrame(type_freq_df['type'].value_counts())\n",
    "type_freq_df.columns = ['count']\n",
    "type_freq_df.index.name = 'type'"
   ]
  },
  {
   "cell_type": "code",
   "execution_count": 17,
   "metadata": {},
   "outputs": [],
   "source": [
    "combined_mismatch_freq_df = pd.merge(mismatch_sherlock_freq_df, mismatch_sato_freq_df, left_index=True, right_index=True, how='outer')\n",
    "combined_mismatch_freq_df = pd.merge(combined_mismatch_freq_df, type_freq_df, left_index=True, right_index=True, how='outer')\n",
    "combined_mismatch_freq_df.columns=['sherlock_mismatch_freq', 'sato_mismatch_freq', 'true_type_freq']"
   ]
  },
  {
   "cell_type": "code",
   "execution_count": 18,
   "metadata": {
    "scrolled": true
   },
   "outputs": [
    {
     "data": {
      "text/html": [
       "\n",
       "<div id=\"altair-viz-26c6708f05654740875cb44eb434c3b8\"></div>\n",
       "<script type=\"text/javascript\">\n",
       "  var VEGA_DEBUG = (typeof VEGA_DEBUG == \"undefined\") ? {} : VEGA_DEBUG;\n",
       "  (function(spec, embedOpt){\n",
       "    let outputDiv = document.currentScript.previousElementSibling;\n",
       "    if (outputDiv.id !== \"altair-viz-26c6708f05654740875cb44eb434c3b8\") {\n",
       "      outputDiv = document.getElementById(\"altair-viz-26c6708f05654740875cb44eb434c3b8\");\n",
       "    }\n",
       "    const paths = {\n",
       "      \"vega\": \"https://cdn.jsdelivr.net/npm//vega@5?noext\",\n",
       "      \"vega-lib\": \"https://cdn.jsdelivr.net/npm//vega-lib?noext\",\n",
       "      \"vega-lite\": \"https://cdn.jsdelivr.net/npm//vega-lite@4.17.0?noext\",\n",
       "      \"vega-embed\": \"https://cdn.jsdelivr.net/npm//vega-embed@6?noext\",\n",
       "    };\n",
       "\n",
       "    function maybeLoadScript(lib, version) {\n",
       "      var key = `${lib.replace(\"-\", \"\")}_version`;\n",
       "      return (VEGA_DEBUG[key] == version) ?\n",
       "        Promise.resolve(paths[lib]) :\n",
       "        new Promise(function(resolve, reject) {\n",
       "          var s = document.createElement('script');\n",
       "          document.getElementsByTagName(\"head\")[0].appendChild(s);\n",
       "          s.async = true;\n",
       "          s.onload = () => {\n",
       "            VEGA_DEBUG[key] = version;\n",
       "            return resolve(paths[lib]);\n",
       "          };\n",
       "          s.onerror = () => reject(`Error loading script: ${paths[lib]}`);\n",
       "          s.src = paths[lib];\n",
       "        });\n",
       "    }\n",
       "\n",
       "    function showError(err) {\n",
       "      outputDiv.innerHTML = `<div class=\"error\" style=\"color:red;\">${err}</div>`;\n",
       "      throw err;\n",
       "    }\n",
       "\n",
       "    function displayChart(vegaEmbed) {\n",
       "      vegaEmbed(outputDiv, spec, embedOpt)\n",
       "        .catch(err => showError(`Javascript Error: ${err.message}<br>This usually means there's a typo in your chart specification. See the javascript console for the full traceback.`));\n",
       "    }\n",
       "\n",
       "    if(typeof define === \"function\" && define.amd) {\n",
       "      requirejs.config({paths});\n",
       "      require([\"vega-embed\"], displayChart, err => showError(`Error loading script: ${err.message}`));\n",
       "    } else {\n",
       "      maybeLoadScript(\"vega\", \"5\")\n",
       "        .then(() => maybeLoadScript(\"vega-lite\", \"4.17.0\"))\n",
       "        .then(() => maybeLoadScript(\"vega-embed\", \"6\"))\n",
       "        .catch(showError)\n",
       "        .then(() => displayChart(vegaEmbed));\n",
       "    }\n",
       "  })({\"config\": {\"view\": {\"continuousWidth\": 400, \"continuousHeight\": 300}}, \"data\": {\"name\": \"data-ebba65a7750a1c4c4bfd63958a0581a3\"}, \"mark\": {\"type\": \"bar\", \"size\": 15}, \"encoding\": {\"color\": {\"field\": \"column\", \"type\": \"nominal\"}, \"column\": {\"field\": \"type\", \"sort\": {\"field\": \"sato_mismatch_freq\", \"order\": \"descending\"}, \"type\": \"ordinal\"}, \"x\": {\"field\": \"column\", \"title\": \"\", \"type\": \"nominal\"}, \"y\": {\"field\": \"value\", \"type\": \"quantitative\"}}, \"transform\": [{\"fold\": [\"sherlock_mismatch_freq\", \"sato_mismatch_freq\", \"true_type_freq\"], \"as\": [\"column\", \"value\"]}], \"$schema\": \"https://vega.github.io/schema/vega-lite/v4.17.0.json\", \"datasets\": {\"data-ebba65a7750a1c4c4bfd63958a0581a3\": [{\"type\": \"address\", \"sherlock_mismatch_freq\": 165, \"sato_mismatch_freq\": 561, \"true_type_freq\": 3026}, {\"type\": \"affiliate\", \"sherlock_mismatch_freq\": 40, \"sato_mismatch_freq\": 158, \"true_type_freq\": 180}, {\"type\": \"affiliation\", \"sherlock_mismatch_freq\": 54, \"sato_mismatch_freq\": 512, \"true_type_freq\": 1680}, {\"type\": \"age\", \"sherlock_mismatch_freq\": 142, \"sato_mismatch_freq\": 337, \"true_type_freq\": 2926}, {\"type\": \"album\", \"sherlock_mismatch_freq\": 326, \"sato_mismatch_freq\": 1042, \"true_type_freq\": 3021}, {\"type\": \"area\", \"sherlock_mismatch_freq\": 371, \"sato_mismatch_freq\": 968, \"true_type_freq\": 2011}, {\"type\": \"artist\", \"sherlock_mismatch_freq\": 456, \"sato_mismatch_freq\": 1044, \"true_type_freq\": 3017}, {\"type\": \"birthdate\", \"sherlock_mismatch_freq\": 16, \"sato_mismatch_freq\": 102, \"true_type_freq\": 453}, {\"type\": \"birthplace\", \"sherlock_mismatch_freq\": 27, \"sato_mismatch_freq\": 407, \"true_type_freq\": 437}, {\"type\": \"brand\", \"sherlock_mismatch_freq\": 184, \"sato_mismatch_freq\": 521, \"true_type_freq\": 545}, {\"type\": \"capacity\", \"sherlock_mismatch_freq\": 105, \"sato_mismatch_freq\": 277, \"true_type_freq\": 304}, {\"type\": \"category\", \"sherlock_mismatch_freq\": 288, \"sato_mismatch_freq\": 747, \"true_type_freq\": 2948}, {\"type\": \"city\", \"sherlock_mismatch_freq\": 291, \"sato_mismatch_freq\": 597, \"true_type_freq\": 3051}, {\"type\": \"class\", \"sherlock_mismatch_freq\": 264, \"sato_mismatch_freq\": 1188, \"true_type_freq\": 2972}, {\"type\": \"classification\", \"sherlock_mismatch_freq\": 92, \"sato_mismatch_freq\": 235, \"true_type_freq\": 613}, {\"type\": \"club\", \"sherlock_mismatch_freq\": 138, \"sato_mismatch_freq\": 2322, \"true_type_freq\": 3001}, {\"type\": \"code\", \"sherlock_mismatch_freq\": 274, \"sato_mismatch_freq\": 556, \"true_type_freq\": 3064}, {\"type\": \"collection\", \"sherlock_mismatch_freq\": 35, \"sato_mismatch_freq\": 164, \"true_type_freq\": 506}, {\"type\": \"command\", \"sherlock_mismatch_freq\": 122, \"sato_mismatch_freq\": 910, \"true_type_freq\": 1034}, {\"type\": \"company\", \"sherlock_mismatch_freq\": 300, \"sato_mismatch_freq\": 1208, \"true_type_freq\": 2911}, {\"type\": \"component\", \"sherlock_mismatch_freq\": 142, \"sato_mismatch_freq\": 844, \"true_type_freq\": 1249}, {\"type\": \"continent\", \"sherlock_mismatch_freq\": 32, \"sato_mismatch_freq\": 220, \"true_type_freq\": 253}, {\"type\": \"country\", \"sherlock_mismatch_freq\": 179, \"sato_mismatch_freq\": 397, \"true_type_freq\": 3021}, {\"type\": \"county\", \"sherlock_mismatch_freq\": 110, \"sato_mismatch_freq\": 1193, \"true_type_freq\": 3012}, {\"type\": \"creator\", \"sherlock_mismatch_freq\": 61, \"sato_mismatch_freq\": 210, \"true_type_freq\": 361}, {\"type\": \"credit\", \"sherlock_mismatch_freq\": 184, \"sato_mismatch_freq\": 595, \"true_type_freq\": 906}, {\"type\": \"currency\", \"sherlock_mismatch_freq\": 14, \"sato_mismatch_freq\": 78, \"true_type_freq\": 395}, {\"type\": \"day\", \"sherlock_mismatch_freq\": 308, \"sato_mismatch_freq\": 703, \"true_type_freq\": 2952}, {\"type\": \"depth\", \"sherlock_mismatch_freq\": 69, \"sato_mismatch_freq\": 146, \"true_type_freq\": 944}, {\"type\": \"description\", \"sherlock_mismatch_freq\": 414, \"sato_mismatch_freq\": 415, \"true_type_freq\": 3025}, {\"type\": \"director\", \"sherlock_mismatch_freq\": 97, \"sato_mismatch_freq\": 240, \"true_type_freq\": 246}, {\"type\": \"duration\", \"sherlock_mismatch_freq\": 127, \"sato_mismatch_freq\": 776, \"true_type_freq\": 3018}, {\"type\": \"education\", \"sherlock_mismatch_freq\": 70, \"sato_mismatch_freq\": 150, \"true_type_freq\": 304}, {\"type\": \"elevation\", \"sherlock_mismatch_freq\": 64, \"sato_mismatch_freq\": 425, \"true_type_freq\": 1329}, {\"type\": \"family\", \"sherlock_mismatch_freq\": 82, \"sato_mismatch_freq\": 174, \"true_type_freq\": 731}, {\"type\": \"filesize\", \"sherlock_mismatch_freq\": 52, \"sato_mismatch_freq\": 125, \"true_type_freq\": 365}, {\"type\": \"format\", \"sherlock_mismatch_freq\": 104, \"sato_mismatch_freq\": 496, \"true_type_freq\": 2949}, {\"type\": \"gender\", \"sherlock_mismatch_freq\": 316, \"sato_mismatch_freq\": 331, \"true_type_freq\": 1073}, {\"type\": \"genre\", \"sherlock_mismatch_freq\": 67, \"sato_mismatch_freq\": 363, \"true_type_freq\": 1220}, {\"type\": \"grades\", \"sherlock_mismatch_freq\": 23, \"sato_mismatch_freq\": 105, \"true_type_freq\": 1741}, {\"type\": \"industry\", \"sherlock_mismatch_freq\": 68, \"sato_mismatch_freq\": 230, \"true_type_freq\": 3078}, {\"type\": \"isbn\", \"sherlock_mismatch_freq\": 13, \"sato_mismatch_freq\": 90, \"true_type_freq\": 1440}, {\"type\": \"jockey\", \"sherlock_mismatch_freq\": 24, \"sato_mismatch_freq\": 871, \"true_type_freq\": 2817}, {\"type\": \"language\", \"sherlock_mismatch_freq\": 65, \"sato_mismatch_freq\": 285, \"true_type_freq\": 1578}, {\"type\": \"location\", \"sherlock_mismatch_freq\": 560, \"sato_mismatch_freq\": 649, \"true_type_freq\": 2995}, {\"type\": \"manufacturer\", \"sherlock_mismatch_freq\": 175, \"sato_mismatch_freq\": 555, \"true_type_freq\": 913}, {\"type\": \"name\", \"sherlock_mismatch_freq\": 734, \"sato_mismatch_freq\": 427, \"true_type_freq\": 2991}, {\"type\": \"nationality\", \"sherlock_mismatch_freq\": 149, \"sato_mismatch_freq\": 472, \"true_type_freq\": 485}, {\"type\": \"notes\", \"sherlock_mismatch_freq\": 336, \"sato_mismatch_freq\": 1325, \"true_type_freq\": 2317}, {\"type\": \"operator\", \"sherlock_mismatch_freq\": 67, \"sato_mismatch_freq\": 377, \"true_type_freq\": 455}, {\"type\": \"order\", \"sherlock_mismatch_freq\": 194, \"sato_mismatch_freq\": 311, \"true_type_freq\": 1472}, {\"type\": \"organisation\", \"sherlock_mismatch_freq\": 47, \"sato_mismatch_freq\": 137, \"true_type_freq\": 243}, {\"type\": \"origin\", \"sherlock_mismatch_freq\": 140, \"sato_mismatch_freq\": 632, \"true_type_freq\": 1482}, {\"type\": \"owner\", \"sherlock_mismatch_freq\": 202, \"sato_mismatch_freq\": 1470, \"true_type_freq\": 1712}, {\"type\": \"person\", \"sherlock_mismatch_freq\": 207, \"sato_mismatch_freq\": 533, \"true_type_freq\": 553}, {\"type\": \"plays\", \"sherlock_mismatch_freq\": 132, \"sato_mismatch_freq\": 766, \"true_type_freq\": 1515}, {\"type\": \"position\", \"sherlock_mismatch_freq\": 507, \"sato_mismatch_freq\": 1361, \"true_type_freq\": 3023}, {\"type\": \"product\", \"sherlock_mismatch_freq\": 376, \"sato_mismatch_freq\": 1556, \"true_type_freq\": 2762}, {\"type\": \"publisher\", \"sherlock_mismatch_freq\": 80, \"sato_mismatch_freq\": 592, \"true_type_freq\": 867}, {\"type\": \"range\", \"sherlock_mismatch_freq\": 142, \"sato_mismatch_freq\": 368, \"true_type_freq\": 605}, {\"type\": \"rank\", \"sherlock_mismatch_freq\": 650, \"sato_mismatch_freq\": 745, \"true_type_freq\": 2959}, {\"type\": \"ranking\", \"sherlock_mismatch_freq\": 327, \"sato_mismatch_freq\": 431, \"true_type_freq\": 445}, {\"type\": \"region\", \"sherlock_mismatch_freq\": 505, \"sato_mismatch_freq\": 1337, \"true_type_freq\": 2681}, {\"type\": \"religion\", \"sherlock_mismatch_freq\": 15, \"sato_mismatch_freq\": 61, \"true_type_freq\": 313}, {\"type\": \"requirement\", \"sherlock_mismatch_freq\": 54, \"sato_mismatch_freq\": 223, \"true_type_freq\": 289}, {\"type\": \"result\", \"sherlock_mismatch_freq\": 188, \"sato_mismatch_freq\": 323, \"true_type_freq\": 3066}, {\"type\": \"sales\", \"sherlock_mismatch_freq\": 152, \"sato_mismatch_freq\": 294, \"true_type_freq\": 295}, {\"type\": \"service\", \"sherlock_mismatch_freq\": 164, \"sato_mismatch_freq\": 465, \"true_type_freq\": 2125}, {\"type\": \"sex\", \"sherlock_mismatch_freq\": 159, \"sato_mismatch_freq\": 1047, \"true_type_freq\": 2986}, {\"type\": \"species\", \"sherlock_mismatch_freq\": 56, \"sato_mismatch_freq\": 505, \"true_type_freq\": 797}, {\"type\": \"state\", \"sherlock_mismatch_freq\": 116, \"sato_mismatch_freq\": 256, \"true_type_freq\": 3006}, {\"type\": \"status\", \"sherlock_mismatch_freq\": 162, \"sato_mismatch_freq\": 405, \"true_type_freq\": 2967}, {\"type\": \"symbol\", \"sherlock_mismatch_freq\": 81, \"sato_mismatch_freq\": 711, \"true_type_freq\": 1665}, {\"type\": \"team\", \"sherlock_mismatch_freq\": 386, \"sato_mismatch_freq\": 391, \"true_type_freq\": 3035}, {\"type\": \"teamname\", \"sherlock_mismatch_freq\": 236, \"sato_mismatch_freq\": 1422, \"true_type_freq\": 1554}, {\"type\": \"type\", \"sherlock_mismatch_freq\": 389, \"sato_mismatch_freq\": 569, \"true_type_freq\": 3003}, {\"type\": \"weight\", \"sherlock_mismatch_freq\": 184, \"sato_mismatch_freq\": 612, \"true_type_freq\": 3013}, {\"type\": \"year\", \"sherlock_mismatch_freq\": 161, \"sato_mismatch_freq\": 284, \"true_type_freq\": 3057}]}}, {\"mode\": \"vega-lite\"});\n",
       "</script>"
      ],
      "text/plain": [
       "alt.Chart(...)"
      ]
     },
     "execution_count": 18,
     "metadata": {},
     "output_type": "execute_result"
    }
   ],
   "source": [
    "alt.Chart(combined_mismatch_freq_df.reset_index()).transform_fold(\n",
    "      ['sherlock_mismatch_freq', 'sato_mismatch_freq', 'true_type_freq'],\n",
    "      as_=['column', 'value']\n",
    "    ).mark_bar(size=15).encode(\n",
    "    column=alt.Column('type:O', sort=alt.EncodingSortField(\n",
    "                field=\"sato_mismatch_freq\",  \n",
    "                order=\"descending\")),\n",
    "    x = alt.X('column:N',\n",
    "              title = '',\n",
    "              ),\n",
    "    y=alt.Y('value:Q'),\n",
    "    color='column:N'\n",
    ")"
   ]
  },
  {
   "cell_type": "code",
   "execution_count": 19,
   "metadata": {},
   "outputs": [],
   "source": [
    "# print(combined_mismatch_freq_df)"
   ]
  },
  {
   "cell_type": "code",
   "execution_count": 20,
   "metadata": {},
   "outputs": [
    {
     "data": {
      "text/html": [
       "\n",
       "<div id=\"altair-viz-e705e6d72a8e4ca481460bfc414ba729\"></div>\n",
       "<script type=\"text/javascript\">\n",
       "  var VEGA_DEBUG = (typeof VEGA_DEBUG == \"undefined\") ? {} : VEGA_DEBUG;\n",
       "  (function(spec, embedOpt){\n",
       "    let outputDiv = document.currentScript.previousElementSibling;\n",
       "    if (outputDiv.id !== \"altair-viz-e705e6d72a8e4ca481460bfc414ba729\") {\n",
       "      outputDiv = document.getElementById(\"altair-viz-e705e6d72a8e4ca481460bfc414ba729\");\n",
       "    }\n",
       "    const paths = {\n",
       "      \"vega\": \"https://cdn.jsdelivr.net/npm//vega@5?noext\",\n",
       "      \"vega-lib\": \"https://cdn.jsdelivr.net/npm//vega-lib?noext\",\n",
       "      \"vega-lite\": \"https://cdn.jsdelivr.net/npm//vega-lite@4.17.0?noext\",\n",
       "      \"vega-embed\": \"https://cdn.jsdelivr.net/npm//vega-embed@6?noext\",\n",
       "    };\n",
       "\n",
       "    function maybeLoadScript(lib, version) {\n",
       "      var key = `${lib.replace(\"-\", \"\")}_version`;\n",
       "      return (VEGA_DEBUG[key] == version) ?\n",
       "        Promise.resolve(paths[lib]) :\n",
       "        new Promise(function(resolve, reject) {\n",
       "          var s = document.createElement('script');\n",
       "          document.getElementsByTagName(\"head\")[0].appendChild(s);\n",
       "          s.async = true;\n",
       "          s.onload = () => {\n",
       "            VEGA_DEBUG[key] = version;\n",
       "            return resolve(paths[lib]);\n",
       "          };\n",
       "          s.onerror = () => reject(`Error loading script: ${paths[lib]}`);\n",
       "          s.src = paths[lib];\n",
       "        });\n",
       "    }\n",
       "\n",
       "    function showError(err) {\n",
       "      outputDiv.innerHTML = `<div class=\"error\" style=\"color:red;\">${err}</div>`;\n",
       "      throw err;\n",
       "    }\n",
       "\n",
       "    function displayChart(vegaEmbed) {\n",
       "      vegaEmbed(outputDiv, spec, embedOpt)\n",
       "        .catch(err => showError(`Javascript Error: ${err.message}<br>This usually means there's a typo in your chart specification. See the javascript console for the full traceback.`));\n",
       "    }\n",
       "\n",
       "    if(typeof define === \"function\" && define.amd) {\n",
       "      requirejs.config({paths});\n",
       "      require([\"vega-embed\"], displayChart, err => showError(`Error loading script: ${err.message}`));\n",
       "    } else {\n",
       "      maybeLoadScript(\"vega\", \"5\")\n",
       "        .then(() => maybeLoadScript(\"vega-lite\", \"4.17.0\"))\n",
       "        .then(() => maybeLoadScript(\"vega-embed\", \"6\"))\n",
       "        .catch(showError)\n",
       "        .then(() => displayChart(vegaEmbed));\n",
       "    }\n",
       "  })({\"config\": {\"view\": {\"continuousWidth\": 400, \"continuousHeight\": 300}}, \"data\": {\"name\": \"data-4a0191303a55c0736e62bde6999ef8c9\"}, \"mark\": {\"type\": \"bar\", \"size\": 15}, \"encoding\": {\"color\": {\"field\": \"column\", \"type\": \"nominal\"}, \"column\": {\"field\": \"type\", \"sort\": {\"field\": \"support_sherlock\", \"order\": \"descending\"}, \"type\": \"ordinal\"}, \"x\": {\"field\": \"column\", \"title\": \"\", \"type\": \"nominal\"}, \"y\": {\"field\": \"value\", \"type\": \"quantitative\"}}, \"transform\": [{\"fold\": [\"precision_sato\", \"recall_sato\", \"f1-score_sato\", \"precision_sherlock\", \"recall_sherlock\", \"f1-score_sherlock\"], \"as\": [\"column\", \"value\"]}], \"$schema\": \"https://vega.github.io/schema/vega-lite/v4.17.0.json\", \"datasets\": {\"data-4a0191303a55c0736e62bde6999ef8c9\": [{\"type\": \"isbn\", \"precision_sato\": 0.9985207100591716, \"recall_sato\": 0.9375, \"f1-score_sato\": 0.9670487106017193, \"support_sato\": 1440, \"precision_sherlock\": 0.9923504867872045, \"recall_sherlock\": 0.9909722222222223, \"f1-score_sherlock\": 0.9916608756080612, \"support_sherlock\": 1440}, {\"type\": \"grades\", \"precision_sato\": 0.9933211900425015, \"recall_sato\": 0.9396898334290638, \"f1-score_sato\": 0.9657615112160567, \"support_sato\": 1741, \"precision_sherlock\": 0.9924898902368573, \"recall_sherlock\": 0.9867892016082711, \"f1-score_sherlock\": 0.9896313364055299, \"support_sherlock\": 1741}, {\"type\": \"jockey\", \"precision_sato\": 0.845351867940921, \"recall_sato\": 0.6908058217962372, \"f1-score_sato\": 0.7603047470209024, \"support_sato\": 2817, \"precision_sherlock\": 0.986228813559322, \"recall_sherlock\": 0.9914802981895634, \"f1-score_sherlock\": 0.9888475836431228, \"support_sherlock\": 2817}, {\"type\": \"industry\", \"precision_sato\": 0.9264801561483409, \"recall_sato\": 0.9252761533463287, \"f1-score_sato\": 0.9258777633289986, \"support_sato\": 3078, \"precision_sherlock\": 0.9875328083989501, \"recall_sherlock\": 0.9779077322936972, \"f1-score_sherlock\": 0.9826967025791709, \"support_sherlock\": 3078}, {\"type\": \"birthdate\", \"precision_sato\": 0.9410187667560321, \"recall_sato\": 0.7748344370860927, \"f1-score_sato\": 0.8498789346246972, \"support_sato\": 453, \"precision_sherlock\": 0.9754464285714286, \"recall_sherlock\": 0.9646799116997793, \"f1-score_sherlock\": 0.970033296337403, \"support_sherlock\": 453}, {\"type\": \"currency\", \"precision_sato\": 0.9694189602446484, \"recall_sato\": 0.8025316455696202, \"f1-score_sato\": 0.8781163434903048, \"support_sato\": 395, \"precision_sherlock\": 0.9719387755102041, \"recall_sherlock\": 0.9645569620253165, \"f1-score_sherlock\": 0.9682337992376113, \"support_sherlock\": 395}, {\"type\": \"affiliation\", \"precision_sato\": 0.9765886287625418, \"recall_sato\": 0.6952380952380952, \"f1-score_sato\": 0.812239221140473, \"support_sato\": 1680, \"precision_sherlock\": 0.9672813801308745, \"recall_sherlock\": 0.9678571428571429, \"f1-score_sherlock\": 0.9675691758405237, \"support_sherlock\": 1680}, {\"type\": \"format\", \"precision_sato\": 0.9604541895066562, \"recall_sato\": 0.8318073923363852, \"f1-score_sato\": 0.8915137197892059, \"support_sato\": 2949, \"precision_sherlock\": 0.968675519237317, \"recall_sherlock\": 0.9647338080705324, \"f1-score_sherlock\": 0.9667006455997282, \"support_sherlock\": 2949}, {\"type\": \"religion\", \"precision_sato\": 0.9692307692307692, \"recall_sato\": 0.805111821086262, \"f1-score_sato\": 0.8795811518324608, \"support_sato\": 313, \"precision_sherlock\": 0.9770491803278688, \"recall_sherlock\": 0.952076677316294, \"f1-score_sherlock\": 0.9644012944983819, \"support_sherlock\": 313}, {\"type\": \"club\", \"precision_sato\": 0.8190591073582629, \"recall_sato\": 0.2262579140286571, \"f1-score_sato\": 0.35456919060052217, \"support_sato\": 3001, \"precision_sherlock\": 0.9714964370546318, \"recall_sherlock\": 0.9540153282239253, \"f1-score_sherlock\": 0.9626765299260256, \"support_sherlock\": 3001}, {\"type\": \"county\", \"precision_sato\": 0.9538542212899843, \"recall_sato\": 0.6039176626826029, \"f1-score_sato\": 0.7395812156942468, \"support_sato\": 3012, \"precision_sherlock\": 0.9508519003931848, \"recall_sherlock\": 0.9634794156706508, \"f1-score_sherlock\": 0.9571240105540898, \"support_sherlock\": 3012}, {\"type\": \"year\", \"precision_sato\": 0.8235818235818236, \"recall_sato\": 0.9070984625449787, \"f1-score_sato\": 0.8633250311332503, \"support_sato\": 3057, \"precision_sherlock\": 0.9637271214642263, \"recall_sherlock\": 0.9473339875695126, \"f1-score_sherlock\": 0.9554602441438469, \"support_sherlock\": 3057}, {\"type\": \"genre\", \"precision_sato\": 0.8744897959183674, \"recall_sato\": 0.7024590163934427, \"f1-score_sato\": 0.7790909090909092, \"support_sato\": 1220, \"precision_sherlock\": 0.9640468227424749, \"recall_sherlock\": 0.9450819672131148, \"f1-score_sherlock\": 0.9544701986754967, \"support_sherlock\": 1220}, {\"type\": \"collection\", \"precision_sato\": 0.921832884097035, \"recall_sato\": 0.6758893280632411, \"f1-score_sato\": 0.7799315849486887, \"support_sato\": 506, \"precision_sherlock\": 0.9792099792099792, \"recall_sherlock\": 0.9308300395256917, \"f1-score_sherlock\": 0.9544072948328268, \"support_sherlock\": 506}, {\"type\": \"symbol\", \"precision_sato\": 0.6948288419519301, \"recall_sato\": 0.572972972972973, \"f1-score_sato\": 0.6280447662936143, \"support_sato\": 1665, \"precision_sherlock\": 0.9570996978851963, \"recall_sherlock\": 0.9513513513513514, \"f1-score_sherlock\": 0.9542168674698795, \"support_sherlock\": 1665}, {\"type\": \"state\", \"precision_sato\": 0.8389261744966443, \"recall_sato\": 0.914836992681304, \"f1-score_sato\": 0.8752387014640356, \"support_sato\": 3006, \"precision_sherlock\": 0.9435194253999347, \"recall_sherlock\": 0.9614105123087159, \"f1-score_sherlock\": 0.9523809523809524, \"support_sherlock\": 3006}, {\"type\": \"result\", \"precision_sato\": 0.8661193558572782, \"recall_sato\": 0.8946510110893673, \"f1-score_sato\": 0.8801540189314937, \"support_sato\": 3066, \"precision_sherlock\": 0.9612558450233801, \"recall_sherlock\": 0.9386823222439661, \"f1-score_sherlock\": 0.9498349834983497, \"support_sherlock\": 3066}, {\"type\": \"language\", \"precision_sato\": 0.805607476635514, \"recall_sato\": 0.8193916349809885, \"f1-score_sato\": 0.8124410933081998, \"support_sato\": 1578, \"precision_sherlock\": 0.9409203980099502, \"recall_sherlock\": 0.958808618504436, \"f1-score_sherlock\": 0.9497802887633396, \"support_sherlock\": 1578}, {\"type\": \"duration\", \"precision_sato\": 0.9132382892057026, \"recall_sato\": 0.7428760768721008, \"f1-score_sato\": 0.8192947195322493, \"support_sato\": 3018, \"precision_sherlock\": 0.9365079365079365, \"recall_sherlock\": 0.9579191517561298, \"f1-score_sherlock\": 0.947092547092547, \"support_sherlock\": 3018}, {\"type\": \"elevation\", \"precision_sato\": 0.9465968586387434, \"recall_sato\": 0.6802106847253574, \"f1-score_sato\": 0.7915936952714537, \"support_sato\": 1329, \"precision_sherlock\": 0.9412202380952381, \"recall_sherlock\": 0.9518434913468774, \"f1-score_sherlock\": 0.9465020576131687, \"support_sherlock\": 1329}, {\"type\": \"weight\", \"precision_sato\": 0.8084175084175084, \"recall_sato\": 0.7968801858612679, \"f1-score_sato\": 0.8026073875981948, \"support_sato\": 3013, \"precision_sherlock\": 0.9506048387096774, \"recall_sherlock\": 0.9389312977099237, \"f1-score_sherlock\": 0.9447320086825847, \"support_sherlock\": 3013}, {\"type\": \"birthplace\", \"precision_sato\": 0.8333333333333334, \"recall_sato\": 0.06864988558352403, \"f1-score_sato\": 0.12684989429175475, \"support_sato\": 437, \"precision_sherlock\": 0.951276102088167, \"recall_sherlock\": 0.9382151029748284, \"f1-score_sherlock\": 0.944700460829493, \"support_sherlock\": 437}, {\"type\": \"status\", \"precision_sato\": 0.6182432432432432, \"recall_sato\": 0.8634984833164813, \"f1-score_sato\": 0.7205737589649838, \"support_sato\": 2967, \"precision_sherlock\": 0.9353117705901968, \"recall_sherlock\": 0.9453993933265925, \"f1-score_sherlock\": 0.9403285283271874, \"support_sherlock\": 2967}, {\"type\": \"service\", \"precision_sato\": 0.966802562609202, \"recall_sato\": 0.7811764705882352, \"f1-score_sato\": 0.8641332639250391, \"support_sato\": 2125, \"precision_sherlock\": 0.958455522971652, \"recall_sherlock\": 0.9228235294117647, \"f1-score_sherlock\": 0.9403020858307359, \"support_sherlock\": 2125}, {\"type\": \"depth\", \"precision_sato\": 0.6915077989601387, \"recall_sato\": 0.8453389830508474, \"f1-score_sato\": 0.7607244995233556, \"support_sato\": 944, \"precision_sherlock\": 0.9521218715995647, \"recall_sherlock\": 0.926906779661017, \"f1-score_sherlock\": 0.939345142243693, \"support_sherlock\": 944}, {\"type\": \"address\", \"precision_sato\": 0.9259954921111946, \"recall_sato\": 0.8146067415730337, \"f1-score_sato\": 0.8667369901547116, \"support_sato\": 3026, \"precision_sherlock\": 0.927992215374635, \"recall_sherlock\": 0.9454725710508922, \"f1-score_sherlock\": 0.9366508430184973, \"support_sherlock\": 3026}, {\"type\": \"origin\", \"precision_sato\": 0.9371554575523704, \"recall_sato\": 0.573549257759784, \"f1-score_sato\": 0.7115948095437422, \"support_sato\": 1482, \"precision_sherlock\": 0.9592566118656183, \"recall_sherlock\": 0.9055330634278003, \"f1-score_sherlock\": 0.9316209649427283, \"support_sherlock\": 1482}, {\"type\": \"species\", \"precision_sato\": 0.8984615384615384, \"recall_sato\": 0.36637390213299875, \"f1-score_sato\": 0.5204991087344029, \"support_sato\": 797, \"precision_sherlock\": 0.9285714285714286, \"recall_sherlock\": 0.9297365119196989, \"f1-score_sherlock\": 0.929153605015674, \"support_sherlock\": 797}, {\"type\": \"family\", \"precision_sato\": 0.8703125, \"recall_sato\": 0.761969904240766, \"f1-score_sato\": 0.8125455871626549, \"support_sato\": 731, \"precision_sherlock\": 0.9686567164179104, \"recall_sherlock\": 0.8878248974008208, \"f1-score_sherlock\": 0.926481084939329, \"support_sherlock\": 731}, {\"type\": \"day\", \"precision_sato\": 0.9297230260438197, \"recall_sato\": 0.7618563685636857, \"f1-score_sato\": 0.8374604356730591, \"support_sato\": 2952, \"precision_sherlock\": 0.9572773352643013, \"recall_sherlock\": 0.8956639566395664, \"f1-score_sherlock\": 0.9254462723136156, \"support_sherlock\": 2952}, {\"type\": \"sex\", \"precision_sato\": 0.9086223055295221, \"recall_sato\": 0.6493636972538513, \"f1-score_sato\": 0.757421875, \"support_sato\": 2986, \"precision_sherlock\": 0.8940543959519291, \"recall_sherlock\": 0.9467515070328199, \"f1-score_sherlock\": 0.9196486662329213, \"support_sherlock\": 2986}, {\"type\": \"code\", \"precision_sato\": 0.7781569965870307, \"recall_sato\": 0.8185378590078329, \"f1-score_sato\": 0.7978368061078416, \"support_sato\": 3064, \"precision_sherlock\": 0.9266024576552641, \"recall_sherlock\": 0.910574412532637, \"f1-score_sherlock\": 0.9185185185185185, \"support_sherlock\": 3064}, {\"type\": \"owner\", \"precision_sato\": 0.6558265582655827, \"recall_sato\": 0.1413551401869159, \"f1-score_sato\": 0.23258049014896687, \"support_sato\": 1712, \"precision_sherlock\": 0.94316052467208, \"recall_sherlock\": 0.8820093457943925, \"f1-score_sherlock\": 0.9115605191669183, \"support_sherlock\": 1712}, {\"type\": \"country\", \"precision_sato\": 0.745666382495027, \"recall_sato\": 0.8685865607414763, \"f1-score_sato\": 0.8024464831804282, \"support_sato\": 3021, \"precision_sherlock\": 0.8839813374805598, \"recall_sherlock\": 0.9407480966567362, \"f1-score_sherlock\": 0.9114817190506737, \"support_sherlock\": 3021}, {\"type\": \"category\", \"precision_sato\": 0.6036752605595173, \"recall_sato\": 0.7466078697421981, \"f1-score_sato\": 0.667576584774037, \"support_sato\": 2948, \"precision_sherlock\": 0.9191430545957153, \"recall_sherlock\": 0.9023066485753053, \"f1-score_sherlock\": 0.9106470386853818, \"support_sherlock\": 2948}, {\"type\": \"command\", \"precision_sato\": 0.6019417475728155, \"recall_sato\": 0.11992263056092843, \"f1-score_sato\": 0.19999999999999998, \"support_sato\": 1034, \"precision_sherlock\": 0.9392378990731205, \"recall_sherlock\": 0.8820116054158608, \"f1-score_sherlock\": 0.9097256857855363, \"support_sherlock\": 1034}, {\"type\": \"age\", \"precision_sato\": 0.7639421658306285, \"recall_sato\": 0.8848257006151743, \"f1-score_sato\": 0.8199524940617576, \"support_sato\": 2926, \"precision_sherlock\": 0.8678304239401496, \"recall_sherlock\": 0.9514695830485305, \"f1-score_sherlock\": 0.9077274209325074, \"support_sherlock\": 2926}, {\"type\": \"class\", \"precision_sato\": 0.8301535597952536, \"recall_sato\": 0.6002691790040376, \"f1-score_sato\": 0.696738918180043, \"support_sato\": 2972, \"precision_sherlock\": 0.9014647137150466, \"recall_sherlock\": 0.9111709286675639, \"f1-score_sherlock\": 0.9062918340026773, \"support_sherlock\": 2972}, {\"type\": \"filesize\", \"precision_sato\": 0.6648199445983379, \"recall_sato\": 0.6575342465753424, \"f1-score_sato\": 0.6611570247933884, \"support_sato\": 365, \"precision_sherlock\": 0.93993993993994, \"recall_sherlock\": 0.8575342465753425, \"f1-score_sherlock\": 0.8968481375358165, \"support_sherlock\": 365}, {\"type\": \"type\", \"precision_sato\": 0.4576908612260248, \"recall_sato\": 0.8105228105228105, \"f1-score_sato\": 0.5850258382405961, \"support_sato\": 3003, \"precision_sherlock\": 0.922696787857395, \"recall_sherlock\": 0.8704628704628704, \"f1-score_sherlock\": 0.8958190541466758, \"support_sherlock\": 3003}, {\"type\": \"company\", \"precision_sato\": 0.7909893172317696, \"recall_sato\": 0.5850223290965304, \"f1-score_sato\": 0.6725908372827805, \"support_sato\": 2911, \"precision_sherlock\": 0.8941780821917809, \"recall_sherlock\": 0.896942631398145, \"f1-score_sherlock\": 0.8955582232893158, \"support_sherlock\": 2911}, {\"type\": \"continent\", \"precision_sato\": 0.6470588235294118, \"recall_sato\": 0.13043478260869565, \"f1-score_sato\": 0.21710526315789472, \"support_sato\": 253, \"precision_sherlock\": 0.91701244813278, \"recall_sherlock\": 0.8735177865612648, \"f1-score_sherlock\": 0.8947368421052632, \"support_sherlock\": 253}, {\"type\": \"publisher\", \"precision_sato\": 0.804093567251462, \"recall_sato\": 0.31718569780853517, \"f1-score_sato\": 0.45492142266335805, \"support_sato\": 867, \"precision_sherlock\": 0.8803131991051454, \"recall_sherlock\": 0.9077277970011534, \"f1-score_sherlock\": 0.8938103350369108, \"support_sherlock\": 867}, {\"type\": \"album\", \"precision_sato\": 0.8710387323943662, \"recall_sato\": 0.6550810989738497, \"f1-score_sato\": 0.747780086907236, \"support_sato\": 3021, \"precision_sherlock\": 0.8830275229357798, \"recall_sherlock\": 0.892088712346905, \"f1-score_sherlock\": 0.8875349909435205, \"support_sherlock\": 3021}, {\"type\": \"city\", \"precision_sato\": 0.6693944353518821, \"recall_sato\": 0.8043264503441495, \"f1-score_sato\": 0.7306833407771326, \"support_sato\": 3051, \"precision_sherlock\": 0.8698392688307596, \"recall_sherlock\": 0.904621435594887, \"f1-score_sherlock\": 0.8868894601542416, \"support_sherlock\": 3051}, {\"type\": \"classification\", \"precision_sato\": 0.769857433808554, \"recall_sato\": 0.6166394779771615, \"f1-score_sato\": 0.6847826086956521, \"support_sato\": 613, \"precision_sherlock\": 0.9188712522045855, \"recall_sherlock\": 0.8499184339314845, \"f1-score_sherlock\": 0.883050847457627, \"support_sherlock\": 613}, {\"type\": \"component\", \"precision_sato\": 0.823170731707317, \"recall_sato\": 0.32425940752602084, \"f1-score_sato\": 0.46524985640436534, \"support_sato\": 1249, \"precision_sherlock\": 0.8792692613185068, \"recall_sherlock\": 0.8863090472377902, \"f1-score_sherlock\": 0.882775119617225, \"support_sherlock\": 1249}, {\"type\": \"plays\", \"precision_sato\": 0.7573306370070778, \"recall_sato\": 0.49438943894389437, \"f1-score_sato\": 0.5982428115015974, \"support_sato\": 1515, \"precision_sherlock\": 0.8366606170598911, \"recall_sherlock\": 0.9128712871287129, \"f1-score_sherlock\": 0.8731060606060606, \"support_sherlock\": 1515}, {\"type\": \"team\", \"precision_sato\": 0.32283272283272285, \"recall_sato\": 0.8711696869851729, \"f1-score_sato\": 0.47109131403118043, \"support_sato\": 3035, \"precision_sherlock\": 0.8597857838364168, \"recall_sherlock\": 0.8728171334431631, \"f1-score_sherlock\": 0.8662524525833879, \"support_sherlock\": 3035}, {\"type\": \"teamname\", \"precision_sato\": 0.7058823529411765, \"recall_sato\": 0.08494208494208494, \"f1-score_sato\": 0.15163699023549684, \"support_sato\": 1554, \"precision_sherlock\": 0.8851578240429818, \"recall_sherlock\": 0.8481338481338482, \"f1-score_sherlock\": 0.8662504107788367, \"support_sherlock\": 1554}, {\"type\": \"product\", \"precision_sato\": 0.8271604938271605, \"recall_sato\": 0.4366401158580739, \"f1-score_sato\": 0.5715639810426542, \"support_sato\": 2762, \"precision_sherlock\": 0.8673209741912032, \"recall_sherlock\": 0.8638667632150615, \"f1-score_sherlock\": 0.8655904226374025, \"support_sherlock\": 2762}, {\"type\": \"order\", \"precision_sato\": 0.9258373205741627, \"recall_sato\": 0.7887228260869565, \"f1-score_sato\": 0.8517975055025677, \"support_sato\": 1472, \"precision_sherlock\": 0.8577181208053691, \"recall_sherlock\": 0.8682065217391305, \"f1-score_sherlock\": 0.862930452397029, \"support_sherlock\": 1472}, {\"type\": \"affiliate\", \"precision_sato\": 0.3142857142857143, \"recall_sato\": 0.12222222222222222, \"f1-score_sato\": 0.176, \"support_sato\": 180, \"precision_sherlock\": 0.958904109589041, \"recall_sherlock\": 0.7777777777777778, \"f1-score_sherlock\": 0.8588957055214723, \"support_sherlock\": 180}, {\"type\": \"requirement\", \"precision_sato\": 0.7415730337078652, \"recall_sato\": 0.22837370242214533, \"f1-score_sato\": 0.34920634920634924, \"support_sato\": 289, \"precision_sherlock\": 0.8969465648854962, \"recall_sherlock\": 0.8131487889273357, \"f1-score_sherlock\": 0.852994555353902, \"support_sherlock\": 289}, {\"type\": \"location\", \"precision_sato\": 0.47393939393939394, \"recall_sato\": 0.78330550918197, \"f1-score_sato\": 0.5905601006922593, \"support_sato\": 2995, \"precision_sherlock\": 0.886421550782672, \"recall_sherlock\": 0.8130217028380634, \"f1-score_sherlock\": 0.8481365377917102, \"support_sherlock\": 2995}, {\"type\": \"education\", \"precision_sato\": 0.8850574712643678, \"recall_sato\": 0.506578947368421, \"f1-score_sato\": 0.6443514644351463, \"support_sato\": 304, \"precision_sherlock\": 0.9322709163346613, \"recall_sherlock\": 0.7697368421052632, \"f1-score_sherlock\": 0.8432432432432432, \"support_sherlock\": 304}, {\"type\": \"operator\", \"precision_sato\": 0.6341463414634146, \"recall_sato\": 0.17142857142857143, \"f1-score_sato\": 0.2698961937716263, \"support_sato\": 455, \"precision_sherlock\": 0.8326180257510729, \"recall_sherlock\": 0.8527472527472527, \"f1-score_sherlock\": 0.8425624321389793, \"support_sherlock\": 455}, {\"type\": \"region\", \"precision_sato\": 0.680161943319838, \"recall_sato\": 0.5013054830287206, \"f1-score_sato\": 0.5771956194975305, \"support_sato\": 2681, \"precision_sherlock\": 0.8749497386409328, \"recall_sherlock\": 0.8116374487131667, \"f1-score_sherlock\": 0.8421052631578947, \"support_sherlock\": 2681}, {\"type\": \"organisation\", \"precision_sato\": 0.954954954954955, \"recall_sato\": 0.43621399176954734, \"f1-score_sato\": 0.5988700564971752, \"support_sato\": 243, \"precision_sherlock\": 0.875, \"recall_sherlock\": 0.8065843621399177, \"f1-score_sherlock\": 0.8394004282655246, \"support_sherlock\": 243}, {\"type\": \"area\", \"precision_sato\": 0.8528209321340965, \"recall_sato\": 0.5186474390850323, \"f1-score_sato\": 0.6450216450216449, \"support_sato\": 2011, \"precision_sherlock\": 0.8645229309435951, \"recall_sherlock\": 0.8155146693187469, \"f1-score_sherlock\": 0.8393039918116685, \"support_sherlock\": 2011}, {\"type\": \"artist\", \"precision_sato\": 0.622397476340694, \"recall_sato\": 0.6539608882996354, \"f1-score_sato\": 0.6377889122353321, \"support_sato\": 3017, \"precision_sherlock\": 0.8237375361852686, \"recall_sherlock\": 0.8488564799469672, \"f1-score_sherlock\": 0.8361083904668626, \"support_sherlock\": 3017}, {\"type\": \"description\", \"precision_sato\": 0.44433094994892747, \"recall_sato\": 0.8628099173553719, \"f1-score_sato\": 0.586582762108102, \"support_sato\": 3025, \"precision_sherlock\": 0.8076090318589545, \"recall_sherlock\": 0.8631404958677686, \"f1-score_sherlock\": 0.8344519015659956, \"support_sherlock\": 3025}, {\"type\": \"credit\", \"precision_sato\": 0.7249417249417249, \"recall_sato\": 0.3432671081677704, \"f1-score_sato\": 0.46591760299625457, \"support_sato\": 906, \"precision_sherlock\": 0.8646706586826347, \"recall_sherlock\": 0.7969094922737306, \"f1-score_sherlock\": 0.8294083859850659, \"support_sherlock\": 906}, {\"type\": \"manufacturer\", \"precision_sato\": 0.4408866995073892, \"recall_sato\": 0.39211391018619934, \"f1-score_sato\": 0.41507246376811596, \"support_sato\": 913, \"precision_sherlock\": 0.825503355704698, \"recall_sherlock\": 0.8083242059145673, \"f1-score_sherlock\": 0.8168234643054786, \"support_sherlock\": 913}, {\"type\": \"position\", \"precision_sato\": 0.506398537477148, \"recall_sato\": 0.5497849818061529, \"f1-score_sato\": 0.5272006344171292, \"support_sato\": 3023, \"precision_sherlock\": 0.7997457088366179, \"recall_sherlock\": 0.8322858087992061, \"f1-score_sherlock\": 0.8156913600259361, \"support_sherlock\": 3023}, {\"type\": \"range\", \"precision_sato\": 0.948, \"recall_sato\": 0.39173553719008264, \"f1-score_sato\": 0.5543859649122808, \"support_sato\": 605, \"precision_sherlock\": 0.8589981447124304, \"recall_sherlock\": 0.7652892561983471, \"f1-score_sherlock\": 0.8094405594405594, \"support_sherlock\": 605}, {\"type\": \"creator\", \"precision_sato\": 0.9207317073170732, \"recall_sato\": 0.4182825484764543, \"f1-score_sato\": 0.5752380952380953, \"support_sato\": 361, \"precision_sherlock\": 0.7556675062972292, \"recall_sherlock\": 0.8310249307479224, \"f1-score_sherlock\": 0.7915567282321899, \"support_sherlock\": 361}, {\"type\": \"nationality\", \"precision_sato\": 0.52, \"recall_sato\": 0.026804123711340205, \"f1-score_sato\": 0.05098039215686274, \"support_sato\": 485, \"precision_sherlock\": 0.900804289544236, \"recall_sherlock\": 0.6927835051546392, \"f1-score_sherlock\": 0.7832167832167832, \"support_sherlock\": 485}, {\"type\": \"gender\", \"precision_sato\": 0.7353815659068385, \"recall_sato\": 0.6915191053122087, \"f1-score_sato\": 0.7127761767531219, \"support_sato\": 1073, \"precision_sherlock\": 0.8751445086705202, \"recall_sherlock\": 0.7054986020503262, \"f1-score_sherlock\": 0.7812177502579979, \"support_sherlock\": 1073}, {\"type\": \"notes\", \"precision_sato\": 0.8012924071082391, \"recall_sato\": 0.4281398359948209, \"f1-score_sato\": 0.5580872011251758, \"support_sato\": 2317, \"precision_sherlock\": 0.7190562613430127, \"recall_sherlock\": 0.8549848942598187, \"f1-score_sherlock\": 0.7811514195583596, \"support_sherlock\": 2317}, {\"type\": \"brand\", \"precision_sato\": 0.14814814814814814, \"recall_sato\": 0.044036697247706424, \"f1-score_sato\": 0.06789250353606789, \"support_sato\": 545, \"precision_sherlock\": 0.8434579439252337, \"recall_sherlock\": 0.6623853211009174, \"f1-score_sherlock\": 0.7420349434737924, \"support_sherlock\": 545}, {\"type\": \"name\", \"precision_sato\": 0.24968351348719448, \"recall_sato\": 0.857238381812103, \"f1-score_sato\": 0.3867269984917044, \"support_sato\": 2991, \"precision_sherlock\": 0.7252570694087404, \"recall_sherlock\": 0.7545971247074557, \"f1-score_sherlock\": 0.7396362444699328, \"support_sherlock\": 2991}, {\"type\": \"capacity\", \"precision_sato\": 0.43548387096774194, \"recall_sato\": 0.08881578947368421, \"f1-score_sato\": 0.14754098360655737, \"support_sato\": 304, \"precision_sherlock\": 0.77734375, \"recall_sherlock\": 0.6546052631578947, \"f1-score_sherlock\": 0.7107142857142856, \"support_sherlock\": 304}, {\"type\": \"rank\", \"precision_sato\": 0.39841641173294945, \"recall_sato\": 0.748225751943224, \"f1-score_sato\": 0.519962423673086, \"support_sato\": 2959, \"precision_sherlock\": 0.6277868406742795, \"recall_sherlock\": 0.7803311929705982, \"f1-score_sherlock\": 0.6957962935061022, \"support_sherlock\": 2959}, {\"type\": \"person\", \"precision_sato\": 0.6896551724137931, \"recall_sato\": 0.03616636528028933, \"f1-score_sato\": 0.06872852233676975, \"support_sato\": 553, \"precision_sherlock\": 0.7148760330578512, \"recall_sherlock\": 0.6256781193490054, \"f1-score_sherlock\": 0.6673095467695275, \"support_sherlock\": 553}, {\"type\": \"director\", \"precision_sato\": 0.11764705882352941, \"recall_sato\": 0.024390243902439025, \"f1-score_sato\": 0.04040404040404041, \"support_sato\": 246, \"precision_sherlock\": 0.6898148148148148, \"recall_sherlock\": 0.6056910569105691, \"f1-score_sherlock\": 0.645021645021645, \"support_sherlock\": 246}, {\"type\": \"sales\", \"precision_sato\": 0.16666666666666666, \"recall_sato\": 0.003389830508474576, \"f1-score_sato\": 0.0066445182724252485, \"support_sato\": 295, \"precision_sherlock\": 0.5088967971530249, \"recall_sherlock\": 0.4847457627118644, \"f1-score_sherlock\": 0.4965277777777778, \"support_sherlock\": 295}, {\"type\": \"ranking\", \"precision_sato\": 0.32558139534883723, \"recall_sato\": 0.03146067415730337, \"f1-score_sato\": 0.05737704918032787, \"support_sato\": 445, \"precision_sherlock\": 0.8251748251748252, \"recall_sherlock\": 0.2651685393258427, \"f1-score_sherlock\": 0.4013605442176871, \"support_sherlock\": 445}]}}, {\"mode\": \"vega-lite\"});\n",
       "</script>"
      ],
      "text/plain": [
       "alt.Chart(...)"
      ]
     },
     "execution_count": 20,
     "metadata": {},
     "output_type": "execute_result"
    }
   ],
   "source": [
    "alt.Chart(combined_report_df.reset_index()).transform_fold(\n",
    "      ['precision_sato', 'recall_sato', 'f1-score_sato', 'precision_sherlock', 'recall_sherlock', 'f1-score_sherlock'],\n",
    "      as_=['column', 'value']\n",
    "    ).mark_bar(size=15).encode(\n",
    "    column=alt.Column('type:O', sort=alt.EncodingSortField(\n",
    "                field=\"support_sherlock\",  \n",
    "                order=\"descending\")),\n",
    "    x = alt.X('column:N',\n",
    "              title = '',\n",
    "              ),\n",
    "    y=alt.Y('value:Q'),\n",
    "    color='column:N'\n",
    ")"
   ]
  },
  {
   "cell_type": "code",
   "execution_count": 25,
   "metadata": {},
   "outputs": [],
   "source": [
    "sato_top_5_df = report_sato_df.loc[report_sato_df['support']>0].sort_values(by=['f1-score'], ascending=False).head(5)\n",
    "sato_top_5_df.index.name = 'type'\n",
    "sato_bottom_5_df = report_sato_df.loc[report_sato_df['support']>0].sort_values(by=['f1-score'], ascending=False).tail(5)\n",
    "sato_bottom_5_df.index.name = 'type'\n",
    "sherlock_top_5_df = report_sherlock_df.loc[report_sherlock_df['support']>0].sort_values(by=['f1-score'], ascending=False).head(5)\n",
    "sherlock_top_5_df.index.name = 'type'\n",
    "sherlock_bottom_5_df = report_sherlock_df.loc[report_sherlock_df['support']>0].sort_values(by=['f1-score'], ascending=False).tail(5)\n",
    "sherlock_bottom_5_df.index.name = 'type'"
   ]
  },
  {
   "cell_type": "code",
   "execution_count": 26,
   "metadata": {},
   "outputs": [
    {
     "name": "stdout",
     "output_type": "stream",
     "text": [
      "          precision    recall  f1-score  support\n",
      "type                                            \n",
      "isbn       0.998521  0.937500  0.967049     1440\n",
      "grades     0.993321  0.939690  0.965762     1741\n",
      "industry   0.926480  0.925276  0.925878     3078\n",
      "format     0.960454  0.831807  0.891514     2949\n",
      "result     0.866119  0.894651  0.880154     3066\n",
      "             precision    recall  f1-score  support\n",
      "type                                               \n",
      "brand         0.148148  0.044037  0.067893      545\n",
      "ranking       0.325581  0.031461  0.057377      445\n",
      "nationality   0.520000  0.026804  0.050980      485\n",
      "director      0.117647  0.024390  0.040404      246\n",
      "sales         0.166667  0.003390  0.006645      295\n",
      "           precision    recall  f1-score  support\n",
      "type                                             \n",
      "isbn        0.992350  0.990972  0.991661     1440\n",
      "grades      0.992490  0.986789  0.989631     1741\n",
      "jockey      0.986229  0.991480  0.988848     2817\n",
      "industry    0.987533  0.977908  0.982697     3078\n",
      "birthdate   0.975446  0.964680  0.970033      453\n",
      "          precision    recall  f1-score  support\n",
      "type                                            \n",
      "rank       0.627787  0.780331  0.695796     2959\n",
      "person     0.714876  0.625678  0.667310      553\n",
      "director   0.689815  0.605691  0.645022      246\n",
      "sales      0.508897  0.484746  0.496528      295\n",
      "ranking    0.825175  0.265169  0.401361      445\n"
     ]
    }
   ],
   "source": [
    "print(sato_top_5_df)\n",
    "print(sato_bottom_5_df)\n",
    "print(sherlock_top_5_df)\n",
    "print(sherlock_bottom_5_df)"
   ]
  },
  {
   "cell_type": "code",
   "execution_count": 64,
   "metadata": {},
   "outputs": [
    {
     "data": {
      "text/html": [
       "\n",
       "<div id=\"altair-viz-6f81a84efd3c45b1a88cccf78d580d75\"></div>\n",
       "<script type=\"text/javascript\">\n",
       "  var VEGA_DEBUG = (typeof VEGA_DEBUG == \"undefined\") ? {} : VEGA_DEBUG;\n",
       "  (function(spec, embedOpt){\n",
       "    let outputDiv = document.currentScript.previousElementSibling;\n",
       "    if (outputDiv.id !== \"altair-viz-6f81a84efd3c45b1a88cccf78d580d75\") {\n",
       "      outputDiv = document.getElementById(\"altair-viz-6f81a84efd3c45b1a88cccf78d580d75\");\n",
       "    }\n",
       "    const paths = {\n",
       "      \"vega\": \"https://cdn.jsdelivr.net/npm//vega@5?noext\",\n",
       "      \"vega-lib\": \"https://cdn.jsdelivr.net/npm//vega-lib?noext\",\n",
       "      \"vega-lite\": \"https://cdn.jsdelivr.net/npm//vega-lite@4.17.0?noext\",\n",
       "      \"vega-embed\": \"https://cdn.jsdelivr.net/npm//vega-embed@6?noext\",\n",
       "    };\n",
       "\n",
       "    function maybeLoadScript(lib, version) {\n",
       "      var key = `${lib.replace(\"-\", \"\")}_version`;\n",
       "      return (VEGA_DEBUG[key] == version) ?\n",
       "        Promise.resolve(paths[lib]) :\n",
       "        new Promise(function(resolve, reject) {\n",
       "          var s = document.createElement('script');\n",
       "          document.getElementsByTagName(\"head\")[0].appendChild(s);\n",
       "          s.async = true;\n",
       "          s.onload = () => {\n",
       "            VEGA_DEBUG[key] = version;\n",
       "            return resolve(paths[lib]);\n",
       "          };\n",
       "          s.onerror = () => reject(`Error loading script: ${paths[lib]}`);\n",
       "          s.src = paths[lib];\n",
       "        });\n",
       "    }\n",
       "\n",
       "    function showError(err) {\n",
       "      outputDiv.innerHTML = `<div class=\"error\" style=\"color:red;\">${err}</div>`;\n",
       "      throw err;\n",
       "    }\n",
       "\n",
       "    function displayChart(vegaEmbed) {\n",
       "      vegaEmbed(outputDiv, spec, embedOpt)\n",
       "        .catch(err => showError(`Javascript Error: ${err.message}<br>This usually means there's a typo in your chart specification. See the javascript console for the full traceback.`));\n",
       "    }\n",
       "\n",
       "    if(typeof define === \"function\" && define.amd) {\n",
       "      requirejs.config({paths});\n",
       "      require([\"vega-embed\"], displayChart, err => showError(`Error loading script: ${err.message}`));\n",
       "    } else {\n",
       "      maybeLoadScript(\"vega\", \"5\")\n",
       "        .then(() => maybeLoadScript(\"vega-lite\", \"4.17.0\"))\n",
       "        .then(() => maybeLoadScript(\"vega-embed\", \"6\"))\n",
       "        .catch(showError)\n",
       "        .then(() => displayChart(vegaEmbed));\n",
       "    }\n",
       "  })({\"config\": {\"view\": {\"continuousWidth\": 400, \"continuousHeight\": 300}, \"axis\": {\"labelFontSize\": 18, \"titleFontSize\": 18}, \"header\": {\"labelFontSize\": 18, \"titleFontSize\": 18}, \"legend\": {\"labelFontSize\": 18}}, \"data\": {\"name\": \"data-8453a69a21bf1e1e782c121988288d48\"}, \"mark\": {\"type\": \"bar\", \"size\": 15}, \"encoding\": {\"color\": {\"field\": \"column\", \"type\": \"nominal\"}, \"column\": {\"field\": \"type\", \"sort\": {\"field\": \"f1-score\", \"order\": \"descending\"}, \"type\": \"ordinal\"}, \"x\": {\"field\": \"column\", \"title\": \"\", \"type\": \"nominal\"}, \"y\": {\"field\": \"value\", \"type\": \"quantitative\"}}, \"transform\": [{\"fold\": [\"precision\", \"recall\", \"f1-score\"], \"as\": [\"column\", \"value\"]}], \"$schema\": \"https://vega.github.io/schema/vega-lite/v4.17.0.json\", \"datasets\": {\"data-8453a69a21bf1e1e782c121988288d48\": [{\"type\": \"isbn\", \"precision\": 0.9985207100591716, \"recall\": 0.9375, \"f1-score\": 0.9670487106017193, \"support\": 1440}, {\"type\": \"grades\", \"precision\": 0.9933211900425015, \"recall\": 0.9396898334290638, \"f1-score\": 0.9657615112160567, \"support\": 1741}, {\"type\": \"industry\", \"precision\": 0.9264801561483409, \"recall\": 0.9252761533463287, \"f1-score\": 0.9258777633289986, \"support\": 3078}, {\"type\": \"format\", \"precision\": 0.9604541895066562, \"recall\": 0.8318073923363852, \"f1-score\": 0.8915137197892059, \"support\": 2949}, {\"type\": \"result\", \"precision\": 0.8661193558572782, \"recall\": 0.8946510110893673, \"f1-score\": 0.8801540189314937, \"support\": 3066}]}}, {\"mode\": \"vega-lite\"});\n",
       "</script>"
      ],
      "text/plain": [
       "alt.Chart(...)"
      ]
     },
     "execution_count": 64,
     "metadata": {},
     "output_type": "execute_result"
    }
   ],
   "source": [
    "# altair chart representing the top 5 for both sato and sherlock\n",
    "alt.Chart(sato_top_5_df.reset_index()).transform_fold(\n",
    "        ['precision', 'recall', 'f1-score'],\n",
    "      as_=['column', 'value']\n",
    "    ).mark_bar(size=15).encode(\n",
    "    column=alt.Column('type:O', sort=alt.EncodingSortField(\n",
    "                field=\"f1-score\",  \n",
    "                order=\"descending\")),\n",
    "    x = alt.X('column:N',\n",
    "              title = '',\n",
    "              ),\n",
    "    y=alt.Y('value:Q'),\n",
    "    color='column:N'\n",
    ").configure_axis(\n",
    "    labelFontSize=18,\n",
    "    titleFontSize=18\n",
    ").configure_header(titleFontSize=18,labelFontSize=18).configure_legend(\n",
    "    labelFontSize=18\n",
    ")"
   ]
  },
  {
   "cell_type": "code",
   "execution_count": 65,
   "metadata": {},
   "outputs": [
    {
     "data": {
      "text/html": [
       "\n",
       "<div id=\"altair-viz-dbd1bedcc47a422fb5c476e0d7b48518\"></div>\n",
       "<script type=\"text/javascript\">\n",
       "  var VEGA_DEBUG = (typeof VEGA_DEBUG == \"undefined\") ? {} : VEGA_DEBUG;\n",
       "  (function(spec, embedOpt){\n",
       "    let outputDiv = document.currentScript.previousElementSibling;\n",
       "    if (outputDiv.id !== \"altair-viz-dbd1bedcc47a422fb5c476e0d7b48518\") {\n",
       "      outputDiv = document.getElementById(\"altair-viz-dbd1bedcc47a422fb5c476e0d7b48518\");\n",
       "    }\n",
       "    const paths = {\n",
       "      \"vega\": \"https://cdn.jsdelivr.net/npm//vega@5?noext\",\n",
       "      \"vega-lib\": \"https://cdn.jsdelivr.net/npm//vega-lib?noext\",\n",
       "      \"vega-lite\": \"https://cdn.jsdelivr.net/npm//vega-lite@4.17.0?noext\",\n",
       "      \"vega-embed\": \"https://cdn.jsdelivr.net/npm//vega-embed@6?noext\",\n",
       "    };\n",
       "\n",
       "    function maybeLoadScript(lib, version) {\n",
       "      var key = `${lib.replace(\"-\", \"\")}_version`;\n",
       "      return (VEGA_DEBUG[key] == version) ?\n",
       "        Promise.resolve(paths[lib]) :\n",
       "        new Promise(function(resolve, reject) {\n",
       "          var s = document.createElement('script');\n",
       "          document.getElementsByTagName(\"head\")[0].appendChild(s);\n",
       "          s.async = true;\n",
       "          s.onload = () => {\n",
       "            VEGA_DEBUG[key] = version;\n",
       "            return resolve(paths[lib]);\n",
       "          };\n",
       "          s.onerror = () => reject(`Error loading script: ${paths[lib]}`);\n",
       "          s.src = paths[lib];\n",
       "        });\n",
       "    }\n",
       "\n",
       "    function showError(err) {\n",
       "      outputDiv.innerHTML = `<div class=\"error\" style=\"color:red;\">${err}</div>`;\n",
       "      throw err;\n",
       "    }\n",
       "\n",
       "    function displayChart(vegaEmbed) {\n",
       "      vegaEmbed(outputDiv, spec, embedOpt)\n",
       "        .catch(err => showError(`Javascript Error: ${err.message}<br>This usually means there's a typo in your chart specification. See the javascript console for the full traceback.`));\n",
       "    }\n",
       "\n",
       "    if(typeof define === \"function\" && define.amd) {\n",
       "      requirejs.config({paths});\n",
       "      require([\"vega-embed\"], displayChart, err => showError(`Error loading script: ${err.message}`));\n",
       "    } else {\n",
       "      maybeLoadScript(\"vega\", \"5\")\n",
       "        .then(() => maybeLoadScript(\"vega-lite\", \"4.17.0\"))\n",
       "        .then(() => maybeLoadScript(\"vega-embed\", \"6\"))\n",
       "        .catch(showError)\n",
       "        .then(() => displayChart(vegaEmbed));\n",
       "    }\n",
       "  })({\"config\": {\"view\": {\"continuousWidth\": 400, \"continuousHeight\": 300}, \"axis\": {\"labelFontSize\": 18, \"titleFontSize\": 18}, \"header\": {\"labelFontSize\": 18, \"titleFontSize\": 18}, \"legend\": {\"labelFontSize\": 18}}, \"data\": {\"name\": \"data-a4489f2c0ffbcda43119a193be57f998\"}, \"mark\": {\"type\": \"bar\", \"size\": 15}, \"encoding\": {\"color\": {\"field\": \"column\", \"type\": \"nominal\"}, \"column\": {\"field\": \"type\", \"sort\": {\"field\": \"f1-score\", \"order\": \"descending\"}, \"type\": \"ordinal\"}, \"x\": {\"field\": \"column\", \"title\": \"\", \"type\": \"nominal\"}, \"y\": {\"field\": \"value\", \"type\": \"quantitative\"}}, \"transform\": [{\"fold\": [\"precision\", \"recall\", \"f1-score\"], \"as\": [\"column\", \"value\"]}], \"$schema\": \"https://vega.github.io/schema/vega-lite/v4.17.0.json\", \"datasets\": {\"data-a4489f2c0ffbcda43119a193be57f998\": [{\"type\": \"isbn\", \"precision\": 0.9923504867872045, \"recall\": 0.9909722222222223, \"f1-score\": 0.9916608756080612, \"support\": 1440}, {\"type\": \"grades\", \"precision\": 0.9924898902368573, \"recall\": 0.9867892016082711, \"f1-score\": 0.9896313364055299, \"support\": 1741}, {\"type\": \"jockey\", \"precision\": 0.986228813559322, \"recall\": 0.9914802981895634, \"f1-score\": 0.9888475836431228, \"support\": 2817}, {\"type\": \"industry\", \"precision\": 0.9875328083989501, \"recall\": 0.9779077322936972, \"f1-score\": 0.9826967025791709, \"support\": 3078}, {\"type\": \"birthdate\", \"precision\": 0.9754464285714286, \"recall\": 0.9646799116997793, \"f1-score\": 0.970033296337403, \"support\": 453}]}}, {\"mode\": \"vega-lite\"});\n",
       "</script>"
      ],
      "text/plain": [
       "alt.Chart(...)"
      ]
     },
     "execution_count": 65,
     "metadata": {},
     "output_type": "execute_result"
    }
   ],
   "source": [
    "alt.Chart(sherlock_top_5_df.reset_index()).transform_fold(\n",
    "        ['precision', 'recall', 'f1-score'],\n",
    "      as_=['column', 'value']\n",
    "    ).mark_bar(size=15).encode(\n",
    "    column=alt.Column('type:O', sort=alt.EncodingSortField(\n",
    "                field=\"f1-score\",  \n",
    "                order=\"descending\")),\n",
    "    x = alt.X('column:N',\n",
    "              title = '',\n",
    "              ),\n",
    "    y=alt.Y('value:Q'),\n",
    "    color='column:N'\n",
    ").configure_axis(\n",
    "    labelFontSize=18,\n",
    "    titleFontSize=18\n",
    ").configure_header(titleFontSize=18,labelFontSize=18).configure_legend(\n",
    "    labelFontSize=18\n",
    ")"
   ]
  },
  {
   "cell_type": "code",
   "execution_count": 66,
   "metadata": {},
   "outputs": [
    {
     "data": {
      "text/html": [
       "\n",
       "<div id=\"altair-viz-50750385feac4f8baef62db3398a7346\"></div>\n",
       "<script type=\"text/javascript\">\n",
       "  var VEGA_DEBUG = (typeof VEGA_DEBUG == \"undefined\") ? {} : VEGA_DEBUG;\n",
       "  (function(spec, embedOpt){\n",
       "    let outputDiv = document.currentScript.previousElementSibling;\n",
       "    if (outputDiv.id !== \"altair-viz-50750385feac4f8baef62db3398a7346\") {\n",
       "      outputDiv = document.getElementById(\"altair-viz-50750385feac4f8baef62db3398a7346\");\n",
       "    }\n",
       "    const paths = {\n",
       "      \"vega\": \"https://cdn.jsdelivr.net/npm//vega@5?noext\",\n",
       "      \"vega-lib\": \"https://cdn.jsdelivr.net/npm//vega-lib?noext\",\n",
       "      \"vega-lite\": \"https://cdn.jsdelivr.net/npm//vega-lite@4.17.0?noext\",\n",
       "      \"vega-embed\": \"https://cdn.jsdelivr.net/npm//vega-embed@6?noext\",\n",
       "    };\n",
       "\n",
       "    function maybeLoadScript(lib, version) {\n",
       "      var key = `${lib.replace(\"-\", \"\")}_version`;\n",
       "      return (VEGA_DEBUG[key] == version) ?\n",
       "        Promise.resolve(paths[lib]) :\n",
       "        new Promise(function(resolve, reject) {\n",
       "          var s = document.createElement('script');\n",
       "          document.getElementsByTagName(\"head\")[0].appendChild(s);\n",
       "          s.async = true;\n",
       "          s.onload = () => {\n",
       "            VEGA_DEBUG[key] = version;\n",
       "            return resolve(paths[lib]);\n",
       "          };\n",
       "          s.onerror = () => reject(`Error loading script: ${paths[lib]}`);\n",
       "          s.src = paths[lib];\n",
       "        });\n",
       "    }\n",
       "\n",
       "    function showError(err) {\n",
       "      outputDiv.innerHTML = `<div class=\"error\" style=\"color:red;\">${err}</div>`;\n",
       "      throw err;\n",
       "    }\n",
       "\n",
       "    function displayChart(vegaEmbed) {\n",
       "      vegaEmbed(outputDiv, spec, embedOpt)\n",
       "        .catch(err => showError(`Javascript Error: ${err.message}<br>This usually means there's a typo in your chart specification. See the javascript console for the full traceback.`));\n",
       "    }\n",
       "\n",
       "    if(typeof define === \"function\" && define.amd) {\n",
       "      requirejs.config({paths});\n",
       "      require([\"vega-embed\"], displayChart, err => showError(`Error loading script: ${err.message}`));\n",
       "    } else {\n",
       "      maybeLoadScript(\"vega\", \"5\")\n",
       "        .then(() => maybeLoadScript(\"vega-lite\", \"4.17.0\"))\n",
       "        .then(() => maybeLoadScript(\"vega-embed\", \"6\"))\n",
       "        .catch(showError)\n",
       "        .then(() => displayChart(vegaEmbed));\n",
       "    }\n",
       "  })({\"config\": {\"view\": {\"continuousWidth\": 400, \"continuousHeight\": 300}, \"axis\": {\"labelFontSize\": 18, \"titleFontSize\": 18}, \"header\": {\"labelFontSize\": 18, \"titleFontSize\": 18}, \"legend\": {\"labelFontSize\": 18}}, \"data\": {\"name\": \"data-b74edbcad680c0ae53294a56d0fd9a4e\"}, \"mark\": {\"type\": \"bar\", \"size\": 15}, \"encoding\": {\"color\": {\"field\": \"column\", \"type\": \"nominal\"}, \"column\": {\"field\": \"type\", \"sort\": {\"field\": \"f1-score\", \"order\": \"descending\"}, \"type\": \"ordinal\"}, \"x\": {\"field\": \"column\", \"title\": \"\", \"type\": \"nominal\"}, \"y\": {\"field\": \"value\", \"type\": \"quantitative\"}}, \"transform\": [{\"fold\": [\"precision\", \"recall\", \"f1-score\"], \"as\": [\"column\", \"value\"]}], \"$schema\": \"https://vega.github.io/schema/vega-lite/v4.17.0.json\", \"datasets\": {\"data-b74edbcad680c0ae53294a56d0fd9a4e\": [{\"type\": \"brand\", \"precision\": 0.14814814814814814, \"recall\": 0.044036697247706424, \"f1-score\": 0.06789250353606789, \"support\": 545}, {\"type\": \"ranking\", \"precision\": 0.32558139534883723, \"recall\": 0.03146067415730337, \"f1-score\": 0.05737704918032787, \"support\": 445}, {\"type\": \"nationality\", \"precision\": 0.52, \"recall\": 0.026804123711340205, \"f1-score\": 0.05098039215686274, \"support\": 485}, {\"type\": \"director\", \"precision\": 0.11764705882352941, \"recall\": 0.024390243902439025, \"f1-score\": 0.04040404040404041, \"support\": 246}, {\"type\": \"sales\", \"precision\": 0.16666666666666666, \"recall\": 0.003389830508474576, \"f1-score\": 0.0066445182724252485, \"support\": 295}]}}, {\"mode\": \"vega-lite\"});\n",
       "</script>"
      ],
      "text/plain": [
       "alt.Chart(...)"
      ]
     },
     "execution_count": 66,
     "metadata": {},
     "output_type": "execute_result"
    }
   ],
   "source": [
    "alt.Chart(sato_bottom_5_df.reset_index()).transform_fold(\n",
    "        ['precision', 'recall', 'f1-score'],\n",
    "      as_=['column', 'value']\n",
    "    ).mark_bar(size=15).encode(\n",
    "    column=alt.Column('type:O', sort=alt.EncodingSortField(\n",
    "                field=\"f1-score\",  \n",
    "                order=\"descending\")),\n",
    "    x = alt.X('column:N',\n",
    "              title = '',\n",
    "              ),\n",
    "    y=alt.Y('value:Q'),\n",
    "    color='column:N'\n",
    ").configure_axis(\n",
    "    labelFontSize=18,\n",
    "    titleFontSize=18\n",
    ").configure_header(titleFontSize=18,labelFontSize=18).configure_legend(\n",
    "    labelFontSize=18\n",
    ")"
   ]
  },
  {
   "cell_type": "code",
   "execution_count": 67,
   "metadata": {
    "scrolled": true
   },
   "outputs": [
    {
     "data": {
      "text/html": [
       "\n",
       "<div id=\"altair-viz-efb86e7afb61462588e8bc82f43b2f1c\"></div>\n",
       "<script type=\"text/javascript\">\n",
       "  var VEGA_DEBUG = (typeof VEGA_DEBUG == \"undefined\") ? {} : VEGA_DEBUG;\n",
       "  (function(spec, embedOpt){\n",
       "    let outputDiv = document.currentScript.previousElementSibling;\n",
       "    if (outputDiv.id !== \"altair-viz-efb86e7afb61462588e8bc82f43b2f1c\") {\n",
       "      outputDiv = document.getElementById(\"altair-viz-efb86e7afb61462588e8bc82f43b2f1c\");\n",
       "    }\n",
       "    const paths = {\n",
       "      \"vega\": \"https://cdn.jsdelivr.net/npm//vega@5?noext\",\n",
       "      \"vega-lib\": \"https://cdn.jsdelivr.net/npm//vega-lib?noext\",\n",
       "      \"vega-lite\": \"https://cdn.jsdelivr.net/npm//vega-lite@4.17.0?noext\",\n",
       "      \"vega-embed\": \"https://cdn.jsdelivr.net/npm//vega-embed@6?noext\",\n",
       "    };\n",
       "\n",
       "    function maybeLoadScript(lib, version) {\n",
       "      var key = `${lib.replace(\"-\", \"\")}_version`;\n",
       "      return (VEGA_DEBUG[key] == version) ?\n",
       "        Promise.resolve(paths[lib]) :\n",
       "        new Promise(function(resolve, reject) {\n",
       "          var s = document.createElement('script');\n",
       "          document.getElementsByTagName(\"head\")[0].appendChild(s);\n",
       "          s.async = true;\n",
       "          s.onload = () => {\n",
       "            VEGA_DEBUG[key] = version;\n",
       "            return resolve(paths[lib]);\n",
       "          };\n",
       "          s.onerror = () => reject(`Error loading script: ${paths[lib]}`);\n",
       "          s.src = paths[lib];\n",
       "        });\n",
       "    }\n",
       "\n",
       "    function showError(err) {\n",
       "      outputDiv.innerHTML = `<div class=\"error\" style=\"color:red;\">${err}</div>`;\n",
       "      throw err;\n",
       "    }\n",
       "\n",
       "    function displayChart(vegaEmbed) {\n",
       "      vegaEmbed(outputDiv, spec, embedOpt)\n",
       "        .catch(err => showError(`Javascript Error: ${err.message}<br>This usually means there's a typo in your chart specification. See the javascript console for the full traceback.`));\n",
       "    }\n",
       "\n",
       "    if(typeof define === \"function\" && define.amd) {\n",
       "      requirejs.config({paths});\n",
       "      require([\"vega-embed\"], displayChart, err => showError(`Error loading script: ${err.message}`));\n",
       "    } else {\n",
       "      maybeLoadScript(\"vega\", \"5\")\n",
       "        .then(() => maybeLoadScript(\"vega-lite\", \"4.17.0\"))\n",
       "        .then(() => maybeLoadScript(\"vega-embed\", \"6\"))\n",
       "        .catch(showError)\n",
       "        .then(() => displayChart(vegaEmbed));\n",
       "    }\n",
       "  })({\"config\": {\"view\": {\"continuousWidth\": 400, \"continuousHeight\": 300}, \"axis\": {\"labelFontSize\": 18, \"titleFontSize\": 18}, \"header\": {\"labelFontSize\": 18, \"titleFontSize\": 18}, \"legend\": {\"labelFontSize\": 18}}, \"data\": {\"name\": \"data-e964d01c8bcadcc56829e14aeed881d5\"}, \"mark\": {\"type\": \"bar\", \"size\": 15}, \"encoding\": {\"color\": {\"field\": \"column\", \"type\": \"nominal\"}, \"column\": {\"field\": \"type\", \"sort\": {\"field\": \"f1-score\", \"order\": \"descending\"}, \"type\": \"ordinal\"}, \"x\": {\"field\": \"column\", \"title\": \"\", \"type\": \"nominal\"}, \"y\": {\"field\": \"value\", \"type\": \"quantitative\"}}, \"transform\": [{\"fold\": [\"precision\", \"recall\", \"f1-score\"], \"as\": [\"column\", \"value\"]}], \"$schema\": \"https://vega.github.io/schema/vega-lite/v4.17.0.json\", \"datasets\": {\"data-e964d01c8bcadcc56829e14aeed881d5\": [{\"type\": \"rank\", \"precision\": 0.6277868406742795, \"recall\": 0.7803311929705982, \"f1-score\": 0.6957962935061022, \"support\": 2959}, {\"type\": \"person\", \"precision\": 0.7148760330578512, \"recall\": 0.6256781193490054, \"f1-score\": 0.6673095467695275, \"support\": 553}, {\"type\": \"director\", \"precision\": 0.6898148148148148, \"recall\": 0.6056910569105691, \"f1-score\": 0.645021645021645, \"support\": 246}, {\"type\": \"sales\", \"precision\": 0.5088967971530249, \"recall\": 0.4847457627118644, \"f1-score\": 0.4965277777777778, \"support\": 295}, {\"type\": \"ranking\", \"precision\": 0.8251748251748252, \"recall\": 0.2651685393258427, \"f1-score\": 0.4013605442176871, \"support\": 445}]}}, {\"mode\": \"vega-lite\"});\n",
       "</script>"
      ],
      "text/plain": [
       "alt.Chart(...)"
      ]
     },
     "execution_count": 67,
     "metadata": {},
     "output_type": "execute_result"
    }
   ],
   "source": [
    "alt.Chart(sherlock_bottom_5_df.reset_index()).transform_fold(\n",
    "        ['precision', 'recall', 'f1-score'],\n",
    "      as_=['column', 'value']\n",
    "    ).mark_bar(size=15).encode(\n",
    "    column=alt.Column('type:O', sort=alt.EncodingSortField(\n",
    "                field=\"f1-score\",  \n",
    "                order=\"descending\")),\n",
    "    x = alt.X('column:N',\n",
    "              title = '',\n",
    "              ),\n",
    "    y=alt.Y('value:Q'),\n",
    "    color='column:N'\n",
    ").configure_axis(\n",
    "    labelFontSize=18,\n",
    "    titleFontSize=18\n",
    ").configure_header(titleFontSize=18,labelFontSize=18).configure_legend(\n",
    "    labelFontSize=18\n",
    ")"
   ]
  },
  {
   "cell_type": "code",
   "execution_count": 1,
   "metadata": {},
   "outputs": [
    {
     "ename": "NameError",
     "evalue": "name 'report_sherlock_df' is not defined",
     "output_type": "error",
     "traceback": [
      "\u001b[0;31m---------------------------------------------------------------------------\u001b[0m",
      "\u001b[0;31mNameError\u001b[0m                                 Traceback (most recent call last)",
      "\u001b[0;32m/tmp/ipykernel_213/4244098731.py\u001b[0m in \u001b[0;36m<module>\u001b[0;34m\u001b[0m\n\u001b[1;32m      1\u001b[0m \u001b[0;31m# Correlation between support and f1-score\u001b[0m\u001b[0;34m\u001b[0m\u001b[0;34m\u001b[0m\u001b[0;34m\u001b[0m\u001b[0m\n\u001b[0;32m----> 2\u001b[0;31m \u001b[0mcorr_data\u001b[0m \u001b[0;34m=\u001b[0m \u001b[0mreport_sherlock_df\u001b[0m\u001b[0;34m[\u001b[0m\u001b[0;34m[\u001b[0m\u001b[0;34m'f1-score'\u001b[0m\u001b[0;34m,\u001b[0m \u001b[0;34m'support'\u001b[0m\u001b[0;34m]\u001b[0m\u001b[0;34m]\u001b[0m\u001b[0;34m\u001b[0m\u001b[0;34m\u001b[0m\u001b[0m\n\u001b[0m\u001b[1;32m      3\u001b[0m \u001b[0mcorr_data\u001b[0m\u001b[0;34m.\u001b[0m\u001b[0mreset_index\u001b[0m\u001b[0;34m(\u001b[0m\u001b[0minplace\u001b[0m\u001b[0;34m=\u001b[0m\u001b[0;32mTrue\u001b[0m\u001b[0;34m)\u001b[0m\u001b[0;34m\u001b[0m\u001b[0;34m\u001b[0m\u001b[0m\n\u001b[1;32m      4\u001b[0m \u001b[0mprint\u001b[0m\u001b[0;34m(\u001b[0m\u001b[0mcorr_data\u001b[0m\u001b[0;34m)\u001b[0m\u001b[0;34m\u001b[0m\u001b[0;34m\u001b[0m\u001b[0m\n\u001b[1;32m      5\u001b[0m \u001b[0mworst_5\u001b[0m \u001b[0;34m=\u001b[0m \u001b[0mlist\u001b[0m\u001b[0;34m(\u001b[0m\u001b[0msherlock_bottom_5_df\u001b[0m\u001b[0;34m.\u001b[0m\u001b[0mindex\u001b[0m\u001b[0;34m.\u001b[0m\u001b[0mvalues\u001b[0m\u001b[0;34m)\u001b[0m\u001b[0;34m\u001b[0m\u001b[0;34m\u001b[0m\u001b[0m\n",
      "\u001b[0;31mNameError\u001b[0m: name 'report_sherlock_df' is not defined"
     ]
    }
   ],
   "source": [
    "# Correlation between support and f1-score\n",
    "corr_data = report_sherlock_df[['f1-score', 'support']]\n",
    "corr_data.reset_index(inplace=True)\n",
    "print(corr_data)\n",
    "worst_5 = list(sherlock_bottom_5_df.index.values)\n",
    "top_5 = list(sherlock_top_5_df.index.values)\n",
    "alt.Chart(corr_data).mark_circle(size=60).encode(\n",
    "    x='support',\n",
    "    y='recall',\n",
    "    color=alt.condition(\n",
    "        alt.Predicate(alt.FieldOneOfPredicate(field='index', oneOf=worst_5)),\n",
    "        alt.value('red'),\n",
    "        alt.value('steelblue')\n",
    "    ),\n",
    ").configure_axis(\n",
    "    labelFontSize=18,\n",
    "    titleFontSize=18\n",
    ")"
   ]
  }
 ],
 "metadata": {
  "kernelspec": {
   "display_name": "Python 3 (ipykernel)",
   "language": "python",
   "name": "python3"
  },
  "language_info": {
   "codemirror_mode": {
    "name": "ipython",
    "version": 3
   },
   "file_extension": ".py",
   "mimetype": "text/x-python",
   "name": "python",
   "nbconvert_exporter": "python",
   "pygments_lexer": "ipython3",
   "version": "3.7.12"
  }
 },
 "nbformat": 4,
 "nbformat_minor": 2
}
