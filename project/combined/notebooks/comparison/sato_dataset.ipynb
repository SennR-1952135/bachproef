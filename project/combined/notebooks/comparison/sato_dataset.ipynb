{
 "cells": [
  {
   "cell_type": "code",
   "execution_count": 1,
   "metadata": {},
   "outputs": [
    {
     "data": {
      "text/plain": [
       "RendererRegistry.enable('default')"
      ]
     },
     "execution_count": 1,
     "metadata": {},
     "output_type": "execute_result"
    }
   ],
   "source": [
    "from datetime import datetime\n",
    "from os.path import join\n",
    "from os import listdir\n",
    "import json\n",
    "import re #for camel case conversion\n",
    "from collections import Counter\n",
    "\n",
    "from sklearn.metrics import classification_report\n",
    "import pandas as pd\n",
    "\n",
    "import altair as alt\n",
    "alt.renderers.enable('default')"
   ]
  },
  {
   "cell_type": "code",
   "execution_count": 2,
   "metadata": {},
   "outputs": [],
   "source": [
    "def sherlock_case(s):\n",
    "    s = re.sub(r\"(_|-)+\", \" \", s).title().replace(\" \", \"\")\n",
    "#     s = ''.join([s[0].lower(), s[1:]])\n",
    "#     s = ''.join(map(lambda x: x if x.islower() else \" \"+x, s))\n",
    "    return s.lower()"
   ]
  },
  {
   "cell_type": "code",
   "execution_count": 3,
   "metadata": {},
   "outputs": [],
   "source": [
    "true_types_sherlock = list(map(sherlock_case, pd.read_parquet(\"../../results/true_types/sherlock_validation.parquet\").values.flatten()))\n",
    "true_types = list(map(sherlock_case, pd.read_parquet(\"../../results/true_types/sato.parquet\").values.flatten()))\n",
    "prediction_sherlock = list(map(sherlock_case, pd.read_parquet(\"../../results/predictions/sherlock_sato.parquet\").values.flatten()))\n",
    "prediction_sato = list(map(sherlock_case, pd.read_parquet(\"../../results/predictions/sato_sato.parquet\").values.flatten()))"
   ]
  },
  {
   "cell_type": "code",
   "execution_count": 4,
   "metadata": {},
   "outputs": [],
   "source": [
    "type_freq_df = pd.DataFrame(true_types, columns=['type'])\n",
    "type_freq_df = pd.DataFrame(type_freq_df['type'].value_counts())\n",
    "type_freq_df.columns = ['count']\n",
    "type_freq_df.index.name = 'type'"
   ]
  },
  {
   "cell_type": "code",
   "execution_count": 5,
   "metadata": {
    "scrolled": false
   },
   "outputs": [
    {
     "data": {
      "text/html": [
       "\n",
       "<div id=\"altair-viz-8b4ebdd2f5c44ae5922f6ab2de646ced\"></div>\n",
       "<script type=\"text/javascript\">\n",
       "  var VEGA_DEBUG = (typeof VEGA_DEBUG == \"undefined\") ? {} : VEGA_DEBUG;\n",
       "  (function(spec, embedOpt){\n",
       "    let outputDiv = document.currentScript.previousElementSibling;\n",
       "    if (outputDiv.id !== \"altair-viz-8b4ebdd2f5c44ae5922f6ab2de646ced\") {\n",
       "      outputDiv = document.getElementById(\"altair-viz-8b4ebdd2f5c44ae5922f6ab2de646ced\");\n",
       "    }\n",
       "    const paths = {\n",
       "      \"vega\": \"https://cdn.jsdelivr.net/npm//vega@5?noext\",\n",
       "      \"vega-lib\": \"https://cdn.jsdelivr.net/npm//vega-lib?noext\",\n",
       "      \"vega-lite\": \"https://cdn.jsdelivr.net/npm//vega-lite@4.17.0?noext\",\n",
       "      \"vega-embed\": \"https://cdn.jsdelivr.net/npm//vega-embed@6?noext\",\n",
       "    };\n",
       "\n",
       "    function maybeLoadScript(lib, version) {\n",
       "      var key = `${lib.replace(\"-\", \"\")}_version`;\n",
       "      return (VEGA_DEBUG[key] == version) ?\n",
       "        Promise.resolve(paths[lib]) :\n",
       "        new Promise(function(resolve, reject) {\n",
       "          var s = document.createElement('script');\n",
       "          document.getElementsByTagName(\"head\")[0].appendChild(s);\n",
       "          s.async = true;\n",
       "          s.onload = () => {\n",
       "            VEGA_DEBUG[key] = version;\n",
       "            return resolve(paths[lib]);\n",
       "          };\n",
       "          s.onerror = () => reject(`Error loading script: ${paths[lib]}`);\n",
       "          s.src = paths[lib];\n",
       "        });\n",
       "    }\n",
       "\n",
       "    function showError(err) {\n",
       "      outputDiv.innerHTML = `<div class=\"error\" style=\"color:red;\">${err}</div>`;\n",
       "      throw err;\n",
       "    }\n",
       "\n",
       "    function displayChart(vegaEmbed) {\n",
       "      vegaEmbed(outputDiv, spec, embedOpt)\n",
       "        .catch(err => showError(`Javascript Error: ${err.message}<br>This usually means there's a typo in your chart specification. See the javascript console for the full traceback.`));\n",
       "    }\n",
       "\n",
       "    if(typeof define === \"function\" && define.amd) {\n",
       "      requirejs.config({paths});\n",
       "      require([\"vega-embed\"], displayChart, err => showError(`Error loading script: ${err.message}`));\n",
       "    } else {\n",
       "      maybeLoadScript(\"vega\", \"5\")\n",
       "        .then(() => maybeLoadScript(\"vega-lite\", \"4.17.0\"))\n",
       "        .then(() => maybeLoadScript(\"vega-embed\", \"6\"))\n",
       "        .catch(showError)\n",
       "        .then(() => displayChart(vegaEmbed));\n",
       "    }\n",
       "  })({\"config\": {\"view\": {\"continuousWidth\": 400, \"continuousHeight\": 300}}, \"data\": {\"name\": \"data-7c6dae4be2c3195b458c38792161f7d5\"}, \"mark\": {\"type\": \"bar\", \"size\": 15}, \"encoding\": {\"x\": {\"field\": \"type\", \"sort\": {\"field\": \"count\", \"order\": \"descending\"}, \"title\": \"Semantic Types\", \"type\": \"ordinal\"}, \"y\": {\"field\": \"count\", \"title\": \"Number of Samples\", \"type\": \"quantitative\"}}, \"$schema\": \"https://vega.github.io/schema/vega-lite/v4.17.0.json\", \"datasets\": {\"data-7c6dae4be2c3195b458c38792161f7d5\": [{\"type\": \"name\", \"count\": 15993}, {\"type\": \"description\", \"count\": 11257}, {\"type\": \"team\", \"count\": 10373}, {\"type\": \"age\", \"count\": 7179}, {\"type\": \"type\", \"count\": 6625}, {\"type\": \"location\", \"count\": 5361}, {\"type\": \"year\", \"count\": 5349}, {\"type\": \"city\", \"count\": 5296}, {\"type\": \"rank\", \"count\": 5117}, {\"type\": \"status\", \"count\": 4771}, {\"type\": \"state\", \"count\": 4385}, {\"type\": \"weight\", \"count\": 4317}, {\"type\": \"category\", \"count\": 4001}, {\"type\": \"code\", \"count\": 2699}, {\"type\": \"club\", \"count\": 2188}, {\"type\": \"artist\", \"count\": 2158}, {\"type\": \"result\", \"count\": 2139}, {\"type\": \"position\", \"count\": 2078}, {\"type\": \"country\", \"count\": 1723}, {\"type\": \"album\", \"count\": 1525}, {\"type\": \"company\", \"count\": 1521}, {\"type\": \"class\", \"count\": 1210}, {\"type\": \"symbol\", \"count\": 1035}, {\"type\": \"notes\", \"count\": 1009}, {\"type\": \"address\", \"count\": 841}, {\"type\": \"duration\", \"count\": 802}, {\"type\": \"format\", \"count\": 656}, {\"type\": \"county\", \"count\": 600}, {\"type\": \"day\", \"count\": 588}, {\"type\": \"gender\", \"count\": 564}, {\"type\": \"industry\", \"count\": 421}, {\"type\": \"sex\", \"count\": 382}, {\"type\": \"product\", \"count\": 371}, {\"type\": \"jockey\", \"count\": 351}, {\"type\": \"region\", \"count\": 325}, {\"type\": \"language\", \"count\": 306}, {\"type\": \"area\", \"count\": 285}, {\"type\": \"service\", \"count\": 279}, {\"type\": \"teamname\", \"count\": 243}, {\"type\": \"isbn\", \"count\": 228}, {\"type\": \"filesize\", \"count\": 220}, {\"type\": \"grades\", \"count\": 219}, {\"type\": \"publisher\", \"count\": 217}, {\"type\": \"elevation\", \"count\": 215}, {\"type\": \"order\", \"count\": 209}, {\"type\": \"plays\", \"count\": 209}, {\"type\": \"origin\", \"count\": 206}, {\"type\": \"affiliation\", \"count\": 198}, {\"type\": \"owner\", \"count\": 188}, {\"type\": \"component\", \"count\": 170}, {\"type\": \"genre\", \"count\": 160}, {\"type\": \"manufacturer\", \"count\": 152}, {\"type\": \"brand\", \"count\": 139}, {\"type\": \"credit\", \"count\": 138}, {\"type\": \"family\", \"count\": 136}, {\"type\": \"depth\", \"count\": 134}, {\"type\": \"classification\", \"count\": 99}, {\"type\": \"collection\", \"count\": 88}, {\"type\": \"species\", \"count\": 81}, {\"type\": \"command\", \"count\": 81}, {\"type\": \"nationality\", \"count\": 74}, {\"type\": \"currency\", \"count\": 70}, {\"type\": \"range\", \"count\": 68}, {\"type\": \"birthdate\", \"count\": 65}, {\"type\": \"ranking\", \"count\": 55}, {\"type\": \"capacity\", \"count\": 55}, {\"type\": \"birthplace\", \"count\": 54}, {\"type\": \"creator\", \"count\": 39}, {\"type\": \"operator\", \"count\": 39}, {\"type\": \"religion\", \"count\": 38}, {\"type\": \"person\", \"count\": 36}, {\"type\": \"education\", \"count\": 36}, {\"type\": \"requirement\", \"count\": 35}, {\"type\": \"director\", \"count\": 33}, {\"type\": \"sales\", \"count\": 30}, {\"type\": \"affiliate\", \"count\": 26}, {\"type\": \"continent\", \"count\": 25}, {\"type\": \"organisation\", \"count\": 21}]}}, {\"mode\": \"vega-lite\"});\n",
       "</script>"
      ],
      "text/plain": [
       "alt.Chart(...)"
      ]
     },
     "execution_count": 5,
     "metadata": {},
     "output_type": "execute_result"
    }
   ],
   "source": [
    "alt.Chart(type_freq_df.reset_index()).mark_bar(size=15).encode(\n",
    "    x = alt.X('type:O',\n",
    "              title = 'Semantic Types',\n",
    "              sort=alt.EncodingSortField(\n",
    "                field=\"count\",  \n",
    "                order=\"descending\")),\n",
    "    y = alt.Y('count', title='Number of Samples')    \n",
    ")"
   ]
  },
  {
   "cell_type": "code",
   "execution_count": 6,
   "metadata": {},
   "outputs": [
    {
     "name": "stdout",
     "output_type": "stream",
     "text": [
      "120609\n",
      "120609\n",
      "120609\n",
      "['description', 'name', 'artist', 'description', 'name']\n",
      "['description', 'name', 'name', 'description', 'address']\n"
     ]
    }
   ],
   "source": [
    "print(len(prediction_sherlock))\n",
    "print(len(prediction_sato))\n",
    "print(len(true_types))\n",
    "print(true_types[:5])\n",
    "print(prediction_sherlock[:5])"
   ]
  },
  {
   "cell_type": "code",
   "execution_count": 7,
   "metadata": {},
   "outputs": [],
   "source": [
    "# # print(prediction_sato)\n",
    "# print(prediction_sherlock)\n",
    "# print(true_types)\n",
    "# for idx, i in enumerate(true_types):\n",
    "#     if type(i) != str:\n",
    "#         print(idx)\n",
    "# print(true_types[407])\n",
    "# print(prediction_sherlock[407])"
   ]
  },
  {
   "cell_type": "code",
   "execution_count": 8,
   "metadata": {},
   "outputs": [],
   "source": [
    "# print(classification_report(true_types, prediction_sato))"
   ]
  },
  {
   "cell_type": "code",
   "execution_count": 9,
   "metadata": {},
   "outputs": [],
   "source": [
    "# class_report = classification_report(true_types, prediction_sato, output_dict=True)\n",
    "# class_report = dict(list(class_report.items()))\n",
    "# class_report_df = pd.DataFrame.from_dict(class_report)\n",
    "# class_report_df.to_csv('csv_report_sato_sato.csv')"
   ]
  },
  {
   "cell_type": "code",
   "execution_count": 10,
   "metadata": {},
   "outputs": [],
   "source": [
    "# print(classification_report(true_types, prediction_sherlock))"
   ]
  },
  {
   "cell_type": "code",
   "execution_count": 11,
   "metadata": {},
   "outputs": [],
   "source": [
    "# class_report = classification_report(true_types, prediction_sherlock, output_dict=True)\n",
    "# class_report = dict(list(class_report.items()))\n",
    "# class_report_df = pd.DataFrame.from_dict(class_report)\n",
    "# class_report_df.to_csv('csv_report_sherlock_sato.csv')"
   ]
  },
  {
   "cell_type": "code",
   "execution_count": 12,
   "metadata": {},
   "outputs": [],
   "source": [
    "report_sherlock = classification_report(true_types, prediction_sherlock, output_dict=True)\n",
    "report_sherlock_df_input = {k: list(v.values()) for k, v in list(report_sherlock.items())[:-3]} #last 3 are total f1/macro/weigthed, these are not needed\n",
    "report_sherlock_df = pd.DataFrame.from_dict(report_sherlock_df_input, orient='index', columns=['precision', 'recall', 'f1-score', 'support']).sort_values(by='f1-score', ascending = False)\n",
    "\n",
    "report_sato = classification_report(true_types, prediction_sato, output_dict=True)\n",
    "report_sato_df_input = {k: list(v.values()) for k, v in list(report_sato.items())[:-3]} #last 3 are total f1/macro/weigthed, these are not needed\n",
    "report_sato_df = pd.DataFrame.from_dict(report_sato_df_input, orient='index', columns=['precision', 'recall', 'f1-score', 'support']).sort_values(by='f1-score', ascending = False)\n"
   ]
  },
  {
   "cell_type": "code",
   "execution_count": 13,
   "metadata": {},
   "outputs": [],
   "source": [
    "combined_report_df = pd.merge(report_sato_df, report_sherlock_df, left_index=True, right_index=True)\n",
    "combined_report_df.index.names = ['type']\n",
    "combined_report_df.columns = ['precision_sato', 'recall_sato', 'f1-score_sato', 'support_sato', 'precision_sherlock', 'recall_sherlock', 'f1-score_sherlock', 'support_sherlock']\n",
    "# optional, you can change the column to sort by to f1-score_sato, or not sort at all by commenting the next line\n",
    "combined_report_df = combined_report_df.sort_values(by='f1-score_sherlock', ascending = False) "
   ]
  },
  {
   "cell_type": "code",
   "execution_count": 14,
   "metadata": {},
   "outputs": [
    {
     "data": {
      "text/html": [
       "<div>\n",
       "<style scoped>\n",
       "    .dataframe tbody tr th:only-of-type {\n",
       "        vertical-align: middle;\n",
       "    }\n",
       "\n",
       "    .dataframe tbody tr th {\n",
       "        vertical-align: top;\n",
       "    }\n",
       "\n",
       "    .dataframe thead th {\n",
       "        text-align: right;\n",
       "    }\n",
       "</style>\n",
       "<table border=\"1\" class=\"dataframe\">\n",
       "  <thead>\n",
       "    <tr style=\"text-align: right;\">\n",
       "      <th></th>\n",
       "      <th>precision_sato</th>\n",
       "      <th>recall_sato</th>\n",
       "      <th>f1-score_sato</th>\n",
       "      <th>support_sato</th>\n",
       "      <th>precision_sherlock</th>\n",
       "      <th>recall_sherlock</th>\n",
       "      <th>f1-score_sherlock</th>\n",
       "      <th>support_sherlock</th>\n",
       "    </tr>\n",
       "    <tr>\n",
       "      <th>type</th>\n",
       "      <th></th>\n",
       "      <th></th>\n",
       "      <th></th>\n",
       "      <th></th>\n",
       "      <th></th>\n",
       "      <th></th>\n",
       "      <th></th>\n",
       "      <th></th>\n",
       "    </tr>\n",
       "  </thead>\n",
       "  <tbody>\n",
       "    <tr>\n",
       "      <th>isbn</th>\n",
       "      <td>0.995575</td>\n",
       "      <td>0.986842</td>\n",
       "      <td>0.991189</td>\n",
       "      <td>228</td>\n",
       "      <td>1.000000</td>\n",
       "      <td>0.964912</td>\n",
       "      <td>0.982143</td>\n",
       "      <td>228</td>\n",
       "    </tr>\n",
       "    <tr>\n",
       "      <th>grades</th>\n",
       "      <td>1.000000</td>\n",
       "      <td>0.986301</td>\n",
       "      <td>0.993103</td>\n",
       "      <td>219</td>\n",
       "      <td>0.951965</td>\n",
       "      <td>0.995434</td>\n",
       "      <td>0.973214</td>\n",
       "      <td>219</td>\n",
       "    </tr>\n",
       "    <tr>\n",
       "      <th>gender</th>\n",
       "      <td>0.990758</td>\n",
       "      <td>0.950355</td>\n",
       "      <td>0.970136</td>\n",
       "      <td>564</td>\n",
       "      <td>0.979964</td>\n",
       "      <td>0.953901</td>\n",
       "      <td>0.966757</td>\n",
       "      <td>564</td>\n",
       "    </tr>\n",
       "    <tr>\n",
       "      <th>industry</th>\n",
       "      <td>0.929864</td>\n",
       "      <td>0.976247</td>\n",
       "      <td>0.952491</td>\n",
       "      <td>421</td>\n",
       "      <td>0.936795</td>\n",
       "      <td>0.985748</td>\n",
       "      <td>0.960648</td>\n",
       "      <td>421</td>\n",
       "    </tr>\n",
       "    <tr>\n",
       "      <th>currency</th>\n",
       "      <td>0.970149</td>\n",
       "      <td>0.928571</td>\n",
       "      <td>0.948905</td>\n",
       "      <td>70</td>\n",
       "      <td>0.920000</td>\n",
       "      <td>0.985714</td>\n",
       "      <td>0.951724</td>\n",
       "      <td>70</td>\n",
       "    </tr>\n",
       "    <tr>\n",
       "      <th>...</th>\n",
       "      <td>...</td>\n",
       "      <td>...</td>\n",
       "      <td>...</td>\n",
       "      <td>...</td>\n",
       "      <td>...</td>\n",
       "      <td>...</td>\n",
       "      <td>...</td>\n",
       "      <td>...</td>\n",
       "    </tr>\n",
       "    <tr>\n",
       "      <th>address</th>\n",
       "      <td>0.938095</td>\n",
       "      <td>0.936980</td>\n",
       "      <td>0.937537</td>\n",
       "      <td>841</td>\n",
       "      <td>0.127688</td>\n",
       "      <td>0.917955</td>\n",
       "      <td>0.224191</td>\n",
       "      <td>841</td>\n",
       "    </tr>\n",
       "    <tr>\n",
       "      <th>sales</th>\n",
       "      <td>0.950000</td>\n",
       "      <td>0.633333</td>\n",
       "      <td>0.760000</td>\n",
       "      <td>30</td>\n",
       "      <td>0.122807</td>\n",
       "      <td>0.466667</td>\n",
       "      <td>0.194444</td>\n",
       "      <td>30</td>\n",
       "    </tr>\n",
       "    <tr>\n",
       "      <th>ranking</th>\n",
       "      <td>0.727273</td>\n",
       "      <td>0.145455</td>\n",
       "      <td>0.242424</td>\n",
       "      <td>55</td>\n",
       "      <td>0.147059</td>\n",
       "      <td>0.181818</td>\n",
       "      <td>0.162602</td>\n",
       "      <td>55</td>\n",
       "    </tr>\n",
       "    <tr>\n",
       "      <th>director</th>\n",
       "      <td>0.818182</td>\n",
       "      <td>0.545455</td>\n",
       "      <td>0.654545</td>\n",
       "      <td>33</td>\n",
       "      <td>0.083333</td>\n",
       "      <td>0.575758</td>\n",
       "      <td>0.145594</td>\n",
       "      <td>33</td>\n",
       "    </tr>\n",
       "    <tr>\n",
       "      <th>person</th>\n",
       "      <td>0.866667</td>\n",
       "      <td>0.361111</td>\n",
       "      <td>0.509804</td>\n",
       "      <td>36</td>\n",
       "      <td>0.050000</td>\n",
       "      <td>0.388889</td>\n",
       "      <td>0.088608</td>\n",
       "      <td>36</td>\n",
       "    </tr>\n",
       "  </tbody>\n",
       "</table>\n",
       "<p>78 rows × 8 columns</p>\n",
       "</div>"
      ],
      "text/plain": [
       "          precision_sato  recall_sato  f1-score_sato  support_sato  \\\n",
       "type                                                                 \n",
       "isbn            0.995575     0.986842       0.991189           228   \n",
       "grades          1.000000     0.986301       0.993103           219   \n",
       "gender          0.990758     0.950355       0.970136           564   \n",
       "industry        0.929864     0.976247       0.952491           421   \n",
       "currency        0.970149     0.928571       0.948905            70   \n",
       "...                  ...          ...            ...           ...   \n",
       "address         0.938095     0.936980       0.937537           841   \n",
       "sales           0.950000     0.633333       0.760000            30   \n",
       "ranking         0.727273     0.145455       0.242424            55   \n",
       "director        0.818182     0.545455       0.654545            33   \n",
       "person          0.866667     0.361111       0.509804            36   \n",
       "\n",
       "          precision_sherlock  recall_sherlock  f1-score_sherlock  \\\n",
       "type                                                               \n",
       "isbn                1.000000         0.964912           0.982143   \n",
       "grades              0.951965         0.995434           0.973214   \n",
       "gender              0.979964         0.953901           0.966757   \n",
       "industry            0.936795         0.985748           0.960648   \n",
       "currency            0.920000         0.985714           0.951724   \n",
       "...                      ...              ...                ...   \n",
       "address             0.127688         0.917955           0.224191   \n",
       "sales               0.122807         0.466667           0.194444   \n",
       "ranking             0.147059         0.181818           0.162602   \n",
       "director            0.083333         0.575758           0.145594   \n",
       "person              0.050000         0.388889           0.088608   \n",
       "\n",
       "          support_sherlock  \n",
       "type                        \n",
       "isbn                   228  \n",
       "grades                 219  \n",
       "gender                 564  \n",
       "industry               421  \n",
       "currency                70  \n",
       "...                    ...  \n",
       "address                841  \n",
       "sales                   30  \n",
       "ranking                 55  \n",
       "director                33  \n",
       "person                  36  \n",
       "\n",
       "[78 rows x 8 columns]"
      ]
     },
     "execution_count": 14,
     "metadata": {},
     "output_type": "execute_result"
    }
   ],
   "source": [
    "combined_report_df"
   ]
  },
  {
   "cell_type": "code",
   "execution_count": 15,
   "metadata": {},
   "outputs": [
    {
     "name": "stdout",
     "output_type": "stream",
     "text": [
      "[('name', 4363), ('rank', 1755), ('age', 1591), ('team', 1527), ('description', 1488), ('weight', 1431), ('location', 1096), ('type', 899), ('position', 841), ('city', 583)]\n",
      "[('name', 520), ('category', 508), ('description', 435), ('team', 380), ('notes', 337), ('location', 286), ('type', 264), ('rank', 254), ('position', 192), ('class', 185)]\n"
     ]
    }
   ],
   "source": [
    "mismatches_sherlock = list()\n",
    "mismatches_sherlock_idx = list()\n",
    "mismatches_sato = list()\n",
    "mismatches_sato_idx = list()\n",
    "\n",
    "print_count = 0\n",
    "for idx, true_type in enumerate(true_types):\n",
    "    predicted_type_sherlock = prediction_sherlock[idx]\n",
    "    predicted_type_sato = prediction_sato[idx]\n",
    "\n",
    "    if true_type != predicted_type_sherlock:\n",
    "        mismatches_sherlock.append(true_type)\n",
    "        mismatches_sherlock_idx.append(idx)\n",
    "\n",
    "    if true_type != predicted_type_sato:\n",
    "        mismatches_sato.append(true_type)\n",
    "        mismatches_sato_idx.append(idx)\n",
    "        \n",
    "        # zoom in to specific errors\n",
    "        # if true_type in ('state') and print_count <= 6:\n",
    "        #     print_count += 1\n",
    "        #     print(f'Expected \"{true_type}\" but predicted \"{predicted_type}\"')\n",
    "        #     print(f'{data[idx]}\\n')\n",
    "        \n",
    "\n",
    "mismatch_sherlock_class_count = Counter(mismatches_sherlock)\n",
    "print(mismatch_sherlock_class_count.most_common()[:10])\n",
    "\n",
    "mismatches_sato_class_count = Counter(mismatches_sato)\n",
    "print(mismatches_sato_class_count.most_common()[:10])"
   ]
  },
  {
   "cell_type": "code",
   "execution_count": 16,
   "metadata": {},
   "outputs": [],
   "source": [
    "mismatch_sherlock_freq_df = pd.DataFrame(mismatches_sherlock, columns=['type'])\n",
    "mismatch_sherlock_freq_df = pd.DataFrame(mismatch_sherlock_freq_df['type'].value_counts())\n",
    "mismatch_sherlock_freq_df.columns = ['count']\n",
    "mismatch_sherlock_freq_df.index.name = 'type'\n",
    "\n",
    "mismatch_sato_freq_df = pd.DataFrame(mismatches_sato, columns=['type'])\n",
    "mismatch_sato_freq_df = pd.DataFrame(mismatch_sato_freq_df['type'].value_counts())\n",
    "mismatch_sato_freq_df.columns = ['count']\n",
    "mismatch_sato_freq_df.index.name = 'type'\n",
    "\n",
    "type_freq_df = pd.DataFrame(true_types, columns=['type'])\n",
    "type_freq_df = pd.DataFrame(type_freq_df['type'].value_counts())\n",
    "type_freq_df.columns = ['count']\n",
    "type_freq_df.index.name = 'type'"
   ]
  },
  {
   "cell_type": "code",
   "execution_count": 17,
   "metadata": {},
   "outputs": [],
   "source": [
    "combined_mismatch_freq_df = pd.merge(mismatch_sherlock_freq_df, mismatch_sato_freq_df, left_index=True, right_index=True, how='outer')\n",
    "combined_mismatch_freq_df = pd.merge(combined_mismatch_freq_df, type_freq_df, left_index=True, right_index=True, how='outer')\n",
    "combined_mismatch_freq_df.columns=['sherlock_mismatch_freq', 'sato_mismatch_freq', 'true_type_freq']"
   ]
  },
  {
   "cell_type": "code",
   "execution_count": 18,
   "metadata": {
    "scrolled": true
   },
   "outputs": [
    {
     "data": {
      "text/html": [
       "\n",
       "<div id=\"altair-viz-0515a9c673bd462e951b7ae4b37c5064\"></div>\n",
       "<script type=\"text/javascript\">\n",
       "  var VEGA_DEBUG = (typeof VEGA_DEBUG == \"undefined\") ? {} : VEGA_DEBUG;\n",
       "  (function(spec, embedOpt){\n",
       "    let outputDiv = document.currentScript.previousElementSibling;\n",
       "    if (outputDiv.id !== \"altair-viz-0515a9c673bd462e951b7ae4b37c5064\") {\n",
       "      outputDiv = document.getElementById(\"altair-viz-0515a9c673bd462e951b7ae4b37c5064\");\n",
       "    }\n",
       "    const paths = {\n",
       "      \"vega\": \"https://cdn.jsdelivr.net/npm//vega@5?noext\",\n",
       "      \"vega-lib\": \"https://cdn.jsdelivr.net/npm//vega-lib?noext\",\n",
       "      \"vega-lite\": \"https://cdn.jsdelivr.net/npm//vega-lite@4.17.0?noext\",\n",
       "      \"vega-embed\": \"https://cdn.jsdelivr.net/npm//vega-embed@6?noext\",\n",
       "    };\n",
       "\n",
       "    function maybeLoadScript(lib, version) {\n",
       "      var key = `${lib.replace(\"-\", \"\")}_version`;\n",
       "      return (VEGA_DEBUG[key] == version) ?\n",
       "        Promise.resolve(paths[lib]) :\n",
       "        new Promise(function(resolve, reject) {\n",
       "          var s = document.createElement('script');\n",
       "          document.getElementsByTagName(\"head\")[0].appendChild(s);\n",
       "          s.async = true;\n",
       "          s.onload = () => {\n",
       "            VEGA_DEBUG[key] = version;\n",
       "            return resolve(paths[lib]);\n",
       "          };\n",
       "          s.onerror = () => reject(`Error loading script: ${paths[lib]}`);\n",
       "          s.src = paths[lib];\n",
       "        });\n",
       "    }\n",
       "\n",
       "    function showError(err) {\n",
       "      outputDiv.innerHTML = `<div class=\"error\" style=\"color:red;\">${err}</div>`;\n",
       "      throw err;\n",
       "    }\n",
       "\n",
       "    function displayChart(vegaEmbed) {\n",
       "      vegaEmbed(outputDiv, spec, embedOpt)\n",
       "        .catch(err => showError(`Javascript Error: ${err.message}<br>This usually means there's a typo in your chart specification. See the javascript console for the full traceback.`));\n",
       "    }\n",
       "\n",
       "    if(typeof define === \"function\" && define.amd) {\n",
       "      requirejs.config({paths});\n",
       "      require([\"vega-embed\"], displayChart, err => showError(`Error loading script: ${err.message}`));\n",
       "    } else {\n",
       "      maybeLoadScript(\"vega\", \"5\")\n",
       "        .then(() => maybeLoadScript(\"vega-lite\", \"4.17.0\"))\n",
       "        .then(() => maybeLoadScript(\"vega-embed\", \"6\"))\n",
       "        .catch(showError)\n",
       "        .then(() => displayChart(vegaEmbed));\n",
       "    }\n",
       "  })({\"config\": {\"view\": {\"continuousWidth\": 400, \"continuousHeight\": 300}}, \"data\": {\"name\": \"data-1c49f937f0314e270cc1470bbaa00481\"}, \"mark\": {\"type\": \"bar\", \"size\": 15}, \"encoding\": {\"color\": {\"field\": \"column\", \"type\": \"nominal\"}, \"column\": {\"field\": \"type\", \"sort\": {\"field\": \"true_type_freq\", \"order\": \"descending\"}, \"type\": \"ordinal\"}, \"x\": {\"field\": \"column\", \"title\": \"\", \"type\": \"nominal\"}, \"y\": {\"field\": \"value\", \"type\": \"quantitative\"}}, \"transform\": [{\"fold\": [\"sherlock_mismatch_freq\", \"sato_mismatch_freq\", \"true_type_freq\"], \"as\": [\"column\", \"value\"]}], \"$schema\": \"https://vega.github.io/schema/vega-lite/v4.17.0.json\", \"datasets\": {\"data-1c49f937f0314e270cc1470bbaa00481\": [{\"type\": \"address\", \"sherlock_mismatch_freq\": 69.0, \"sato_mismatch_freq\": 53.0, \"true_type_freq\": 841}, {\"type\": \"affiliate\", \"sherlock_mismatch_freq\": 14.0, \"sato_mismatch_freq\": 18.0, \"true_type_freq\": 26}, {\"type\": \"affiliation\", \"sherlock_mismatch_freq\": 5.0, \"sato_mismatch_freq\": 15.0, \"true_type_freq\": 198}, {\"type\": \"age\", \"sherlock_mismatch_freq\": 1591.0, \"sato_mismatch_freq\": 64.0, \"true_type_freq\": 7179}, {\"type\": \"album\", \"sherlock_mismatch_freq\": 168.0, \"sato_mismatch_freq\": 96.0, \"true_type_freq\": 1525}, {\"type\": \"area\", \"sherlock_mismatch_freq\": 64.0, \"sato_mismatch_freq\": 58.0, \"true_type_freq\": 285}, {\"type\": \"artist\", \"sherlock_mismatch_freq\": 289.0, \"sato_mismatch_freq\": 184.0, \"true_type_freq\": 2158}, {\"type\": \"birthdate\", \"sherlock_mismatch_freq\": 9.0, \"sato_mismatch_freq\": 3.0, \"true_type_freq\": 65}, {\"type\": \"birthplace\", \"sherlock_mismatch_freq\": 5.0, \"sato_mismatch_freq\": 6.0, \"true_type_freq\": 54}, {\"type\": \"brand\", \"sherlock_mismatch_freq\": 109.0, \"sato_mismatch_freq\": 60.0, \"true_type_freq\": 139}, {\"type\": \"capacity\", \"sherlock_mismatch_freq\": 35.0, \"sato_mismatch_freq\": 20.0, \"true_type_freq\": 55}, {\"type\": \"category\", \"sherlock_mismatch_freq\": 425.0, \"sato_mismatch_freq\": 508.0, \"true_type_freq\": 4001}, {\"type\": \"city\", \"sherlock_mismatch_freq\": 583.0, \"sato_mismatch_freq\": 171.0, \"true_type_freq\": 5296}, {\"type\": \"class\", \"sherlock_mismatch_freq\": 247.0, \"sato_mismatch_freq\": 185.0, \"true_type_freq\": 1210}, {\"type\": \"classification\", \"sherlock_mismatch_freq\": 17.0, \"sato_mismatch_freq\": 16.0, \"true_type_freq\": 99}, {\"type\": \"club\", \"sherlock_mismatch_freq\": 189.0, \"sato_mismatch_freq\": 91.0, \"true_type_freq\": 2188}, {\"type\": \"code\", \"sherlock_mismatch_freq\": 509.0, \"sato_mismatch_freq\": 104.0, \"true_type_freq\": 2699}, {\"type\": \"collection\", \"sherlock_mismatch_freq\": 19.0, \"sato_mismatch_freq\": 13.0, \"true_type_freq\": 88}, {\"type\": \"command\", \"sherlock_mismatch_freq\": 36.0, \"sato_mismatch_freq\": 31.0, \"true_type_freq\": 81}, {\"type\": \"company\", \"sherlock_mismatch_freq\": 204.0, \"sato_mismatch_freq\": 116.0, \"true_type_freq\": 1521}, {\"type\": \"component\", \"sherlock_mismatch_freq\": 34.0, \"sato_mismatch_freq\": 49.0, \"true_type_freq\": 170}, {\"type\": \"continent\", \"sherlock_mismatch_freq\": 2.0, \"sato_mismatch_freq\": 12.0, \"true_type_freq\": 25}, {\"type\": \"country\", \"sherlock_mismatch_freq\": 258.0, \"sato_mismatch_freq\": 150.0, \"true_type_freq\": 1723}, {\"type\": \"county\", \"sherlock_mismatch_freq\": 42.0, \"sato_mismatch_freq\": 57.0, \"true_type_freq\": 600}, {\"type\": \"creator\", \"sherlock_mismatch_freq\": 15.0, \"sato_mismatch_freq\": 17.0, \"true_type_freq\": 39}, {\"type\": \"credit\", \"sherlock_mismatch_freq\": 30.0, \"sato_mismatch_freq\": 16.0, \"true_type_freq\": 138}, {\"type\": \"currency\", \"sherlock_mismatch_freq\": 1.0, \"sato_mismatch_freq\": 5.0, \"true_type_freq\": 70}, {\"type\": \"day\", \"sherlock_mismatch_freq\": 73.0, \"sato_mismatch_freq\": 86.0, \"true_type_freq\": 588}, {\"type\": \"depth\", \"sherlock_mismatch_freq\": 33.0, \"sato_mismatch_freq\": 11.0, \"true_type_freq\": 134}, {\"type\": \"description\", \"sherlock_mismatch_freq\": 1488.0, \"sato_mismatch_freq\": 435.0, \"true_type_freq\": 11257}, {\"type\": \"director\", \"sherlock_mismatch_freq\": 14.0, \"sato_mismatch_freq\": 15.0, \"true_type_freq\": 33}, {\"type\": \"duration\", \"sherlock_mismatch_freq\": 146.0, \"sato_mismatch_freq\": 42.0, \"true_type_freq\": 802}, {\"type\": \"education\", \"sherlock_mismatch_freq\": null, \"sato_mismatch_freq\": 1.0, \"true_type_freq\": 36}, {\"type\": \"elevation\", \"sherlock_mismatch_freq\": 69.0, \"sato_mismatch_freq\": 27.0, \"true_type_freq\": 215}, {\"type\": \"family\", \"sherlock_mismatch_freq\": 25.0, \"sato_mismatch_freq\": 13.0, \"true_type_freq\": 136}, {\"type\": \"filesize\", \"sherlock_mismatch_freq\": 169.0, \"sato_mismatch_freq\": 24.0, \"true_type_freq\": 220}, {\"type\": \"format\", \"sherlock_mismatch_freq\": 41.0, \"sato_mismatch_freq\": 39.0, \"true_type_freq\": 656}, {\"type\": \"gender\", \"sherlock_mismatch_freq\": 26.0, \"sato_mismatch_freq\": 28.0, \"true_type_freq\": 564}, {\"type\": \"genre\", \"sherlock_mismatch_freq\": 16.0, \"sato_mismatch_freq\": 19.0, \"true_type_freq\": 160}, {\"type\": \"grades\", \"sherlock_mismatch_freq\": 1.0, \"sato_mismatch_freq\": 3.0, \"true_type_freq\": 219}, {\"type\": \"industry\", \"sherlock_mismatch_freq\": 6.0, \"sato_mismatch_freq\": 10.0, \"true_type_freq\": 421}, {\"type\": \"isbn\", \"sherlock_mismatch_freq\": 8.0, \"sato_mismatch_freq\": 3.0, \"true_type_freq\": 228}, {\"type\": \"jockey\", \"sherlock_mismatch_freq\": 1.0, \"sato_mismatch_freq\": 22.0, \"true_type_freq\": 351}, {\"type\": \"language\", \"sherlock_mismatch_freq\": 21.0, \"sato_mismatch_freq\": 20.0, \"true_type_freq\": 306}, {\"type\": \"location\", \"sherlock_mismatch_freq\": 1096.0, \"sato_mismatch_freq\": 286.0, \"true_type_freq\": 5361}, {\"type\": \"manufacturer\", \"sherlock_mismatch_freq\": 32.0, \"sato_mismatch_freq\": 39.0, \"true_type_freq\": 152}, {\"type\": \"name\", \"sherlock_mismatch_freq\": 4363.0, \"sato_mismatch_freq\": 520.0, \"true_type_freq\": 15993}, {\"type\": \"nationality\", \"sherlock_mismatch_freq\": 23.0, \"sato_mismatch_freq\": 26.0, \"true_type_freq\": 74}, {\"type\": \"notes\", \"sherlock_mismatch_freq\": 306.0, \"sato_mismatch_freq\": 337.0, \"true_type_freq\": 1009}, {\"type\": \"operator\", \"sherlock_mismatch_freq\": 8.0, \"sato_mismatch_freq\": 17.0, \"true_type_freq\": 39}, {\"type\": \"order\", \"sherlock_mismatch_freq\": 36.0, \"sato_mismatch_freq\": 38.0, \"true_type_freq\": 209}, {\"type\": \"organisation\", \"sherlock_mismatch_freq\": 2.0, \"sato_mismatch_freq\": 2.0, \"true_type_freq\": 21}, {\"type\": \"origin\", \"sherlock_mismatch_freq\": 44.0, \"sato_mismatch_freq\": 90.0, \"true_type_freq\": 206}, {\"type\": \"owner\", \"sherlock_mismatch_freq\": 25.0, \"sato_mismatch_freq\": 41.0, \"true_type_freq\": 188}, {\"type\": \"person\", \"sherlock_mismatch_freq\": 22.0, \"sato_mismatch_freq\": 23.0, \"true_type_freq\": 36}, {\"type\": \"plays\", \"sherlock_mismatch_freq\": 28.0, \"sato_mismatch_freq\": 23.0, \"true_type_freq\": 209}, {\"type\": \"position\", \"sherlock_mismatch_freq\": 841.0, \"sato_mismatch_freq\": 192.0, \"true_type_freq\": 2078}, {\"type\": \"product\", \"sherlock_mismatch_freq\": 54.0, \"sato_mismatch_freq\": 78.0, \"true_type_freq\": 371}, {\"type\": \"publisher\", \"sherlock_mismatch_freq\": 15.0, \"sato_mismatch_freq\": 28.0, \"true_type_freq\": 217}, {\"type\": \"range\", \"sherlock_mismatch_freq\": 17.0, \"sato_mismatch_freq\": 17.0, \"true_type_freq\": 68}, {\"type\": \"rank\", \"sherlock_mismatch_freq\": 1755.0, \"sato_mismatch_freq\": 254.0, \"true_type_freq\": 5117}, {\"type\": \"ranking\", \"sherlock_mismatch_freq\": 45.0, \"sato_mismatch_freq\": 47.0, \"true_type_freq\": 55}, {\"type\": \"region\", \"sherlock_mismatch_freq\": 75.0, \"sato_mismatch_freq\": 65.0, \"true_type_freq\": 325}, {\"type\": \"religion\", \"sherlock_mismatch_freq\": null, \"sato_mismatch_freq\": null, \"true_type_freq\": 38}, {\"type\": \"requirement\", \"sherlock_mismatch_freq\": 13.0, \"sato_mismatch_freq\": 24.0, \"true_type_freq\": 35}, {\"type\": \"result\", \"sherlock_mismatch_freq\": 163.0, \"sato_mismatch_freq\": 73.0, \"true_type_freq\": 2139}, {\"type\": \"sales\", \"sherlock_mismatch_freq\": 16.0, \"sato_mismatch_freq\": 11.0, \"true_type_freq\": 30}, {\"type\": \"service\", \"sherlock_mismatch_freq\": 16.0, \"sato_mismatch_freq\": 12.0, \"true_type_freq\": 279}, {\"type\": \"sex\", \"sherlock_mismatch_freq\": 302.0, \"sato_mismatch_freq\": 48.0, \"true_type_freq\": 382}, {\"type\": \"species\", \"sherlock_mismatch_freq\": 6.0, \"sato_mismatch_freq\": 22.0, \"true_type_freq\": 81}, {\"type\": \"state\", \"sherlock_mismatch_freq\": 218.0, \"sato_mismatch_freq\": 100.0, \"true_type_freq\": 4385}, {\"type\": \"status\", \"sherlock_mismatch_freq\": 198.0, \"sato_mismatch_freq\": 147.0, \"true_type_freq\": 4771}, {\"type\": \"symbol\", \"sherlock_mismatch_freq\": 194.0, \"sato_mismatch_freq\": 49.0, \"true_type_freq\": 1035}, {\"type\": \"team\", \"sherlock_mismatch_freq\": 1527.0, \"sato_mismatch_freq\": 380.0, \"true_type_freq\": 10373}, {\"type\": \"teamname\", \"sherlock_mismatch_freq\": 83.0, \"sato_mismatch_freq\": 29.0, \"true_type_freq\": 243}, {\"type\": \"type\", \"sherlock_mismatch_freq\": 899.0, \"sato_mismatch_freq\": 264.0, \"true_type_freq\": 6625}, {\"type\": \"weight\", \"sherlock_mismatch_freq\": 1431.0, \"sato_mismatch_freq\": 57.0, \"true_type_freq\": 4317}, {\"type\": \"year\", \"sherlock_mismatch_freq\": 561.0, \"sato_mismatch_freq\": 52.0, \"true_type_freq\": 5349}]}}, {\"mode\": \"vega-lite\"});\n",
       "</script>"
      ],
      "text/plain": [
       "alt.Chart(...)"
      ]
     },
     "execution_count": 18,
     "metadata": {},
     "output_type": "execute_result"
    }
   ],
   "source": [
    "alt.Chart(combined_mismatch_freq_df.reset_index()).transform_fold(\n",
    "      ['sherlock_mismatch_freq', 'sato_mismatch_freq', 'true_type_freq'],\n",
    "      as_=['column', 'value']\n",
    "    ).mark_bar(size=15).encode(\n",
    "    column=alt.Column('type:O', sort=alt.EncodingSortField(\n",
    "                field=\"true_type_freq\",  \n",
    "                order=\"descending\")),\n",
    "    x = alt.X('column:N',\n",
    "              title = '',\n",
    "              ),\n",
    "    y=alt.Y('value:Q'),\n",
    "    color='column:N'\n",
    ")"
   ]
  },
  {
   "cell_type": "code",
   "execution_count": 19,
   "metadata": {},
   "outputs": [
    {
     "name": "stdout",
     "output_type": "stream",
     "text": [
      "f1-score_sato    0.828339\n",
      "dtype: float64\n",
      "f1-score_sherlock    0.615016\n",
      "dtype: float64\n",
      "f1-score_sato    0.946768\n",
      "dtype: float64\n",
      "f1-score_sherlock    0.926792\n",
      "dtype: float64\n"
     ]
    }
   ],
   "source": [
    "# take a closer look at long tail types\n",
    "combined_mismatch_freq_df = combined_mismatch_freq_df.sort_values(by='true_type_freq', ascending = False) \n",
    "# print(combined_mismatch_freq_df.tail(30))\n",
    "# print(combined_report_df.sort_values(by='support_sato', ascending = False).tail(30))\n",
    "long_tail_df = combined_report_df[20:]\n",
    "small_tail_df = combined_report_df[:20]\n",
    "print(long_tail_df[['f1-score_sato']].mean())\n",
    "print(long_tail_df[['f1-score_sherlock']].mean())\n",
    "print(small_tail_df[['f1-score_sato']].mean())\n",
    "print(small_tail_df[['f1-score_sherlock']].mean())"
   ]
  },
  {
   "cell_type": "code",
   "execution_count": 20,
   "metadata": {},
   "outputs": [],
   "source": [
    "# print(combined_mismatch_freq_df)"
   ]
  },
  {
   "cell_type": "code",
   "execution_count": 21,
   "metadata": {},
   "outputs": [
    {
     "data": {
      "text/html": [
       "\n",
       "<div id=\"altair-viz-a791197a926146e8a25ec5d95378f4c2\"></div>\n",
       "<script type=\"text/javascript\">\n",
       "  var VEGA_DEBUG = (typeof VEGA_DEBUG == \"undefined\") ? {} : VEGA_DEBUG;\n",
       "  (function(spec, embedOpt){\n",
       "    let outputDiv = document.currentScript.previousElementSibling;\n",
       "    if (outputDiv.id !== \"altair-viz-a791197a926146e8a25ec5d95378f4c2\") {\n",
       "      outputDiv = document.getElementById(\"altair-viz-a791197a926146e8a25ec5d95378f4c2\");\n",
       "    }\n",
       "    const paths = {\n",
       "      \"vega\": \"https://cdn.jsdelivr.net/npm//vega@5?noext\",\n",
       "      \"vega-lib\": \"https://cdn.jsdelivr.net/npm//vega-lib?noext\",\n",
       "      \"vega-lite\": \"https://cdn.jsdelivr.net/npm//vega-lite@4.17.0?noext\",\n",
       "      \"vega-embed\": \"https://cdn.jsdelivr.net/npm//vega-embed@6?noext\",\n",
       "    };\n",
       "\n",
       "    function maybeLoadScript(lib, version) {\n",
       "      var key = `${lib.replace(\"-\", \"\")}_version`;\n",
       "      return (VEGA_DEBUG[key] == version) ?\n",
       "        Promise.resolve(paths[lib]) :\n",
       "        new Promise(function(resolve, reject) {\n",
       "          var s = document.createElement('script');\n",
       "          document.getElementsByTagName(\"head\")[0].appendChild(s);\n",
       "          s.async = true;\n",
       "          s.onload = () => {\n",
       "            VEGA_DEBUG[key] = version;\n",
       "            return resolve(paths[lib]);\n",
       "          };\n",
       "          s.onerror = () => reject(`Error loading script: ${paths[lib]}`);\n",
       "          s.src = paths[lib];\n",
       "        });\n",
       "    }\n",
       "\n",
       "    function showError(err) {\n",
       "      outputDiv.innerHTML = `<div class=\"error\" style=\"color:red;\">${err}</div>`;\n",
       "      throw err;\n",
       "    }\n",
       "\n",
       "    function displayChart(vegaEmbed) {\n",
       "      vegaEmbed(outputDiv, spec, embedOpt)\n",
       "        .catch(err => showError(`Javascript Error: ${err.message}<br>This usually means there's a typo in your chart specification. See the javascript console for the full traceback.`));\n",
       "    }\n",
       "\n",
       "    if(typeof define === \"function\" && define.amd) {\n",
       "      requirejs.config({paths});\n",
       "      require([\"vega-embed\"], displayChart, err => showError(`Error loading script: ${err.message}`));\n",
       "    } else {\n",
       "      maybeLoadScript(\"vega\", \"5\")\n",
       "        .then(() => maybeLoadScript(\"vega-lite\", \"4.17.0\"))\n",
       "        .then(() => maybeLoadScript(\"vega-embed\", \"6\"))\n",
       "        .catch(showError)\n",
       "        .then(() => displayChart(vegaEmbed));\n",
       "    }\n",
       "  })({\"config\": {\"view\": {\"continuousWidth\": 400, \"continuousHeight\": 300}}, \"data\": {\"name\": \"data-3c2bc36649fc2792557db342a5d21ddb\"}, \"mark\": {\"type\": \"bar\", \"size\": 15}, \"encoding\": {\"color\": {\"field\": \"column\", \"type\": \"nominal\"}, \"column\": {\"field\": \"type\", \"sort\": {\"field\": \"support_sherlock\", \"order\": \"descending\"}, \"type\": \"ordinal\"}, \"x\": {\"field\": \"column\", \"title\": \"\", \"type\": \"nominal\"}, \"y\": {\"field\": \"value\", \"type\": \"quantitative\"}}, \"transform\": [{\"fold\": [\"precision_sato\", \"recall_sato\", \"f1-score_sato\", \"precision_sherlock\", \"recall_sherlock\", \"f1-score_sherlock\"], \"as\": [\"column\", \"value\"]}], \"$schema\": \"https://vega.github.io/schema/vega-lite/v4.17.0.json\", \"datasets\": {\"data-3c2bc36649fc2792557db342a5d21ddb\": [{\"type\": \"isbn\", \"precision_sato\": 0.995575221238938, \"recall_sato\": 0.9868421052631579, \"f1-score_sato\": 0.9911894273127753, \"support_sato\": 228, \"precision_sherlock\": 1.0, \"recall_sherlock\": 0.9649122807017544, \"f1-score_sherlock\": 0.9821428571428572, \"support_sherlock\": 228}, {\"type\": \"grades\", \"precision_sato\": 1.0, \"recall_sato\": 0.9863013698630136, \"f1-score_sato\": 0.993103448275862, \"support_sato\": 219, \"precision_sherlock\": 0.9519650655021834, \"recall_sherlock\": 0.9954337899543378, \"f1-score_sherlock\": 0.9732142857142857, \"support_sherlock\": 219}, {\"type\": \"gender\", \"precision_sato\": 0.9907578558225508, \"recall_sato\": 0.950354609929078, \"f1-score_sato\": 0.9701357466063348, \"support_sato\": 564, \"precision_sherlock\": 0.9799635701275046, \"recall_sherlock\": 0.9539007092198581, \"f1-score_sherlock\": 0.9667565139263252, \"support_sherlock\": 564}, {\"type\": \"industry\", \"precision_sato\": 0.9298642533936652, \"recall_sato\": 0.9762470308788599, \"f1-score_sato\": 0.9524913093858632, \"support_sato\": 421, \"precision_sherlock\": 0.9367945823927766, \"recall_sherlock\": 0.9857482185273159, \"f1-score_sherlock\": 0.9606481481481483, \"support_sherlock\": 421}, {\"type\": \"currency\", \"precision_sato\": 0.9701492537313433, \"recall_sato\": 0.9285714285714286, \"f1-score_sato\": 0.948905109489051, \"support_sato\": 70, \"precision_sherlock\": 0.92, \"recall_sherlock\": 0.9857142857142858, \"f1-score_sherlock\": 0.9517241379310346, \"support_sherlock\": 70}, {\"type\": \"religion\", \"precision_sato\": 1.0, \"recall_sato\": 1.0, \"f1-score_sato\": 1.0, \"support_sato\": 38, \"precision_sherlock\": 0.9047619047619048, \"recall_sherlock\": 1.0, \"f1-score_sherlock\": 0.9500000000000001, \"support_sherlock\": 38}, {\"type\": \"state\", \"precision_sato\": 0.9771949828962372, \"recall_sato\": 0.9771949828962372, \"f1-score_sato\": 0.9771949828962372, \"support_sato\": 4385, \"precision_sherlock\": 0.9431869624264373, \"recall_sherlock\": 0.9502850627137971, \"f1-score_sherlock\": 0.9467227081676702, \"support_sherlock\": 4385}, {\"type\": \"status\", \"precision_sato\": 0.9687827362245967, \"recall_sato\": 0.9691888492978411, \"f1-score_sato\": 0.9689857502095557, \"support_sato\": 4771, \"precision_sherlock\": 0.9321239298817774, \"recall_sherlock\": 0.9584992664011738, \"f1-score_sherlock\": 0.9451276221969619, \"support_sherlock\": 4771}, {\"type\": \"year\", \"precision_sato\": 0.983293113049935, \"recall_sato\": 0.9902785567395775, \"f1-score_sato\": 0.9867734724292102, \"support_sato\": 5349, \"precision_sherlock\": 0.9849825138860316, \"recall_sherlock\": 0.8951205832865956, \"f1-score_sherlock\": 0.9379040156709108, \"support_sherlock\": 5349}, {\"type\": \"result\", \"precision_sato\": 0.9654205607476636, \"recall_sato\": 0.9658719027582983, \"f1-score_sato\": 0.9656461790137882, \"support_sato\": 2139, \"precision_sherlock\": 0.9422985216976634, \"recall_sherlock\": 0.9237961664329126, \"f1-score_sherlock\": 0.9329556185080264, \"support_sherlock\": 2139}, {\"type\": \"category\", \"precision_sato\": 0.9705473742706308, \"recall_sato\": 0.8730317420644839, \"f1-score_sato\": 0.9192105263157895, \"support_sato\": 4001, \"precision_sherlock\": 0.9515699840340607, \"recall_sherlock\": 0.8937765558610348, \"f1-score_sherlock\": 0.9217682691068437, \"support_sherlock\": 4001}, {\"type\": \"continent\", \"precision_sato\": 1.0, \"recall_sato\": 0.52, \"f1-score_sato\": 0.6842105263157895, \"support_sato\": 25, \"precision_sherlock\": 0.92, \"recall_sherlock\": 0.92, \"f1-score_sherlock\": 0.92, \"support_sherlock\": 25}, {\"type\": \"type\", \"precision_sato\": 0.9148568963037538, \"recall_sato\": 0.9601509433962264, \"f1-score_sato\": 0.9369568419502134, \"support_sato\": 6625, \"precision_sherlock\": 0.9665766374071574, \"recall_sherlock\": 0.8643018867924528, \"f1-score_sherlock\": 0.9125826759104311, \"support_sherlock\": 6625}, {\"type\": \"club\", \"precision_sato\": 0.9735376044568245, \"recall_sato\": 0.9584095063985375, \"f1-score_sato\": 0.9659143251957624, \"support_sato\": 2188, \"precision_sherlock\": 0.9102914389799636, \"recall_sherlock\": 0.9136197440585009, \"f1-score_sherlock\": 0.9119525547445255, \"support_sherlock\": 2188}, {\"type\": \"description\", \"precision_sato\": 0.9605041270968314, \"recall_sato\": 0.9613573776316958, \"f1-score_sato\": 0.9609305629550701, \"support_sato\": 11257, \"precision_sherlock\": 0.9424987940183309, \"recall_sherlock\": 0.8678155814160078, \"f1-score_sherlock\": 0.9036166867079826, \"support_sherlock\": 11257}, {\"type\": \"team\", \"precision_sato\": 0.9578261286303077, \"recall_sato\": 0.9633664320832932, \"f1-score_sato\": 0.9605882918388926, \"support_sato\": 10373, \"precision_sherlock\": 0.9466024612092028, \"recall_sherlock\": 0.8527908994504965, \"f1-score_sherlock\": 0.8972512425195254, \"support_sherlock\": 10373}, {\"type\": \"city\", \"precision_sato\": 0.9534883720930233, \"recall_sato\": 0.9677114803625377, \"f1-score_sato\": 0.9605472776684473, \"support_sato\": 5296, \"precision_sherlock\": 0.8937985966243125, \"recall_sherlock\": 0.889916918429003, \"f1-score_sherlock\": 0.8918535339199545, \"support_sherlock\": 5296}, {\"type\": \"language\", \"precision_sato\": 0.8148148148148148, \"recall_sato\": 0.934640522875817, \"f1-score_sato\": 0.8706240487062404, \"support_sato\": 306, \"precision_sherlock\": 0.8532934131736527, \"recall_sherlock\": 0.9313725490196079, \"f1-score_sherlock\": 0.890625, \"support_sherlock\": 306}, {\"type\": \"code\", \"precision_sato\": 0.9722742600224803, \"recall_sato\": 0.9614672100778066, \"f1-score_sato\": 0.9668405365126675, \"support_sato\": 2699, \"precision_sherlock\": 0.9370988446726572, \"recall_sherlock\": 0.8114116339384957, \"f1-score_sherlock\": 0.869737887212073, \"support_sherlock\": 2699}, {\"type\": \"format\", \"precision_sato\": 0.970125786163522, \"recall_sato\": 0.9405487804878049, \"f1-score_sato\": 0.9551083591331269, \"support_sato\": 656, \"precision_sherlock\": 0.8102766798418972, \"recall_sherlock\": 0.9375, \"f1-score_sherlock\": 0.8692579505300354, \"support_sherlock\": 656}, {\"type\": \"family\", \"precision_sato\": 0.9919354838709677, \"recall_sato\": 0.9044117647058824, \"f1-score_sato\": 0.9461538461538461, \"support_sato\": 136, \"precision_sherlock\": 0.9024390243902439, \"recall_sherlock\": 0.8161764705882353, \"f1-score_sherlock\": 0.8571428571428571, \"support_sherlock\": 136}, {\"type\": \"symbol\", \"precision_sato\": 0.9695181907571289, \"recall_sato\": 0.9526570048309179, \"f1-score_sato\": 0.9610136452241714, \"support_sato\": 1035, \"precision_sherlock\": 0.90625, \"recall_sherlock\": 0.81256038647343, \"f1-score_sherlock\": 0.8568517575140091, \"support_sherlock\": 1035}, {\"type\": \"location\", \"precision_sato\": 0.9208855017238251, \"recall_sato\": 0.9466517440775974, \"f1-score_sato\": 0.9335908756438558, \"support_sato\": 5361, \"precision_sherlock\": 0.9261672095548317, \"recall_sherlock\": 0.7955605297519119, \"f1-score_sherlock\": 0.8559100943206903, \"support_sherlock\": 5361}, {\"type\": \"day\", \"precision_sato\": 0.9653846153846154, \"recall_sato\": 0.8537414965986394, \"f1-score_sato\": 0.9061371841155234, \"support_sato\": 588, \"precision_sherlock\": 0.8333333333333334, \"recall_sherlock\": 0.8758503401360545, \"f1-score_sherlock\": 0.8540630182421227, \"support_sherlock\": 588}, {\"type\": \"age\", \"precision_sato\": 0.9770667399066191, \"recall_sato\": 0.9910851093467057, \"f1-score_sato\": 0.9840260009681212, \"support_sato\": 7179, \"precision_sherlock\": 0.942327150084317, \"recall_sherlock\": 0.7783813901657612, \"f1-score_sherlock\": 0.8525440537035625, \"support_sherlock\": 7179}, {\"type\": \"jockey\", \"precision_sato\": 0.9215686274509803, \"recall_sato\": 0.9373219373219374, \"f1-score_sato\": 0.9293785310734464, \"support_sato\": 351, \"precision_sherlock\": 0.7399577167019028, \"recall_sherlock\": 0.9971509971509972, \"f1-score_sherlock\": 0.8495145631067962, \"support_sherlock\": 351}, {\"type\": \"education\", \"precision_sato\": 0.9722222222222222, \"recall_sato\": 0.9722222222222222, \"f1-score_sato\": 0.9722222222222222, \"support_sato\": 36, \"precision_sherlock\": 0.7346938775510204, \"recall_sherlock\": 1.0, \"f1-score_sherlock\": 0.8470588235294119, \"support_sherlock\": 36}, {\"type\": \"service\", \"precision_sato\": 0.9434628975265018, \"recall_sato\": 0.956989247311828, \"f1-score_sato\": 0.9501779359430605, \"support_sato\": 279, \"precision_sherlock\": 0.7645348837209303, \"recall_sherlock\": 0.942652329749104, \"f1-score_sherlock\": 0.8443017656500802, \"support_sherlock\": 279}, {\"type\": \"county\", \"precision_sato\": 0.9679144385026738, \"recall_sato\": 0.905, \"f1-score_sato\": 0.9354005167958656, \"support_sato\": 600, \"precision_sherlock\": 0.7717842323651453, \"recall_sherlock\": 0.93, \"f1-score_sherlock\": 0.8435374149659863, \"support_sherlock\": 600}, {\"type\": \"affiliation\", \"precision_sato\": 0.9838709677419355, \"recall_sato\": 0.9242424242424242, \"f1-score_sato\": 0.9531249999999999, \"support_sato\": 198, \"precision_sherlock\": 0.7394636015325671, \"recall_sherlock\": 0.9747474747474747, \"f1-score_sherlock\": 0.840958605664488, \"support_sherlock\": 198}, {\"type\": \"country\", \"precision_sato\": 0.8822209758833427, \"recall_sato\": 0.9129425420777714, \"f1-score_sato\": 0.8973188819167143, \"support_sato\": 1723, \"precision_sherlock\": 0.8198097369893677, \"recall_sherlock\": 0.8502611723737666, \"f1-score_sherlock\": 0.8347578347578347, \"support_sherlock\": 1723}, {\"type\": \"name\", \"precision_sato\": 0.94439697265625, \"recall_sato\": 0.9674857750265742, \"f1-score_sato\": 0.9558019581801896, \"support_sato\": 15993, \"precision_sherlock\": 0.9501633986928104, \"recall_sherlock\": 0.7271931470018133, \"f1-score_sherlock\": 0.8238586051783374, \"support_sherlock\": 15993}, {\"type\": \"collection\", \"precision_sato\": 0.9615384615384616, \"recall_sato\": 0.8522727272727273, \"f1-score_sato\": 0.9036144578313254, \"support_sato\": 88, \"precision_sherlock\": 0.8518518518518519, \"recall_sherlock\": 0.7840909090909091, \"f1-score_sherlock\": 0.8165680473372782, \"support_sherlock\": 88}, {\"type\": \"birthdate\", \"precision_sato\": 0.9841269841269841, \"recall_sato\": 0.9538461538461539, \"f1-score_sato\": 0.96875, \"support_sato\": 65, \"precision_sherlock\": 0.7671232876712328, \"recall_sherlock\": 0.8615384615384616, \"f1-score_sherlock\": 0.8115942028985507, \"support_sherlock\": 65}, {\"type\": \"company\", \"precision_sato\": 0.9518970189701897, \"recall_sato\": 0.9237343852728468, \"f1-score_sato\": 0.9376042709376042, \"support_sato\": 1521, \"precision_sherlock\": 0.7508551881413911, \"recall_sherlock\": 0.8658777120315582, \"f1-score_sherlock\": 0.8042748091603052, \"support_sherlock\": 1521}, {\"type\": \"genre\", \"precision_sato\": 0.7663043478260869, \"recall_sato\": 0.88125, \"f1-score_sato\": 0.819767441860465, \"support_sato\": 160, \"precision_sherlock\": 0.7128712871287128, \"recall_sherlock\": 0.9, \"f1-score_sherlock\": 0.7955801104972375, \"support_sherlock\": 160}, {\"type\": \"weight\", \"precision_sato\": 0.9838337182448037, \"recall_sato\": 0.9867963863794301, \"f1-score_sato\": 0.9853128252573147, \"support_sato\": 4317, \"precision_sherlock\": 0.9687814702920443, \"recall_sherlock\": 0.6685198054204309, \"f1-score_sherlock\": 0.7911184210526316, \"support_sherlock\": 4317}, {\"type\": \"class\", \"precision_sato\": 0.9022887323943662, \"recall_sato\": 0.8471074380165289, \"f1-score_sato\": 0.8738277919863598, \"support_sato\": 1210, \"precision_sherlock\": 0.778496362166532, \"recall_sherlock\": 0.7958677685950413, \"f1-score_sherlock\": 0.7870862280343277, \"support_sherlock\": 1210}, {\"type\": \"depth\", \"precision_sato\": 0.8785714285714286, \"recall_sato\": 0.917910447761194, \"f1-score_sato\": 0.8978102189781023, \"support_sato\": 134, \"precision_sherlock\": 0.808, \"recall_sherlock\": 0.753731343283582, \"f1-score_sherlock\": 0.7799227799227799, \"support_sherlock\": 134}, {\"type\": \"classification\", \"precision_sato\": 0.9325842696629213, \"recall_sato\": 0.8383838383838383, \"f1-score_sato\": 0.8829787234042553, \"support_sato\": 99, \"precision_sherlock\": 0.7321428571428571, \"recall_sherlock\": 0.8282828282828283, \"f1-score_sherlock\": 0.7772511848341231, \"support_sherlock\": 99}, {\"type\": \"artist\", \"precision_sato\": 0.9042601923957856, \"recall_sato\": 0.9147358665430955, \"f1-score_sato\": 0.9094678645473392, \"support_sato\": 2158, \"precision_sherlock\": 0.6966082743197913, \"recall_sherlock\": 0.866079703429101, \"f1-score_sherlock\": 0.7721545135302623, \"support_sherlock\": 2158}, {\"type\": \"origin\", \"precision_sato\": 0.9586776859504132, \"recall_sato\": 0.5631067961165048, \"f1-score_sato\": 0.7094801223241589, \"support_sato\": 206, \"precision_sherlock\": 0.7465437788018433, \"recall_sherlock\": 0.7864077669902912, \"f1-score_sherlock\": 0.7659574468085106, \"support_sherlock\": 206}, {\"type\": \"duration\", \"precision_sato\": 0.9535759096612296, \"recall_sato\": 0.9476309226932669, \"f1-score_sato\": 0.9505941213258287, \"support_sato\": 802, \"precision_sherlock\": 0.665989847715736, \"recall_sherlock\": 0.8179551122194514, \"f1-score_sherlock\": 0.7341913822048125, \"support_sherlock\": 802}, {\"type\": \"publisher\", \"precision_sato\": 0.7590361445783133, \"recall_sato\": 0.8709677419354839, \"f1-score_sato\": 0.8111587982832619, \"support_sato\": 217, \"precision_sherlock\": 0.6047904191616766, \"recall_sherlock\": 0.9308755760368663, \"f1-score_sherlock\": 0.7332123411978221, \"support_sherlock\": 217}, {\"type\": \"album\", \"precision_sato\": 0.9096117122851687, \"recall_sato\": 0.9370491803278689, \"f1-score_sato\": 0.92312661498708, \"support_sato\": 1525, \"precision_sherlock\": 0.6182232346241457, \"recall_sherlock\": 0.8898360655737705, \"f1-score_sherlock\": 0.7295698924731183, \"support_sherlock\": 1525}, {\"type\": \"rank\", \"precision_sato\": 0.9220705346985211, \"recall_sato\": 0.9503615399648231, \"f1-score_sato\": 0.9360023096910787, \"support_sato\": 5117, \"precision_sherlock\": 0.7428192664604507, \"recall_sherlock\": 0.6570256009380496, \"f1-score_sherlock\": 0.6972933734315047, \"support_sherlock\": 5117}, {\"type\": \"elevation\", \"precision_sato\": 0.9842931937172775, \"recall_sato\": 0.8744186046511628, \"f1-score_sato\": 0.9261083743842365, \"support_sato\": 215, \"precision_sherlock\": 0.6985645933014354, \"recall_sherlock\": 0.6790697674418604, \"f1-score_sherlock\": 0.6886792452830188, \"support_sherlock\": 215}, {\"type\": \"organisation\", \"precision_sato\": 0.95, \"recall_sato\": 0.9047619047619048, \"f1-score_sato\": 0.9268292682926829, \"support_sato\": 21, \"precision_sherlock\": 0.5428571428571428, \"recall_sherlock\": 0.9047619047619048, \"f1-score_sherlock\": 0.6785714285714285, \"support_sherlock\": 21}, {\"type\": \"birthplace\", \"precision_sato\": 1.0, \"recall_sato\": 0.8888888888888888, \"f1-score_sato\": 0.9411764705882353, \"support_sato\": 54, \"precision_sherlock\": 0.5384615384615384, \"recall_sherlock\": 0.9074074074074074, \"f1-score_sherlock\": 0.6758620689655174, \"support_sherlock\": 54}, {\"type\": \"order\", \"precision_sato\": 0.855, \"recall_sato\": 0.8181818181818182, \"f1-score_sato\": 0.8361858190709046, \"support_sato\": 209, \"precision_sherlock\": 0.5580645161290323, \"recall_sherlock\": 0.8277511961722488, \"f1-score_sherlock\": 0.6666666666666667, \"support_sherlock\": 209}, {\"type\": \"notes\", \"precision_sato\": 0.9307479224376731, \"recall_sato\": 0.666005946481665, \"f1-score_sato\": 0.7764298093587522, \"support_sato\": 1009, \"precision_sherlock\": 0.6091854419410745, \"recall_sherlock\": 0.6967294350842418, \"f1-score_sherlock\": 0.6500231160425335, \"support_sherlock\": 1009}, {\"type\": \"plays\", \"precision_sato\": 0.9489795918367347, \"recall_sato\": 0.8899521531100478, \"f1-score_sato\": 0.9185185185185185, \"support_sato\": 209, \"precision_sherlock\": 0.49725274725274726, \"recall_sherlock\": 0.8660287081339713, \"f1-score_sherlock\": 0.631762652705061, \"support_sherlock\": 209}, {\"type\": \"manufacturer\", \"precision_sato\": 0.7197452229299363, \"recall_sato\": 0.743421052631579, \"f1-score_sato\": 0.7313915857605178, \"support_sato\": 152, \"precision_sherlock\": 0.5240174672489083, \"recall_sherlock\": 0.7894736842105263, \"f1-score_sherlock\": 0.6299212598425196, \"support_sherlock\": 152}, {\"type\": \"owner\", \"precision_sato\": 0.930379746835443, \"recall_sato\": 0.7819148936170213, \"f1-score_sato\": 0.8497109826589595, \"support_sato\": 188, \"precision_sherlock\": 0.4851190476190476, \"recall_sherlock\": 0.8670212765957447, \"f1-score_sherlock\": 0.6221374045801527, \"support_sherlock\": 188}, {\"type\": \"nationality\", \"precision_sato\": 0.8135593220338984, \"recall_sato\": 0.6486486486486487, \"f1-score_sato\": 0.7218045112781954, \"support_sato\": 74, \"precision_sherlock\": 0.5483870967741935, \"recall_sherlock\": 0.6891891891891891, \"f1-score_sherlock\": 0.6107784431137725, \"support_sherlock\": 74}, {\"type\": \"position\", \"precision_sato\": 0.9023923444976076, \"recall_sato\": 0.9076034648700674, \"f1-score_sato\": 0.9049904030710173, \"support_sato\": 2078, \"precision_sherlock\": 0.6160358565737052, \"recall_sherlock\": 0.595283926852743, \"f1-score_sherlock\": 0.6054821341164953, \"support_sherlock\": 2078}, {\"type\": \"species\", \"precision_sato\": 0.8194444444444444, \"recall_sato\": 0.7283950617283951, \"f1-score_sato\": 0.7712418300653595, \"support_sato\": 81, \"precision_sherlock\": 0.436046511627907, \"recall_sherlock\": 0.9259259259259259, \"f1-score_sherlock\": 0.5928853754940712, \"support_sherlock\": 81}, {\"type\": \"range\", \"precision_sato\": 0.9272727272727272, \"recall_sato\": 0.75, \"f1-score_sato\": 0.8292682926829268, \"support_sato\": 68, \"precision_sherlock\": 0.46788990825688076, \"recall_sherlock\": 0.75, \"f1-score_sherlock\": 0.576271186440678, \"support_sherlock\": 68}, {\"type\": \"affiliate\", \"precision_sato\": 0.7272727272727273, \"recall_sato\": 0.3076923076923077, \"f1-score_sato\": 0.43243243243243246, \"support_sato\": 26, \"precision_sherlock\": 0.75, \"recall_sherlock\": 0.46153846153846156, \"f1-score_sherlock\": 0.5714285714285714, \"support_sherlock\": 26}, {\"type\": \"area\", \"precision_sato\": 0.9190283400809717, \"recall_sato\": 0.7964912280701755, \"f1-score_sato\": 0.8533834586466166, \"support_sato\": 285, \"precision_sherlock\": 0.39676840215439857, \"recall_sherlock\": 0.775438596491228, \"f1-score_sherlock\": 0.5249406175771971, \"support_sherlock\": 285}, {\"type\": \"requirement\", \"precision_sato\": 0.7857142857142857, \"recall_sato\": 0.3142857142857143, \"f1-score_sato\": 0.44897959183673464, \"support_sato\": 35, \"precision_sherlock\": 0.4489795918367347, \"recall_sherlock\": 0.6285714285714286, \"f1-score_sherlock\": 0.5238095238095237, \"support_sherlock\": 35}, {\"type\": \"component\", \"precision_sato\": 0.8705035971223022, \"recall_sato\": 0.711764705882353, \"f1-score_sato\": 0.7831715210355987, \"support_sato\": 170, \"precision_sherlock\": 0.38095238095238093, \"recall_sherlock\": 0.8, \"f1-score_sherlock\": 0.5161290322580645, \"support_sherlock\": 170}, {\"type\": \"credit\", \"precision_sato\": 0.7721518987341772, \"recall_sato\": 0.8840579710144928, \"f1-score_sato\": 0.8243243243243245, \"support_sato\": 138, \"precision_sherlock\": 0.34615384615384615, \"recall_sherlock\": 0.782608695652174, \"f1-score_sherlock\": 0.48, \"support_sherlock\": 138}, {\"type\": \"command\", \"precision_sato\": 0.7142857142857143, \"recall_sato\": 0.6172839506172839, \"f1-score_sato\": 0.662251655629139, \"support_sato\": 81, \"precision_sherlock\": 0.35714285714285715, \"recall_sherlock\": 0.5555555555555556, \"f1-score_sherlock\": 0.43478260869565216, \"support_sherlock\": 81}, {\"type\": \"operator\", \"precision_sato\": 0.7857142857142857, \"recall_sato\": 0.5641025641025641, \"f1-score_sato\": 0.6567164179104477, \"support_sato\": 39, \"precision_sherlock\": 0.2897196261682243, \"recall_sherlock\": 0.7948717948717948, \"f1-score_sherlock\": 0.42465753424657526, \"support_sherlock\": 39}, {\"type\": \"teamname\", \"precision_sato\": 0.9304347826086956, \"recall_sato\": 0.8806584362139918, \"f1-score_sato\": 0.9048625792811839, \"support_sato\": 243, \"precision_sherlock\": 0.3125, \"recall_sherlock\": 0.6584362139917695, \"f1-score_sherlock\": 0.423841059602649, \"support_sherlock\": 243}, {\"type\": \"region\", \"precision_sato\": 0.790273556231003, \"recall_sato\": 0.8, \"f1-score_sato\": 0.7951070336391438, \"support_sato\": 325, \"precision_sherlock\": 0.27901785714285715, \"recall_sherlock\": 0.7692307692307693, \"f1-score_sherlock\": 0.40950040950040956, \"support_sherlock\": 325}, {\"type\": \"filesize\", \"precision_sato\": 0.8376068376068376, \"recall_sato\": 0.8909090909090909, \"f1-score_sato\": 0.8634361233480177, \"support_sato\": 220, \"precision_sherlock\": 0.8947368421052632, \"recall_sherlock\": 0.2318181818181818, \"f1-score_sherlock\": 0.3682310469314079, \"support_sherlock\": 220}, {\"type\": \"capacity\", \"precision_sato\": 0.8333333333333334, \"recall_sato\": 0.6363636363636364, \"f1-score_sato\": 0.7216494845360825, \"support_sato\": 55, \"precision_sherlock\": 0.32786885245901637, \"recall_sherlock\": 0.36363636363636365, \"f1-score_sherlock\": 0.3448275862068965, \"support_sherlock\": 55}, {\"type\": \"creator\", \"precision_sato\": 0.7857142857142857, \"recall_sato\": 0.5641025641025641, \"f1-score_sato\": 0.6567164179104477, \"support_sato\": 39, \"precision_sherlock\": 0.23300970873786409, \"recall_sherlock\": 0.6153846153846154, \"f1-score_sherlock\": 0.33802816901408456, \"support_sherlock\": 39}, {\"type\": \"product\", \"precision_sato\": 0.8643067846607669, \"recall_sato\": 0.7897574123989218, \"f1-score_sato\": 0.8253521126760562, \"support_sato\": 371, \"precision_sherlock\": 0.19027611044417767, \"recall_sherlock\": 0.8544474393530997, \"f1-score_sherlock\": 0.3112420225822288, \"support_sherlock\": 371}, {\"type\": \"sex\", \"precision_sato\": 0.9408450704225352, \"recall_sato\": 0.8743455497382199, \"f1-score_sato\": 0.9063772048846676, \"support_sato\": 382, \"precision_sherlock\": 0.5882352941176471, \"recall_sherlock\": 0.2094240837696335, \"f1-score_sherlock\": 0.3088803088803089, \"support_sherlock\": 382}, {\"type\": \"brand\", \"precision_sato\": 0.7247706422018348, \"recall_sato\": 0.5683453237410072, \"f1-score_sato\": 0.6370967741935485, \"support_sato\": 139, \"precision_sherlock\": 0.4411764705882353, \"recall_sherlock\": 0.2158273381294964, \"f1-score_sherlock\": 0.2898550724637681, \"support_sherlock\": 139}, {\"type\": \"address\", \"precision_sato\": 0.9380952380952381, \"recall_sato\": 0.9369797859690844, \"f1-score_sato\": 0.9375371802498512, \"support_sato\": 841, \"precision_sherlock\": 0.12768772742308965, \"recall_sherlock\": 0.9179548156956004, \"f1-score_sherlock\": 0.2241905038478293, \"support_sherlock\": 841}, {\"type\": \"sales\", \"precision_sato\": 0.95, \"recall_sato\": 0.6333333333333333, \"f1-score_sato\": 0.7599999999999999, \"support_sato\": 30, \"precision_sherlock\": 0.12280701754385964, \"recall_sherlock\": 0.4666666666666667, \"f1-score_sherlock\": 0.19444444444444442, \"support_sherlock\": 30}, {\"type\": \"ranking\", \"precision_sato\": 0.7272727272727273, \"recall_sato\": 0.14545454545454545, \"f1-score_sato\": 0.2424242424242424, \"support_sato\": 55, \"precision_sherlock\": 0.14705882352941177, \"recall_sherlock\": 0.18181818181818182, \"f1-score_sherlock\": 0.1626016260162602, \"support_sherlock\": 55}, {\"type\": \"director\", \"precision_sato\": 0.8181818181818182, \"recall_sato\": 0.5454545454545454, \"f1-score_sato\": 0.6545454545454545, \"support_sato\": 33, \"precision_sherlock\": 0.08333333333333333, \"recall_sherlock\": 0.5757575757575758, \"f1-score_sherlock\": 0.14559386973180075, \"support_sherlock\": 33}, {\"type\": \"person\", \"precision_sato\": 0.8666666666666667, \"recall_sato\": 0.3611111111111111, \"f1-score_sato\": 0.5098039215686274, \"support_sato\": 36, \"precision_sherlock\": 0.05, \"recall_sherlock\": 0.3888888888888889, \"f1-score_sherlock\": 0.08860759493670886, \"support_sherlock\": 36}]}}, {\"mode\": \"vega-lite\"});\n",
       "</script>"
      ],
      "text/plain": [
       "alt.Chart(...)"
      ]
     },
     "execution_count": 21,
     "metadata": {},
     "output_type": "execute_result"
    }
   ],
   "source": [
    "alt.Chart(combined_report_df.reset_index()).transform_fold(\n",
    "      ['precision_sato', 'recall_sato', 'f1-score_sato', 'precision_sherlock', 'recall_sherlock', 'f1-score_sherlock'],\n",
    "      as_=['column', 'value']\n",
    "    ).mark_bar(size=15).encode(\n",
    "    column=alt.Column('type:O', sort=alt.EncodingSortField(\n",
    "                field=\"support_sherlock\",  \n",
    "                order=\"descending\")),\n",
    "    x = alt.X('column:N',\n",
    "              title = '',\n",
    "              ),\n",
    "    y=alt.Y('value:Q'),\n",
    "    color='column:N'\n",
    ")"
   ]
  },
  {
   "cell_type": "markdown",
   "metadata": {},
   "source": [
    "### Looking at the score improvement for each type"
   ]
  },
  {
   "cell_type": "code",
   "execution_count": 22,
   "metadata": {},
   "outputs": [],
   "source": [
    "score_improvement_df = pd.DataFrame()\n",
    "#precision, recall and f1-score\n",
    "score_improvement_df[\"precision\"] = report_sato_df[\"precision\"] - report_sherlock_df[\"precision\"]\n",
    "score_improvement_df[\"recall\"] = report_sato_df[\"recall\"] - report_sherlock_df[\"recall\"]\n",
    "score_improvement_df[\"f1-score\"] = report_sato_df[\"f1-score\"] - report_sherlock_df[\"f1-score\"]\n",
    "score_improvement_df[\"support\"] = report_sato_df[\"support\"]\n",
    "score_improvement_df.index.name = 'type'"
   ]
  },
  {
   "cell_type": "code",
   "execution_count": 23,
   "metadata": {},
   "outputs": [
    {
     "name": "stdout",
     "output_type": "stream",
     "text": [
      "          precision    recall  f1-score  support\n",
      "type                                            \n",
      "address    0.810408  0.019025  0.713347      841\n",
      "sex        0.352610  0.664921  0.597497      382\n",
      "sales      0.827193  0.166667  0.565556       30\n",
      "product    0.674031 -0.064690  0.514110      371\n",
      "director   0.734848 -0.030303  0.508952       33\n",
      "filesize  -0.057130  0.659091  0.495205      220\n",
      "teamname   0.617935  0.222222  0.481022      243\n",
      "person     0.816667 -0.027778  0.421196       36\n",
      "region     0.511256  0.030769  0.385607      325\n",
      "capacity   0.505464  0.272727  0.376822       55\n"
     ]
    }
   ],
   "source": [
    "print(score_improvement_df.sort_values('f1-score', ascending=False).head(10))"
   ]
  },
  {
   "cell_type": "code",
   "execution_count": 24,
   "metadata": {},
   "outputs": [
    {
     "data": {
      "text/html": [
       "\n",
       "<div id=\"altair-viz-e5a20008f7bc4d3a9f94f71d3ded2e5a\"></div>\n",
       "<script type=\"text/javascript\">\n",
       "  var VEGA_DEBUG = (typeof VEGA_DEBUG == \"undefined\") ? {} : VEGA_DEBUG;\n",
       "  (function(spec, embedOpt){\n",
       "    let outputDiv = document.currentScript.previousElementSibling;\n",
       "    if (outputDiv.id !== \"altair-viz-e5a20008f7bc4d3a9f94f71d3ded2e5a\") {\n",
       "      outputDiv = document.getElementById(\"altair-viz-e5a20008f7bc4d3a9f94f71d3ded2e5a\");\n",
       "    }\n",
       "    const paths = {\n",
       "      \"vega\": \"https://cdn.jsdelivr.net/npm//vega@5?noext\",\n",
       "      \"vega-lib\": \"https://cdn.jsdelivr.net/npm//vega-lib?noext\",\n",
       "      \"vega-lite\": \"https://cdn.jsdelivr.net/npm//vega-lite@4.17.0?noext\",\n",
       "      \"vega-embed\": \"https://cdn.jsdelivr.net/npm//vega-embed@6?noext\",\n",
       "    };\n",
       "\n",
       "    function maybeLoadScript(lib, version) {\n",
       "      var key = `${lib.replace(\"-\", \"\")}_version`;\n",
       "      return (VEGA_DEBUG[key] == version) ?\n",
       "        Promise.resolve(paths[lib]) :\n",
       "        new Promise(function(resolve, reject) {\n",
       "          var s = document.createElement('script');\n",
       "          document.getElementsByTagName(\"head\")[0].appendChild(s);\n",
       "          s.async = true;\n",
       "          s.onload = () => {\n",
       "            VEGA_DEBUG[key] = version;\n",
       "            return resolve(paths[lib]);\n",
       "          };\n",
       "          s.onerror = () => reject(`Error loading script: ${paths[lib]}`);\n",
       "          s.src = paths[lib];\n",
       "        });\n",
       "    }\n",
       "\n",
       "    function showError(err) {\n",
       "      outputDiv.innerHTML = `<div class=\"error\" style=\"color:red;\">${err}</div>`;\n",
       "      throw err;\n",
       "    }\n",
       "\n",
       "    function displayChart(vegaEmbed) {\n",
       "      vegaEmbed(outputDiv, spec, embedOpt)\n",
       "        .catch(err => showError(`Javascript Error: ${err.message}<br>This usually means there's a typo in your chart specification. See the javascript console for the full traceback.`));\n",
       "    }\n",
       "\n",
       "    if(typeof define === \"function\" && define.amd) {\n",
       "      requirejs.config({paths});\n",
       "      require([\"vega-embed\"], displayChart, err => showError(`Error loading script: ${err.message}`));\n",
       "    } else {\n",
       "      maybeLoadScript(\"vega\", \"5\")\n",
       "        .then(() => maybeLoadScript(\"vega-lite\", \"4.17.0\"))\n",
       "        .then(() => maybeLoadScript(\"vega-embed\", \"6\"))\n",
       "        .catch(showError)\n",
       "        .then(() => displayChart(vegaEmbed));\n",
       "    }\n",
       "  })({\"config\": {\"view\": {\"continuousWidth\": 400, \"continuousHeight\": 300}}, \"data\": {\"name\": \"data-1ba822cec28efc74e9a53cd1b73f08a4\"}, \"mark\": {\"type\": \"bar\", \"size\": 15}, \"encoding\": {\"color\": {\"field\": \"column\", \"type\": \"nominal\"}, \"column\": {\"field\": \"type\", \"sort\": {\"field\": \"f1-score\", \"order\": \"descending\"}, \"type\": \"ordinal\"}, \"x\": {\"field\": \"column\", \"title\": \"\", \"type\": \"nominal\"}, \"y\": {\"field\": \"value\", \"type\": \"quantitative\"}}, \"transform\": [{\"fold\": [\"precision\", \"recall\", \"f1-score\"], \"as\": [\"column\", \"value\"]}], \"$schema\": \"https://vega.github.io/schema/vega-lite/v4.17.0.json\", \"datasets\": {\"data-1ba822cec28efc74e9a53cd1b73f08a4\": [{\"type\": \"address\", \"precision\": 0.8104075106721484, \"recall\": 0.019024970273483932, \"f1-score\": 0.713346676402022, \"support\": 841}, {\"type\": \"affiliate\", \"precision\": -0.022727272727272707, \"recall\": -0.15384615384615385, \"f1-score\": -0.13899613899613894, \"support\": 26}, {\"type\": \"affiliation\", \"precision\": 0.24440736620936843, \"recall\": -0.0505050505050505, \"f1-score\": 0.1121663943355119, \"support\": 198}, {\"type\": \"age\", \"precision\": 0.034739589822302075, \"recall\": 0.21270371918094444, \"f1-score\": 0.13148194726455875, \"support\": 7179}, {\"type\": \"album\", \"precision\": 0.29138847766102294, \"recall\": 0.047213114754098395, \"f1-score\": 0.19355672251396172, \"support\": 1525}, {\"type\": \"area\", \"precision\": 0.5222599379265731, \"recall\": 0.021052631578947434, \"f1-score\": 0.32844284106941946, \"support\": 285}, {\"type\": \"artist\", \"precision\": 0.20765191807599426, \"recall\": 0.048656163113994455, \"f1-score\": 0.13731335101707687, \"support\": 2158}, {\"type\": \"birthdate\", \"precision\": 0.21700369645575124, \"recall\": 0.09230769230769231, \"f1-score\": 0.15715579710144933, \"support\": 65}, {\"type\": \"birthplace\", \"precision\": 0.46153846153846156, \"recall\": -0.0185185185185186, \"f1-score\": 0.2653144016227179, \"support\": 54}, {\"type\": \"brand\", \"precision\": 0.28359417161359957, \"recall\": 0.3525179856115108, \"f1-score\": 0.34724170172978036, \"support\": 139}, {\"type\": \"capacity\", \"precision\": 0.505464480874317, \"recall\": 0.2727272727272727, \"f1-score\": 0.37682189832918594, \"support\": 55}, {\"type\": \"category\", \"precision\": 0.01897739023657008, \"recall\": -0.02074481379655091, \"f1-score\": -0.0025577427910542516, \"support\": 4001}, {\"type\": \"city\", \"precision\": 0.05968977546871079, \"recall\": 0.07779456193353473, \"f1-score\": 0.0686937437484928, \"support\": 5296}, {\"type\": \"class\", \"precision\": 0.12379237022783429, \"recall\": 0.05123966942148761, \"f1-score\": 0.08674156395203214, \"support\": 1210}, {\"type\": \"classification\", \"precision\": 0.2004414125200642, \"recall\": 0.010101010101010055, \"f1-score\": 0.10572753857013217, \"support\": 99}, {\"type\": \"club\", \"precision\": 0.0632461654768609, \"recall\": 0.04478976234003662, \"f1-score\": 0.053961770451236846, \"support\": 2188}, {\"type\": \"code\", \"precision\": 0.03517541534982305, \"recall\": 0.15005557613931086, \"f1-score\": 0.09710264930059453, \"support\": 2699}, {\"type\": \"collection\", \"precision\": 0.1096866096866097, \"recall\": 0.06818181818181823, \"f1-score\": 0.08704641049404727, \"support\": 88}, {\"type\": \"command\", \"precision\": 0.35714285714285715, \"recall\": 0.061728395061728336, \"f1-score\": 0.22746904693348685, \"support\": 81}, {\"type\": \"company\", \"precision\": 0.20104183082879867, \"recall\": 0.057856673241288625, \"f1-score\": 0.13332946177729899, \"support\": 1521}, {\"type\": \"component\", \"precision\": 0.48955121616992125, \"recall\": -0.08823529411764708, \"f1-score\": 0.2670424887775342, \"support\": 170}, {\"type\": \"continent\", \"precision\": 0.07999999999999996, \"recall\": -0.4, \"f1-score\": -0.23578947368421055, \"support\": 25}, {\"type\": \"country\", \"precision\": 0.06241123889397504, \"recall\": 0.06268136970400473, \"f1-score\": 0.06256104715887956, \"support\": 1723}, {\"type\": \"county\", \"precision\": 0.19613020613752852, \"recall\": -0.025000000000000022, \"f1-score\": 0.09186310182987922, \"support\": 600}, {\"type\": \"creator\", \"precision\": 0.5527045769764216, \"recall\": -0.05128205128205132, \"f1-score\": 0.3186882488963631, \"support\": 39}, {\"type\": \"credit\", \"precision\": 0.4259980525803311, \"recall\": 0.10144927536231885, \"f1-score\": 0.34432432432432447, \"support\": 138}, {\"type\": \"currency\", \"precision\": 0.05014925373134327, \"recall\": -0.05714285714285716, \"f1-score\": -0.002819028441983562, \"support\": 70}, {\"type\": \"day\", \"precision\": 0.13205128205128203, \"recall\": -0.022108843537415046, \"f1-score\": 0.052074165873400635, \"support\": 588}, {\"type\": \"depth\", \"precision\": 0.07057142857142851, \"recall\": 0.16417910447761197, \"f1-score\": 0.1178874390553224, \"support\": 134}, {\"type\": \"description\", \"precision\": 0.018005333078500496, \"recall\": 0.09354179621568803, \"f1-score\": 0.0573138762470875, \"support\": 11257}, {\"type\": \"director\", \"precision\": 0.7348484848484849, \"recall\": -0.030303030303030387, \"f1-score\": 0.5089515848136538, \"support\": 33}, {\"type\": \"duration\", \"precision\": 0.28758606194549363, \"recall\": 0.1296758104738155, \"f1-score\": 0.21640273912101615, \"support\": 802}, {\"type\": \"education\", \"precision\": 0.23752834467120176, \"recall\": -0.02777777777777779, \"f1-score\": 0.12516339869281035, \"support\": 36}, {\"type\": \"elevation\", \"precision\": 0.28572860041584214, \"recall\": 0.1953488372093024, \"f1-score\": 0.23742912910121772, \"support\": 215}, {\"type\": \"family\", \"precision\": 0.08949645948072382, \"recall\": 0.08823529411764708, \"f1-score\": 0.08901098901098903, \"support\": 136}, {\"type\": \"filesize\", \"precision\": -0.057130004498425535, \"recall\": 0.6590909090909091, \"f1-score\": 0.49520507641660977, \"support\": 220}, {\"type\": \"format\", \"precision\": 0.15984910632162475, \"recall\": 0.0030487804878048808, \"f1-score\": 0.08585040860309145, \"support\": 656}, {\"type\": \"gender\", \"precision\": 0.010794285695046257, \"recall\": -0.0035460992907800915, \"f1-score\": 0.003379232680009614, \"support\": 564}, {\"type\": \"genre\", \"precision\": 0.05343306069737408, \"recall\": -0.018750000000000044, \"f1-score\": 0.024187331363227482, \"support\": 160}, {\"type\": \"grades\", \"precision\": 0.048034934497816595, \"recall\": -0.0091324200913242, \"f1-score\": 0.019889162561576357, \"support\": 219}, {\"type\": \"industry\", \"precision\": -0.00693032899911139, \"recall\": -0.009501187648455978, \"f1-score\": -0.008156838762285012, \"support\": 421}, {\"type\": \"isbn\", \"precision\": -0.004424778761061954, \"recall\": 0.021929824561403466, \"f1-score\": 0.009046570169918056, \"support\": 228}, {\"type\": \"jockey\", \"precision\": 0.18161091074907754, \"recall\": -0.05982905982905984, \"f1-score\": 0.07986396796665018, \"support\": 351}, {\"type\": \"language\", \"precision\": -0.038478598358837934, \"recall\": 0.0032679738562091387, \"f1-score\": -0.02000095129375956, \"support\": 306}, {\"type\": \"location\", \"precision\": -0.005281707831006566, \"recall\": 0.1510912143256855, \"f1-score\": 0.07768078132316547, \"support\": 5361}, {\"type\": \"manufacturer\", \"precision\": 0.19572775568102796, \"recall\": -0.046052631578947345, \"f1-score\": 0.1014703259179982, \"support\": 152}, {\"type\": \"name\", \"precision\": -0.0057664260365604125, \"recall\": 0.24029262802476092, \"f1-score\": 0.13194335300185223, \"support\": 15993}, {\"type\": \"nationality\", \"precision\": 0.26517222525970485, \"recall\": -0.04054054054054046, \"f1-score\": 0.11102606816442295, \"support\": 74}, {\"type\": \"notes\", \"precision\": 0.32156248049659863, \"recall\": -0.030723488602576787, \"f1-score\": 0.12640669331621868, \"support\": 1009}, {\"type\": \"operator\", \"precision\": 0.4959946595460614, \"recall\": -0.23076923076923073, \"f1-score\": 0.2320588836638724, \"support\": 39}, {\"type\": \"order\", \"precision\": 0.2969354838709677, \"recall\": -0.009569377990430561, \"f1-score\": 0.16951915240423787, \"support\": 209}, {\"type\": \"organisation\", \"precision\": 0.40714285714285714, \"recall\": 0.0, \"f1-score\": 0.24825783972125437, \"support\": 21}, {\"type\": \"origin\", \"precision\": 0.21213390714856994, \"recall\": -0.22330097087378642, \"f1-score\": -0.05647732448435172, \"support\": 206}, {\"type\": \"owner\", \"precision\": 0.4452606992163954, \"recall\": -0.08510638297872342, \"f1-score\": 0.22757357807880685, \"support\": 188}, {\"type\": \"person\", \"precision\": 0.8166666666666667, \"recall\": -0.02777777777777779, \"f1-score\": 0.4211963266319185, \"support\": 36}, {\"type\": \"plays\", \"precision\": 0.4517268445839875, \"recall\": 0.02392344497607657, \"f1-score\": 0.28675586581345747, \"support\": 209}, {\"type\": \"position\", \"precision\": 0.28635648792390245, \"recall\": 0.31231953801732437, \"f1-score\": 0.299508268954522, \"support\": 2078}, {\"type\": \"product\", \"precision\": 0.6740306742165892, \"recall\": -0.06469002695417791, \"f1-score\": 0.5141100900938275, \"support\": 371}, {\"type\": \"publisher\", \"precision\": 0.15424572541663661, \"recall\": -0.05990783410138245, \"f1-score\": 0.07794645708543979, \"support\": 217}, {\"type\": \"range\", \"precision\": 0.4593828190158465, \"recall\": 0.0, \"f1-score\": 0.2529971062422488, \"support\": 68}, {\"type\": \"rank\", \"precision\": 0.17925126823807036, \"recall\": 0.29333593902677346, \"f1-score\": 0.238708936259574, \"support\": 5117}, {\"type\": \"ranking\", \"precision\": 0.5802139037433155, \"recall\": -0.036363636363636376, \"f1-score\": 0.07982261640798222, \"support\": 55}, {\"type\": \"region\", \"precision\": 0.5112556990881458, \"recall\": 0.03076923076923077, \"f1-score\": 0.38560662413873426, \"support\": 325}, {\"type\": \"religion\", \"precision\": 0.09523809523809523, \"recall\": 0.0, \"f1-score\": 0.04999999999999993, \"support\": 38}, {\"type\": \"requirement\", \"precision\": 0.336734693877551, \"recall\": -0.3142857142857143, \"f1-score\": -0.07482993197278909, \"support\": 35}, {\"type\": \"result\", \"precision\": 0.02312203905000021, \"recall\": 0.04207573632538564, \"f1-score\": 0.0326905605057618, \"support\": 2139}, {\"type\": \"sales\", \"precision\": 0.8271929824561404, \"recall\": 0.16666666666666663, \"f1-score\": 0.5655555555555555, \"support\": 30}, {\"type\": \"service\", \"precision\": 0.17892801380557155, \"recall\": 0.014336917562724039, \"f1-score\": 0.10587617029298035, \"support\": 279}, {\"type\": \"sex\", \"precision\": 0.3526097763048881, \"recall\": 0.6649214659685864, \"f1-score\": 0.5974968960043587, \"support\": 382}, {\"type\": \"species\", \"precision\": 0.38339793281653745, \"recall\": -0.19753086419753085, \"f1-score\": 0.17835645457128835, \"support\": 81}, {\"type\": \"state\", \"precision\": 0.03400802046979989, \"recall\": 0.026909920182440095, \"f1-score\": 0.03047227472856695, \"support\": 4385}, {\"type\": \"status\", \"precision\": 0.03665880634281926, \"recall\": 0.010689582896667327, \"f1-score\": 0.023858128012593793, \"support\": 4771}, {\"type\": \"symbol\", \"precision\": 0.06326819075712886, \"recall\": 0.14009661835748788, \"f1-score\": 0.10416188771016233, \"support\": 1035}, {\"type\": \"team\", \"precision\": 0.011223667421104921, \"recall\": 0.11057553263279674, \"f1-score\": 0.06333704931936723, \"support\": 10373}, {\"type\": \"teamname\", \"precision\": 0.6179347826086956, \"recall\": 0.2222222222222222, \"f1-score\": 0.48102151967853485, \"support\": 243}, {\"type\": \"type\", \"precision\": -0.051719741103403605, \"recall\": 0.09584905660377363, \"f1-score\": 0.024374166039782375, \"support\": 6625}, {\"type\": \"weight\", \"precision\": 0.01505224795275939, \"recall\": 0.31827658095899924, \"f1-score\": 0.19419440420468304, \"support\": 4317}, {\"type\": \"year\", \"precision\": -0.0016894008360965884, \"recall\": 0.09515797345298194, \"f1-score\": 0.04886945675829946, \"support\": 5349}]}}, {\"mode\": \"vega-lite\"});\n",
       "</script>"
      ],
      "text/plain": [
       "alt.Chart(...)"
      ]
     },
     "execution_count": 24,
     "metadata": {},
     "output_type": "execute_result"
    }
   ],
   "source": [
    "alt.Chart(score_improvement_df.reset_index()).transform_fold(\n",
    "      ['precision', 'recall', 'f1-score'],\n",
    "      as_=['column', 'value']\n",
    "    ).mark_bar(size=15).encode(\n",
    "    column=alt.Column('type:O', sort=alt.EncodingSortField(\n",
    "                field=\"f1-score\",  \n",
    "                order=\"descending\")),\n",
    "    x = alt.X('column:N',\n",
    "              title = '',\n",
    "              ),\n",
    "    y=alt.Y('value:Q'),\n",
    "    color='column:N'\n",
    ")"
   ]
  },
  {
   "cell_type": "code",
   "execution_count": 25,
   "metadata": {},
   "outputs": [],
   "source": [
    "sato_top_5_df = report_sato_df.loc[report_sato_df['support']>0].sort_values(by=['f1-score'], ascending=False).head(5)\n",
    "sato_top_5_df.index.name = 'type'\n",
    "sato_bottom_5_df = report_sato_df.loc[report_sato_df['support']>0].sort_values(by=['f1-score'], ascending=False).tail(5)\n",
    "sato_bottom_5_df.index.name = 'type'\n",
    "sherlock_top_5_df = report_sherlock_df.loc[report_sherlock_df['support']>0].sort_values(by=['f1-score'], ascending=False).head(5)\n",
    "sherlock_top_5_df.index.name = 'type'\n",
    "sherlock_bottom_5_df = report_sherlock_df.loc[report_sherlock_df['support']>0].sort_values(by=['f1-score'], ascending=False).tail(5)\n",
    "sherlock_bottom_5_df.index.name = 'type'"
   ]
  },
  {
   "cell_type": "code",
   "execution_count": 26,
   "metadata": {},
   "outputs": [
    {
     "data": {
      "text/html": [
       "\n",
       "<div id=\"altair-viz-4e7bd6f46504476c816ea8653d3d01e0\"></div>\n",
       "<script type=\"text/javascript\">\n",
       "  var VEGA_DEBUG = (typeof VEGA_DEBUG == \"undefined\") ? {} : VEGA_DEBUG;\n",
       "  (function(spec, embedOpt){\n",
       "    let outputDiv = document.currentScript.previousElementSibling;\n",
       "    if (outputDiv.id !== \"altair-viz-4e7bd6f46504476c816ea8653d3d01e0\") {\n",
       "      outputDiv = document.getElementById(\"altair-viz-4e7bd6f46504476c816ea8653d3d01e0\");\n",
       "    }\n",
       "    const paths = {\n",
       "      \"vega\": \"https://cdn.jsdelivr.net/npm//vega@5?noext\",\n",
       "      \"vega-lib\": \"https://cdn.jsdelivr.net/npm//vega-lib?noext\",\n",
       "      \"vega-lite\": \"https://cdn.jsdelivr.net/npm//vega-lite@4.17.0?noext\",\n",
       "      \"vega-embed\": \"https://cdn.jsdelivr.net/npm//vega-embed@6?noext\",\n",
       "    };\n",
       "\n",
       "    function maybeLoadScript(lib, version) {\n",
       "      var key = `${lib.replace(\"-\", \"\")}_version`;\n",
       "      return (VEGA_DEBUG[key] == version) ?\n",
       "        Promise.resolve(paths[lib]) :\n",
       "        new Promise(function(resolve, reject) {\n",
       "          var s = document.createElement('script');\n",
       "          document.getElementsByTagName(\"head\")[0].appendChild(s);\n",
       "          s.async = true;\n",
       "          s.onload = () => {\n",
       "            VEGA_DEBUG[key] = version;\n",
       "            return resolve(paths[lib]);\n",
       "          };\n",
       "          s.onerror = () => reject(`Error loading script: ${paths[lib]}`);\n",
       "          s.src = paths[lib];\n",
       "        });\n",
       "    }\n",
       "\n",
       "    function showError(err) {\n",
       "      outputDiv.innerHTML = `<div class=\"error\" style=\"color:red;\">${err}</div>`;\n",
       "      throw err;\n",
       "    }\n",
       "\n",
       "    function displayChart(vegaEmbed) {\n",
       "      vegaEmbed(outputDiv, spec, embedOpt)\n",
       "        .catch(err => showError(`Javascript Error: ${err.message}<br>This usually means there's a typo in your chart specification. See the javascript console for the full traceback.`));\n",
       "    }\n",
       "\n",
       "    if(typeof define === \"function\" && define.amd) {\n",
       "      requirejs.config({paths});\n",
       "      require([\"vega-embed\"], displayChart, err => showError(`Error loading script: ${err.message}`));\n",
       "    } else {\n",
       "      maybeLoadScript(\"vega\", \"5\")\n",
       "        .then(() => maybeLoadScript(\"vega-lite\", \"4.17.0\"))\n",
       "        .then(() => maybeLoadScript(\"vega-embed\", \"6\"))\n",
       "        .catch(showError)\n",
       "        .then(() => displayChart(vegaEmbed));\n",
       "    }\n",
       "  })({\"config\": {\"view\": {\"continuousWidth\": 400, \"continuousHeight\": 300}}, \"data\": {\"name\": \"data-60dbcc2c515185faa4249e0833cd8d6f\"}, \"mark\": {\"type\": \"bar\", \"size\": 15}, \"encoding\": {\"color\": {\"field\": \"column\", \"type\": \"nominal\"}, \"column\": {\"field\": \"type\", \"sort\": {\"field\": \"f1-score\", \"order\": \"descending\"}, \"type\": \"ordinal\"}, \"x\": {\"field\": \"column\", \"title\": \"\", \"type\": \"nominal\"}, \"y\": {\"field\": \"value\", \"type\": \"quantitative\"}}, \"transform\": [{\"fold\": [\"precision\", \"recall\", \"f1-score\"], \"as\": [\"column\", \"value\"]}], \"$schema\": \"https://vega.github.io/schema/vega-lite/v4.17.0.json\", \"datasets\": {\"data-60dbcc2c515185faa4249e0833cd8d6f\": [{\"type\": \"religion\", \"precision\": 1.0, \"recall\": 1.0, \"f1-score\": 1.0, \"support\": 38}, {\"type\": \"grades\", \"precision\": 1.0, \"recall\": 0.9863013698630136, \"f1-score\": 0.993103448275862, \"support\": 219}, {\"type\": \"isbn\", \"precision\": 0.995575221238938, \"recall\": 0.9868421052631579, \"f1-score\": 0.9911894273127753, \"support\": 228}, {\"type\": \"year\", \"precision\": 0.983293113049935, \"recall\": 0.9902785567395775, \"f1-score\": 0.9867734724292102, \"support\": 5349}, {\"type\": \"weight\", \"precision\": 0.9838337182448037, \"recall\": 0.9867963863794301, \"f1-score\": 0.9853128252573147, \"support\": 4317}]}}, {\"mode\": \"vega-lite\"});\n",
       "</script>"
      ],
      "text/plain": [
       "alt.Chart(...)"
      ]
     },
     "execution_count": 26,
     "metadata": {},
     "output_type": "execute_result"
    }
   ],
   "source": [
    "# altair chart representing the top 5 for both sato and sherlock\n",
    "alt.Chart(sato_top_5_df.reset_index()).transform_fold(\n",
    "        ['precision', 'recall', 'f1-score'],\n",
    "      as_=['column', 'value']\n",
    "    ).mark_bar(size=15).encode(\n",
    "    column=alt.Column('type:O', sort=alt.EncodingSortField(\n",
    "                field=\"f1-score\",  \n",
    "                order=\"descending\")),\n",
    "    x = alt.X('column:N',\n",
    "              title = '',\n",
    "              ),\n",
    "    y=alt.Y('value:Q'),\n",
    "    color='column:N'\n",
    ")"
   ]
  },
  {
   "cell_type": "code",
   "execution_count": 27,
   "metadata": {},
   "outputs": [
    {
     "data": {
      "text/html": [
       "\n",
       "<div id=\"altair-viz-e76d8187b9d4429ab44bf32da3791ca3\"></div>\n",
       "<script type=\"text/javascript\">\n",
       "  var VEGA_DEBUG = (typeof VEGA_DEBUG == \"undefined\") ? {} : VEGA_DEBUG;\n",
       "  (function(spec, embedOpt){\n",
       "    let outputDiv = document.currentScript.previousElementSibling;\n",
       "    if (outputDiv.id !== \"altair-viz-e76d8187b9d4429ab44bf32da3791ca3\") {\n",
       "      outputDiv = document.getElementById(\"altair-viz-e76d8187b9d4429ab44bf32da3791ca3\");\n",
       "    }\n",
       "    const paths = {\n",
       "      \"vega\": \"https://cdn.jsdelivr.net/npm//vega@5?noext\",\n",
       "      \"vega-lib\": \"https://cdn.jsdelivr.net/npm//vega-lib?noext\",\n",
       "      \"vega-lite\": \"https://cdn.jsdelivr.net/npm//vega-lite@4.17.0?noext\",\n",
       "      \"vega-embed\": \"https://cdn.jsdelivr.net/npm//vega-embed@6?noext\",\n",
       "    };\n",
       "\n",
       "    function maybeLoadScript(lib, version) {\n",
       "      var key = `${lib.replace(\"-\", \"\")}_version`;\n",
       "      return (VEGA_DEBUG[key] == version) ?\n",
       "        Promise.resolve(paths[lib]) :\n",
       "        new Promise(function(resolve, reject) {\n",
       "          var s = document.createElement('script');\n",
       "          document.getElementsByTagName(\"head\")[0].appendChild(s);\n",
       "          s.async = true;\n",
       "          s.onload = () => {\n",
       "            VEGA_DEBUG[key] = version;\n",
       "            return resolve(paths[lib]);\n",
       "          };\n",
       "          s.onerror = () => reject(`Error loading script: ${paths[lib]}`);\n",
       "          s.src = paths[lib];\n",
       "        });\n",
       "    }\n",
       "\n",
       "    function showError(err) {\n",
       "      outputDiv.innerHTML = `<div class=\"error\" style=\"color:red;\">${err}</div>`;\n",
       "      throw err;\n",
       "    }\n",
       "\n",
       "    function displayChart(vegaEmbed) {\n",
       "      vegaEmbed(outputDiv, spec, embedOpt)\n",
       "        .catch(err => showError(`Javascript Error: ${err.message}<br>This usually means there's a typo in your chart specification. See the javascript console for the full traceback.`));\n",
       "    }\n",
       "\n",
       "    if(typeof define === \"function\" && define.amd) {\n",
       "      requirejs.config({paths});\n",
       "      require([\"vega-embed\"], displayChart, err => showError(`Error loading script: ${err.message}`));\n",
       "    } else {\n",
       "      maybeLoadScript(\"vega\", \"5\")\n",
       "        .then(() => maybeLoadScript(\"vega-lite\", \"4.17.0\"))\n",
       "        .then(() => maybeLoadScript(\"vega-embed\", \"6\"))\n",
       "        .catch(showError)\n",
       "        .then(() => displayChart(vegaEmbed));\n",
       "    }\n",
       "  })({\"config\": {\"view\": {\"continuousWidth\": 400, \"continuousHeight\": 300}}, \"data\": {\"name\": \"data-cad7f88ba11d9b49eca15e932769aaed\"}, \"mark\": {\"type\": \"bar\", \"size\": 15}, \"encoding\": {\"color\": {\"field\": \"column\", \"type\": \"nominal\"}, \"column\": {\"field\": \"type\", \"sort\": {\"field\": \"f1-score\", \"order\": \"descending\"}, \"type\": \"ordinal\"}, \"x\": {\"field\": \"column\", \"title\": \"\", \"type\": \"nominal\"}, \"y\": {\"field\": \"value\", \"type\": \"quantitative\"}}, \"transform\": [{\"fold\": [\"precision\", \"recall\", \"f1-score\"], \"as\": [\"column\", \"value\"]}], \"$schema\": \"https://vega.github.io/schema/vega-lite/v4.17.0.json\", \"datasets\": {\"data-cad7f88ba11d9b49eca15e932769aaed\": [{\"type\": \"isbn\", \"precision\": 1.0, \"recall\": 0.9649122807017544, \"f1-score\": 0.9821428571428572, \"support\": 228}, {\"type\": \"grades\", \"precision\": 0.9519650655021834, \"recall\": 0.9954337899543378, \"f1-score\": 0.9732142857142857, \"support\": 219}, {\"type\": \"gender\", \"precision\": 0.9799635701275046, \"recall\": 0.9539007092198581, \"f1-score\": 0.9667565139263252, \"support\": 564}, {\"type\": \"industry\", \"precision\": 0.9367945823927766, \"recall\": 0.9857482185273159, \"f1-score\": 0.9606481481481483, \"support\": 421}, {\"type\": \"currency\", \"precision\": 0.92, \"recall\": 0.9857142857142858, \"f1-score\": 0.9517241379310346, \"support\": 70}]}}, {\"mode\": \"vega-lite\"});\n",
       "</script>"
      ],
      "text/plain": [
       "alt.Chart(...)"
      ]
     },
     "execution_count": 27,
     "metadata": {},
     "output_type": "execute_result"
    }
   ],
   "source": [
    "alt.Chart(sherlock_top_5_df.reset_index()).transform_fold(\n",
    "        ['precision', 'recall', 'f1-score'],\n",
    "      as_=['column', 'value']\n",
    "    ).mark_bar(size=15).encode(\n",
    "    column=alt.Column('type:O', sort=alt.EncodingSortField(\n",
    "                field=\"f1-score\",  \n",
    "                order=\"descending\")),\n",
    "    x = alt.X('column:N',\n",
    "              title = '',\n",
    "              ),\n",
    "    y=alt.Y('value:Q'),\n",
    "    color='column:N'\n",
    ")"
   ]
  },
  {
   "cell_type": "code",
   "execution_count": 28,
   "metadata": {},
   "outputs": [
    {
     "data": {
      "text/html": [
       "\n",
       "<div id=\"altair-viz-a1945ba0d95049029376ad93c4f8bb53\"></div>\n",
       "<script type=\"text/javascript\">\n",
       "  var VEGA_DEBUG = (typeof VEGA_DEBUG == \"undefined\") ? {} : VEGA_DEBUG;\n",
       "  (function(spec, embedOpt){\n",
       "    let outputDiv = document.currentScript.previousElementSibling;\n",
       "    if (outputDiv.id !== \"altair-viz-a1945ba0d95049029376ad93c4f8bb53\") {\n",
       "      outputDiv = document.getElementById(\"altair-viz-a1945ba0d95049029376ad93c4f8bb53\");\n",
       "    }\n",
       "    const paths = {\n",
       "      \"vega\": \"https://cdn.jsdelivr.net/npm//vega@5?noext\",\n",
       "      \"vega-lib\": \"https://cdn.jsdelivr.net/npm//vega-lib?noext\",\n",
       "      \"vega-lite\": \"https://cdn.jsdelivr.net/npm//vega-lite@4.17.0?noext\",\n",
       "      \"vega-embed\": \"https://cdn.jsdelivr.net/npm//vega-embed@6?noext\",\n",
       "    };\n",
       "\n",
       "    function maybeLoadScript(lib, version) {\n",
       "      var key = `${lib.replace(\"-\", \"\")}_version`;\n",
       "      return (VEGA_DEBUG[key] == version) ?\n",
       "        Promise.resolve(paths[lib]) :\n",
       "        new Promise(function(resolve, reject) {\n",
       "          var s = document.createElement('script');\n",
       "          document.getElementsByTagName(\"head\")[0].appendChild(s);\n",
       "          s.async = true;\n",
       "          s.onload = () => {\n",
       "            VEGA_DEBUG[key] = version;\n",
       "            return resolve(paths[lib]);\n",
       "          };\n",
       "          s.onerror = () => reject(`Error loading script: ${paths[lib]}`);\n",
       "          s.src = paths[lib];\n",
       "        });\n",
       "    }\n",
       "\n",
       "    function showError(err) {\n",
       "      outputDiv.innerHTML = `<div class=\"error\" style=\"color:red;\">${err}</div>`;\n",
       "      throw err;\n",
       "    }\n",
       "\n",
       "    function displayChart(vegaEmbed) {\n",
       "      vegaEmbed(outputDiv, spec, embedOpt)\n",
       "        .catch(err => showError(`Javascript Error: ${err.message}<br>This usually means there's a typo in your chart specification. See the javascript console for the full traceback.`));\n",
       "    }\n",
       "\n",
       "    if(typeof define === \"function\" && define.amd) {\n",
       "      requirejs.config({paths});\n",
       "      require([\"vega-embed\"], displayChart, err => showError(`Error loading script: ${err.message}`));\n",
       "    } else {\n",
       "      maybeLoadScript(\"vega\", \"5\")\n",
       "        .then(() => maybeLoadScript(\"vega-lite\", \"4.17.0\"))\n",
       "        .then(() => maybeLoadScript(\"vega-embed\", \"6\"))\n",
       "        .catch(showError)\n",
       "        .then(() => displayChart(vegaEmbed));\n",
       "    }\n",
       "  })({\"config\": {\"view\": {\"continuousWidth\": 400, \"continuousHeight\": 300}}, \"data\": {\"name\": \"data-9d832794e5f70dbf6ca44078715eae3b\"}, \"mark\": {\"type\": \"bar\", \"size\": 15}, \"encoding\": {\"color\": {\"field\": \"column\", \"type\": \"nominal\"}, \"column\": {\"field\": \"type\", \"sort\": {\"field\": \"f1-score\", \"order\": \"descending\"}, \"type\": \"ordinal\"}, \"x\": {\"field\": \"column\", \"title\": \"\", \"type\": \"nominal\"}, \"y\": {\"field\": \"value\", \"type\": \"quantitative\"}}, \"transform\": [{\"fold\": [\"precision\", \"recall\", \"f1-score\"], \"as\": [\"column\", \"value\"]}], \"$schema\": \"https://vega.github.io/schema/vega-lite/v4.17.0.json\", \"datasets\": {\"data-9d832794e5f70dbf6ca44078715eae3b\": [{\"type\": \"brand\", \"precision\": 0.7247706422018348, \"recall\": 0.5683453237410072, \"f1-score\": 0.6370967741935485, \"support\": 139}, {\"type\": \"person\", \"precision\": 0.8666666666666667, \"recall\": 0.3611111111111111, \"f1-score\": 0.5098039215686274, \"support\": 36}, {\"type\": \"requirement\", \"precision\": 0.7857142857142857, \"recall\": 0.3142857142857143, \"f1-score\": 0.44897959183673464, \"support\": 35}, {\"type\": \"affiliate\", \"precision\": 0.7272727272727273, \"recall\": 0.3076923076923077, \"f1-score\": 0.43243243243243246, \"support\": 26}, {\"type\": \"ranking\", \"precision\": 0.7272727272727273, \"recall\": 0.14545454545454545, \"f1-score\": 0.2424242424242424, \"support\": 55}]}}, {\"mode\": \"vega-lite\"});\n",
       "</script>"
      ],
      "text/plain": [
       "alt.Chart(...)"
      ]
     },
     "execution_count": 28,
     "metadata": {},
     "output_type": "execute_result"
    }
   ],
   "source": [
    "alt.Chart(sato_bottom_5_df.reset_index()).transform_fold(\n",
    "        ['precision', 'recall', 'f1-score'],\n",
    "      as_=['column', 'value']\n",
    "    ).mark_bar(size=15).encode(\n",
    "    column=alt.Column('type:O', sort=alt.EncodingSortField(\n",
    "                field=\"f1-score\",  \n",
    "                order=\"descending\")),\n",
    "    x = alt.X('column:N',\n",
    "              title = '',\n",
    "              ),\n",
    "    y=alt.Y('value:Q'),\n",
    "    color='column:N'\n",
    ")"
   ]
  },
  {
   "cell_type": "code",
   "execution_count": 29,
   "metadata": {
    "scrolled": true
   },
   "outputs": [
    {
     "data": {
      "text/html": [
       "\n",
       "<div id=\"altair-viz-78a0cc4f98bb499caecf1710a6c4d216\"></div>\n",
       "<script type=\"text/javascript\">\n",
       "  var VEGA_DEBUG = (typeof VEGA_DEBUG == \"undefined\") ? {} : VEGA_DEBUG;\n",
       "  (function(spec, embedOpt){\n",
       "    let outputDiv = document.currentScript.previousElementSibling;\n",
       "    if (outputDiv.id !== \"altair-viz-78a0cc4f98bb499caecf1710a6c4d216\") {\n",
       "      outputDiv = document.getElementById(\"altair-viz-78a0cc4f98bb499caecf1710a6c4d216\");\n",
       "    }\n",
       "    const paths = {\n",
       "      \"vega\": \"https://cdn.jsdelivr.net/npm//vega@5?noext\",\n",
       "      \"vega-lib\": \"https://cdn.jsdelivr.net/npm//vega-lib?noext\",\n",
       "      \"vega-lite\": \"https://cdn.jsdelivr.net/npm//vega-lite@4.17.0?noext\",\n",
       "      \"vega-embed\": \"https://cdn.jsdelivr.net/npm//vega-embed@6?noext\",\n",
       "    };\n",
       "\n",
       "    function maybeLoadScript(lib, version) {\n",
       "      var key = `${lib.replace(\"-\", \"\")}_version`;\n",
       "      return (VEGA_DEBUG[key] == version) ?\n",
       "        Promise.resolve(paths[lib]) :\n",
       "        new Promise(function(resolve, reject) {\n",
       "          var s = document.createElement('script');\n",
       "          document.getElementsByTagName(\"head\")[0].appendChild(s);\n",
       "          s.async = true;\n",
       "          s.onload = () => {\n",
       "            VEGA_DEBUG[key] = version;\n",
       "            return resolve(paths[lib]);\n",
       "          };\n",
       "          s.onerror = () => reject(`Error loading script: ${paths[lib]}`);\n",
       "          s.src = paths[lib];\n",
       "        });\n",
       "    }\n",
       "\n",
       "    function showError(err) {\n",
       "      outputDiv.innerHTML = `<div class=\"error\" style=\"color:red;\">${err}</div>`;\n",
       "      throw err;\n",
       "    }\n",
       "\n",
       "    function displayChart(vegaEmbed) {\n",
       "      vegaEmbed(outputDiv, spec, embedOpt)\n",
       "        .catch(err => showError(`Javascript Error: ${err.message}<br>This usually means there's a typo in your chart specification. See the javascript console for the full traceback.`));\n",
       "    }\n",
       "\n",
       "    if(typeof define === \"function\" && define.amd) {\n",
       "      requirejs.config({paths});\n",
       "      require([\"vega-embed\"], displayChart, err => showError(`Error loading script: ${err.message}`));\n",
       "    } else {\n",
       "      maybeLoadScript(\"vega\", \"5\")\n",
       "        .then(() => maybeLoadScript(\"vega-lite\", \"4.17.0\"))\n",
       "        .then(() => maybeLoadScript(\"vega-embed\", \"6\"))\n",
       "        .catch(showError)\n",
       "        .then(() => displayChart(vegaEmbed));\n",
       "    }\n",
       "  })({\"config\": {\"view\": {\"continuousWidth\": 400, \"continuousHeight\": 300}}, \"data\": {\"name\": \"data-58fd67d529f62d3fab7e8cb96484238c\"}, \"mark\": {\"type\": \"bar\", \"size\": 15}, \"encoding\": {\"color\": {\"field\": \"column\", \"type\": \"nominal\"}, \"column\": {\"field\": \"type\", \"sort\": {\"field\": \"f1-score\", \"order\": \"descending\"}, \"type\": \"ordinal\"}, \"x\": {\"field\": \"column\", \"title\": \"\", \"type\": \"nominal\"}, \"y\": {\"field\": \"value\", \"type\": \"quantitative\"}}, \"transform\": [{\"fold\": [\"precision\", \"recall\", \"f1-score\"], \"as\": [\"column\", \"value\"]}], \"$schema\": \"https://vega.github.io/schema/vega-lite/v4.17.0.json\", \"datasets\": {\"data-58fd67d529f62d3fab7e8cb96484238c\": [{\"type\": \"address\", \"precision\": 0.12768772742308965, \"recall\": 0.9179548156956004, \"f1-score\": 0.2241905038478293, \"support\": 841}, {\"type\": \"sales\", \"precision\": 0.12280701754385964, \"recall\": 0.4666666666666667, \"f1-score\": 0.19444444444444442, \"support\": 30}, {\"type\": \"ranking\", \"precision\": 0.14705882352941177, \"recall\": 0.18181818181818182, \"f1-score\": 0.1626016260162602, \"support\": 55}, {\"type\": \"director\", \"precision\": 0.08333333333333333, \"recall\": 0.5757575757575758, \"f1-score\": 0.14559386973180075, \"support\": 33}, {\"type\": \"person\", \"precision\": 0.05, \"recall\": 0.3888888888888889, \"f1-score\": 0.08860759493670886, \"support\": 36}]}}, {\"mode\": \"vega-lite\"});\n",
       "</script>"
      ],
      "text/plain": [
       "alt.Chart(...)"
      ]
     },
     "execution_count": 29,
     "metadata": {},
     "output_type": "execute_result"
    }
   ],
   "source": [
    "alt.Chart(sherlock_bottom_5_df.reset_index()).transform_fold(\n",
    "        ['precision', 'recall', 'f1-score'],\n",
    "      as_=['column', 'value']\n",
    "    ).mark_bar(size=15).encode(\n",
    "    column=alt.Column('type:O', sort=alt.EncodingSortField(\n",
    "                field=\"f1-score\",  \n",
    "                order=\"descending\")),\n",
    "    x = alt.X('column:N',\n",
    "              title = '',\n",
    "              ),\n",
    "    y=alt.Y('value:Q'),\n",
    "    color='column:N'\n",
    ")"
   ]
  },
  {
   "cell_type": "code",
   "execution_count": 30,
   "metadata": {},
   "outputs": [
    {
     "data": {
      "text/html": [
       "\n",
       "<div id=\"altair-viz-b855ca05b0cd4baba232a9f01be3e298\"></div>\n",
       "<script type=\"text/javascript\">\n",
       "  var VEGA_DEBUG = (typeof VEGA_DEBUG == \"undefined\") ? {} : VEGA_DEBUG;\n",
       "  (function(spec, embedOpt){\n",
       "    let outputDiv = document.currentScript.previousElementSibling;\n",
       "    if (outputDiv.id !== \"altair-viz-b855ca05b0cd4baba232a9f01be3e298\") {\n",
       "      outputDiv = document.getElementById(\"altair-viz-b855ca05b0cd4baba232a9f01be3e298\");\n",
       "    }\n",
       "    const paths = {\n",
       "      \"vega\": \"https://cdn.jsdelivr.net/npm//vega@5?noext\",\n",
       "      \"vega-lib\": \"https://cdn.jsdelivr.net/npm//vega-lib?noext\",\n",
       "      \"vega-lite\": \"https://cdn.jsdelivr.net/npm//vega-lite@4.17.0?noext\",\n",
       "      \"vega-embed\": \"https://cdn.jsdelivr.net/npm//vega-embed@6?noext\",\n",
       "    };\n",
       "\n",
       "    function maybeLoadScript(lib, version) {\n",
       "      var key = `${lib.replace(\"-\", \"\")}_version`;\n",
       "      return (VEGA_DEBUG[key] == version) ?\n",
       "        Promise.resolve(paths[lib]) :\n",
       "        new Promise(function(resolve, reject) {\n",
       "          var s = document.createElement('script');\n",
       "          document.getElementsByTagName(\"head\")[0].appendChild(s);\n",
       "          s.async = true;\n",
       "          s.onload = () => {\n",
       "            VEGA_DEBUG[key] = version;\n",
       "            return resolve(paths[lib]);\n",
       "          };\n",
       "          s.onerror = () => reject(`Error loading script: ${paths[lib]}`);\n",
       "          s.src = paths[lib];\n",
       "        });\n",
       "    }\n",
       "\n",
       "    function showError(err) {\n",
       "      outputDiv.innerHTML = `<div class=\"error\" style=\"color:red;\">${err}</div>`;\n",
       "      throw err;\n",
       "    }\n",
       "\n",
       "    function displayChart(vegaEmbed) {\n",
       "      vegaEmbed(outputDiv, spec, embedOpt)\n",
       "        .catch(err => showError(`Javascript Error: ${err.message}<br>This usually means there's a typo in your chart specification. See the javascript console for the full traceback.`));\n",
       "    }\n",
       "\n",
       "    if(typeof define === \"function\" && define.amd) {\n",
       "      requirejs.config({paths});\n",
       "      require([\"vega-embed\"], displayChart, err => showError(`Error loading script: ${err.message}`));\n",
       "    } else {\n",
       "      maybeLoadScript(\"vega\", \"5\")\n",
       "        .then(() => maybeLoadScript(\"vega-lite\", \"4.17.0\"))\n",
       "        .then(() => maybeLoadScript(\"vega-embed\", \"6\"))\n",
       "        .catch(showError)\n",
       "        .then(() => displayChart(vegaEmbed));\n",
       "    }\n",
       "  })({\"config\": {\"view\": {\"continuousWidth\": 400, \"continuousHeight\": 300}, \"axis\": {\"labelFontSize\": 18, \"titleFontSize\": 18}}, \"data\": {\"name\": \"data-f85f41f7e205e90ba0f92e7b9bf5175d\"}, \"mark\": {\"type\": \"circle\", \"size\": 60}, \"encoding\": {\"color\": {\"condition\": {\"value\": \"red\", \"test\": {\"field\": \"index\", \"oneOf\": [\"address\", \"sales\", \"ranking\", \"director\", \"person\"]}}, \"value\": \"steelblue\"}, \"x\": {\"field\": \"support\", \"type\": \"quantitative\"}, \"y\": {\"field\": \"f1-score\", \"type\": \"quantitative\"}}, \"$schema\": \"https://vega.github.io/schema/vega-lite/v4.17.0.json\", \"datasets\": {\"data-f85f41f7e205e90ba0f92e7b9bf5175d\": [{\"index\": \"publisher\", \"support\": 867, \"f1-score\": 0.7332123411978221}, {\"index\": \"nationality\", \"support\": 485, \"f1-score\": 0.6107784431137725}, {\"index\": \"rank\", \"support\": 2959, \"f1-score\": 0.6972933734315047}, {\"index\": \"birthdate\", \"support\": 453, \"f1-score\": 0.8115942028985507}, {\"index\": \"order\", \"support\": 1472, \"f1-score\": 0.6666666666666667}, {\"index\": \"filesize\", \"support\": 365, \"f1-score\": 0.3682310469314079}, {\"index\": \"teamname\", \"support\": 1554, \"f1-score\": 0.423841059602649}, {\"index\": \"classification\", \"support\": 613, \"f1-score\": 0.7772511848341231}, {\"index\": \"continent\", \"support\": 253, \"f1-score\": 0.92}, {\"index\": \"format\", \"support\": 2949, \"f1-score\": 0.8692579505300354}, {\"index\": \"sales\", \"support\": 295, \"f1-score\": 0.19444444444444442}, {\"index\": \"weight\", \"support\": 3013, \"f1-score\": 0.7911184210526316}, {\"index\": \"club\", \"support\": 3001, \"f1-score\": 0.9119525547445255}, {\"index\": \"jockey\", \"support\": 2817, \"f1-score\": 0.8495145631067962}, {\"index\": \"company\", \"support\": 2911, \"f1-score\": 0.8042748091603052}, {\"index\": \"description\", \"support\": 3025, \"f1-score\": 0.9036166867079826}, {\"index\": \"city\", \"support\": 3051, \"f1-score\": 0.8918535339199545}, {\"index\": \"isbn\", \"support\": 1440, \"f1-score\": 0.9821428571428572}, {\"index\": \"name\", \"support\": 2991, \"f1-score\": 0.8238586051783374}, {\"index\": \"symbol\", \"support\": 1665, \"f1-score\": 0.8568517575140091}, {\"index\": \"artist\", \"support\": 3017, \"f1-score\": 0.7721545135302623}, {\"index\": \"notes\", \"support\": 2317, \"f1-score\": 0.6500231160425335}, {\"index\": \"region\", \"support\": 2681, \"f1-score\": 0.40950040950040956}, {\"index\": \"elevation\", \"support\": 1329, \"f1-score\": 0.6886792452830188}, {\"index\": \"collection\", \"support\": 506, \"f1-score\": 0.8165680473372782}, {\"index\": \"area\", \"support\": 2011, \"f1-score\": 0.5249406175771971}, {\"index\": \"component\", \"support\": 1249, \"f1-score\": 0.5161290322580645}, {\"index\": \"organisation\", \"support\": 243, \"f1-score\": 0.6785714285714285}, {\"index\": \"category\", \"support\": 2948, \"f1-score\": 0.9217682691068437}, {\"index\": \"service\", \"support\": 2125, \"f1-score\": 0.8443017656500802}, {\"index\": \"requirement\", \"support\": 289, \"f1-score\": 0.5238095238095237}, {\"index\": \"country\", \"support\": 3021, \"f1-score\": 0.8347578347578347}, {\"index\": \"genre\", \"support\": 1220, \"f1-score\": 0.7955801104972375}, {\"index\": \"result\", \"support\": 3066, \"f1-score\": 0.9329556185080264}, {\"index\": \"religion\", \"support\": 313, \"f1-score\": 0.9500000000000001}, {\"index\": \"family\", \"support\": 731, \"f1-score\": 0.8571428571428571}, {\"index\": \"command\", \"support\": 1034, \"f1-score\": 0.43478260869565216}, {\"index\": \"duration\", \"support\": 3018, \"f1-score\": 0.7341913822048125}, {\"index\": \"brand\", \"support\": 545, \"f1-score\": 0.2898550724637681}, {\"index\": \"team\", \"support\": 3035, \"f1-score\": 0.8972512425195254}, {\"index\": \"code\", \"support\": 3064, \"f1-score\": 0.869737887212073}, {\"index\": \"capacity\", \"support\": 304, \"f1-score\": 0.3448275862068965}, {\"index\": \"status\", \"support\": 2967, \"f1-score\": 0.9451276221969619}, {\"index\": \"ranking\", \"support\": 445, \"f1-score\": 0.1626016260162602}, {\"index\": \"affiliate\", \"support\": 180, \"f1-score\": 0.5714285714285714}, {\"index\": \"currency\", \"support\": 395, \"f1-score\": 0.9517241379310346}, {\"index\": \"affiliation\", \"support\": 1680, \"f1-score\": 0.840958605664488}, {\"index\": \"creator\", \"support\": 361, \"f1-score\": 0.33802816901408456}, {\"index\": \"education\", \"support\": 304, \"f1-score\": 0.8470588235294119}, {\"index\": \"position\", \"support\": 3023, \"f1-score\": 0.6054821341164953}, {\"index\": \"owner\", \"support\": 1712, \"f1-score\": 0.6221374045801527}, {\"index\": \"gender\", \"support\": 1073, \"f1-score\": 0.9667565139263252}, {\"index\": \"type\", \"support\": 3003, \"f1-score\": 0.9125826759104311}, {\"index\": \"address\", \"support\": 3026, \"f1-score\": 0.2241905038478293}, {\"index\": \"album\", \"support\": 3021, \"f1-score\": 0.7295698924731183}, {\"index\": \"year\", \"support\": 3057, \"f1-score\": 0.9379040156709108}, {\"index\": \"day\", \"support\": 2952, \"f1-score\": 0.8540630182421227}, {\"index\": \"person\", \"support\": 553, \"f1-score\": 0.08860759493670886}, {\"index\": \"language\", \"support\": 1578, \"f1-score\": 0.890625}, {\"index\": \"credit\", \"support\": 906, \"f1-score\": 0.48}, {\"index\": \"grades\", \"support\": 1741, \"f1-score\": 0.9732142857142857}, {\"index\": \"depth\", \"support\": 944, \"f1-score\": 0.7799227799227799}, {\"index\": \"state\", \"support\": 3006, \"f1-score\": 0.9467227081676702}, {\"index\": \"birthplace\", \"support\": 437, \"f1-score\": 0.6758620689655174}, {\"index\": \"county\", \"support\": 3012, \"f1-score\": 0.8435374149659863}, {\"index\": \"industry\", \"support\": 3078, \"f1-score\": 0.9606481481481483}, {\"index\": \"class\", \"support\": 2972, \"f1-score\": 0.7870862280343277}, {\"index\": \"operator\", \"support\": 455, \"f1-score\": 0.42465753424657526}, {\"index\": \"product\", \"support\": 2762, \"f1-score\": 0.3112420225822288}, {\"index\": \"sex\", \"support\": 2986, \"f1-score\": 0.3088803088803089}, {\"index\": \"director\", \"support\": 246, \"f1-score\": 0.14559386973180075}, {\"index\": \"origin\", \"support\": 1482, \"f1-score\": 0.7659574468085106}, {\"index\": \"age\", \"support\": 2926, \"f1-score\": 0.8525440537035625}, {\"index\": \"plays\", \"support\": 1515, \"f1-score\": 0.631762652705061}, {\"index\": \"range\", \"support\": 605, \"f1-score\": 0.576271186440678}, {\"index\": \"location\", \"support\": 2995, \"f1-score\": 0.8559100943206903}, {\"index\": \"manufacturer\", \"support\": 913, \"f1-score\": 0.6299212598425196}, {\"index\": \"species\", \"support\": 797, \"f1-score\": 0.5928853754940712}]}}, {\"mode\": \"vega-lite\"});\n",
       "</script>"
      ],
      "text/plain": [
       "alt.Chart(...)"
      ]
     },
     "execution_count": 30,
     "metadata": {},
     "output_type": "execute_result"
    }
   ],
   "source": [
    "# Correlation between support in original Sherlock dataset and F1-score on Sato dataset\n",
    "corr_types = set(true_types_sherlock)\n",
    "corr_data = pd.DataFrame(columns=['support'], index=list(corr_types))\n",
    "sherlock_occur_df = pd.DataFrame(true_types_sherlock, columns=['true_types'])\n",
    "corr_data['support'] = sherlock_occur_df['true_types'].value_counts()\n",
    "corr_data = corr_data.join(report_sherlock_df[['f1-score']]) #['f1-score'] = report_sherlock_df\n",
    "corr_data.reset_index(inplace=True)\n",
    "worst_5 = list(sherlock_bottom_5_df.index.values)\n",
    "top_5 = list(sherlock_top_5_df.index.values)\n",
    "alt.Chart(corr_data).mark_circle(size=60).encode(\n",
    "    x='support',\n",
    "    y='f1-score',\n",
    "    color=alt.condition(\n",
    "        alt.Predicate(alt.FieldOneOfPredicate(field='index', oneOf=worst_5)),\n",
    "        alt.value('red'),\n",
    "        alt.value('steelblue')\n",
    "    ),\n",
    ").configure_axis(\n",
    "    labelFontSize=18,\n",
    "    titleFontSize=18\n",
    ")"
   ]
  },
  {
   "cell_type": "code",
   "execution_count": 31,
   "metadata": {},
   "outputs": [],
   "source": [
    "path = '../../../sato/table_data/sato_tables/all'"
   ]
  },
  {
   "cell_type": "code",
   "execution_count": 32,
   "metadata": {},
   "outputs": [
    {
     "name": "stdout",
     "output_type": "stream",
     "text": [
      "0\n",
      "processed\n",
      "K1\n",
      "K2\n",
      "K0\n",
      "K3\n",
      "K4\n"
     ]
    }
   ],
   "source": [
    "filepaths = [join(path, f) for f in listdir(path) if f.endswith('.csv')]\n",
    "print(len(filepaths))\n",
    "tables_of_interest = {}\n",
    "single_col_tables = {}\n",
    "multi_col_tables = {}\n",
    "single_col_true_types = []\n",
    "single_col_predictions_sato = []\n",
    "single_col_predictions_sherlock = []\n",
    "multi_col_true_types = []\n",
    "multi_col_predictions_sato = []\n",
    "col_idx = 0\n",
    "multi_col_sherlock_increase = {}\n",
    "sato_increase_count = 0\n",
    "\n",
    "for subdir in listdir(path):\n",
    "    print(subdir)\n",
    "    if(subdir == 'processed'): continue\n",
    "    path_subdir = join(path, subdir)\n",
    "    #loop over all files in subdir\n",
    "    for file in listdir(path_subdir):\n",
    "        fp = join(path_subdir, file)\n",
    "        table_id = fp[fp.rfind('/')+1:-4]\n",
    "        df = pd.read_csv(fp)\n",
    "        table_header = list(df)\n",
    "#         print(table_header)\n",
    "        table_df = pd.read_csv(fp, index_col=0)\n",
    "\n",
    "        table_predictions_sato = []\n",
    "        table_predictions_sherlock = []\n",
    "        table_true_types = list(map(lambda x: x.split('.')[0], table_header))\n",
    "#         print(table_true_types)\n",
    "\n",
    "        for idx, col_type in enumerate(table_header):        \n",
    "              table_predictions_sato.append(prediction_sato[col_idx])\n",
    "              table_predictions_sherlock.append(prediction_sherlock[col_idx])\n",
    "              col_idx += 1\n",
    "\n",
    "        #check count of matches between table_predictions_sato and table_true_types\n",
    "        #check count of matches between table_predictions_sherlock and table_true_types\n",
    "        table_predictions_sato_count = 0\n",
    "        table_predictions_sherlock_count = 0\n",
    "        for idx, col_true_type in enumerate(table_true_types):\n",
    "          if col_true_type == table_predictions_sato[idx]:\n",
    "            table_predictions_sato_count += 1\n",
    "          if col_true_type == table_predictions_sherlock[idx]:\n",
    "            table_predictions_sherlock_count += 1\n",
    "\n",
    "        if len(table_header) == 1:\n",
    "            single_col_true_types.extend(table_true_types)\n",
    "            single_col_predictions_sato.extend(table_predictions_sato)\n",
    "            single_col_predictions_sherlock.extend(table_predictions_sherlock)\n",
    "            single_col_tables[table_id] = {\n",
    "                'true_types': table_true_types,\n",
    "                'predictions_sato': table_predictions_sato,\n",
    "                'predictions_sherlock': table_predictions_sherlock,\n",
    "                'predictions_sato_count': table_predictions_sato_count,\n",
    "                'predictions_sherlock_count': table_predictions_sherlock_count,\n",
    "                'table_df': table_df\n",
    "            }\n",
    "            continue\n",
    "        else:\n",
    "            multi_col_true_types.extend(table_true_types)\n",
    "            multi_col_predictions_sato.extend(table_predictions_sato)\n",
    "            multi_col_tables[table_id] = {\n",
    "                'true_types': table_true_types,\n",
    "                'predictions_sato': table_predictions_sato,\n",
    "                'predictions_sherlock': table_predictions_sherlock,\n",
    "                'predictions_sato_count': table_predictions_sato_count,\n",
    "                'predictions_sherlock_count': table_predictions_sherlock_count,\n",
    "                'table_df': table_df\n",
    "            }\n",
    "\n",
    "        # Are there any multi-column tables where sherlock gets more correct predictions?\n",
    "        if table_predictions_sato_count == table_predictions_sherlock_count: continue\n",
    "        elif table_predictions_sato_count < table_predictions_sherlock_count: \n",
    "            multi_col_sherlock_increase[table_id] = {\n",
    "                'true_types': table_true_types,\n",
    "                'predictions_sato': table_predictions_sato,\n",
    "                'predictions_sherlock': table_predictions_sherlock,\n",
    "                'predictions_sato_count': table_predictions_sato_count,\n",
    "                'predictions_sherlock_count': table_predictions_sherlock_count,\n",
    "                'table_df': table_df\n",
    "            }\n",
    "        else: \n",
    "            sato_increase_count+= 1\n",
    "\n",
    "        #if sherlock did not get any correct predictions, check if sato predicted at least 70% of the columns correct\n",
    "        # otherwise check if the match count increased by 90% in sato compared to sherlock\n",
    "        if (table_predictions_sherlock_count == 0 and table_predictions_sato_count==0): continue\n",
    "        if ((table_predictions_sato_count/len(table_true_types) > 70/100) or (table_predictions_sherlock_count != 0 and ((table_predictions_sato_count-table_predictions_sherlock_count)/table_predictions_sherlock_count)*100 > 70/100)):\n",
    "              tables_of_interest[table_id] = {\n",
    "                'true_types': table_true_types,\n",
    "                'predictions_sato': table_predictions_sato,\n",
    "                'predictions_sherlock': table_predictions_sherlock,\n",
    "                'predictions_sato_count': table_predictions_sato_count,\n",
    "                'predictions_sherlock_count': table_predictions_sherlock_count,\n",
    "                'table_df': table_df\n",
    "              }\n"
   ]
  },
  {
   "cell_type": "code",
   "execution_count": 33,
   "metadata": {
    "scrolled": true
   },
   "outputs": [
    {
     "name": "stdout",
     "output_type": "stream",
     "text": [
      "31158\n",
      "47575\n",
      "78733\n"
     ]
    }
   ],
   "source": [
    "print(len(multi_col_tables))\n",
    "print(len(single_col_tables))\n",
    "print(len(multi_col_tables)+len(single_col_tables))"
   ]
  },
  {
   "cell_type": "code",
   "execution_count": 34,
   "metadata": {},
   "outputs": [],
   "source": [
    "single_col_true_types = list(map(sherlock_case,single_col_true_types))     \n",
    "multi_col_true_types = list(map(sherlock_case,multi_col_true_types))"
   ]
  },
  {
   "cell_type": "code",
   "execution_count": 35,
   "metadata": {},
   "outputs": [],
   "source": [
    "# Sanitiy check\n",
    "# t = single_col_true_types.copy()\n",
    "# t.extend(multi_col_true_types)\n",
    "# p = single_col_predictions_sato.copy()\n",
    "# p.extend(multi_col_predictions_sato)\n",
    "# print(classification_report(t, p))"
   ]
  },
  {
   "cell_type": "code",
   "execution_count": 36,
   "metadata": {},
   "outputs": [],
   "source": [
    "# print(classification_report(single_col_true_types, single_col_predictions_sato))"
   ]
  },
  {
   "cell_type": "code",
   "execution_count": 37,
   "metadata": {},
   "outputs": [],
   "source": [
    "# print(classification_report(multi_col_true_types, multi_col_predictions_sato))"
   ]
  },
  {
   "cell_type": "code",
   "execution_count": 38,
   "metadata": {
    "scrolled": true
   },
   "outputs": [
    {
     "name": "stdout",
     "output_type": "stream",
     "text": [
      "{1: 0.9238465580662113, 2: 0.9538664876431838, 3: 0.9571766731224428, 4: 0.95206002034588, 5: 0.9918194640338506, 6: 0.888888888888889}\n"
     ]
    },
    {
     "data": {
      "text/html": [
       "\n",
       "<div id=\"altair-viz-01b11bccf62048e1881091c9978445d6\"></div>\n",
       "<script type=\"text/javascript\">\n",
       "  var VEGA_DEBUG = (typeof VEGA_DEBUG == \"undefined\") ? {} : VEGA_DEBUG;\n",
       "  (function(spec, embedOpt){\n",
       "    let outputDiv = document.currentScript.previousElementSibling;\n",
       "    if (outputDiv.id !== \"altair-viz-01b11bccf62048e1881091c9978445d6\") {\n",
       "      outputDiv = document.getElementById(\"altair-viz-01b11bccf62048e1881091c9978445d6\");\n",
       "    }\n",
       "    const paths = {\n",
       "      \"vega\": \"https://cdn.jsdelivr.net/npm//vega@5?noext\",\n",
       "      \"vega-lib\": \"https://cdn.jsdelivr.net/npm//vega-lib?noext\",\n",
       "      \"vega-lite\": \"https://cdn.jsdelivr.net/npm//vega-lite@4.17.0?noext\",\n",
       "      \"vega-embed\": \"https://cdn.jsdelivr.net/npm//vega-embed@6?noext\",\n",
       "    };\n",
       "\n",
       "    function maybeLoadScript(lib, version) {\n",
       "      var key = `${lib.replace(\"-\", \"\")}_version`;\n",
       "      return (VEGA_DEBUG[key] == version) ?\n",
       "        Promise.resolve(paths[lib]) :\n",
       "        new Promise(function(resolve, reject) {\n",
       "          var s = document.createElement('script');\n",
       "          document.getElementsByTagName(\"head\")[0].appendChild(s);\n",
       "          s.async = true;\n",
       "          s.onload = () => {\n",
       "            VEGA_DEBUG[key] = version;\n",
       "            return resolve(paths[lib]);\n",
       "          };\n",
       "          s.onerror = () => reject(`Error loading script: ${paths[lib]}`);\n",
       "          s.src = paths[lib];\n",
       "        });\n",
       "    }\n",
       "\n",
       "    function showError(err) {\n",
       "      outputDiv.innerHTML = `<div class=\"error\" style=\"color:red;\">${err}</div>`;\n",
       "      throw err;\n",
       "    }\n",
       "\n",
       "    function displayChart(vegaEmbed) {\n",
       "      vegaEmbed(outputDiv, spec, embedOpt)\n",
       "        .catch(err => showError(`Javascript Error: ${err.message}<br>This usually means there's a typo in your chart specification. See the javascript console for the full traceback.`));\n",
       "    }\n",
       "\n",
       "    if(typeof define === \"function\" && define.amd) {\n",
       "      requirejs.config({paths});\n",
       "      require([\"vega-embed\"], displayChart, err => showError(`Error loading script: ${err.message}`));\n",
       "    } else {\n",
       "      maybeLoadScript(\"vega\", \"5\")\n",
       "        .then(() => maybeLoadScript(\"vega-lite\", \"4.17.0\"))\n",
       "        .then(() => maybeLoadScript(\"vega-embed\", \"6\"))\n",
       "        .catch(showError)\n",
       "        .then(() => displayChart(vegaEmbed));\n",
       "    }\n",
       "  })({\"config\": {\"view\": {\"continuousWidth\": 400, \"continuousHeight\": 300}, \"axis\": {\"labelFontSize\": 18, \"titleFontSize\": 18}, \"axisX\": {\"labelAngle\": 0}}, \"data\": {\"name\": \"data-a80c5d59039656771fce14b12dafa7ff\"}, \"mark\": {\"type\": \"bar\", \"size\": 40}, \"encoding\": {\"x\": {\"field\": \"col_amount\", \"title\": \"Amount of Columns\", \"type\": \"ordinal\"}, \"y\": {\"field\": \"corr_pred_freq\", \"title\": \"Correct prediction frequency\", \"type\": \"quantitative\"}}, \"height\": 200, \"width\": 500, \"$schema\": \"https://vega.github.io/schema/vega-lite/v4.17.0.json\", \"datasets\": {\"data-a80c5d59039656771fce14b12dafa7ff\": [{\"index\": 0, \"col_amount\": 1, \"corr_pred_freq\": 0.9238465580662113}, {\"index\": 1, \"col_amount\": 2, \"corr_pred_freq\": 0.9538664876431838}, {\"index\": 2, \"col_amount\": 3, \"corr_pred_freq\": 0.9571766731224428}, {\"index\": 3, \"col_amount\": 4, \"corr_pred_freq\": 0.95206002034588}, {\"index\": 4, \"col_amount\": 5, \"corr_pred_freq\": 0.9918194640338506}, {\"index\": 5, \"col_amount\": 6, \"corr_pred_freq\": 0.888888888888889}]}}, {\"mode\": \"vega-lite\"});\n",
       "</script>"
      ],
      "text/plain": [
       "alt.Chart(...)"
      ]
     },
     "execution_count": 38,
     "metadata": {},
     "output_type": "execute_result"
    }
   ],
   "source": [
    "correct_prediction_vs_table_size = {}\n",
    "all_tables = {**multi_col_tables, **single_col_tables}\n",
    "table_sizes = [len(v['true_types']) for k, v in all_tables.items()]\n",
    "for i in range(min(table_sizes), max(table_sizes)+1):\n",
    "    correct_prediction_vs_table_size[i] = []\n",
    "for k, t in all_tables.items():\n",
    "    correct_prediction_vs_table_size[len(t['true_types'])].append(t['predictions_sato_count']/len(t['true_types']))\n",
    "for k, v in correct_prediction_vs_table_size.items():\n",
    "    correct_prediction_vs_table_size[k] = sum(correct_prediction_vs_table_size[k])/len(correct_prediction_vs_table_size[k])\n",
    "    \n",
    "print(correct_prediction_vs_table_size)\n",
    "df_dict = {'col_amount': list(correct_prediction_vs_table_size.keys()), 'corr_pred_freq': list(correct_prediction_vs_table_size.values())}\n",
    "correct_prediction_vs_table_size_df = pd.DataFrame(df_dict)\n",
    "alt.Chart(correct_prediction_vs_table_size_df.reset_index()).mark_bar(size=40).encode(\n",
    "    x = alt.X('col_amount',\n",
    "              type='ordinal',\n",
    "              title = 'Amount of Columns',\n",
    "#               sort=alt.EncodingSortField(\n",
    "#                 field=\"values\",  \n",
    "#                 order=\"descending\"),\n",
    "              ),\n",
    "    y = alt.Y('corr_pred_freq', title='Correct prediction frequency'),\n",
    ").configure_axis(\n",
    "    labelFontSize=18,\n",
    "    titleFontSize=18\n",
    ").configure_axisX(\n",
    "    labelAngle=0\n",
    ").properties(width=500,height=200)"
   ]
  },
  {
   "cell_type": "code",
   "execution_count": 39,
   "metadata": {},
   "outputs": [
    {
     "name": "stdout",
     "output_type": "stream",
     "text": [
      "{2: 23833, 3: 4647, 4: 1966, 5: 709, 6: 3, 1: 47575}\n"
     ]
    },
    {
     "data": {
      "text/html": [
       "\n",
       "<div id=\"altair-viz-8d41163174a14a668c8532789e6de0a7\"></div>\n",
       "<script type=\"text/javascript\">\n",
       "  var VEGA_DEBUG = (typeof VEGA_DEBUG == \"undefined\") ? {} : VEGA_DEBUG;\n",
       "  (function(spec, embedOpt){\n",
       "    let outputDiv = document.currentScript.previousElementSibling;\n",
       "    if (outputDiv.id !== \"altair-viz-8d41163174a14a668c8532789e6de0a7\") {\n",
       "      outputDiv = document.getElementById(\"altair-viz-8d41163174a14a668c8532789e6de0a7\");\n",
       "    }\n",
       "    const paths = {\n",
       "      \"vega\": \"https://cdn.jsdelivr.net/npm//vega@5?noext\",\n",
       "      \"vega-lib\": \"https://cdn.jsdelivr.net/npm//vega-lib?noext\",\n",
       "      \"vega-lite\": \"https://cdn.jsdelivr.net/npm//vega-lite@4.17.0?noext\",\n",
       "      \"vega-embed\": \"https://cdn.jsdelivr.net/npm//vega-embed@6?noext\",\n",
       "    };\n",
       "\n",
       "    function maybeLoadScript(lib, version) {\n",
       "      var key = `${lib.replace(\"-\", \"\")}_version`;\n",
       "      return (VEGA_DEBUG[key] == version) ?\n",
       "        Promise.resolve(paths[lib]) :\n",
       "        new Promise(function(resolve, reject) {\n",
       "          var s = document.createElement('script');\n",
       "          document.getElementsByTagName(\"head\")[0].appendChild(s);\n",
       "          s.async = true;\n",
       "          s.onload = () => {\n",
       "            VEGA_DEBUG[key] = version;\n",
       "            return resolve(paths[lib]);\n",
       "          };\n",
       "          s.onerror = () => reject(`Error loading script: ${paths[lib]}`);\n",
       "          s.src = paths[lib];\n",
       "        });\n",
       "    }\n",
       "\n",
       "    function showError(err) {\n",
       "      outputDiv.innerHTML = `<div class=\"error\" style=\"color:red;\">${err}</div>`;\n",
       "      throw err;\n",
       "    }\n",
       "\n",
       "    function displayChart(vegaEmbed) {\n",
       "      vegaEmbed(outputDiv, spec, embedOpt)\n",
       "        .catch(err => showError(`Javascript Error: ${err.message}<br>This usually means there's a typo in your chart specification. See the javascript console for the full traceback.`));\n",
       "    }\n",
       "\n",
       "    if(typeof define === \"function\" && define.amd) {\n",
       "      requirejs.config({paths});\n",
       "      require([\"vega-embed\"], displayChart, err => showError(`Error loading script: ${err.message}`));\n",
       "    } else {\n",
       "      maybeLoadScript(\"vega\", \"5\")\n",
       "        .then(() => maybeLoadScript(\"vega-lite\", \"4.17.0\"))\n",
       "        .then(() => maybeLoadScript(\"vega-embed\", \"6\"))\n",
       "        .catch(showError)\n",
       "        .then(() => displayChart(vegaEmbed));\n",
       "    }\n",
       "  })({\"config\": {\"view\": {\"continuousWidth\": 400, \"continuousHeight\": 300}, \"axis\": {\"labelFontSize\": 18, \"titleFontSize\": 18}, \"axisX\": {\"labelAngle\": 0}}, \"data\": {\"name\": \"data-dcd8b0fe57f90d13b3b69f2ee8c70246\"}, \"mark\": {\"type\": \"bar\", \"size\": 40}, \"encoding\": {\"x\": {\"field\": \"col_amount\", \"title\": \"Amount of Columns\", \"type\": \"ordinal\"}, \"y\": {\"field\": \"freq\", \"title\": \"Number of Tables\", \"type\": \"quantitative\"}}, \"height\": 200, \"width\": 500, \"$schema\": \"https://vega.github.io/schema/vega-lite/v4.17.0.json\", \"datasets\": {\"data-dcd8b0fe57f90d13b3b69f2ee8c70246\": [{\"index\": 0, \"col_amount\": 2, \"freq\": 23833}, {\"index\": 1, \"col_amount\": 3, \"freq\": 4647}, {\"index\": 2, \"col_amount\": 4, \"freq\": 1966}, {\"index\": 3, \"col_amount\": 5, \"freq\": 709}, {\"index\": 4, \"col_amount\": 6, \"freq\": 3}, {\"index\": 5, \"col_amount\": 1, \"freq\": 47575}]}}, {\"mode\": \"vega-lite\"});\n",
       "</script>"
      ],
      "text/plain": [
       "alt.Chart(...)"
      ]
     },
     "execution_count": 39,
     "metadata": {},
     "output_type": "execute_result"
    }
   ],
   "source": [
    "freq_dict = dict(Counter(table_sizes))\n",
    "print(freq_dict)\n",
    "df_dict = {'col_amount': list(freq_dict.keys()), 'freq': list(freq_dict.values())}\n",
    "col_amount_freq_df = pd.DataFrame(df_dict)\n",
    "alt.Chart(col_amount_freq_df.reset_index()).mark_bar(size=40).encode(\n",
    "    x = alt.X('col_amount',\n",
    "              type='ordinal',\n",
    "              title = 'Amount of Columns',\n",
    "#               sort=alt.EncodingSortField(\n",
    "#                 field=\"values\",  \n",
    "#                 order=\"descending\"),\n",
    "              ),\n",
    "    y = alt.Y('freq', title='Number of Tables'),\n",
    ").configure_axis(\n",
    "    labelFontSize=18,\n",
    "    titleFontSize=18\n",
    ").configure_axisX(\n",
    "    labelAngle=0\n",
    ").properties(width=500,height=200)"
   ]
  },
  {
   "cell_type": "code",
   "execution_count": 40,
   "metadata": {},
   "outputs": [
    {
     "name": "stderr",
     "output_type": "stream",
     "text": [
      "/home/senn/virtualenvs/sherlock/lib/python3.7/site-packages/sklearn/metrics/_classification.py:1248: UndefinedMetricWarning: Precision and F-score are ill-defined and being set to 0.0 in labels with no predicted samples. Use `zero_division` parameter to control this behavior.\n",
      "  _warn_prf(average, modifier, msg_start, len(result))\n",
      "/home/senn/virtualenvs/sherlock/lib/python3.7/site-packages/sklearn/metrics/_classification.py:1248: UndefinedMetricWarning: Precision and F-score are ill-defined and being set to 0.0 in labels with no predicted samples. Use `zero_division` parameter to control this behavior.\n",
      "  _warn_prf(average, modifier, msg_start, len(result))\n",
      "/home/senn/virtualenvs/sherlock/lib/python3.7/site-packages/sklearn/metrics/_classification.py:1248: UndefinedMetricWarning: Precision and F-score are ill-defined and being set to 0.0 in labels with no predicted samples. Use `zero_division` parameter to control this behavior.\n",
      "  _warn_prf(average, modifier, msg_start, len(result))\n"
     ]
    }
   ],
   "source": [
    "single_col_report = classification_report(single_col_true_types, single_col_predictions_sato, output_dict=True)\n",
    "single_col_report_input = {k: list(v.values()) for k, v in list(single_col_report.items())[:-3]} #last 3 are total f1/macro/weigthed, these are not needed\n",
    "single_col_report_df = pd.DataFrame.from_dict(single_col_report_input, orient='index', columns=['precision', 'recall', 'f1-score', 'support']).sort_values(by='f1-score', ascending = False)\n",
    "\n",
    "multi_col_report = classification_report(multi_col_true_types, multi_col_predictions_sato, output_dict=True)\n",
    "multi_col_report_input = {k: list(v.values()) for k, v in list(multi_col_report.items())[:-3]} #last 3 are total f1/macro/weigthed, these are not needed\n",
    "multi_col_report_df = pd.DataFrame.from_dict(multi_col_report_input, orient='index', columns=['precision', 'recall', 'f1-score', 'support']).sort_values(by='f1-score', ascending = False)"
   ]
  },
  {
   "cell_type": "code",
   "execution_count": 41,
   "metadata": {
    "scrolled": true
   },
   "outputs": [
    {
     "data": {
      "text/html": [
       "\n",
       "<div id=\"altair-viz-d04ab842ab76478c9b0108943bfa3945\"></div>\n",
       "<script type=\"text/javascript\">\n",
       "  var VEGA_DEBUG = (typeof VEGA_DEBUG == \"undefined\") ? {} : VEGA_DEBUG;\n",
       "  (function(spec, embedOpt){\n",
       "    let outputDiv = document.currentScript.previousElementSibling;\n",
       "    if (outputDiv.id !== \"altair-viz-d04ab842ab76478c9b0108943bfa3945\") {\n",
       "      outputDiv = document.getElementById(\"altair-viz-d04ab842ab76478c9b0108943bfa3945\");\n",
       "    }\n",
       "    const paths = {\n",
       "      \"vega\": \"https://cdn.jsdelivr.net/npm//vega@5?noext\",\n",
       "      \"vega-lib\": \"https://cdn.jsdelivr.net/npm//vega-lib?noext\",\n",
       "      \"vega-lite\": \"https://cdn.jsdelivr.net/npm//vega-lite@4.17.0?noext\",\n",
       "      \"vega-embed\": \"https://cdn.jsdelivr.net/npm//vega-embed@6?noext\",\n",
       "    };\n",
       "\n",
       "    function maybeLoadScript(lib, version) {\n",
       "      var key = `${lib.replace(\"-\", \"\")}_version`;\n",
       "      return (VEGA_DEBUG[key] == version) ?\n",
       "        Promise.resolve(paths[lib]) :\n",
       "        new Promise(function(resolve, reject) {\n",
       "          var s = document.createElement('script');\n",
       "          document.getElementsByTagName(\"head\")[0].appendChild(s);\n",
       "          s.async = true;\n",
       "          s.onload = () => {\n",
       "            VEGA_DEBUG[key] = version;\n",
       "            return resolve(paths[lib]);\n",
       "          };\n",
       "          s.onerror = () => reject(`Error loading script: ${paths[lib]}`);\n",
       "          s.src = paths[lib];\n",
       "        });\n",
       "    }\n",
       "\n",
       "    function showError(err) {\n",
       "      outputDiv.innerHTML = `<div class=\"error\" style=\"color:red;\">${err}</div>`;\n",
       "      throw err;\n",
       "    }\n",
       "\n",
       "    function displayChart(vegaEmbed) {\n",
       "      vegaEmbed(outputDiv, spec, embedOpt)\n",
       "        .catch(err => showError(`Javascript Error: ${err.message}<br>This usually means there's a typo in your chart specification. See the javascript console for the full traceback.`));\n",
       "    }\n",
       "\n",
       "    if(typeof define === \"function\" && define.amd) {\n",
       "      requirejs.config({paths});\n",
       "      require([\"vega-embed\"], displayChart, err => showError(`Error loading script: ${err.message}`));\n",
       "    } else {\n",
       "      maybeLoadScript(\"vega\", \"5\")\n",
       "        .then(() => maybeLoadScript(\"vega-lite\", \"4.17.0\"))\n",
       "        .then(() => maybeLoadScript(\"vega-embed\", \"6\"))\n",
       "        .catch(showError)\n",
       "        .then(() => displayChart(vegaEmbed));\n",
       "    }\n",
       "  })({\"config\": {\"view\": {\"continuousWidth\": 400, \"continuousHeight\": 300}, \"axis\": {\"labelFontSize\": 18, \"titleFontSize\": 18}}, \"data\": {\"name\": \"data-7bdba6220b88fbdbd8e70a76e9080178\"}, \"mark\": {\"type\": \"circle\", \"size\": 60}, \"encoding\": {\"x\": {\"field\": \"support\", \"type\": \"quantitative\"}, \"y\": {\"field\": \"f1-score\", \"type\": \"quantitative\"}}, \"$schema\": \"https://vega.github.io/schema/vega-lite/v4.17.0.json\", \"datasets\": {\"data-7bdba6220b88fbdbd8e70a76e9080178\": [{\"index\": \"nationality\", \"support\": 74, \"f1-score\": 0.7478260869565216}, {\"index\": \"birthdate\", \"support\": 65, \"f1-score\": 0.9894736842105264}, {\"index\": \"classification\", \"support\": 99, \"f1-score\": 0.631578947368421}, {\"index\": \"continent\", \"support\": 25, \"f1-score\": 0.7647058823529412}, {\"index\": \"sales\", \"support\": 30, \"f1-score\": 0.8}, {\"index\": \"collection\", \"support\": 88, \"f1-score\": 0.9836065573770492}, {\"index\": \"organisation\", \"support\": 21, \"f1-score\": null}, {\"index\": \"requirement\", \"support\": 35, \"f1-score\": 0.6206896551724138}, {\"index\": \"religion\", \"support\": 38, \"f1-score\": 1.0}, {\"index\": \"command\", \"support\": 81, \"f1-score\": 0.5283018867924528}, {\"index\": \"capacity\", \"support\": 55, \"f1-score\": 0.6896551724137931}, {\"index\": \"ranking\", \"support\": 55, \"f1-score\": 0.2}, {\"index\": \"affiliate\", \"support\": 26, \"f1-score\": 0.7058823529411764}, {\"index\": \"currency\", \"support\": 70, \"f1-score\": 0.923076923076923}, {\"index\": \"creator\", \"support\": 39, \"f1-score\": 0.6666666666666665}, {\"index\": \"education\", \"support\": 36, \"f1-score\": 0.6666666666666666}, {\"index\": \"person\", \"support\": 36, \"f1-score\": 0.16666666666666666}, {\"index\": \"birthplace\", \"support\": 54, \"f1-score\": 0.9411764705882353}, {\"index\": \"operator\", \"support\": 39, \"f1-score\": 0.75}, {\"index\": \"director\", \"support\": 33, \"f1-score\": 0.6666666666666667}, {\"index\": \"range\", \"support\": 68, \"f1-score\": 0.9195402298850575}, {\"index\": \"species\", \"support\": 81, \"f1-score\": 0.7812499999999999}]}}, {\"mode\": \"vega-lite\"});\n",
       "</script>"
      ],
      "text/plain": [
       "alt.Chart(...)"
      ]
     },
     "execution_count": 41,
     "metadata": {},
     "output_type": "execute_result"
    }
   ],
   "source": [
    "# Correlation between support in Sato dataset and F1-score on single-column tables\n",
    "corr_types = set(true_types)\n",
    "corr_data = pd.DataFrame(columns=['support'], index=list(corr_types))\n",
    "occur_df = pd.DataFrame(true_types, columns=['true_types'])\n",
    "corr_data['support'] = occur_df['true_types'].value_counts()\n",
    "\n",
    "corr_data = corr_data.loc[corr_data['support'] <= 100]\n",
    "\n",
    "# !change single_col_report_df[['f1-score']] to multi_col_report_df[['f1-score']] for multi-column tables!\n",
    "corr_data = corr_data.join(multi_col_report_df[['f1-score']]) #['f1-score'] = report_sherlock_df\n",
    "corr_data.reset_index(inplace=True)\n",
    "alt.Chart(corr_data).mark_circle(size=60).encode(\n",
    "    x='support',\n",
    "    y='f1-score',\n",
    ").configure_axis(\n",
    "    labelFontSize=18,\n",
    "    titleFontSize=18\n",
    ")"
   ]
  },
  {
   "cell_type": "code",
   "execution_count": 42,
   "metadata": {},
   "outputs": [
    {
     "name": "stdout",
     "output_type": "stream",
     "text": [
      "0.7211157388477227\n"
     ]
    }
   ],
   "source": [
    "print(corr_data['f1-score'].mean())"
   ]
  },
  {
   "cell_type": "code",
   "execution_count": 43,
   "metadata": {},
   "outputs": [],
   "source": [
    "# score improvement single-col vs. multi-col\n",
    "score_improvement_df = pd.DataFrame()\n",
    "#precision, recall and f1-score\n",
    "score_improvement_df[\"precision\"] = multi_col_report_df[\"precision\"] - single_col_report_df[\"precision\"]\n",
    "score_improvement_df[\"recall\"] = multi_col_report_df[\"recall\"] - single_col_report_df[\"recall\"]\n",
    "score_improvement_df[\"f1-score\"] = multi_col_report_df[\"f1-score\"] - single_col_report_df[\"f1-score\"]\n",
    "score_improvement_df[\"support\"] = multi_col_report_df[\"support\"]\n",
    "score_improvement_df.index.name = 'type'"
   ]
  },
  {
   "cell_type": "code",
   "execution_count": 44,
   "metadata": {},
   "outputs": [
    {
     "name": "stdout",
     "output_type": "stream",
     "text": [
      "['address', 'affiliate', 'affiliation', 'age', 'album', 'area', 'artist', 'birthdate', 'brand', 'capacity', 'category', 'city', 'class', 'classification', 'club', 'code', 'collection', 'command', 'company', 'component', 'continent', 'country', 'county', 'creator', 'credit', 'currency', 'day', 'depth', 'description', 'director', 'duration', 'education', 'elevation', 'family', 'filesize', 'format', 'gender', 'genre', 'grades', 'industry', 'isbn', 'jockey', 'language', 'location', 'manufacturer', 'name', 'nationality', 'notes', 'operator', 'order', 'origin', 'owner', 'person', 'plays', 'position', 'product', 'publisher', 'range', 'rank', 'ranking', 'region', 'religion', 'requirement', 'result', 'sales', 'service', 'sex', 'species', 'state', 'status', 'symbol', 'team', 'teamname', 'type', 'weight', 'year']\n",
      "             precision    recall  f1-score  support\n",
      "type                                               \n",
      "continent     1.000000  0.619048  0.764706     21.0\n",
      "teamname      0.623585  0.512281  0.568311    228.0\n",
      "operator      0.787879  0.417647  0.568182     34.0\n",
      "affiliate     0.357143  0.475000  0.505882     10.0\n",
      "requirement   0.400000  0.348684  0.420690     19.0\n",
      "affiliation   0.394475  0.437500  0.419693    192.0\n",
      "sales         0.500000  0.333333  0.400000     27.0\n",
      "range         0.189895  0.369565  0.308429     46.0\n",
      "collection    0.101254  0.428051  0.301788     61.0\n",
      "notes         0.145920  0.324166  0.278001    659.0\n",
      "credit        0.379704  0.064815  0.261098    108.0\n",
      "component     0.254394  0.199814  0.223921    113.0\n",
      "album         0.289803  0.097161  0.208450   1474.0\n",
      "genre         0.235801  0.156184  0.203367    106.0\n",
      "owner         0.175597  0.212934  0.200422    171.0\n",
      "code          0.140988  0.248748  0.198611   2482.0\n",
      "nationality   0.304444  0.105983  0.192271     65.0\n",
      "gender        0.127071  0.214015  0.174762    528.0\n",
      "isbn         -0.004484  0.241071  0.136146    224.0\n",
      "position      0.099584  0.171657  0.135965   1439.0\n",
      "class         0.131805  0.086391  0.108014    942.0\n",
      "club          0.088657  0.122766  0.106232   1859.0\n",
      "symbol        0.066073  0.124195  0.096245    831.0\n",
      "region        0.128439  0.061553  0.095357    165.0\n",
      "sex           0.119645  0.070349  0.093745    345.0\n",
      "city          0.124549  0.060253  0.093642   4397.0\n",
      "birthdate    -0.020833  0.166667  0.080383     47.0\n",
      "category     -0.003457  0.144866  0.078078   1754.0\n",
      "weight        0.103554  0.043453  0.074414   3979.0\n",
      "origin       -0.048171  0.113456  0.072775     59.0\n"
     ]
    }
   ],
   "source": [
    "def intersection(lst1, lst2):\n",
    "    lst3 = [value for value in lst1 if value in lst2]\n",
    "    return lst3\n",
    "print(sorted(intersection(list(multi_col_report_df.index),list(single_col_report_df.index))))\n",
    "print(score_improvement_df.sort_values('f1-score', ascending=False).head(30))"
   ]
  },
  {
   "cell_type": "code",
   "execution_count": 45,
   "metadata": {
    "scrolled": true
   },
   "outputs": [
    {
     "name": "stdout",
     "output_type": "stream",
     "text": [
      "7499\n"
     ]
    }
   ],
   "source": [
    "print(len(tables_of_interest))"
   ]
  }
 ],
 "metadata": {
  "kernelspec": {
   "display_name": "Python 3 (ipykernel)",
   "language": "python",
   "name": "python3"
  },
  "language_info": {
   "codemirror_mode": {
    "name": "ipython",
    "version": 3
   },
   "file_extension": ".py",
   "mimetype": "text/x-python",
   "name": "python",
   "nbconvert_exporter": "python",
   "pygments_lexer": "ipython3",
   "version": "3.7.12"
  }
 },
 "nbformat": 4,
 "nbformat_minor": 2
}
