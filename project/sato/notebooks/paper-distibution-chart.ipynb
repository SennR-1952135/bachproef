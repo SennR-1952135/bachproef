{
 "cells": [
  {
   "cell_type": "code",
   "execution_count": 2,
   "id": "b32b7d6b",
   "metadata": {},
   "outputs": [
    {
     "data": {
      "text/plain": [
       "RendererRegistry.enable('default')"
      ]
     },
     "execution_count": 2,
     "metadata": {},
     "output_type": "execute_result"
    }
   ],
   "source": [
    "import altair as alt\n",
    "import pandas as pd\n",
    "import os\n",
    "from os.path import join\n",
    "alt.renderers.enable('default') # alt.renderers.enable('notebook')"
   ]
  },
  {
   "cell_type": "code",
   "execution_count": 3,
   "id": "8c5d96ff",
   "metadata": {},
   "outputs": [],
   "source": [
    "# import data\n",
    "path = './plot_data'\n",
    "out_path = './plot_out'\n",
    "if not os.path.exists(out_path):\n",
    "    os.makedirs(out_path)\n",
    "    \n",
    "df_dist = pd.read_csv(join(path,'type-dist.csv'))"
   ]
  },
  {
   "cell_type": "code",
   "execution_count": 4,
   "id": "93ab19dd",
   "metadata": {},
   "outputs": [
    {
     "name": "stdout",
     "output_type": "stream",
     "text": [
      "68532\n",
      "122342\n",
      "0.5601673995847706\n",
      "    Unnamed: 0         type  count\n",
      "0            7         name  16060\n",
      "1            0  description  11348\n",
      "2            1         team  10437\n",
      "3            8         type   7395\n",
      "4           10          age   7230\n",
      "5           11     location   5368\n",
      "6            2         year   5353\n",
      "7            3         city   5341\n",
      "8            5         rank   5164\n",
      "9           17       status   4869\n",
      "10          15        state   4424\n",
      "['name', 'age', 'rank', 'weight', 'result', 'class', 'address', 'day', 'sex', 'area', 'isbn', 'plays', 'component', 'brand', 'classification', 'nationality', 'birthDate', 'person', 'education', 'continent']\n"
     ]
    },
    {
     "data": {
      "text/html": [
       "\n",
       "<div id=\"altair-viz-cf9500c1106747b0a330332f6bff9cd5\"></div>\n",
       "<script type=\"text/javascript\">\n",
       "  var VEGA_DEBUG = (typeof VEGA_DEBUG == \"undefined\") ? {} : VEGA_DEBUG;\n",
       "  (function(spec, embedOpt){\n",
       "    let outputDiv = document.currentScript.previousElementSibling;\n",
       "    if (outputDiv.id !== \"altair-viz-cf9500c1106747b0a330332f6bff9cd5\") {\n",
       "      outputDiv = document.getElementById(\"altair-viz-cf9500c1106747b0a330332f6bff9cd5\");\n",
       "    }\n",
       "    const paths = {\n",
       "      \"vega\": \"https://cdn.jsdelivr.net/npm//vega@5?noext\",\n",
       "      \"vega-lib\": \"https://cdn.jsdelivr.net/npm//vega-lib?noext\",\n",
       "      \"vega-lite\": \"https://cdn.jsdelivr.net/npm//vega-lite@4.17.0?noext\",\n",
       "      \"vega-embed\": \"https://cdn.jsdelivr.net/npm//vega-embed@6?noext\",\n",
       "    };\n",
       "\n",
       "    function maybeLoadScript(lib, version) {\n",
       "      var key = `${lib.replace(\"-\", \"\")}_version`;\n",
       "      return (VEGA_DEBUG[key] == version) ?\n",
       "        Promise.resolve(paths[lib]) :\n",
       "        new Promise(function(resolve, reject) {\n",
       "          var s = document.createElement('script');\n",
       "          document.getElementsByTagName(\"head\")[0].appendChild(s);\n",
       "          s.async = true;\n",
       "          s.onload = () => {\n",
       "            VEGA_DEBUG[key] = version;\n",
       "            return resolve(paths[lib]);\n",
       "          };\n",
       "          s.onerror = () => reject(`Error loading script: ${paths[lib]}`);\n",
       "          s.src = paths[lib];\n",
       "        });\n",
       "    }\n",
       "\n",
       "    function showError(err) {\n",
       "      outputDiv.innerHTML = `<div class=\"error\" style=\"color:red;\">${err}</div>`;\n",
       "      throw err;\n",
       "    }\n",
       "\n",
       "    function displayChart(vegaEmbed) {\n",
       "      vegaEmbed(outputDiv, spec, embedOpt)\n",
       "        .catch(err => showError(`Javascript Error: ${err.message}<br>This usually means there's a typo in your chart specification. See the javascript console for the full traceback.`));\n",
       "    }\n",
       "\n",
       "    if(typeof define === \"function\" && define.amd) {\n",
       "      requirejs.config({paths});\n",
       "      require([\"vega-embed\"], displayChart, err => showError(`Error loading script: ${err.message}`));\n",
       "    } else {\n",
       "      maybeLoadScript(\"vega\", \"5\")\n",
       "        .then(() => maybeLoadScript(\"vega-lite\", \"4.17.0\"))\n",
       "        .then(() => maybeLoadScript(\"vega-embed\", \"6\"))\n",
       "        .catch(showError)\n",
       "        .then(() => displayChart(vegaEmbed));\n",
       "    }\n",
       "  })({\"config\": {\"view\": {\"continuousWidth\": 400, \"continuousHeight\": 300}, \"axis\": {\"labelFontSize\": 18, \"titleFontSize\": 18}}, \"data\": {\"name\": \"data-55c795914741332159a095b1a5b90a8a\"}, \"mark\": {\"type\": \"bar\", \"size\": 10}, \"encoding\": {\"color\": {\"condition\": {\"value\": \"orange\", \"test\": {\"field\": \"type\", \"oneOf\": [\"name\", \"age\", \"rank\", \"weight\", \"result\", \"class\", \"address\", \"day\", \"sex\", \"area\", \"isbn\", \"plays\", \"component\", \"brand\", \"classification\", \"nationality\", \"birthDate\", \"person\", \"education\", \"continent\"]}}, \"value\": \"steelblue\"}, \"x\": {\"axis\": {\"values\": [\"name\", \"age\", \"rank\", \"weight\", \"result\", \"class\", \"address\", \"day\", \"sex\", \"area\", \"isbn\", \"plays\", \"component\", \"brand\", \"classification\", \"nationality\", \"birthDate\", \"person\", \"education\", \"continent\"]}, \"field\": \"type\", \"sort\": {\"field\": \"count\", \"order\": \"descending\"}, \"title\": \"Semantic Types\", \"type\": \"ordinal\"}, \"y\": {\"field\": \"count\", \"title\": \"Number of Samples\", \"type\": \"quantitative\"}}, \"height\": 200, \"width\": 800, \"$schema\": \"https://vega.github.io/schema/vega-lite/v4.17.0.json\", \"datasets\": {\"data-55c795914741332159a095b1a5b90a8a\": [{\"Unnamed: 0\": 7, \"type\": \"name\", \"count\": 16060}, {\"Unnamed: 0\": 0, \"type\": \"description\", \"count\": 11348}, {\"Unnamed: 0\": 1, \"type\": \"team\", \"count\": 10437}, {\"Unnamed: 0\": 8, \"type\": \"type\", \"count\": 7395}, {\"Unnamed: 0\": 10, \"type\": \"age\", \"count\": 7230}, {\"Unnamed: 0\": 11, \"type\": \"location\", \"count\": 5368}, {\"Unnamed: 0\": 2, \"type\": \"year\", \"count\": 5353}, {\"Unnamed: 0\": 3, \"type\": \"city\", \"count\": 5341}, {\"Unnamed: 0\": 5, \"type\": \"rank\", \"count\": 5164}, {\"Unnamed: 0\": 17, \"type\": \"status\", \"count\": 4869}, {\"Unnamed: 0\": 15, \"type\": \"state\", \"count\": 4424}, {\"Unnamed: 0\": 20, \"type\": \"category\", \"count\": 4012}, {\"Unnamed: 0\": 37, \"type\": \"weight\", \"count\": 3176}, {\"Unnamed: 0\": 43, \"type\": \"code\", \"count\": 2702}, {\"Unnamed: 0\": 54, \"type\": \"club\", \"count\": 2223}, {\"Unnamed: 0\": 26, \"type\": \"artist\", \"count\": 2176}, {\"Unnamed: 0\": 21, \"type\": \"result\", \"count\": 2160}, {\"Unnamed: 0\": 36, \"type\": \"position\", \"count\": 2109}, {\"Unnamed: 0\": 23, \"type\": \"country\", \"count\": 1803}, {\"Unnamed: 0\": 12, \"type\": \"notes\", \"count\": 1661}, {\"Unnamed: 0\": 25, \"type\": \"class\", \"count\": 1598}, {\"Unnamed: 0\": 4, \"type\": \"company\", \"count\": 1535}, {\"Unnamed: 0\": 27, \"type\": \"album\", \"count\": 1535}, {\"Unnamed: 0\": 9, \"type\": \"symbol\", \"count\": 1041}, {\"Unnamed: 0\": 35, \"type\": \"address\", \"count\": 889}, {\"Unnamed: 0\": 28, \"type\": \"duration\", \"count\": 805}, {\"Unnamed: 0\": 18, \"type\": \"format\", \"count\": 666}, {\"Unnamed: 0\": 33, \"type\": \"county\", \"count\": 606}, {\"Unnamed: 0\": 13, \"type\": \"day\", \"count\": 588}, {\"Unnamed: 0\": 19, \"type\": \"gender\", \"count\": 577}, {\"Unnamed: 0\": 14, \"type\": \"industry\", \"count\": 421}, {\"Unnamed: 0\": 30, \"type\": \"language\", \"count\": 390}, {\"Unnamed: 0\": 42, \"type\": \"sex\", \"count\": 382}, {\"Unnamed: 0\": 22, \"type\": \"product\", \"count\": 371}, {\"Unnamed: 0\": 52, \"type\": \"jockey\", \"count\": 351}, {\"Unnamed: 0\": 32, \"type\": \"region\", \"count\": 333}, {\"Unnamed: 0\": 31, \"type\": \"area\", \"count\": 288}, {\"Unnamed: 0\": 56, \"type\": \"service\", \"count\": 280}, {\"Unnamed: 0\": 62, \"type\": \"teamName\", \"count\": 255}, {\"Unnamed: 0\": 24, \"type\": \"order\", \"count\": 247}, {\"Unnamed: 0\": 45, \"type\": \"isbn\", \"count\": 228}, {\"Unnamed: 0\": 65, \"type\": \"fileSize\", \"count\": 224}, {\"Unnamed: 0\": 53, \"type\": \"grades\", \"count\": 219}, {\"Unnamed: 0\": 39, \"type\": \"publisher\", \"count\": 217}, {\"Unnamed: 0\": 16, \"type\": \"plays\", \"count\": 209}, {\"Unnamed: 0\": 44, \"type\": \"origin\", \"count\": 208}, {\"Unnamed: 0\": 70, \"type\": \"elevation\", \"count\": 201}, {\"Unnamed: 0\": 40, \"type\": \"affiliation\", \"count\": 199}, {\"Unnamed: 0\": 59, \"type\": \"component\", \"count\": 193}, {\"Unnamed: 0\": 51, \"type\": \"owner\", \"count\": 191}, {\"Unnamed: 0\": 49, \"type\": \"genre\", \"count\": 162}, {\"Unnamed: 0\": 73, \"type\": \"manufacturer\", \"count\": 159}, {\"Unnamed: 0\": 75, \"type\": \"brand\", \"count\": 140}, {\"Unnamed: 0\": 69, \"type\": \"family\", \"count\": 138}, {\"Unnamed: 0\": 48, \"type\": \"credit\", \"count\": 138}, {\"Unnamed: 0\": 47, \"type\": \"depth\", \"count\": 136}, {\"Unnamed: 0\": 66, \"type\": \"classification\", \"count\": 101}, {\"Unnamed: 0\": 46, \"type\": \"collection\", \"count\": 88}, {\"Unnamed: 0\": 68, \"type\": \"species\", \"count\": 84}, {\"Unnamed: 0\": 58, \"type\": \"command\", \"count\": 81}, {\"Unnamed: 0\": 76, \"type\": \"nationality\", \"count\": 79}, {\"Unnamed: 0\": 63, \"type\": \"currency\", \"count\": 71}, {\"Unnamed: 0\": 60, \"type\": \"range\", \"count\": 69}, {\"Unnamed: 0\": 29, \"type\": \"affiliate\", \"count\": 65}, {\"Unnamed: 0\": 50, \"type\": \"birthDate\", \"count\": 65}, {\"Unnamed: 0\": 64, \"type\": \"ranking\", \"count\": 58}, {\"Unnamed: 0\": 6, \"type\": \"capacity\", \"count\": 55}, {\"Unnamed: 0\": 57, \"type\": \"birthPlace\", \"count\": 54}, {\"Unnamed: 0\": 34, \"type\": \"person\", \"count\": 43}, {\"Unnamed: 0\": 74, \"type\": \"creator\", \"count\": 39}, {\"Unnamed: 0\": 77, \"type\": \"operator\", \"count\": 39}, {\"Unnamed: 0\": 38, \"type\": \"religion\", \"count\": 38}, {\"Unnamed: 0\": 55, \"type\": \"education\", \"count\": 36}, {\"Unnamed: 0\": 71, \"type\": \"requirement\", \"count\": 35}, {\"Unnamed: 0\": 72, \"type\": \"director\", \"count\": 34}, {\"Unnamed: 0\": 41, \"type\": \"sales\", \"count\": 30}, {\"Unnamed: 0\": 61, \"type\": \"continent\", \"count\": 25}, {\"Unnamed: 0\": 67, \"type\": \"organisation\", \"count\": 22}]}}, {\"mode\": \"vega-lite\"});\n",
       "</script>"
      ],
      "text/plain": [
       "alt.Chart(...)"
      ]
     },
     "execution_count": 4,
     "metadata": {},
     "output_type": "execute_result"
    }
   ],
   "source": [
    "print(df_dist['count'][:8].sum())\n",
    "print(df_dist['count'].sum())\n",
    "print(df_dist['count'][:8].sum()/df_dist['count'].sum())\n",
    "print(df_dist.head(11))\n",
    "shown_types = df_dist.type.to_list()\n",
    "shown_types = [val for (idx, val) in enumerate(shown_types) if idx % 4 == 0]\n",
    "print(shown_types)\n",
    "alt.Chart(df_dist).mark_bar(size=10).encode(\n",
    "    x = alt.X('type:O',\n",
    "              title = 'Semantic Types',\n",
    "              sort=alt.EncodingSortField(\n",
    "                field=\"count\",  \n",
    "                order=\"descending\"),\n",
    "               axis=alt.Axis(values=shown_types)),\n",
    "    y = alt.Y('count', title='Number of Samples'),\n",
    "    color=alt.condition(\n",
    "        alt.Predicate(alt.FieldOneOfPredicate(field='type', oneOf=shown_types)),\n",
    "        alt.value('orange'),\n",
    "        alt.value('steelblue')\n",
    "    ),\n",
    ").configure_axis(\n",
    "    labelFontSize=18,\n",
    "    titleFontSize=18\n",
    "    \n",
    ").properties(width=800,height=200)"
   ]
  }
 ],
 "metadata": {
  "kernelspec": {
   "display_name": "Python 3 (ipykernel)",
   "language": "python",
   "name": "python3"
  },
  "language_info": {
   "codemirror_mode": {
    "name": "ipython",
    "version": 3
   },
   "file_extension": ".py",
   "mimetype": "text/x-python",
   "name": "python",
   "nbconvert_exporter": "python",
   "pygments_lexer": "ipython3",
   "version": "3.7.12"
  }
 },
 "nbformat": 4,
 "nbformat_minor": 5
}
